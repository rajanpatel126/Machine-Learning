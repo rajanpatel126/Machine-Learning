{
 "cells": [
  {
   "cell_type": "code",
   "execution_count": 79,
   "metadata": {},
   "outputs": [],
   "source": [
    "import numpy as np\n",
    "import pandas as pd\n",
    "import matplotlib.pyplot as plt\n",
    "import seaborn as sns\n",
    "import plotly.express as px\n",
    "import plotly.graph_objects as go\n",
    "from plotly.subplots import make_subplots\n",
    "import re"
   ]
  },
  {
   "cell_type": "code",
   "execution_count": 80,
   "metadata": {},
   "outputs": [],
   "source": [
    "world_ranking = pd.read_excel('fifa_ranking_2022-10-06.xlsx')\n",
    "world_cups = pd.read_excel('world_cup.xlsx')\n",
    "matches = pd.read_excel('matches_1930_2022.xlsx')"
   ]
  },
  {
   "cell_type": "code",
   "execution_count": 81,
   "metadata": {},
   "outputs": [
    {
     "data": {
      "text/html": [
       "<div>\n",
       "<style scoped>\n",
       "    .dataframe tbody tr th:only-of-type {\n",
       "        vertical-align: middle;\n",
       "    }\n",
       "\n",
       "    .dataframe tbody tr th {\n",
       "        vertical-align: top;\n",
       "    }\n",
       "\n",
       "    .dataframe thead th {\n",
       "        text-align: right;\n",
       "    }\n",
       "</style>\n",
       "<table border=\"1\" class=\"dataframe\">\n",
       "  <thead>\n",
       "    <tr style=\"text-align: right;\">\n",
       "      <th></th>\n",
       "      <th>team</th>\n",
       "      <th>team_code</th>\n",
       "      <th>association</th>\n",
       "      <th>rank</th>\n",
       "      <th>previous_rank</th>\n",
       "      <th>points</th>\n",
       "      <th>previous_points</th>\n",
       "    </tr>\n",
       "  </thead>\n",
       "  <tbody>\n",
       "    <tr>\n",
       "      <th>0</th>\n",
       "      <td>Brazil</td>\n",
       "      <td>BRA</td>\n",
       "      <td>CONMEBOL</td>\n",
       "      <td>1</td>\n",
       "      <td>1</td>\n",
       "      <td>1841.30</td>\n",
       "      <td>1837.56</td>\n",
       "    </tr>\n",
       "    <tr>\n",
       "      <th>1</th>\n",
       "      <td>Belgium</td>\n",
       "      <td>BEL</td>\n",
       "      <td>UEFA</td>\n",
       "      <td>2</td>\n",
       "      <td>2</td>\n",
       "      <td>1816.71</td>\n",
       "      <td>1821.92</td>\n",
       "    </tr>\n",
       "    <tr>\n",
       "      <th>2</th>\n",
       "      <td>Argentina</td>\n",
       "      <td>ARG</td>\n",
       "      <td>CONMEBOL</td>\n",
       "      <td>3</td>\n",
       "      <td>3</td>\n",
       "      <td>1773.88</td>\n",
       "      <td>1770.65</td>\n",
       "    </tr>\n",
       "    <tr>\n",
       "      <th>3</th>\n",
       "      <td>France</td>\n",
       "      <td>FRA</td>\n",
       "      <td>UEFA</td>\n",
       "      <td>4</td>\n",
       "      <td>4</td>\n",
       "      <td>1759.78</td>\n",
       "      <td>1764.85</td>\n",
       "    </tr>\n",
       "    <tr>\n",
       "      <th>4</th>\n",
       "      <td>England</td>\n",
       "      <td>ENG</td>\n",
       "      <td>UEFA</td>\n",
       "      <td>5</td>\n",
       "      <td>5</td>\n",
       "      <td>1728.47</td>\n",
       "      <td>1737.46</td>\n",
       "    </tr>\n",
       "  </tbody>\n",
       "</table>\n",
       "</div>"
      ],
      "text/plain": [
       "        team team_code association  rank  previous_rank   points  \\\n",
       "0     Brazil       BRA    CONMEBOL     1              1  1841.30   \n",
       "1    Belgium       BEL        UEFA     2              2  1816.71   \n",
       "2  Argentina       ARG    CONMEBOL     3              3  1773.88   \n",
       "3     France       FRA        UEFA     4              4  1759.78   \n",
       "4    England       ENG        UEFA     5              5  1728.47   \n",
       "\n",
       "   previous_points  \n",
       "0          1837.56  \n",
       "1          1821.92  \n",
       "2          1770.65  \n",
       "3          1764.85  \n",
       "4          1737.46  "
      ]
     },
     "execution_count": 81,
     "metadata": {},
     "output_type": "execute_result"
    }
   ],
   "source": [
    "world_ranking.head()"
   ]
  },
  {
   "cell_type": "code",
   "execution_count": 82,
   "metadata": {},
   "outputs": [
    {
     "data": {
      "text/html": [
       "<div>\n",
       "<style scoped>\n",
       "    .dataframe tbody tr th:only-of-type {\n",
       "        vertical-align: middle;\n",
       "    }\n",
       "\n",
       "    .dataframe tbody tr th {\n",
       "        vertical-align: top;\n",
       "    }\n",
       "\n",
       "    .dataframe thead th {\n",
       "        text-align: right;\n",
       "    }\n",
       "</style>\n",
       "<table border=\"1\" class=\"dataframe\">\n",
       "  <thead>\n",
       "    <tr style=\"text-align: right;\">\n",
       "      <th></th>\n",
       "      <th>Year</th>\n",
       "      <th>Host</th>\n",
       "      <th>Teams</th>\n",
       "      <th>Champion</th>\n",
       "      <th>Runner-Up</th>\n",
       "      <th>TopScorrer</th>\n",
       "      <th>Attendance</th>\n",
       "      <th>AttendanceAvg</th>\n",
       "      <th>Matches</th>\n",
       "    </tr>\n",
       "  </thead>\n",
       "  <tbody>\n",
       "    <tr>\n",
       "      <th>0</th>\n",
       "      <td>2022</td>\n",
       "      <td>Qatar</td>\n",
       "      <td>32</td>\n",
       "      <td>Argentina</td>\n",
       "      <td>France</td>\n",
       "      <td>Kylian Mbappé - 8</td>\n",
       "      <td>3404252</td>\n",
       "      <td>53191</td>\n",
       "      <td>64</td>\n",
       "    </tr>\n",
       "    <tr>\n",
       "      <th>1</th>\n",
       "      <td>2018</td>\n",
       "      <td>Russia</td>\n",
       "      <td>32</td>\n",
       "      <td>France</td>\n",
       "      <td>Croatia</td>\n",
       "      <td>Harry Kane - 6</td>\n",
       "      <td>3031768</td>\n",
       "      <td>47371</td>\n",
       "      <td>64</td>\n",
       "    </tr>\n",
       "    <tr>\n",
       "      <th>2</th>\n",
       "      <td>2014</td>\n",
       "      <td>Brazil</td>\n",
       "      <td>32</td>\n",
       "      <td>Germany</td>\n",
       "      <td>Argentina</td>\n",
       "      <td>James Rodríguez - 6</td>\n",
       "      <td>3429873</td>\n",
       "      <td>53592</td>\n",
       "      <td>64</td>\n",
       "    </tr>\n",
       "    <tr>\n",
       "      <th>3</th>\n",
       "      <td>2010</td>\n",
       "      <td>South Africa</td>\n",
       "      <td>32</td>\n",
       "      <td>Spain</td>\n",
       "      <td>Netherlands</td>\n",
       "      <td>Wesley Sneijder, Thomas Müller... - 5</td>\n",
       "      <td>3178856</td>\n",
       "      <td>49670</td>\n",
       "      <td>64</td>\n",
       "    </tr>\n",
       "    <tr>\n",
       "      <th>4</th>\n",
       "      <td>2006</td>\n",
       "      <td>Germany</td>\n",
       "      <td>32</td>\n",
       "      <td>Italy</td>\n",
       "      <td>France</td>\n",
       "      <td>Miroslav Klose - 5</td>\n",
       "      <td>3352605</td>\n",
       "      <td>52384</td>\n",
       "      <td>64</td>\n",
       "    </tr>\n",
       "  </tbody>\n",
       "</table>\n",
       "</div>"
      ],
      "text/plain": [
       "   Year          Host  Teams   Champion    Runner-Up  \\\n",
       "0  2022         Qatar     32  Argentina       France   \n",
       "1  2018        Russia     32     France      Croatia   \n",
       "2  2014        Brazil     32    Germany    Argentina   \n",
       "3  2010  South Africa     32      Spain  Netherlands   \n",
       "4  2006       Germany     32      Italy       France   \n",
       "\n",
       "                              TopScorrer  Attendance  AttendanceAvg  Matches  \n",
       "0                      Kylian Mbappé - 8     3404252          53191       64  \n",
       "1                         Harry Kane - 6     3031768          47371       64  \n",
       "2                    James Rodríguez - 6     3429873          53592       64  \n",
       "3  Wesley Sneijder, Thomas Müller... - 5     3178856          49670       64  \n",
       "4                     Miroslav Klose - 5     3352605          52384       64  "
      ]
     },
     "execution_count": 82,
     "metadata": {},
     "output_type": "execute_result"
    }
   ],
   "source": [
    "world_cups.head()"
   ]
  },
  {
   "cell_type": "code",
   "execution_count": 83,
   "metadata": {},
   "outputs": [
    {
     "data": {
      "text/html": [
       "<div>\n",
       "<style scoped>\n",
       "    .dataframe tbody tr th:only-of-type {\n",
       "        vertical-align: middle;\n",
       "    }\n",
       "\n",
       "    .dataframe tbody tr th {\n",
       "        vertical-align: top;\n",
       "    }\n",
       "\n",
       "    .dataframe thead th {\n",
       "        text-align: right;\n",
       "    }\n",
       "</style>\n",
       "<table border=\"1\" class=\"dataframe\">\n",
       "  <thead>\n",
       "    <tr style=\"text-align: right;\">\n",
       "      <th></th>\n",
       "      <th>home_team</th>\n",
       "      <th>away_team</th>\n",
       "      <th>home_score</th>\n",
       "      <th>home_xg</th>\n",
       "      <th>home_penalty</th>\n",
       "      <th>away_score</th>\n",
       "      <th>away_xg</th>\n",
       "      <th>away_penalty</th>\n",
       "      <th>home_manager</th>\n",
       "      <th>home_captain</th>\n",
       "      <th>...</th>\n",
       "      <th>home_penalty_shootout_miss_long</th>\n",
       "      <th>away_penalty_shootout_miss_long</th>\n",
       "      <th>home_red_card</th>\n",
       "      <th>away_red_card</th>\n",
       "      <th>home_yellow_red_card</th>\n",
       "      <th>away_yellow_red_card</th>\n",
       "      <th>home_yellow_card_long</th>\n",
       "      <th>away_yellow_card_long</th>\n",
       "      <th>home_substitute_in_long</th>\n",
       "      <th>away_substitute_in_long</th>\n",
       "    </tr>\n",
       "  </thead>\n",
       "  <tbody>\n",
       "    <tr>\n",
       "      <th>0</th>\n",
       "      <td>Argentina</td>\n",
       "      <td>France</td>\n",
       "      <td>3</td>\n",
       "      <td>3.3</td>\n",
       "      <td>4.0</td>\n",
       "      <td>3</td>\n",
       "      <td>2.2</td>\n",
       "      <td>2.0</td>\n",
       "      <td>Lionel Scaloni</td>\n",
       "      <td>Lionel Messi</td>\n",
       "      <td>...</td>\n",
       "      <td>NaN</td>\n",
       "      <td>['3|1:1|Kingsley Coman', '5|2:1|Aurélien Tchou...</td>\n",
       "      <td>NaN</td>\n",
       "      <td>NaN</td>\n",
       "      <td>NaN</td>\n",
       "      <td>NaN</td>\n",
       "      <td>['45+7&amp;rsquor;|2:0|Enzo Fernández', '90+8&amp;rsqu...</td>\n",
       "      <td>['55&amp;rsquor;|2:0|Adrien Rabiot', '87&amp;rsquor;|2...</td>\n",
       "      <td>['64&amp;rsquor;|2:0|Marcos Acuña|for Ángel Di Mar...</td>\n",
       "      <td>['41&amp;rsquor;|2:0|Randal Kolo Muani|for Ousmane...</td>\n",
       "    </tr>\n",
       "    <tr>\n",
       "      <th>1</th>\n",
       "      <td>Croatia</td>\n",
       "      <td>Morocco</td>\n",
       "      <td>2</td>\n",
       "      <td>0.7</td>\n",
       "      <td>NaN</td>\n",
       "      <td>1</td>\n",
       "      <td>1.2</td>\n",
       "      <td>NaN</td>\n",
       "      <td>Zlatko Dalić</td>\n",
       "      <td>Luka Modrić</td>\n",
       "      <td>...</td>\n",
       "      <td>NaN</td>\n",
       "      <td>NaN</td>\n",
       "      <td>NaN</td>\n",
       "      <td>NaN</td>\n",
       "      <td>NaN</td>\n",
       "      <td>NaN</td>\n",
       "      <td>NaN</td>\n",
       "      <td>['69&amp;rsquor;|2:1|Azzedine Ounahi', '84&amp;rsquor;...</td>\n",
       "      <td>['61&amp;rsquor;|2:1|Nikola Vlašić|for Andrej Kram...</td>\n",
       "      <td>['46&amp;rsquor;|2:1|Ilias Chair|for Abdelhamid Sa...</td>\n",
       "    </tr>\n",
       "    <tr>\n",
       "      <th>2</th>\n",
       "      <td>France</td>\n",
       "      <td>Morocco</td>\n",
       "      <td>2</td>\n",
       "      <td>2.0</td>\n",
       "      <td>NaN</td>\n",
       "      <td>0</td>\n",
       "      <td>0.9</td>\n",
       "      <td>NaN</td>\n",
       "      <td>Didier Deschamps</td>\n",
       "      <td>Hugo Lloris</td>\n",
       "      <td>...</td>\n",
       "      <td>NaN</td>\n",
       "      <td>NaN</td>\n",
       "      <td>NaN</td>\n",
       "      <td>NaN</td>\n",
       "      <td>NaN</td>\n",
       "      <td>NaN</td>\n",
       "      <td>NaN</td>\n",
       "      <td>['27&amp;rsquor;|1:0|Sofiane Boufal']</td>\n",
       "      <td>['65&amp;rsquor;|1:0|Marcus Thuram|for Olivier Gir...</td>\n",
       "      <td>['21&amp;rsquor;|1:0|Selim Amallah|for Romain Saïs...</td>\n",
       "    </tr>\n",
       "    <tr>\n",
       "      <th>3</th>\n",
       "      <td>Argentina</td>\n",
       "      <td>Croatia</td>\n",
       "      <td>3</td>\n",
       "      <td>2.3</td>\n",
       "      <td>NaN</td>\n",
       "      <td>0</td>\n",
       "      <td>0.5</td>\n",
       "      <td>NaN</td>\n",
       "      <td>Lionel Scaloni</td>\n",
       "      <td>Lionel Messi</td>\n",
       "      <td>...</td>\n",
       "      <td>NaN</td>\n",
       "      <td>NaN</td>\n",
       "      <td>NaN</td>\n",
       "      <td>NaN</td>\n",
       "      <td>NaN</td>\n",
       "      <td>NaN</td>\n",
       "      <td>['68&amp;rsquor;|2:0|Cristian Romero', '71&amp;rsquor;...</td>\n",
       "      <td>['32&amp;rsquor;|0:0|Mateo Kovačić', '32&amp;rsquor;|0...</td>\n",
       "      <td>['62&amp;rsquor;|2:0|Lisandro Martínez|for Leandro...</td>\n",
       "      <td>['46&amp;rsquor;|2:0|Mislav Oršić|for Borna Sosa',...</td>\n",
       "    </tr>\n",
       "    <tr>\n",
       "      <th>4</th>\n",
       "      <td>Morocco</td>\n",
       "      <td>Portugal</td>\n",
       "      <td>1</td>\n",
       "      <td>1.4</td>\n",
       "      <td>NaN</td>\n",
       "      <td>0</td>\n",
       "      <td>0.9</td>\n",
       "      <td>NaN</td>\n",
       "      <td>Hoalid Regragui</td>\n",
       "      <td>Romain Saïss</td>\n",
       "      <td>...</td>\n",
       "      <td>NaN</td>\n",
       "      <td>NaN</td>\n",
       "      <td>NaN</td>\n",
       "      <td>NaN</td>\n",
       "      <td>Walid Cheddira · 90+3</td>\n",
       "      <td>NaN</td>\n",
       "      <td>['70&amp;rsquor;|1:0|Achraf Dari', '90+1&amp;rsquor;|1...</td>\n",
       "      <td>['87&amp;rsquor;|1:0|Vitinha']</td>\n",
       "      <td>['57&amp;rsquor;|1:0|Achraf Dari|for Romain Saïss'...</td>\n",
       "      <td>['51&amp;rsquor;|1:0|João Cancelo|for Raphaël Guer...</td>\n",
       "    </tr>\n",
       "  </tbody>\n",
       "</table>\n",
       "<p>5 rows × 44 columns</p>\n",
       "</div>"
      ],
      "text/plain": [
       "   home_team away_team  home_score  home_xg  home_penalty  away_score  \\\n",
       "0  Argentina    France           3      3.3           4.0           3   \n",
       "1    Croatia   Morocco           2      0.7           NaN           1   \n",
       "2     France   Morocco           2      2.0           NaN           0   \n",
       "3  Argentina   Croatia           3      2.3           NaN           0   \n",
       "4    Morocco  Portugal           1      1.4           NaN           0   \n",
       "\n",
       "   away_xg  away_penalty      home_manager  home_captain  ...  \\\n",
       "0      2.2           2.0    Lionel Scaloni  Lionel Messi  ...   \n",
       "1      1.2           NaN      Zlatko Dalić   Luka Modrić  ...   \n",
       "2      0.9           NaN  Didier Deschamps   Hugo Lloris  ...   \n",
       "3      0.5           NaN    Lionel Scaloni  Lionel Messi  ...   \n",
       "4      0.9           NaN   Hoalid Regragui  Romain Saïss  ...   \n",
       "\n",
       "  home_penalty_shootout_miss_long  \\\n",
       "0                             NaN   \n",
       "1                             NaN   \n",
       "2                             NaN   \n",
       "3                             NaN   \n",
       "4                             NaN   \n",
       "\n",
       "                     away_penalty_shootout_miss_long  home_red_card  \\\n",
       "0  ['3|1:1|Kingsley Coman', '5|2:1|Aurélien Tchou...            NaN   \n",
       "1                                                NaN            NaN   \n",
       "2                                                NaN            NaN   \n",
       "3                                                NaN            NaN   \n",
       "4                                                NaN            NaN   \n",
       "\n",
       "  away_red_card   home_yellow_red_card away_yellow_red_card  \\\n",
       "0           NaN                    NaN                  NaN   \n",
       "1           NaN                    NaN                  NaN   \n",
       "2           NaN                    NaN                  NaN   \n",
       "3           NaN                    NaN                  NaN   \n",
       "4           NaN  Walid Cheddira · 90+3                  NaN   \n",
       "\n",
       "                               home_yellow_card_long  \\\n",
       "0  ['45+7&rsquor;|2:0|Enzo Fernández', '90+8&rsqu...   \n",
       "1                                                NaN   \n",
       "2                                                NaN   \n",
       "3  ['68&rsquor;|2:0|Cristian Romero', '71&rsquor;...   \n",
       "4  ['70&rsquor;|1:0|Achraf Dari', '90+1&rsquor;|1...   \n",
       "\n",
       "                               away_yellow_card_long  \\\n",
       "0  ['55&rsquor;|2:0|Adrien Rabiot', '87&rsquor;|2...   \n",
       "1  ['69&rsquor;|2:1|Azzedine Ounahi', '84&rsquor;...   \n",
       "2                  ['27&rsquor;|1:0|Sofiane Boufal']   \n",
       "3  ['32&rsquor;|0:0|Mateo Kovačić', '32&rsquor;|0...   \n",
       "4                         ['87&rsquor;|1:0|Vitinha']   \n",
       "\n",
       "                             home_substitute_in_long  \\\n",
       "0  ['64&rsquor;|2:0|Marcos Acuña|for Ángel Di Mar...   \n",
       "1  ['61&rsquor;|2:1|Nikola Vlašić|for Andrej Kram...   \n",
       "2  ['65&rsquor;|1:0|Marcus Thuram|for Olivier Gir...   \n",
       "3  ['62&rsquor;|2:0|Lisandro Martínez|for Leandro...   \n",
       "4  ['57&rsquor;|1:0|Achraf Dari|for Romain Saïss'...   \n",
       "\n",
       "                             away_substitute_in_long  \n",
       "0  ['41&rsquor;|2:0|Randal Kolo Muani|for Ousmane...  \n",
       "1  ['46&rsquor;|2:1|Ilias Chair|for Abdelhamid Sa...  \n",
       "2  ['21&rsquor;|1:0|Selim Amallah|for Romain Saïs...  \n",
       "3  ['46&rsquor;|2:0|Mislav Oršić|for Borna Sosa',...  \n",
       "4  ['51&rsquor;|1:0|João Cancelo|for Raphaël Guer...  \n",
       "\n",
       "[5 rows x 44 columns]"
      ]
     },
     "execution_count": 83,
     "metadata": {},
     "output_type": "execute_result"
    }
   ],
   "source": [
    "matches.head()"
   ]
  },
  {
   "cell_type": "code",
   "execution_count": 84,
   "metadata": {},
   "outputs": [
    {
     "name": "stdout",
     "output_type": "stream",
     "text": [
      "<class 'pandas.core.frame.DataFrame'>\n",
      "RangeIndex: 964 entries, 0 to 963\n",
      "Data columns (total 44 columns):\n",
      " #   Column                           Non-Null Count  Dtype         \n",
      "---  ------                           --------------  -----         \n",
      " 0   home_team                        964 non-null    object        \n",
      " 1   away_team                        964 non-null    object        \n",
      " 2   home_score                       964 non-null    int64         \n",
      " 3   home_xg                          128 non-null    float64       \n",
      " 4   home_penalty                     35 non-null     float64       \n",
      " 5   away_score                       964 non-null    int64         \n",
      " 6   away_xg                          128 non-null    float64       \n",
      " 7   away_penalty                     35 non-null     float64       \n",
      " 8   home_manager                     964 non-null    object        \n",
      " 9   home_captain                     644 non-null    object        \n",
      " 10  away_manager                     964 non-null    object        \n",
      " 11  away_captain                     644 non-null    object        \n",
      " 12  Attendance                       964 non-null    int64         \n",
      " 13  Venue                            964 non-null    object        \n",
      " 14  Officials                        709 non-null    object        \n",
      " 15  Round                            964 non-null    object        \n",
      " 16  Date                             964 non-null    datetime64[ns]\n",
      " 17  Score                            964 non-null    object        \n",
      " 18  Referee                          709 non-null    object        \n",
      " 19  Notes                            73 non-null     object        \n",
      " 20  Host                             964 non-null    object        \n",
      " 21  Year                             964 non-null    int64         \n",
      " 22  home_goal                        718 non-null    object        \n",
      " 23  away_goal                        571 non-null    object        \n",
      " 24  home_goal_long                   718 non-null    object        \n",
      " 25  away_goal_long                   571 non-null    object        \n",
      " 26  home_own_goal                    39 non-null     object        \n",
      " 27  away_own_goal                    17 non-null     object        \n",
      " 28  home_penalty_goal                116 non-null    object        \n",
      " 29  away_penalty_goal                84 non-null     object        \n",
      " 30  home_penalty_miss_long           6 non-null      object        \n",
      " 31  away_penalty_miss_long           9 non-null      object        \n",
      " 32  home_penalty_shootout_goal_long  34 non-null     object        \n",
      " 33  away_penalty_shootout_goal_long  34 non-null     object        \n",
      " 34  home_penalty_shootout_miss_long  24 non-null     object        \n",
      " 35  away_penalty_shootout_miss_long  30 non-null     object        \n",
      " 36  home_red_card                    51 non-null     object        \n",
      " 37  away_red_card                    54 non-null     object        \n",
      " 38  home_yellow_red_card             23 non-null     object        \n",
      " 39  away_yellow_red_card             31 non-null     object        \n",
      " 40  home_yellow_card_long            621 non-null    object        \n",
      " 41  away_yellow_card_long            627 non-null    object        \n",
      " 42  home_substitute_in_long          740 non-null    object        \n",
      " 43  away_substitute_in_long          747 non-null    object        \n",
      "dtypes: datetime64[ns](1), float64(4), int64(4), object(35)\n",
      "memory usage: 331.5+ KB\n"
     ]
    }
   ],
   "source": [
    "matches.info()"
   ]
  },
  {
   "cell_type": "code",
   "execution_count": 85,
   "metadata": {},
   "outputs": [
    {
     "data": {
      "text/plain": [
       "\"['7&rsquor;|1:0|Joško Gvardiol|Assist:|Ivan Perišić', '42&rsquor;|2:1|Mislav Oršić|Assist:|Marko Livaja']\""
      ]
     },
     "execution_count": 85,
     "metadata": {},
     "output_type": "execute_result"
    }
   ],
   "source": [
    "matches['home_goal_long'][1]"
   ]
  },
  {
   "cell_type": "code",
   "execution_count": 86,
   "metadata": {},
   "outputs": [
    {
     "name": "stdout",
     "output_type": "stream",
     "text": [
      "(22, 9)\n",
      "(211, 7)\n",
      "(964, 44)\n"
     ]
    }
   ],
   "source": [
    "data = [world_cups, world_ranking, matches]\n",
    "for d in data:\n",
    "    print(d.shape)"
   ]
  },
  {
   "cell_type": "code",
   "execution_count": 87,
   "metadata": {},
   "outputs": [
    {
     "name": "stdout",
     "output_type": "stream",
     "text": [
      "Year             0\n",
      "Host             0\n",
      "Teams            0\n",
      "Champion         0\n",
      "Runner-Up        0\n",
      "TopScorrer       0\n",
      "Attendance       0\n",
      "AttendanceAvg    0\n",
      "Matches          0\n",
      "dtype: int64\n",
      "=============================================\n",
      "team               0\n",
      "team_code          0\n",
      "association        0\n",
      "rank               0\n",
      "previous_rank      0\n",
      "points             0\n",
      "previous_points    0\n",
      "dtype: int64\n",
      "=============================================\n",
      "home_team                            0\n",
      "away_team                            0\n",
      "home_score                           0\n",
      "home_xg                            836\n",
      "home_penalty                       929\n",
      "away_score                           0\n",
      "away_xg                            836\n",
      "away_penalty                       929\n",
      "home_manager                         0\n",
      "home_captain                       320\n",
      "away_manager                         0\n",
      "away_captain                       320\n",
      "Attendance                           0\n",
      "Venue                                0\n",
      "Officials                          255\n",
      "Round                                0\n",
      "Date                                 0\n",
      "Score                                0\n",
      "Referee                            255\n",
      "Notes                              891\n",
      "Host                                 0\n",
      "Year                                 0\n",
      "home_goal                          246\n",
      "away_goal                          393\n",
      "home_goal_long                     246\n",
      "away_goal_long                     393\n",
      "home_own_goal                      925\n",
      "away_own_goal                      947\n",
      "home_penalty_goal                  848\n",
      "away_penalty_goal                  880\n",
      "home_penalty_miss_long             958\n",
      "away_penalty_miss_long             955\n",
      "home_penalty_shootout_goal_long    930\n",
      "away_penalty_shootout_goal_long    930\n",
      "home_penalty_shootout_miss_long    940\n",
      "away_penalty_shootout_miss_long    934\n",
      "home_red_card                      913\n",
      "away_red_card                      910\n",
      "home_yellow_red_card               941\n",
      "away_yellow_red_card               933\n",
      "home_yellow_card_long              343\n",
      "away_yellow_card_long              337\n",
      "home_substitute_in_long            224\n",
      "away_substitute_in_long            217\n",
      "dtype: int64\n",
      "=============================================\n"
     ]
    }
   ],
   "source": [
    "#checking for null values\n",
    "for n in data:\n",
    "    print(n.isnull().sum())\n",
    "    print('=============================================')"
   ]
  },
  {
   "cell_type": "code",
   "execution_count": 88,
   "metadata": {},
   "outputs": [
    {
     "name": "stdout",
     "output_type": "stream",
     "text": [
      "0\n",
      "0\n",
      "0\n"
     ]
    }
   ],
   "source": [
    "#checking for duplicates\n",
    "for d in data:\n",
    "    print(d.duplicated().sum())"
   ]
  },
  {
   "cell_type": "code",
   "execution_count": 89,
   "metadata": {},
   "outputs": [
    {
     "data": {
      "text/plain": [
       "array(['Argentina', 'Croatia', 'France', 'Morocco', 'England',\n",
       "       'Netherlands', 'Portugal', 'Japan', 'Brazil', 'Korea Republic',\n",
       "       'Ghana', 'Cameroon', 'Serbia', 'Canada', 'Costa Rica', 'Australia',\n",
       "       'Tunisia', 'Saudi Arabia', 'Poland', 'Ecuador', 'IR Iran', 'Wales',\n",
       "       'Belgium', 'Spain', 'Qatar', 'Switzerland', 'Uruguay', 'Germany',\n",
       "       'Denmark', 'Mexico', 'Senegal', 'United States', 'Sweden',\n",
       "       'Russia', 'Colombia', 'Panama', 'Iceland', 'Nigeria', 'Peru',\n",
       "       'Egypt', 'Algeria', 'Bosnia and Herzegovina', 'Honduras', 'Italy',\n",
       "       'Greece', \"Côte d'Ivoire\", 'Chile', 'Paraguay', 'Korea DPR',\n",
       "       'Slovakia', 'Slovenia', 'South Africa', 'New Zealand', 'Ukraine',\n",
       "       'Togo', 'Czech Republic', 'Serbia and Montenegro', 'Angola',\n",
       "       'Trinidad and Tobago', 'Türkiye', 'China PR',\n",
       "       'Republic of Ireland', 'Romania', 'Scotland', 'FR Yugoslavia',\n",
       "       'Jamaica', 'Bulgaria', 'Bolivia', 'Norway', 'West Germany',\n",
       "       'Yugoslavia', 'Czechoslovakia', 'Austria', 'United Arab Emirates',\n",
       "       'Soviet Union', 'Northern Ireland', 'Iraq', 'Hungary',\n",
       "       'Germany DR', 'Zaire', 'Haiti', 'Cuba'], dtype=object)"
      ]
     },
     "execution_count": 89,
     "metadata": {},
     "output_type": "execute_result"
    }
   ],
   "source": [
    "matches['home_team'].unique()"
   ]
  },
  {
   "cell_type": "code",
   "execution_count": 90,
   "metadata": {},
   "outputs": [],
   "source": [
    "matches['home_team'] = matches['home_team'].apply(lambda x: x.replace('Germany DR', 'West Germany'))\n",
    "matches['away_team'] = matches['away_team'].apply(lambda x: x.replace('Germany DR', 'West Germany'))"
   ]
  },
  {
   "cell_type": "markdown",
   "metadata": {},
   "source": [
    "## EDA "
   ]
  },
  {
   "cell_type": "markdown",
   "metadata": {},
   "source": [
    "### Basic EDA: Calculating the stats of the data"
   ]
  },
  {
   "cell_type": "code",
   "execution_count": 91,
   "metadata": {},
   "outputs": [
    {
     "name": "stdout",
     "output_type": "stream",
     "text": [
      "Total number of matches:  964\n"
     ]
    }
   ],
   "source": [
    "#total number of matches played till now\n",
    "print('Total number of matches: ',len(matches))"
   ]
  },
  {
   "cell_type": "code",
   "execution_count": 92,
   "metadata": {},
   "outputs": [
    {
     "name": "stdout",
     "output_type": "stream",
     "text": [
      "Total goals scored:  2720\n"
     ]
    }
   ],
   "source": [
    "# Total goals scored: summition of home goals + away goals (except penulty shoot out)\n",
    "print('Total goals scored: ', sum(matches['home_score'] + matches['away_score']))"
   ]
  },
  {
   "cell_type": "code",
   "execution_count": 93,
   "metadata": {},
   "outputs": [
    {
     "name": "stdout",
     "output_type": "stream",
     "text": [
      "Average goals in a match:  2.82\n"
     ]
    }
   ],
   "source": [
    "#Average goals scored in a match\n",
    "print('Average goals in a match: ', round(sum(matches['home_score'] + matches['away_score'])/len(matches),2))"
   ]
  },
  {
   "cell_type": "code",
   "execution_count": 94,
   "metadata": {},
   "outputs": [
    {
     "name": "stdout",
     "output_type": "stream",
     "text": [
      "Average attendance in a match:  45693\n"
     ]
    }
   ],
   "source": [
    "#Average attendance in a match\n",
    "print('Average attendance in a match: ', int(sum(matches['Attendance'])/len(matches)))"
   ]
  },
  {
   "cell_type": "code",
   "execution_count": 95,
   "metadata": {},
   "outputs": [
    {
     "name": "stdout",
     "output_type": "stream",
     "text": [
      "       Champion  count\n",
      "0        Brazil      5\n",
      "1         Italy      4\n",
      "2     Argentina      3\n",
      "3        France      2\n",
      "4       Germany      2\n",
      "5  West Germany      2\n",
      "6       Uruguay      2\n",
      "7         Spain      1\n",
      "8       England      1\n"
     ]
    },
    {
     "data": {
      "application/vnd.plotly.v1+json": {
       "config": {
        "plotlyServerURL": "https://plot.ly"
       },
       "data": [
        {
         "domain": {
          "x": [
           0,
           1
          ],
          "y": [
           0,
           1
          ]
         },
         "hovertemplate": "Champion=%{label}<br>count=%{value}<extra></extra>",
         "labels": [
          "Brazil",
          "Italy",
          "Argentina",
          "France",
          "Germany",
          "West Germany",
          "Uruguay",
          "Spain",
          "England"
         ],
         "legendgroup": "",
         "name": "",
         "showlegend": true,
         "textinfo": "label+value",
         "type": "pie",
         "values": [
          5,
          4,
          3,
          2,
          2,
          2,
          2,
          1,
          1
         ]
        }
       ],
       "layout": {
        "legend": {
         "tracegroupgap": 0
        },
        "template": {
         "data": {
          "bar": [
           {
            "error_x": {
             "color": "#2a3f5f"
            },
            "error_y": {
             "color": "#2a3f5f"
            },
            "marker": {
             "line": {
              "color": "#E5ECF6",
              "width": 0.5
             },
             "pattern": {
              "fillmode": "overlay",
              "size": 10,
              "solidity": 0.2
             }
            },
            "type": "bar"
           }
          ],
          "barpolar": [
           {
            "marker": {
             "line": {
              "color": "#E5ECF6",
              "width": 0.5
             },
             "pattern": {
              "fillmode": "overlay",
              "size": 10,
              "solidity": 0.2
             }
            },
            "type": "barpolar"
           }
          ],
          "carpet": [
           {
            "aaxis": {
             "endlinecolor": "#2a3f5f",
             "gridcolor": "white",
             "linecolor": "white",
             "minorgridcolor": "white",
             "startlinecolor": "#2a3f5f"
            },
            "baxis": {
             "endlinecolor": "#2a3f5f",
             "gridcolor": "white",
             "linecolor": "white",
             "minorgridcolor": "white",
             "startlinecolor": "#2a3f5f"
            },
            "type": "carpet"
           }
          ],
          "choropleth": [
           {
            "colorbar": {
             "outlinewidth": 0,
             "ticks": ""
            },
            "type": "choropleth"
           }
          ],
          "contour": [
           {
            "colorbar": {
             "outlinewidth": 0,
             "ticks": ""
            },
            "colorscale": [
             [
              0,
              "#0d0887"
             ],
             [
              0.1111111111111111,
              "#46039f"
             ],
             [
              0.2222222222222222,
              "#7201a8"
             ],
             [
              0.3333333333333333,
              "#9c179e"
             ],
             [
              0.4444444444444444,
              "#bd3786"
             ],
             [
              0.5555555555555556,
              "#d8576b"
             ],
             [
              0.6666666666666666,
              "#ed7953"
             ],
             [
              0.7777777777777778,
              "#fb9f3a"
             ],
             [
              0.8888888888888888,
              "#fdca26"
             ],
             [
              1,
              "#f0f921"
             ]
            ],
            "type": "contour"
           }
          ],
          "contourcarpet": [
           {
            "colorbar": {
             "outlinewidth": 0,
             "ticks": ""
            },
            "type": "contourcarpet"
           }
          ],
          "heatmap": [
           {
            "colorbar": {
             "outlinewidth": 0,
             "ticks": ""
            },
            "colorscale": [
             [
              0,
              "#0d0887"
             ],
             [
              0.1111111111111111,
              "#46039f"
             ],
             [
              0.2222222222222222,
              "#7201a8"
             ],
             [
              0.3333333333333333,
              "#9c179e"
             ],
             [
              0.4444444444444444,
              "#bd3786"
             ],
             [
              0.5555555555555556,
              "#d8576b"
             ],
             [
              0.6666666666666666,
              "#ed7953"
             ],
             [
              0.7777777777777778,
              "#fb9f3a"
             ],
             [
              0.8888888888888888,
              "#fdca26"
             ],
             [
              1,
              "#f0f921"
             ]
            ],
            "type": "heatmap"
           }
          ],
          "heatmapgl": [
           {
            "colorbar": {
             "outlinewidth": 0,
             "ticks": ""
            },
            "colorscale": [
             [
              0,
              "#0d0887"
             ],
             [
              0.1111111111111111,
              "#46039f"
             ],
             [
              0.2222222222222222,
              "#7201a8"
             ],
             [
              0.3333333333333333,
              "#9c179e"
             ],
             [
              0.4444444444444444,
              "#bd3786"
             ],
             [
              0.5555555555555556,
              "#d8576b"
             ],
             [
              0.6666666666666666,
              "#ed7953"
             ],
             [
              0.7777777777777778,
              "#fb9f3a"
             ],
             [
              0.8888888888888888,
              "#fdca26"
             ],
             [
              1,
              "#f0f921"
             ]
            ],
            "type": "heatmapgl"
           }
          ],
          "histogram": [
           {
            "marker": {
             "pattern": {
              "fillmode": "overlay",
              "size": 10,
              "solidity": 0.2
             }
            },
            "type": "histogram"
           }
          ],
          "histogram2d": [
           {
            "colorbar": {
             "outlinewidth": 0,
             "ticks": ""
            },
            "colorscale": [
             [
              0,
              "#0d0887"
             ],
             [
              0.1111111111111111,
              "#46039f"
             ],
             [
              0.2222222222222222,
              "#7201a8"
             ],
             [
              0.3333333333333333,
              "#9c179e"
             ],
             [
              0.4444444444444444,
              "#bd3786"
             ],
             [
              0.5555555555555556,
              "#d8576b"
             ],
             [
              0.6666666666666666,
              "#ed7953"
             ],
             [
              0.7777777777777778,
              "#fb9f3a"
             ],
             [
              0.8888888888888888,
              "#fdca26"
             ],
             [
              1,
              "#f0f921"
             ]
            ],
            "type": "histogram2d"
           }
          ],
          "histogram2dcontour": [
           {
            "colorbar": {
             "outlinewidth": 0,
             "ticks": ""
            },
            "colorscale": [
             [
              0,
              "#0d0887"
             ],
             [
              0.1111111111111111,
              "#46039f"
             ],
             [
              0.2222222222222222,
              "#7201a8"
             ],
             [
              0.3333333333333333,
              "#9c179e"
             ],
             [
              0.4444444444444444,
              "#bd3786"
             ],
             [
              0.5555555555555556,
              "#d8576b"
             ],
             [
              0.6666666666666666,
              "#ed7953"
             ],
             [
              0.7777777777777778,
              "#fb9f3a"
             ],
             [
              0.8888888888888888,
              "#fdca26"
             ],
             [
              1,
              "#f0f921"
             ]
            ],
            "type": "histogram2dcontour"
           }
          ],
          "mesh3d": [
           {
            "colorbar": {
             "outlinewidth": 0,
             "ticks": ""
            },
            "type": "mesh3d"
           }
          ],
          "parcoords": [
           {
            "line": {
             "colorbar": {
              "outlinewidth": 0,
              "ticks": ""
             }
            },
            "type": "parcoords"
           }
          ],
          "pie": [
           {
            "automargin": true,
            "type": "pie"
           }
          ],
          "scatter": [
           {
            "fillpattern": {
             "fillmode": "overlay",
             "size": 10,
             "solidity": 0.2
            },
            "type": "scatter"
           }
          ],
          "scatter3d": [
           {
            "line": {
             "colorbar": {
              "outlinewidth": 0,
              "ticks": ""
             }
            },
            "marker": {
             "colorbar": {
              "outlinewidth": 0,
              "ticks": ""
             }
            },
            "type": "scatter3d"
           }
          ],
          "scattercarpet": [
           {
            "marker": {
             "colorbar": {
              "outlinewidth": 0,
              "ticks": ""
             }
            },
            "type": "scattercarpet"
           }
          ],
          "scattergeo": [
           {
            "marker": {
             "colorbar": {
              "outlinewidth": 0,
              "ticks": ""
             }
            },
            "type": "scattergeo"
           }
          ],
          "scattergl": [
           {
            "marker": {
             "colorbar": {
              "outlinewidth": 0,
              "ticks": ""
             }
            },
            "type": "scattergl"
           }
          ],
          "scattermapbox": [
           {
            "marker": {
             "colorbar": {
              "outlinewidth": 0,
              "ticks": ""
             }
            },
            "type": "scattermapbox"
           }
          ],
          "scatterpolar": [
           {
            "marker": {
             "colorbar": {
              "outlinewidth": 0,
              "ticks": ""
             }
            },
            "type": "scatterpolar"
           }
          ],
          "scatterpolargl": [
           {
            "marker": {
             "colorbar": {
              "outlinewidth": 0,
              "ticks": ""
             }
            },
            "type": "scatterpolargl"
           }
          ],
          "scatterternary": [
           {
            "marker": {
             "colorbar": {
              "outlinewidth": 0,
              "ticks": ""
             }
            },
            "type": "scatterternary"
           }
          ],
          "surface": [
           {
            "colorbar": {
             "outlinewidth": 0,
             "ticks": ""
            },
            "colorscale": [
             [
              0,
              "#0d0887"
             ],
             [
              0.1111111111111111,
              "#46039f"
             ],
             [
              0.2222222222222222,
              "#7201a8"
             ],
             [
              0.3333333333333333,
              "#9c179e"
             ],
             [
              0.4444444444444444,
              "#bd3786"
             ],
             [
              0.5555555555555556,
              "#d8576b"
             ],
             [
              0.6666666666666666,
              "#ed7953"
             ],
             [
              0.7777777777777778,
              "#fb9f3a"
             ],
             [
              0.8888888888888888,
              "#fdca26"
             ],
             [
              1,
              "#f0f921"
             ]
            ],
            "type": "surface"
           }
          ],
          "table": [
           {
            "cells": {
             "fill": {
              "color": "#EBF0F8"
             },
             "line": {
              "color": "white"
             }
            },
            "header": {
             "fill": {
              "color": "#C8D4E3"
             },
             "line": {
              "color": "white"
             }
            },
            "type": "table"
           }
          ]
         },
         "layout": {
          "annotationdefaults": {
           "arrowcolor": "#2a3f5f",
           "arrowhead": 0,
           "arrowwidth": 1
          },
          "autotypenumbers": "strict",
          "coloraxis": {
           "colorbar": {
            "outlinewidth": 0,
            "ticks": ""
           }
          },
          "colorscale": {
           "diverging": [
            [
             0,
             "#8e0152"
            ],
            [
             0.1,
             "#c51b7d"
            ],
            [
             0.2,
             "#de77ae"
            ],
            [
             0.3,
             "#f1b6da"
            ],
            [
             0.4,
             "#fde0ef"
            ],
            [
             0.5,
             "#f7f7f7"
            ],
            [
             0.6,
             "#e6f5d0"
            ],
            [
             0.7,
             "#b8e186"
            ],
            [
             0.8,
             "#7fbc41"
            ],
            [
             0.9,
             "#4d9221"
            ],
            [
             1,
             "#276419"
            ]
           ],
           "sequential": [
            [
             0,
             "#0d0887"
            ],
            [
             0.1111111111111111,
             "#46039f"
            ],
            [
             0.2222222222222222,
             "#7201a8"
            ],
            [
             0.3333333333333333,
             "#9c179e"
            ],
            [
             0.4444444444444444,
             "#bd3786"
            ],
            [
             0.5555555555555556,
             "#d8576b"
            ],
            [
             0.6666666666666666,
             "#ed7953"
            ],
            [
             0.7777777777777778,
             "#fb9f3a"
            ],
            [
             0.8888888888888888,
             "#fdca26"
            ],
            [
             1,
             "#f0f921"
            ]
           ],
           "sequentialminus": [
            [
             0,
             "#0d0887"
            ],
            [
             0.1111111111111111,
             "#46039f"
            ],
            [
             0.2222222222222222,
             "#7201a8"
            ],
            [
             0.3333333333333333,
             "#9c179e"
            ],
            [
             0.4444444444444444,
             "#bd3786"
            ],
            [
             0.5555555555555556,
             "#d8576b"
            ],
            [
             0.6666666666666666,
             "#ed7953"
            ],
            [
             0.7777777777777778,
             "#fb9f3a"
            ],
            [
             0.8888888888888888,
             "#fdca26"
            ],
            [
             1,
             "#f0f921"
            ]
           ]
          },
          "colorway": [
           "#636efa",
           "#EF553B",
           "#00cc96",
           "#ab63fa",
           "#FFA15A",
           "#19d3f3",
           "#FF6692",
           "#B6E880",
           "#FF97FF",
           "#FECB52"
          ],
          "font": {
           "color": "#2a3f5f"
          },
          "geo": {
           "bgcolor": "white",
           "lakecolor": "white",
           "landcolor": "#E5ECF6",
           "showlakes": true,
           "showland": true,
           "subunitcolor": "white"
          },
          "hoverlabel": {
           "align": "left"
          },
          "hovermode": "closest",
          "mapbox": {
           "style": "light"
          },
          "paper_bgcolor": "white",
          "plot_bgcolor": "#E5ECF6",
          "polar": {
           "angularaxis": {
            "gridcolor": "white",
            "linecolor": "white",
            "ticks": ""
           },
           "bgcolor": "#E5ECF6",
           "radialaxis": {
            "gridcolor": "white",
            "linecolor": "white",
            "ticks": ""
           }
          },
          "scene": {
           "xaxis": {
            "backgroundcolor": "#E5ECF6",
            "gridcolor": "white",
            "gridwidth": 2,
            "linecolor": "white",
            "showbackground": true,
            "ticks": "",
            "zerolinecolor": "white"
           },
           "yaxis": {
            "backgroundcolor": "#E5ECF6",
            "gridcolor": "white",
            "gridwidth": 2,
            "linecolor": "white",
            "showbackground": true,
            "ticks": "",
            "zerolinecolor": "white"
           },
           "zaxis": {
            "backgroundcolor": "#E5ECF6",
            "gridcolor": "white",
            "gridwidth": 2,
            "linecolor": "white",
            "showbackground": true,
            "ticks": "",
            "zerolinecolor": "white"
           }
          },
          "shapedefaults": {
           "line": {
            "color": "#2a3f5f"
           }
          },
          "ternary": {
           "aaxis": {
            "gridcolor": "white",
            "linecolor": "white",
            "ticks": ""
           },
           "baxis": {
            "gridcolor": "white",
            "linecolor": "white",
            "ticks": ""
           },
           "bgcolor": "#E5ECF6",
           "caxis": {
            "gridcolor": "white",
            "linecolor": "white",
            "ticks": ""
           }
          },
          "title": {
           "x": 0.05
          },
          "xaxis": {
           "automargin": true,
           "gridcolor": "white",
           "linecolor": "white",
           "ticks": "",
           "title": {
            "standoff": 15
           },
           "zerolinecolor": "white",
           "zerolinewidth": 2
          },
          "yaxis": {
           "automargin": true,
           "gridcolor": "white",
           "linecolor": "white",
           "ticks": "",
           "title": {
            "standoff": 15
           },
           "zerolinecolor": "white",
           "zerolinewidth": 2
          }
         }
        },
        "title": {
         "text": "No of times a team won Fifa Worldcup"
        }
       }
      }
     },
     "metadata": {},
     "output_type": "display_data"
    }
   ],
   "source": [
    "#Number of times, a perticular country is Winner, First runner-up and Second runner-up\n",
    "\n",
    "#WINNER\n",
    "winner = world_cups['Champion'].value_counts().reset_index()\n",
    "print(winner)\n",
    "\n",
    "#displaying using pie chart\n",
    "fig = px.pie(winner, values='count',names='Champion',title='No of times a team won Fifa Worldcup')\n",
    "\n",
    "#customize the pie chart output\n",
    "fig.update_traces(textinfo='label+value')\n",
    "fig.show()"
   ]
  },
  {
   "cell_type": "code",
   "execution_count": 96,
   "metadata": {},
   "outputs": [
    {
     "name": "stdout",
     "output_type": "stream",
     "text": [
      "         Runner-Up  count\n",
      "0        Argentina      3\n",
      "1      Netherlands      3\n",
      "2     West Germany      3\n",
      "3           France      2\n",
      "4           Brazil      2\n",
      "5            Italy      2\n",
      "6   Czechoslovakia      2\n",
      "7          Hungary      2\n",
      "8          Croatia      1\n",
      "9          Germany      1\n",
      "10          Sweden      1\n"
     ]
    },
    {
     "data": {
      "application/vnd.plotly.v1+json": {
       "config": {
        "plotlyServerURL": "https://plot.ly"
       },
       "data": [
        {
         "domain": {
          "x": [
           0,
           1
          ],
          "y": [
           0,
           1
          ]
         },
         "hovertemplate": "Runner-Up=%{label}<br>count=%{value}<extra></extra>",
         "labels": [
          "Argentina",
          "Netherlands",
          "West Germany",
          "France",
          "Brazil",
          "Italy",
          "Czechoslovakia",
          "Hungary",
          "Croatia",
          "Germany",
          "Sweden"
         ],
         "legendgroup": "",
         "name": "",
         "showlegend": true,
         "textinfo": "value+label",
         "type": "pie",
         "values": [
          3,
          3,
          3,
          2,
          2,
          2,
          2,
          2,
          1,
          1,
          1
         ]
        }
       ],
       "layout": {
        "legend": {
         "tracegroupgap": 0
        },
        "template": {
         "data": {
          "bar": [
           {
            "error_x": {
             "color": "#2a3f5f"
            },
            "error_y": {
             "color": "#2a3f5f"
            },
            "marker": {
             "line": {
              "color": "#E5ECF6",
              "width": 0.5
             },
             "pattern": {
              "fillmode": "overlay",
              "size": 10,
              "solidity": 0.2
             }
            },
            "type": "bar"
           }
          ],
          "barpolar": [
           {
            "marker": {
             "line": {
              "color": "#E5ECF6",
              "width": 0.5
             },
             "pattern": {
              "fillmode": "overlay",
              "size": 10,
              "solidity": 0.2
             }
            },
            "type": "barpolar"
           }
          ],
          "carpet": [
           {
            "aaxis": {
             "endlinecolor": "#2a3f5f",
             "gridcolor": "white",
             "linecolor": "white",
             "minorgridcolor": "white",
             "startlinecolor": "#2a3f5f"
            },
            "baxis": {
             "endlinecolor": "#2a3f5f",
             "gridcolor": "white",
             "linecolor": "white",
             "minorgridcolor": "white",
             "startlinecolor": "#2a3f5f"
            },
            "type": "carpet"
           }
          ],
          "choropleth": [
           {
            "colorbar": {
             "outlinewidth": 0,
             "ticks": ""
            },
            "type": "choropleth"
           }
          ],
          "contour": [
           {
            "colorbar": {
             "outlinewidth": 0,
             "ticks": ""
            },
            "colorscale": [
             [
              0,
              "#0d0887"
             ],
             [
              0.1111111111111111,
              "#46039f"
             ],
             [
              0.2222222222222222,
              "#7201a8"
             ],
             [
              0.3333333333333333,
              "#9c179e"
             ],
             [
              0.4444444444444444,
              "#bd3786"
             ],
             [
              0.5555555555555556,
              "#d8576b"
             ],
             [
              0.6666666666666666,
              "#ed7953"
             ],
             [
              0.7777777777777778,
              "#fb9f3a"
             ],
             [
              0.8888888888888888,
              "#fdca26"
             ],
             [
              1,
              "#f0f921"
             ]
            ],
            "type": "contour"
           }
          ],
          "contourcarpet": [
           {
            "colorbar": {
             "outlinewidth": 0,
             "ticks": ""
            },
            "type": "contourcarpet"
           }
          ],
          "heatmap": [
           {
            "colorbar": {
             "outlinewidth": 0,
             "ticks": ""
            },
            "colorscale": [
             [
              0,
              "#0d0887"
             ],
             [
              0.1111111111111111,
              "#46039f"
             ],
             [
              0.2222222222222222,
              "#7201a8"
             ],
             [
              0.3333333333333333,
              "#9c179e"
             ],
             [
              0.4444444444444444,
              "#bd3786"
             ],
             [
              0.5555555555555556,
              "#d8576b"
             ],
             [
              0.6666666666666666,
              "#ed7953"
             ],
             [
              0.7777777777777778,
              "#fb9f3a"
             ],
             [
              0.8888888888888888,
              "#fdca26"
             ],
             [
              1,
              "#f0f921"
             ]
            ],
            "type": "heatmap"
           }
          ],
          "heatmapgl": [
           {
            "colorbar": {
             "outlinewidth": 0,
             "ticks": ""
            },
            "colorscale": [
             [
              0,
              "#0d0887"
             ],
             [
              0.1111111111111111,
              "#46039f"
             ],
             [
              0.2222222222222222,
              "#7201a8"
             ],
             [
              0.3333333333333333,
              "#9c179e"
             ],
             [
              0.4444444444444444,
              "#bd3786"
             ],
             [
              0.5555555555555556,
              "#d8576b"
             ],
             [
              0.6666666666666666,
              "#ed7953"
             ],
             [
              0.7777777777777778,
              "#fb9f3a"
             ],
             [
              0.8888888888888888,
              "#fdca26"
             ],
             [
              1,
              "#f0f921"
             ]
            ],
            "type": "heatmapgl"
           }
          ],
          "histogram": [
           {
            "marker": {
             "pattern": {
              "fillmode": "overlay",
              "size": 10,
              "solidity": 0.2
             }
            },
            "type": "histogram"
           }
          ],
          "histogram2d": [
           {
            "colorbar": {
             "outlinewidth": 0,
             "ticks": ""
            },
            "colorscale": [
             [
              0,
              "#0d0887"
             ],
             [
              0.1111111111111111,
              "#46039f"
             ],
             [
              0.2222222222222222,
              "#7201a8"
             ],
             [
              0.3333333333333333,
              "#9c179e"
             ],
             [
              0.4444444444444444,
              "#bd3786"
             ],
             [
              0.5555555555555556,
              "#d8576b"
             ],
             [
              0.6666666666666666,
              "#ed7953"
             ],
             [
              0.7777777777777778,
              "#fb9f3a"
             ],
             [
              0.8888888888888888,
              "#fdca26"
             ],
             [
              1,
              "#f0f921"
             ]
            ],
            "type": "histogram2d"
           }
          ],
          "histogram2dcontour": [
           {
            "colorbar": {
             "outlinewidth": 0,
             "ticks": ""
            },
            "colorscale": [
             [
              0,
              "#0d0887"
             ],
             [
              0.1111111111111111,
              "#46039f"
             ],
             [
              0.2222222222222222,
              "#7201a8"
             ],
             [
              0.3333333333333333,
              "#9c179e"
             ],
             [
              0.4444444444444444,
              "#bd3786"
             ],
             [
              0.5555555555555556,
              "#d8576b"
             ],
             [
              0.6666666666666666,
              "#ed7953"
             ],
             [
              0.7777777777777778,
              "#fb9f3a"
             ],
             [
              0.8888888888888888,
              "#fdca26"
             ],
             [
              1,
              "#f0f921"
             ]
            ],
            "type": "histogram2dcontour"
           }
          ],
          "mesh3d": [
           {
            "colorbar": {
             "outlinewidth": 0,
             "ticks": ""
            },
            "type": "mesh3d"
           }
          ],
          "parcoords": [
           {
            "line": {
             "colorbar": {
              "outlinewidth": 0,
              "ticks": ""
             }
            },
            "type": "parcoords"
           }
          ],
          "pie": [
           {
            "automargin": true,
            "type": "pie"
           }
          ],
          "scatter": [
           {
            "fillpattern": {
             "fillmode": "overlay",
             "size": 10,
             "solidity": 0.2
            },
            "type": "scatter"
           }
          ],
          "scatter3d": [
           {
            "line": {
             "colorbar": {
              "outlinewidth": 0,
              "ticks": ""
             }
            },
            "marker": {
             "colorbar": {
              "outlinewidth": 0,
              "ticks": ""
             }
            },
            "type": "scatter3d"
           }
          ],
          "scattercarpet": [
           {
            "marker": {
             "colorbar": {
              "outlinewidth": 0,
              "ticks": ""
             }
            },
            "type": "scattercarpet"
           }
          ],
          "scattergeo": [
           {
            "marker": {
             "colorbar": {
              "outlinewidth": 0,
              "ticks": ""
             }
            },
            "type": "scattergeo"
           }
          ],
          "scattergl": [
           {
            "marker": {
             "colorbar": {
              "outlinewidth": 0,
              "ticks": ""
             }
            },
            "type": "scattergl"
           }
          ],
          "scattermapbox": [
           {
            "marker": {
             "colorbar": {
              "outlinewidth": 0,
              "ticks": ""
             }
            },
            "type": "scattermapbox"
           }
          ],
          "scatterpolar": [
           {
            "marker": {
             "colorbar": {
              "outlinewidth": 0,
              "ticks": ""
             }
            },
            "type": "scatterpolar"
           }
          ],
          "scatterpolargl": [
           {
            "marker": {
             "colorbar": {
              "outlinewidth": 0,
              "ticks": ""
             }
            },
            "type": "scatterpolargl"
           }
          ],
          "scatterternary": [
           {
            "marker": {
             "colorbar": {
              "outlinewidth": 0,
              "ticks": ""
             }
            },
            "type": "scatterternary"
           }
          ],
          "surface": [
           {
            "colorbar": {
             "outlinewidth": 0,
             "ticks": ""
            },
            "colorscale": [
             [
              0,
              "#0d0887"
             ],
             [
              0.1111111111111111,
              "#46039f"
             ],
             [
              0.2222222222222222,
              "#7201a8"
             ],
             [
              0.3333333333333333,
              "#9c179e"
             ],
             [
              0.4444444444444444,
              "#bd3786"
             ],
             [
              0.5555555555555556,
              "#d8576b"
             ],
             [
              0.6666666666666666,
              "#ed7953"
             ],
             [
              0.7777777777777778,
              "#fb9f3a"
             ],
             [
              0.8888888888888888,
              "#fdca26"
             ],
             [
              1,
              "#f0f921"
             ]
            ],
            "type": "surface"
           }
          ],
          "table": [
           {
            "cells": {
             "fill": {
              "color": "#EBF0F8"
             },
             "line": {
              "color": "white"
             }
            },
            "header": {
             "fill": {
              "color": "#C8D4E3"
             },
             "line": {
              "color": "white"
             }
            },
            "type": "table"
           }
          ]
         },
         "layout": {
          "annotationdefaults": {
           "arrowcolor": "#2a3f5f",
           "arrowhead": 0,
           "arrowwidth": 1
          },
          "autotypenumbers": "strict",
          "coloraxis": {
           "colorbar": {
            "outlinewidth": 0,
            "ticks": ""
           }
          },
          "colorscale": {
           "diverging": [
            [
             0,
             "#8e0152"
            ],
            [
             0.1,
             "#c51b7d"
            ],
            [
             0.2,
             "#de77ae"
            ],
            [
             0.3,
             "#f1b6da"
            ],
            [
             0.4,
             "#fde0ef"
            ],
            [
             0.5,
             "#f7f7f7"
            ],
            [
             0.6,
             "#e6f5d0"
            ],
            [
             0.7,
             "#b8e186"
            ],
            [
             0.8,
             "#7fbc41"
            ],
            [
             0.9,
             "#4d9221"
            ],
            [
             1,
             "#276419"
            ]
           ],
           "sequential": [
            [
             0,
             "#0d0887"
            ],
            [
             0.1111111111111111,
             "#46039f"
            ],
            [
             0.2222222222222222,
             "#7201a8"
            ],
            [
             0.3333333333333333,
             "#9c179e"
            ],
            [
             0.4444444444444444,
             "#bd3786"
            ],
            [
             0.5555555555555556,
             "#d8576b"
            ],
            [
             0.6666666666666666,
             "#ed7953"
            ],
            [
             0.7777777777777778,
             "#fb9f3a"
            ],
            [
             0.8888888888888888,
             "#fdca26"
            ],
            [
             1,
             "#f0f921"
            ]
           ],
           "sequentialminus": [
            [
             0,
             "#0d0887"
            ],
            [
             0.1111111111111111,
             "#46039f"
            ],
            [
             0.2222222222222222,
             "#7201a8"
            ],
            [
             0.3333333333333333,
             "#9c179e"
            ],
            [
             0.4444444444444444,
             "#bd3786"
            ],
            [
             0.5555555555555556,
             "#d8576b"
            ],
            [
             0.6666666666666666,
             "#ed7953"
            ],
            [
             0.7777777777777778,
             "#fb9f3a"
            ],
            [
             0.8888888888888888,
             "#fdca26"
            ],
            [
             1,
             "#f0f921"
            ]
           ]
          },
          "colorway": [
           "#636efa",
           "#EF553B",
           "#00cc96",
           "#ab63fa",
           "#FFA15A",
           "#19d3f3",
           "#FF6692",
           "#B6E880",
           "#FF97FF",
           "#FECB52"
          ],
          "font": {
           "color": "#2a3f5f"
          },
          "geo": {
           "bgcolor": "white",
           "lakecolor": "white",
           "landcolor": "#E5ECF6",
           "showlakes": true,
           "showland": true,
           "subunitcolor": "white"
          },
          "hoverlabel": {
           "align": "left"
          },
          "hovermode": "closest",
          "mapbox": {
           "style": "light"
          },
          "paper_bgcolor": "white",
          "plot_bgcolor": "#E5ECF6",
          "polar": {
           "angularaxis": {
            "gridcolor": "white",
            "linecolor": "white",
            "ticks": ""
           },
           "bgcolor": "#E5ECF6",
           "radialaxis": {
            "gridcolor": "white",
            "linecolor": "white",
            "ticks": ""
           }
          },
          "scene": {
           "xaxis": {
            "backgroundcolor": "#E5ECF6",
            "gridcolor": "white",
            "gridwidth": 2,
            "linecolor": "white",
            "showbackground": true,
            "ticks": "",
            "zerolinecolor": "white"
           },
           "yaxis": {
            "backgroundcolor": "#E5ECF6",
            "gridcolor": "white",
            "gridwidth": 2,
            "linecolor": "white",
            "showbackground": true,
            "ticks": "",
            "zerolinecolor": "white"
           },
           "zaxis": {
            "backgroundcolor": "#E5ECF6",
            "gridcolor": "white",
            "gridwidth": 2,
            "linecolor": "white",
            "showbackground": true,
            "ticks": "",
            "zerolinecolor": "white"
           }
          },
          "shapedefaults": {
           "line": {
            "color": "#2a3f5f"
           }
          },
          "ternary": {
           "aaxis": {
            "gridcolor": "white",
            "linecolor": "white",
            "ticks": ""
           },
           "baxis": {
            "gridcolor": "white",
            "linecolor": "white",
            "ticks": ""
           },
           "bgcolor": "#E5ECF6",
           "caxis": {
            "gridcolor": "white",
            "linecolor": "white",
            "ticks": ""
           }
          },
          "title": {
           "x": 0.05
          },
          "xaxis": {
           "automargin": true,
           "gridcolor": "white",
           "linecolor": "white",
           "ticks": "",
           "title": {
            "standoff": 15
           },
           "zerolinecolor": "white",
           "zerolinewidth": 2
          },
          "yaxis": {
           "automargin": true,
           "gridcolor": "white",
           "linecolor": "white",
           "ticks": "",
           "title": {
            "standoff": 15
           },
           "zerolinecolor": "white",
           "zerolinewidth": 2
          }
         }
        },
        "title": {
         "text": "No of times a team is 1st Runners up"
        }
       }
      }
     },
     "metadata": {},
     "output_type": "display_data"
    }
   ],
   "source": [
    "#FIRST RUNNER UP & SECOND RUNNER UP\n",
    "first_runnerup = world_cups['Runner-Up'].value_counts().reset_index()\n",
    "print(first_runnerup)\n",
    "\n",
    "fig = px.pie(first_runnerup, values='count', names='Runner-Up', title='No of times a team is 1st Runners up')\n",
    "\n",
    "fig.update_traces(textinfo='value+label')\n",
    "fig.show()"
   ]
  },
  {
   "cell_type": "code",
   "execution_count": 97,
   "metadata": {},
   "outputs": [
    {
     "data": {
      "text/plain": [
       "array(['Final', 'Third-place match', 'Semi-finals', 'Quarter-finals',\n",
       "       'Round of 16', 'Group stage', 'Second group stage',\n",
       "       'First group stage', 'Second round', 'First round',\n",
       "       'Group stage play-off', 'Final stage'], dtype=object)"
      ]
     },
     "execution_count": 97,
     "metadata": {},
     "output_type": "execute_result"
    }
   ],
   "source": [
    "matches['Round'].unique()\n"
   ]
  },
  {
   "cell_type": "code",
   "execution_count": 98,
   "metadata": {},
   "outputs": [],
   "source": [
    "#Filling missing values of penuty\n",
    "\n",
    "matches.fillna({'home_penalty': 0}, inplace=True)\n",
    "matches.fillna({'away_penalty': 0}, inplace=True)"
   ]
  },
  {
   "cell_type": "code",
   "execution_count": 99,
   "metadata": {},
   "outputs": [],
   "source": [
    "#total score by a team = goals + penulty\n",
    "matches['a_total'] = matches['away_score'] + matches['away_penalty']\n",
    "matches['h_total'] = matches['home_score'] + matches['home_penalty']"
   ]
  },
  {
   "cell_type": "code",
   "execution_count": 100,
   "metadata": {},
   "outputs": [],
   "source": [
    "# Runner's up and third place team list columns filtering\n",
    "Runner_up = matches[matches['Round'] == 'Final']\n",
    "Third = matches[matches['Round'] == 'Third-place match']"
   ]
  },
  {
   "cell_type": "code",
   "execution_count": 101,
   "metadata": {},
   "outputs": [],
   "source": [
    "#runner_up\n",
    "def get_runner_up(row):\n",
    "    if(row['h_total'] > row['a_total']):\n",
    "        return row['away_team']\n",
    "    else:\n",
    "        return row['home_team']\n",
    "    \n",
    "#third place\n",
    "def get_third(row):\n",
    "    if(row['h_total'] > row['a_total']):\n",
    "        return row['home_team']\n",
    "    else:\n",
    "        return row['away_team']"
   ]
  },
  {
   "cell_type": "code",
   "execution_count": 102,
   "metadata": {},
   "outputs": [
    {
     "name": "stderr",
     "output_type": "stream",
     "text": [
      "C:\\Users\\rajan\\AppData\\Local\\Temp\\ipykernel_16192\\132527483.py:1: SettingWithCopyWarning:\n",
      "\n",
      "\n",
      "A value is trying to be set on a copy of a slice from a DataFrame.\n",
      "Try using .loc[row_indexer,col_indexer] = value instead\n",
      "\n",
      "See the caveats in the documentation: https://pandas.pydata.org/pandas-docs/stable/user_guide/indexing.html#returning-a-view-versus-a-copy\n",
      "\n",
      "C:\\Users\\rajan\\AppData\\Local\\Temp\\ipykernel_16192\\132527483.py:2: SettingWithCopyWarning:\n",
      "\n",
      "\n",
      "A value is trying to be set on a copy of a slice from a DataFrame.\n",
      "Try using .loc[row_indexer,col_indexer] = value instead\n",
      "\n",
      "See the caveats in the documentation: https://pandas.pydata.org/pandas-docs/stable/user_guide/indexing.html#returning-a-view-versus-a-copy\n",
      "\n"
     ]
    }
   ],
   "source": [
    "Runner_up['Runner_up'] = Runner_up.apply(get_runner_up, axis=1)\n",
    "Third['Third_place'] = Third.apply(get_third, axis=1)"
   ]
  },
  {
   "cell_type": "code",
   "execution_count": 103,
   "metadata": {},
   "outputs": [
    {
     "data": {
      "text/html": [
       "<div>\n",
       "<style scoped>\n",
       "    .dataframe tbody tr th:only-of-type {\n",
       "        vertical-align: middle;\n",
       "    }\n",
       "\n",
       "    .dataframe tbody tr th {\n",
       "        vertical-align: top;\n",
       "    }\n",
       "\n",
       "    .dataframe thead th {\n",
       "        text-align: right;\n",
       "    }\n",
       "</style>\n",
       "<table border=\"1\" class=\"dataframe\">\n",
       "  <thead>\n",
       "    <tr style=\"text-align: right;\">\n",
       "      <th></th>\n",
       "      <th>home_team</th>\n",
       "      <th>away_team</th>\n",
       "      <th>home_score</th>\n",
       "      <th>home_xg</th>\n",
       "      <th>home_penalty</th>\n",
       "      <th>away_score</th>\n",
       "      <th>away_xg</th>\n",
       "      <th>away_penalty</th>\n",
       "      <th>home_manager</th>\n",
       "      <th>home_captain</th>\n",
       "      <th>...</th>\n",
       "      <th>away_red_card</th>\n",
       "      <th>home_yellow_red_card</th>\n",
       "      <th>away_yellow_red_card</th>\n",
       "      <th>home_yellow_card_long</th>\n",
       "      <th>away_yellow_card_long</th>\n",
       "      <th>home_substitute_in_long</th>\n",
       "      <th>away_substitute_in_long</th>\n",
       "      <th>a_total</th>\n",
       "      <th>h_total</th>\n",
       "      <th>Third_place</th>\n",
       "    </tr>\n",
       "  </thead>\n",
       "  <tbody>\n",
       "    <tr>\n",
       "      <th>1</th>\n",
       "      <td>Croatia</td>\n",
       "      <td>Morocco</td>\n",
       "      <td>2</td>\n",
       "      <td>0.7</td>\n",
       "      <td>0.0</td>\n",
       "      <td>1</td>\n",
       "      <td>1.2</td>\n",
       "      <td>0.0</td>\n",
       "      <td>Zlatko Dalić</td>\n",
       "      <td>Luka Modrić</td>\n",
       "      <td>...</td>\n",
       "      <td>NaN</td>\n",
       "      <td>NaN</td>\n",
       "      <td>NaN</td>\n",
       "      <td>NaN</td>\n",
       "      <td>['69&amp;rsquor;|2:1|Azzedine Ounahi', '84&amp;rsquor;...</td>\n",
       "      <td>['61&amp;rsquor;|2:1|Nikola Vlašić|for Andrej Kram...</td>\n",
       "      <td>['46&amp;rsquor;|2:1|Ilias Chair|for Abdelhamid Sa...</td>\n",
       "      <td>1.0</td>\n",
       "      <td>2.0</td>\n",
       "      <td>Croatia</td>\n",
       "    </tr>\n",
       "    <tr>\n",
       "      <th>65</th>\n",
       "      <td>Belgium</td>\n",
       "      <td>England</td>\n",
       "      <td>2</td>\n",
       "      <td>1.5</td>\n",
       "      <td>0.0</td>\n",
       "      <td>0</td>\n",
       "      <td>1.0</td>\n",
       "      <td>0.0</td>\n",
       "      <td>Roberto Martínez</td>\n",
       "      <td>Eden Hazard</td>\n",
       "      <td>...</td>\n",
       "      <td>NaN</td>\n",
       "      <td>NaN</td>\n",
       "      <td>NaN</td>\n",
       "      <td>['90+3&amp;rsquor;|2:0|Axel Witsel']</td>\n",
       "      <td>['52&amp;rsquor;|1:0|John Stones', '77&amp;rsquor;|1:0...</td>\n",
       "      <td>['39&amp;rsquor;|1:0|Thomas Vermaelen|for Nacer Ch...</td>\n",
       "      <td>['46&amp;rsquor;|1:0|Jesse Lingard|for Danny Rose'...</td>\n",
       "      <td>0.0</td>\n",
       "      <td>2.0</td>\n",
       "      <td>Belgium</td>\n",
       "    </tr>\n",
       "    <tr>\n",
       "      <th>129</th>\n",
       "      <td>Brazil</td>\n",
       "      <td>Netherlands</td>\n",
       "      <td>0</td>\n",
       "      <td>NaN</td>\n",
       "      <td>0.0</td>\n",
       "      <td>3</td>\n",
       "      <td>NaN</td>\n",
       "      <td>0.0</td>\n",
       "      <td>Luiz Felipe Scolari</td>\n",
       "      <td>NaN</td>\n",
       "      <td>...</td>\n",
       "      <td>NaN</td>\n",
       "      <td>NaN</td>\n",
       "      <td>NaN</td>\n",
       "      <td>['2&amp;rsquor;|0:0|Thiago Silva', '54&amp;rsquor;|0:2...</td>\n",
       "      <td>['9&amp;rsquor;|0:1|Arjen Robben', '36&amp;rsquor;|0:2...</td>\n",
       "      <td>['46&amp;rsquor;|0:2|Fernandinho|for Luiz Gustavo'...</td>\n",
       "      <td>['70&amp;rsquor;|0:2|Daryl Janmaat|for Daley Blind...</td>\n",
       "      <td>3.0</td>\n",
       "      <td>0.0</td>\n",
       "      <td>Netherlands</td>\n",
       "    </tr>\n",
       "    <tr>\n",
       "      <th>193</th>\n",
       "      <td>Uruguay</td>\n",
       "      <td>Germany</td>\n",
       "      <td>2</td>\n",
       "      <td>NaN</td>\n",
       "      <td>0.0</td>\n",
       "      <td>3</td>\n",
       "      <td>NaN</td>\n",
       "      <td>0.0</td>\n",
       "      <td>Óscar Tabárez</td>\n",
       "      <td>NaN</td>\n",
       "      <td>...</td>\n",
       "      <td>NaN</td>\n",
       "      <td>NaN</td>\n",
       "      <td>NaN</td>\n",
       "      <td>['61&amp;rsquor;|2:2|Diego Pérez']</td>\n",
       "      <td>['5&amp;rsquor;|0:0|Dennis Aogo', '90+2&amp;rsquor;|2:...</td>\n",
       "      <td>['77&amp;rsquor;|2:2|Walter Gargano|for Diego Pére...</td>\n",
       "      <td>['73&amp;rsquor;|2:2|Stefan Kießling|for Cacau', '...</td>\n",
       "      <td>3.0</td>\n",
       "      <td>2.0</td>\n",
       "      <td>Germany</td>\n",
       "    </tr>\n",
       "    <tr>\n",
       "      <th>257</th>\n",
       "      <td>Germany</td>\n",
       "      <td>Portugal</td>\n",
       "      <td>3</td>\n",
       "      <td>NaN</td>\n",
       "      <td>0.0</td>\n",
       "      <td>1</td>\n",
       "      <td>NaN</td>\n",
       "      <td>0.0</td>\n",
       "      <td>Jürgen Klinsmann</td>\n",
       "      <td>NaN</td>\n",
       "      <td>...</td>\n",
       "      <td>NaN</td>\n",
       "      <td>NaN</td>\n",
       "      <td>NaN</td>\n",
       "      <td>['7&amp;rsquor;|0:0|Torsten Frings', '78&amp;rsquor;|2...</td>\n",
       "      <td>['24&amp;rsquor;|0:0|Ricardo Costa', '33&amp;rsquor;|0...</td>\n",
       "      <td>['65&amp;rsquor;|2:0|Oliver Neuville|for Miroslav ...</td>\n",
       "      <td>['46&amp;rsquor;|0:0|Petit|for Costinha', '69&amp;rsqu...</td>\n",
       "      <td>1.0</td>\n",
       "      <td>3.0</td>\n",
       "      <td>Germany</td>\n",
       "    </tr>\n",
       "    <tr>\n",
       "      <th>321</th>\n",
       "      <td>Korea Republic</td>\n",
       "      <td>Türkiye</td>\n",
       "      <td>2</td>\n",
       "      <td>NaN</td>\n",
       "      <td>0.0</td>\n",
       "      <td>3</td>\n",
       "      <td>NaN</td>\n",
       "      <td>0.0</td>\n",
       "      <td>Guus Hiddink</td>\n",
       "      <td>NaN</td>\n",
       "      <td>...</td>\n",
       "      <td>NaN</td>\n",
       "      <td>NaN</td>\n",
       "      <td>NaN</td>\n",
       "      <td>['23&amp;rsquor;|1:2|Lee Eul-yong']</td>\n",
       "      <td>['50&amp;rsquor;|1:3|Tugay Kerimoğlu', '83&amp;rsquor;...</td>\n",
       "      <td>['46&amp;rsquor;|1:3|Kim Tae-young|for Hong Myung-...</td>\n",
       "      <td>['41&amp;rsquor;|1:3|Hakan Ünsal|for Emre Belözoğl...</td>\n",
       "      <td>3.0</td>\n",
       "      <td>2.0</td>\n",
       "      <td>Türkiye</td>\n",
       "    </tr>\n",
       "    <tr>\n",
       "      <th>385</th>\n",
       "      <td>Netherlands</td>\n",
       "      <td>Croatia</td>\n",
       "      <td>1</td>\n",
       "      <td>NaN</td>\n",
       "      <td>0.0</td>\n",
       "      <td>2</td>\n",
       "      <td>NaN</td>\n",
       "      <td>0.0</td>\n",
       "      <td>Guus Hiddink</td>\n",
       "      <td>NaN</td>\n",
       "      <td>...</td>\n",
       "      <td>NaN</td>\n",
       "      <td>NaN</td>\n",
       "      <td>NaN</td>\n",
       "      <td>['89&amp;rsquor;|1:2|Wim Jonk', '89&amp;rsquor;|1:2|Ed...</td>\n",
       "      <td>['34&amp;rsquor;|1:1|Krunoslav Jurčić', '52&amp;rsquor...</td>\n",
       "      <td>['46&amp;rsquor;|1:2|Marc Overmars|for Phillip Coc...</td>\n",
       "      <td>['79&amp;rsquor;|1:2|Goran Vlaović|for Robert Pros...</td>\n",
       "      <td>2.0</td>\n",
       "      <td>1.0</td>\n",
       "      <td>Croatia</td>\n",
       "    </tr>\n",
       "    <tr>\n",
       "      <th>449</th>\n",
       "      <td>Sweden</td>\n",
       "      <td>Bulgaria</td>\n",
       "      <td>4</td>\n",
       "      <td>NaN</td>\n",
       "      <td>0.0</td>\n",
       "      <td>0</td>\n",
       "      <td>NaN</td>\n",
       "      <td>0.0</td>\n",
       "      <td>Tommy Svensson</td>\n",
       "      <td>Roland Nilsson</td>\n",
       "      <td>...</td>\n",
       "      <td>NaN</td>\n",
       "      <td>NaN</td>\n",
       "      <td>NaN</td>\n",
       "      <td>['82&amp;rsquor;|4:0|Kennet Andersson']</td>\n",
       "      <td>['70&amp;rsquor;|4:0|Zlatko Yankov']</td>\n",
       "      <td>['79&amp;rsquor;|4:0|Anders Limpar|for Henrik Lars...</td>\n",
       "      <td>['42&amp;rsquor;|4:0|Emil Kremenliev|for Trifon Iv...</td>\n",
       "      <td>0.0</td>\n",
       "      <td>4.0</td>\n",
       "      <td>Sweden</td>\n",
       "    </tr>\n",
       "    <tr>\n",
       "      <th>501</th>\n",
       "      <td>Italy</td>\n",
       "      <td>England</td>\n",
       "      <td>2</td>\n",
       "      <td>NaN</td>\n",
       "      <td>0.0</td>\n",
       "      <td>1</td>\n",
       "      <td>NaN</td>\n",
       "      <td>0.0</td>\n",
       "      <td>Azeglio Vicini</td>\n",
       "      <td>Giuseppe Bergomi</td>\n",
       "      <td>...</td>\n",
       "      <td>NaN</td>\n",
       "      <td>NaN</td>\n",
       "      <td>NaN</td>\n",
       "      <td>NaN</td>\n",
       "      <td>NaN</td>\n",
       "      <td>['67&amp;rsquor;|0:0|Nicola Berti|for Luigi De Ago...</td>\n",
       "      <td>['72&amp;rsquor;|1:0|Neil Webb|for Steve McMahon',...</td>\n",
       "      <td>1.0</td>\n",
       "      <td>2.0</td>\n",
       "      <td>Italy</td>\n",
       "    </tr>\n",
       "    <tr>\n",
       "      <th>553</th>\n",
       "      <td>France</td>\n",
       "      <td>Belgium</td>\n",
       "      <td>4</td>\n",
       "      <td>NaN</td>\n",
       "      <td>0.0</td>\n",
       "      <td>2</td>\n",
       "      <td>NaN</td>\n",
       "      <td>0.0</td>\n",
       "      <td>Henri Michel</td>\n",
       "      <td>Patrick Battiston</td>\n",
       "      <td>...</td>\n",
       "      <td>NaN</td>\n",
       "      <td>NaN</td>\n",
       "      <td>NaN</td>\n",
       "      <td>NaN</td>\n",
       "      <td>['63&amp;rsquor;|2:1|Jean-Marie Pfaff']</td>\n",
       "      <td>['55&amp;rsquor;|2:1|Maxime Bossis|for Yvon Le Rou...</td>\n",
       "      <td>['46&amp;rsquor;|2:1|Franky Van der Elst|for Miche...</td>\n",
       "      <td>2.0</td>\n",
       "      <td>4.0</td>\n",
       "      <td>France</td>\n",
       "    </tr>\n",
       "    <tr>\n",
       "      <th>605</th>\n",
       "      <td>Poland</td>\n",
       "      <td>France</td>\n",
       "      <td>3</td>\n",
       "      <td>NaN</td>\n",
       "      <td>0.0</td>\n",
       "      <td>2</td>\n",
       "      <td>NaN</td>\n",
       "      <td>0.0</td>\n",
       "      <td>Antoni Piechniczek</td>\n",
       "      <td>Władysław Żmuda</td>\n",
       "      <td>...</td>\n",
       "      <td>NaN</td>\n",
       "      <td>NaN</td>\n",
       "      <td>NaN</td>\n",
       "      <td>['62&amp;rsquor;|3:1|Andrzej Buncol', '71&amp;rsquor;|...</td>\n",
       "      <td>['79&amp;rsquor;|3:2|Gérard Soler']</td>\n",
       "      <td>['46&amp;rsquor;|3:1|Roman Wójcicki|for Waldemar M...</td>\n",
       "      <td>['66&amp;rsquor;|3:1|Christian Lopez|for Gérard Ja...</td>\n",
       "      <td>2.0</td>\n",
       "      <td>3.0</td>\n",
       "      <td>Poland</td>\n",
       "    </tr>\n",
       "    <tr>\n",
       "      <th>657</th>\n",
       "      <td>Brazil</td>\n",
       "      <td>Italy</td>\n",
       "      <td>2</td>\n",
       "      <td>NaN</td>\n",
       "      <td>0.0</td>\n",
       "      <td>1</td>\n",
       "      <td>NaN</td>\n",
       "      <td>0.0</td>\n",
       "      <td>Claudio Coutinho</td>\n",
       "      <td>Émerson Leão</td>\n",
       "      <td>...</td>\n",
       "      <td>NaN</td>\n",
       "      <td>NaN</td>\n",
       "      <td>NaN</td>\n",
       "      <td>['35&amp;rsquor;|0:0|Nelinho', '44&amp;rsquor;|0:1|Joã...</td>\n",
       "      <td>['72&amp;rsquor;|2:1|Claudio Gentile']</td>\n",
       "      <td>['46&amp;rsquor;|0:1|José Reinaldo de Lima|for Gil...</td>\n",
       "      <td>['78&amp;rsquor;|2:1|Claudio Sala|for Giancarlo An...</td>\n",
       "      <td>1.0</td>\n",
       "      <td>2.0</td>\n",
       "      <td>Brazil</td>\n",
       "    </tr>\n",
       "    <tr>\n",
       "      <th>695</th>\n",
       "      <td>Brazil</td>\n",
       "      <td>Poland</td>\n",
       "      <td>0</td>\n",
       "      <td>NaN</td>\n",
       "      <td>0.0</td>\n",
       "      <td>1</td>\n",
       "      <td>NaN</td>\n",
       "      <td>0.0</td>\n",
       "      <td>Mario Zagallo</td>\n",
       "      <td>Marinho Peres</td>\n",
       "      <td>...</td>\n",
       "      <td>NaN</td>\n",
       "      <td>NaN</td>\n",
       "      <td>NaN</td>\n",
       "      <td>['76&amp;rsquor;|0:1|Jairzinho']</td>\n",
       "      <td>['71&amp;rsquor;|0:0|Henryk Kasperczak']</td>\n",
       "      <td>['66&amp;rsquor;|0:0|Mirandinha|for Ademir da Guia']</td>\n",
       "      <td>['73&amp;rsquor;|0:0|Lesław Ćmikiewicz|for Henryk ...</td>\n",
       "      <td>1.0</td>\n",
       "      <td>0.0</td>\n",
       "      <td>Poland</td>\n",
       "    </tr>\n",
       "    <tr>\n",
       "      <th>733</th>\n",
       "      <td>West Germany</td>\n",
       "      <td>Uruguay</td>\n",
       "      <td>1</td>\n",
       "      <td>NaN</td>\n",
       "      <td>0.0</td>\n",
       "      <td>0</td>\n",
       "      <td>NaN</td>\n",
       "      <td>0.0</td>\n",
       "      <td>Helmut Schoen</td>\n",
       "      <td>Uwe Seeler</td>\n",
       "      <td>...</td>\n",
       "      <td>NaN</td>\n",
       "      <td>NaN</td>\n",
       "      <td>NaN</td>\n",
       "      <td>['1&amp;rsquor;|0:0|Max Lorenz', '1&amp;rsquor;|0:0|Ha...</td>\n",
       "      <td>['1&amp;rsquor;|0:0|Dagoberto Fontes', '1&amp;rsquor;|...</td>\n",
       "      <td>['46&amp;rsquor;|1:0|Max Lorenz', '73&amp;rsquor;|1:0|...</td>\n",
       "      <td>['46&amp;rsquor;|1:0|Víctor Espárrago|for Dagobert...</td>\n",
       "      <td>0.0</td>\n",
       "      <td>1.0</td>\n",
       "      <td>West Germany</td>\n",
       "    </tr>\n",
       "    <tr>\n",
       "      <th>765</th>\n",
       "      <td>Portugal</td>\n",
       "      <td>Soviet Union</td>\n",
       "      <td>2</td>\n",
       "      <td>NaN</td>\n",
       "      <td>0.0</td>\n",
       "      <td>1</td>\n",
       "      <td>NaN</td>\n",
       "      <td>0.0</td>\n",
       "      <td>Otto Gloria</td>\n",
       "      <td>Mário Coluna</td>\n",
       "      <td>...</td>\n",
       "      <td>NaN</td>\n",
       "      <td>NaN</td>\n",
       "      <td>NaN</td>\n",
       "      <td>NaN</td>\n",
       "      <td>NaN</td>\n",
       "      <td>NaN</td>\n",
       "      <td>NaN</td>\n",
       "      <td>1.0</td>\n",
       "      <td>2.0</td>\n",
       "      <td>Portugal</td>\n",
       "    </tr>\n",
       "    <tr>\n",
       "      <th>797</th>\n",
       "      <td>Chile</td>\n",
       "      <td>Yugoslavia</td>\n",
       "      <td>1</td>\n",
       "      <td>NaN</td>\n",
       "      <td>0.0</td>\n",
       "      <td>0</td>\n",
       "      <td>NaN</td>\n",
       "      <td>0.0</td>\n",
       "      <td>Fernando Riera</td>\n",
       "      <td>Jorge Toro</td>\n",
       "      <td>...</td>\n",
       "      <td>NaN</td>\n",
       "      <td>NaN</td>\n",
       "      <td>NaN</td>\n",
       "      <td>NaN</td>\n",
       "      <td>NaN</td>\n",
       "      <td>NaN</td>\n",
       "      <td>NaN</td>\n",
       "      <td>0.0</td>\n",
       "      <td>1.0</td>\n",
       "      <td>Chile</td>\n",
       "    </tr>\n",
       "    <tr>\n",
       "      <th>829</th>\n",
       "      <td>France</td>\n",
       "      <td>West Germany</td>\n",
       "      <td>6</td>\n",
       "      <td>NaN</td>\n",
       "      <td>0.0</td>\n",
       "      <td>3</td>\n",
       "      <td>NaN</td>\n",
       "      <td>0.0</td>\n",
       "      <td>Albert Batteaux</td>\n",
       "      <td>Armand Penverne</td>\n",
       "      <td>...</td>\n",
       "      <td>NaN</td>\n",
       "      <td>NaN</td>\n",
       "      <td>NaN</td>\n",
       "      <td>NaN</td>\n",
       "      <td>NaN</td>\n",
       "      <td>NaN</td>\n",
       "      <td>NaN</td>\n",
       "      <td>3.0</td>\n",
       "      <td>6.0</td>\n",
       "      <td>France</td>\n",
       "    </tr>\n",
       "    <tr>\n",
       "      <th>864</th>\n",
       "      <td>Austria</td>\n",
       "      <td>Uruguay</td>\n",
       "      <td>3</td>\n",
       "      <td>NaN</td>\n",
       "      <td>0.0</td>\n",
       "      <td>1</td>\n",
       "      <td>NaN</td>\n",
       "      <td>0.0</td>\n",
       "      <td>Walter Nausch</td>\n",
       "      <td>Ernst Ocwirk</td>\n",
       "      <td>...</td>\n",
       "      <td>NaN</td>\n",
       "      <td>NaN</td>\n",
       "      <td>NaN</td>\n",
       "      <td>NaN</td>\n",
       "      <td>NaN</td>\n",
       "      <td>NaN</td>\n",
       "      <td>NaN</td>\n",
       "      <td>1.0</td>\n",
       "      <td>3.0</td>\n",
       "      <td>Austria</td>\n",
       "    </tr>\n",
       "    <tr>\n",
       "      <th>911</th>\n",
       "      <td>Brazil</td>\n",
       "      <td>Sweden</td>\n",
       "      <td>4</td>\n",
       "      <td>NaN</td>\n",
       "      <td>0.0</td>\n",
       "      <td>2</td>\n",
       "      <td>NaN</td>\n",
       "      <td>0.0</td>\n",
       "      <td>Ademar Pimenta</td>\n",
       "      <td>Leônidas</td>\n",
       "      <td>...</td>\n",
       "      <td>NaN</td>\n",
       "      <td>NaN</td>\n",
       "      <td>NaN</td>\n",
       "      <td>NaN</td>\n",
       "      <td>NaN</td>\n",
       "      <td>NaN</td>\n",
       "      <td>NaN</td>\n",
       "      <td>2.0</td>\n",
       "      <td>4.0</td>\n",
       "      <td>Brazil</td>\n",
       "    </tr>\n",
       "    <tr>\n",
       "      <th>930</th>\n",
       "      <td>Germany</td>\n",
       "      <td>Austria</td>\n",
       "      <td>3</td>\n",
       "      <td>NaN</td>\n",
       "      <td>0.0</td>\n",
       "      <td>2</td>\n",
       "      <td>NaN</td>\n",
       "      <td>0.0</td>\n",
       "      <td>Otto Nerz</td>\n",
       "      <td>Fritz Szepan</td>\n",
       "      <td>...</td>\n",
       "      <td>NaN</td>\n",
       "      <td>NaN</td>\n",
       "      <td>NaN</td>\n",
       "      <td>NaN</td>\n",
       "      <td>NaN</td>\n",
       "      <td>NaN</td>\n",
       "      <td>NaN</td>\n",
       "      <td>2.0</td>\n",
       "      <td>3.0</td>\n",
       "      <td>Germany</td>\n",
       "    </tr>\n",
       "  </tbody>\n",
       "</table>\n",
       "<p>20 rows × 47 columns</p>\n",
       "</div>"
      ],
      "text/plain": [
       "          home_team     away_team  home_score  home_xg  home_penalty  \\\n",
       "1           Croatia       Morocco           2      0.7           0.0   \n",
       "65          Belgium       England           2      1.5           0.0   \n",
       "129          Brazil   Netherlands           0      NaN           0.0   \n",
       "193         Uruguay       Germany           2      NaN           0.0   \n",
       "257         Germany      Portugal           3      NaN           0.0   \n",
       "321  Korea Republic       Türkiye           2      NaN           0.0   \n",
       "385     Netherlands       Croatia           1      NaN           0.0   \n",
       "449          Sweden      Bulgaria           4      NaN           0.0   \n",
       "501           Italy       England           2      NaN           0.0   \n",
       "553          France       Belgium           4      NaN           0.0   \n",
       "605          Poland        France           3      NaN           0.0   \n",
       "657          Brazil         Italy           2      NaN           0.0   \n",
       "695          Brazil        Poland           0      NaN           0.0   \n",
       "733    West Germany       Uruguay           1      NaN           0.0   \n",
       "765        Portugal  Soviet Union           2      NaN           0.0   \n",
       "797           Chile    Yugoslavia           1      NaN           0.0   \n",
       "829          France  West Germany           6      NaN           0.0   \n",
       "864         Austria       Uruguay           3      NaN           0.0   \n",
       "911          Brazil        Sweden           4      NaN           0.0   \n",
       "930         Germany       Austria           3      NaN           0.0   \n",
       "\n",
       "     away_score  away_xg  away_penalty         home_manager  \\\n",
       "1             1      1.2           0.0         Zlatko Dalić   \n",
       "65            0      1.0           0.0     Roberto Martínez   \n",
       "129           3      NaN           0.0  Luiz Felipe Scolari   \n",
       "193           3      NaN           0.0        Óscar Tabárez   \n",
       "257           1      NaN           0.0     Jürgen Klinsmann   \n",
       "321           3      NaN           0.0         Guus Hiddink   \n",
       "385           2      NaN           0.0         Guus Hiddink   \n",
       "449           0      NaN           0.0       Tommy Svensson   \n",
       "501           1      NaN           0.0       Azeglio Vicini   \n",
       "553           2      NaN           0.0         Henri Michel   \n",
       "605           2      NaN           0.0   Antoni Piechniczek   \n",
       "657           1      NaN           0.0     Claudio Coutinho   \n",
       "695           1      NaN           0.0        Mario Zagallo   \n",
       "733           0      NaN           0.0        Helmut Schoen   \n",
       "765           1      NaN           0.0          Otto Gloria   \n",
       "797           0      NaN           0.0       Fernando Riera   \n",
       "829           3      NaN           0.0      Albert Batteaux   \n",
       "864           1      NaN           0.0        Walter Nausch   \n",
       "911           2      NaN           0.0       Ademar Pimenta   \n",
       "930           2      NaN           0.0            Otto Nerz   \n",
       "\n",
       "          home_captain  ... away_red_card home_yellow_red_card  \\\n",
       "1          Luka Modrić  ...           NaN                  NaN   \n",
       "65         Eden Hazard  ...           NaN                  NaN   \n",
       "129                NaN  ...           NaN                  NaN   \n",
       "193                NaN  ...           NaN                  NaN   \n",
       "257                NaN  ...           NaN                  NaN   \n",
       "321                NaN  ...           NaN                  NaN   \n",
       "385                NaN  ...           NaN                  NaN   \n",
       "449     Roland Nilsson  ...           NaN                  NaN   \n",
       "501   Giuseppe Bergomi  ...           NaN                  NaN   \n",
       "553  Patrick Battiston  ...           NaN                  NaN   \n",
       "605    Władysław Żmuda  ...           NaN                  NaN   \n",
       "657       Émerson Leão  ...           NaN                  NaN   \n",
       "695      Marinho Peres  ...           NaN                  NaN   \n",
       "733         Uwe Seeler  ...           NaN                  NaN   \n",
       "765       Mário Coluna  ...           NaN                  NaN   \n",
       "797         Jorge Toro  ...           NaN                  NaN   \n",
       "829    Armand Penverne  ...           NaN                  NaN   \n",
       "864       Ernst Ocwirk  ...           NaN                  NaN   \n",
       "911           Leônidas  ...           NaN                  NaN   \n",
       "930       Fritz Szepan  ...           NaN                  NaN   \n",
       "\n",
       "     away_yellow_red_card                              home_yellow_card_long  \\\n",
       "1                     NaN                                                NaN   \n",
       "65                    NaN                   ['90+3&rsquor;|2:0|Axel Witsel']   \n",
       "129                   NaN  ['2&rsquor;|0:0|Thiago Silva', '54&rsquor;|0:2...   \n",
       "193                   NaN                     ['61&rsquor;|2:2|Diego Pérez']   \n",
       "257                   NaN  ['7&rsquor;|0:0|Torsten Frings', '78&rsquor;|2...   \n",
       "321                   NaN                    ['23&rsquor;|1:2|Lee Eul-yong']   \n",
       "385                   NaN  ['89&rsquor;|1:2|Wim Jonk', '89&rsquor;|1:2|Ed...   \n",
       "449                   NaN                ['82&rsquor;|4:0|Kennet Andersson']   \n",
       "501                   NaN                                                NaN   \n",
       "553                   NaN                                                NaN   \n",
       "605                   NaN  ['62&rsquor;|3:1|Andrzej Buncol', '71&rsquor;|...   \n",
       "657                   NaN  ['35&rsquor;|0:0|Nelinho', '44&rsquor;|0:1|Joã...   \n",
       "695                   NaN                       ['76&rsquor;|0:1|Jairzinho']   \n",
       "733                   NaN  ['1&rsquor;|0:0|Max Lorenz', '1&rsquor;|0:0|Ha...   \n",
       "765                   NaN                                                NaN   \n",
       "797                   NaN                                                NaN   \n",
       "829                   NaN                                                NaN   \n",
       "864                   NaN                                                NaN   \n",
       "911                   NaN                                                NaN   \n",
       "930                   NaN                                                NaN   \n",
       "\n",
       "                                 away_yellow_card_long  \\\n",
       "1    ['69&rsquor;|2:1|Azzedine Ounahi', '84&rsquor;...   \n",
       "65   ['52&rsquor;|1:0|John Stones', '77&rsquor;|1:0...   \n",
       "129  ['9&rsquor;|0:1|Arjen Robben', '36&rsquor;|0:2...   \n",
       "193  ['5&rsquor;|0:0|Dennis Aogo', '90+2&rsquor;|2:...   \n",
       "257  ['24&rsquor;|0:0|Ricardo Costa', '33&rsquor;|0...   \n",
       "321  ['50&rsquor;|1:3|Tugay Kerimoğlu', '83&rsquor;...   \n",
       "385  ['34&rsquor;|1:1|Krunoslav Jurčić', '52&rsquor...   \n",
       "449                   ['70&rsquor;|4:0|Zlatko Yankov']   \n",
       "501                                                NaN   \n",
       "553                ['63&rsquor;|2:1|Jean-Marie Pfaff']   \n",
       "605                    ['79&rsquor;|3:2|Gérard Soler']   \n",
       "657                 ['72&rsquor;|2:1|Claudio Gentile']   \n",
       "695               ['71&rsquor;|0:0|Henryk Kasperczak']   \n",
       "733  ['1&rsquor;|0:0|Dagoberto Fontes', '1&rsquor;|...   \n",
       "765                                                NaN   \n",
       "797                                                NaN   \n",
       "829                                                NaN   \n",
       "864                                                NaN   \n",
       "911                                                NaN   \n",
       "930                                                NaN   \n",
       "\n",
       "                               home_substitute_in_long  \\\n",
       "1    ['61&rsquor;|2:1|Nikola Vlašić|for Andrej Kram...   \n",
       "65   ['39&rsquor;|1:0|Thomas Vermaelen|for Nacer Ch...   \n",
       "129  ['46&rsquor;|0:2|Fernandinho|for Luiz Gustavo'...   \n",
       "193  ['77&rsquor;|2:2|Walter Gargano|for Diego Pére...   \n",
       "257  ['65&rsquor;|2:0|Oliver Neuville|for Miroslav ...   \n",
       "321  ['46&rsquor;|1:3|Kim Tae-young|for Hong Myung-...   \n",
       "385  ['46&rsquor;|1:2|Marc Overmars|for Phillip Coc...   \n",
       "449  ['79&rsquor;|4:0|Anders Limpar|for Henrik Lars...   \n",
       "501  ['67&rsquor;|0:0|Nicola Berti|for Luigi De Ago...   \n",
       "553  ['55&rsquor;|2:1|Maxime Bossis|for Yvon Le Rou...   \n",
       "605  ['46&rsquor;|3:1|Roman Wójcicki|for Waldemar M...   \n",
       "657  ['46&rsquor;|0:1|José Reinaldo de Lima|for Gil...   \n",
       "695   ['66&rsquor;|0:0|Mirandinha|for Ademir da Guia']   \n",
       "733  ['46&rsquor;|1:0|Max Lorenz', '73&rsquor;|1:0|...   \n",
       "765                                                NaN   \n",
       "797                                                NaN   \n",
       "829                                                NaN   \n",
       "864                                                NaN   \n",
       "911                                                NaN   \n",
       "930                                                NaN   \n",
       "\n",
       "                               away_substitute_in_long a_total h_total  \\\n",
       "1    ['46&rsquor;|2:1|Ilias Chair|for Abdelhamid Sa...     1.0     2.0   \n",
       "65   ['46&rsquor;|1:0|Jesse Lingard|for Danny Rose'...     0.0     2.0   \n",
       "129  ['70&rsquor;|0:2|Daryl Janmaat|for Daley Blind...     3.0     0.0   \n",
       "193  ['73&rsquor;|2:2|Stefan Kießling|for Cacau', '...     3.0     2.0   \n",
       "257  ['46&rsquor;|0:0|Petit|for Costinha', '69&rsqu...     1.0     3.0   \n",
       "321  ['41&rsquor;|1:3|Hakan Ünsal|for Emre Belözoğl...     3.0     2.0   \n",
       "385  ['79&rsquor;|1:2|Goran Vlaović|for Robert Pros...     2.0     1.0   \n",
       "449  ['42&rsquor;|4:0|Emil Kremenliev|for Trifon Iv...     0.0     4.0   \n",
       "501  ['72&rsquor;|1:0|Neil Webb|for Steve McMahon',...     1.0     2.0   \n",
       "553  ['46&rsquor;|2:1|Franky Van der Elst|for Miche...     2.0     4.0   \n",
       "605  ['66&rsquor;|3:1|Christian Lopez|for Gérard Ja...     2.0     3.0   \n",
       "657  ['78&rsquor;|2:1|Claudio Sala|for Giancarlo An...     1.0     2.0   \n",
       "695  ['73&rsquor;|0:0|Lesław Ćmikiewicz|for Henryk ...     1.0     0.0   \n",
       "733  ['46&rsquor;|1:0|Víctor Espárrago|for Dagobert...     0.0     1.0   \n",
       "765                                                NaN     1.0     2.0   \n",
       "797                                                NaN     0.0     1.0   \n",
       "829                                                NaN     3.0     6.0   \n",
       "864                                                NaN     1.0     3.0   \n",
       "911                                                NaN     2.0     4.0   \n",
       "930                                                NaN     2.0     3.0   \n",
       "\n",
       "      Third_place  \n",
       "1         Croatia  \n",
       "65        Belgium  \n",
       "129   Netherlands  \n",
       "193       Germany  \n",
       "257       Germany  \n",
       "321       Türkiye  \n",
       "385       Croatia  \n",
       "449        Sweden  \n",
       "501         Italy  \n",
       "553        France  \n",
       "605        Poland  \n",
       "657        Brazil  \n",
       "695        Poland  \n",
       "733  West Germany  \n",
       "765      Portugal  \n",
       "797         Chile  \n",
       "829        France  \n",
       "864       Austria  \n",
       "911        Brazil  \n",
       "930       Germany  \n",
       "\n",
       "[20 rows x 47 columns]"
      ]
     },
     "execution_count": 103,
     "metadata": {},
     "output_type": "execute_result"
    }
   ],
   "source": [
    "Third"
   ]
  },
  {
   "cell_type": "code",
   "execution_count": 104,
   "metadata": {},
   "outputs": [
    {
     "data": {
      "text/plain": [
       "Index(['Argentina', 'Netherlands', 'West Germany', 'France', 'Italy',\n",
       "       'Czechoslovakia', 'Hungary', 'Croatia', 'Germany', 'Brazil', 'Sweden'],\n",
       "      dtype='object', name='Runner_up')"
      ]
     },
     "execution_count": 104,
     "metadata": {},
     "output_type": "execute_result"
    }
   ],
   "source": [
    "Runner_up['Runner_up'].value_counts().index"
   ]
  },
  {
   "cell_type": "code",
   "execution_count": 105,
   "metadata": {},
   "outputs": [],
   "source": [
    "trace1 = go.Bar(x = Runner_up['Runner_up'].value_counts().index, y = Runner_up['Runner_up'].value_counts(), name='First Runner-up') \n",
    "trace2 = go.Bar(x = Third['Third_place'].value_counts().index, y = Third['Third_place'].value_counts(), name='Second Runner-up')"
   ]
  },
  {
   "cell_type": "code",
   "execution_count": 106,
   "metadata": {},
   "outputs": [
    {
     "data": {
      "application/vnd.plotly.v1+json": {
       "config": {
        "plotlyServerURL": "https://plot.ly"
       },
       "data": [
        {
         "name": "First Runner-up",
         "type": "bar",
         "x": [
          "Argentina",
          "Netherlands",
          "West Germany",
          "France",
          "Italy",
          "Czechoslovakia",
          "Hungary",
          "Croatia",
          "Germany",
          "Brazil",
          "Sweden"
         ],
         "xaxis": "x",
         "y": [
          3,
          3,
          3,
          2,
          2,
          2,
          2,
          1,
          1,
          1,
          1
         ],
         "yaxis": "y"
        },
        {
         "name": "Second Runner-up",
         "type": "bar",
         "x": [
          "Germany",
          "Croatia",
          "France",
          "Poland",
          "Brazil",
          "Belgium",
          "Netherlands",
          "Türkiye",
          "Sweden",
          "Italy",
          "West Germany",
          "Portugal",
          "Chile",
          "Austria"
         ],
         "xaxis": "x2",
         "y": [
          3,
          2,
          2,
          2,
          2,
          1,
          1,
          1,
          1,
          1,
          1,
          1,
          1,
          1
         ],
         "yaxis": "y2"
        }
       ],
       "layout": {
        "annotations": [
         {
          "font": {
           "size": 16
          },
          "showarrow": false,
          "text": "First Runner-up",
          "x": 0.225,
          "xanchor": "center",
          "xref": "paper",
          "y": 1,
          "yanchor": "bottom",
          "yref": "paper"
         },
         {
          "font": {
           "size": 16
          },
          "showarrow": false,
          "text": "Second Runner-up",
          "x": 0.775,
          "xanchor": "center",
          "xref": "paper",
          "y": 1,
          "yanchor": "bottom",
          "yref": "paper"
         }
        ],
        "template": {
         "data": {
          "bar": [
           {
            "error_x": {
             "color": "#2a3f5f"
            },
            "error_y": {
             "color": "#2a3f5f"
            },
            "marker": {
             "line": {
              "color": "#E5ECF6",
              "width": 0.5
             },
             "pattern": {
              "fillmode": "overlay",
              "size": 10,
              "solidity": 0.2
             }
            },
            "type": "bar"
           }
          ],
          "barpolar": [
           {
            "marker": {
             "line": {
              "color": "#E5ECF6",
              "width": 0.5
             },
             "pattern": {
              "fillmode": "overlay",
              "size": 10,
              "solidity": 0.2
             }
            },
            "type": "barpolar"
           }
          ],
          "carpet": [
           {
            "aaxis": {
             "endlinecolor": "#2a3f5f",
             "gridcolor": "white",
             "linecolor": "white",
             "minorgridcolor": "white",
             "startlinecolor": "#2a3f5f"
            },
            "baxis": {
             "endlinecolor": "#2a3f5f",
             "gridcolor": "white",
             "linecolor": "white",
             "minorgridcolor": "white",
             "startlinecolor": "#2a3f5f"
            },
            "type": "carpet"
           }
          ],
          "choropleth": [
           {
            "colorbar": {
             "outlinewidth": 0,
             "ticks": ""
            },
            "type": "choropleth"
           }
          ],
          "contour": [
           {
            "colorbar": {
             "outlinewidth": 0,
             "ticks": ""
            },
            "colorscale": [
             [
              0,
              "#0d0887"
             ],
             [
              0.1111111111111111,
              "#46039f"
             ],
             [
              0.2222222222222222,
              "#7201a8"
             ],
             [
              0.3333333333333333,
              "#9c179e"
             ],
             [
              0.4444444444444444,
              "#bd3786"
             ],
             [
              0.5555555555555556,
              "#d8576b"
             ],
             [
              0.6666666666666666,
              "#ed7953"
             ],
             [
              0.7777777777777778,
              "#fb9f3a"
             ],
             [
              0.8888888888888888,
              "#fdca26"
             ],
             [
              1,
              "#f0f921"
             ]
            ],
            "type": "contour"
           }
          ],
          "contourcarpet": [
           {
            "colorbar": {
             "outlinewidth": 0,
             "ticks": ""
            },
            "type": "contourcarpet"
           }
          ],
          "heatmap": [
           {
            "colorbar": {
             "outlinewidth": 0,
             "ticks": ""
            },
            "colorscale": [
             [
              0,
              "#0d0887"
             ],
             [
              0.1111111111111111,
              "#46039f"
             ],
             [
              0.2222222222222222,
              "#7201a8"
             ],
             [
              0.3333333333333333,
              "#9c179e"
             ],
             [
              0.4444444444444444,
              "#bd3786"
             ],
             [
              0.5555555555555556,
              "#d8576b"
             ],
             [
              0.6666666666666666,
              "#ed7953"
             ],
             [
              0.7777777777777778,
              "#fb9f3a"
             ],
             [
              0.8888888888888888,
              "#fdca26"
             ],
             [
              1,
              "#f0f921"
             ]
            ],
            "type": "heatmap"
           }
          ],
          "heatmapgl": [
           {
            "colorbar": {
             "outlinewidth": 0,
             "ticks": ""
            },
            "colorscale": [
             [
              0,
              "#0d0887"
             ],
             [
              0.1111111111111111,
              "#46039f"
             ],
             [
              0.2222222222222222,
              "#7201a8"
             ],
             [
              0.3333333333333333,
              "#9c179e"
             ],
             [
              0.4444444444444444,
              "#bd3786"
             ],
             [
              0.5555555555555556,
              "#d8576b"
             ],
             [
              0.6666666666666666,
              "#ed7953"
             ],
             [
              0.7777777777777778,
              "#fb9f3a"
             ],
             [
              0.8888888888888888,
              "#fdca26"
             ],
             [
              1,
              "#f0f921"
             ]
            ],
            "type": "heatmapgl"
           }
          ],
          "histogram": [
           {
            "marker": {
             "pattern": {
              "fillmode": "overlay",
              "size": 10,
              "solidity": 0.2
             }
            },
            "type": "histogram"
           }
          ],
          "histogram2d": [
           {
            "colorbar": {
             "outlinewidth": 0,
             "ticks": ""
            },
            "colorscale": [
             [
              0,
              "#0d0887"
             ],
             [
              0.1111111111111111,
              "#46039f"
             ],
             [
              0.2222222222222222,
              "#7201a8"
             ],
             [
              0.3333333333333333,
              "#9c179e"
             ],
             [
              0.4444444444444444,
              "#bd3786"
             ],
             [
              0.5555555555555556,
              "#d8576b"
             ],
             [
              0.6666666666666666,
              "#ed7953"
             ],
             [
              0.7777777777777778,
              "#fb9f3a"
             ],
             [
              0.8888888888888888,
              "#fdca26"
             ],
             [
              1,
              "#f0f921"
             ]
            ],
            "type": "histogram2d"
           }
          ],
          "histogram2dcontour": [
           {
            "colorbar": {
             "outlinewidth": 0,
             "ticks": ""
            },
            "colorscale": [
             [
              0,
              "#0d0887"
             ],
             [
              0.1111111111111111,
              "#46039f"
             ],
             [
              0.2222222222222222,
              "#7201a8"
             ],
             [
              0.3333333333333333,
              "#9c179e"
             ],
             [
              0.4444444444444444,
              "#bd3786"
             ],
             [
              0.5555555555555556,
              "#d8576b"
             ],
             [
              0.6666666666666666,
              "#ed7953"
             ],
             [
              0.7777777777777778,
              "#fb9f3a"
             ],
             [
              0.8888888888888888,
              "#fdca26"
             ],
             [
              1,
              "#f0f921"
             ]
            ],
            "type": "histogram2dcontour"
           }
          ],
          "mesh3d": [
           {
            "colorbar": {
             "outlinewidth": 0,
             "ticks": ""
            },
            "type": "mesh3d"
           }
          ],
          "parcoords": [
           {
            "line": {
             "colorbar": {
              "outlinewidth": 0,
              "ticks": ""
             }
            },
            "type": "parcoords"
           }
          ],
          "pie": [
           {
            "automargin": true,
            "type": "pie"
           }
          ],
          "scatter": [
           {
            "fillpattern": {
             "fillmode": "overlay",
             "size": 10,
             "solidity": 0.2
            },
            "type": "scatter"
           }
          ],
          "scatter3d": [
           {
            "line": {
             "colorbar": {
              "outlinewidth": 0,
              "ticks": ""
             }
            },
            "marker": {
             "colorbar": {
              "outlinewidth": 0,
              "ticks": ""
             }
            },
            "type": "scatter3d"
           }
          ],
          "scattercarpet": [
           {
            "marker": {
             "colorbar": {
              "outlinewidth": 0,
              "ticks": ""
             }
            },
            "type": "scattercarpet"
           }
          ],
          "scattergeo": [
           {
            "marker": {
             "colorbar": {
              "outlinewidth": 0,
              "ticks": ""
             }
            },
            "type": "scattergeo"
           }
          ],
          "scattergl": [
           {
            "marker": {
             "colorbar": {
              "outlinewidth": 0,
              "ticks": ""
             }
            },
            "type": "scattergl"
           }
          ],
          "scattermapbox": [
           {
            "marker": {
             "colorbar": {
              "outlinewidth": 0,
              "ticks": ""
             }
            },
            "type": "scattermapbox"
           }
          ],
          "scatterpolar": [
           {
            "marker": {
             "colorbar": {
              "outlinewidth": 0,
              "ticks": ""
             }
            },
            "type": "scatterpolar"
           }
          ],
          "scatterpolargl": [
           {
            "marker": {
             "colorbar": {
              "outlinewidth": 0,
              "ticks": ""
             }
            },
            "type": "scatterpolargl"
           }
          ],
          "scatterternary": [
           {
            "marker": {
             "colorbar": {
              "outlinewidth": 0,
              "ticks": ""
             }
            },
            "type": "scatterternary"
           }
          ],
          "surface": [
           {
            "colorbar": {
             "outlinewidth": 0,
             "ticks": ""
            },
            "colorscale": [
             [
              0,
              "#0d0887"
             ],
             [
              0.1111111111111111,
              "#46039f"
             ],
             [
              0.2222222222222222,
              "#7201a8"
             ],
             [
              0.3333333333333333,
              "#9c179e"
             ],
             [
              0.4444444444444444,
              "#bd3786"
             ],
             [
              0.5555555555555556,
              "#d8576b"
             ],
             [
              0.6666666666666666,
              "#ed7953"
             ],
             [
              0.7777777777777778,
              "#fb9f3a"
             ],
             [
              0.8888888888888888,
              "#fdca26"
             ],
             [
              1,
              "#f0f921"
             ]
            ],
            "type": "surface"
           }
          ],
          "table": [
           {
            "cells": {
             "fill": {
              "color": "#EBF0F8"
             },
             "line": {
              "color": "white"
             }
            },
            "header": {
             "fill": {
              "color": "#C8D4E3"
             },
             "line": {
              "color": "white"
             }
            },
            "type": "table"
           }
          ]
         },
         "layout": {
          "annotationdefaults": {
           "arrowcolor": "#2a3f5f",
           "arrowhead": 0,
           "arrowwidth": 1
          },
          "autotypenumbers": "strict",
          "coloraxis": {
           "colorbar": {
            "outlinewidth": 0,
            "ticks": ""
           }
          },
          "colorscale": {
           "diverging": [
            [
             0,
             "#8e0152"
            ],
            [
             0.1,
             "#c51b7d"
            ],
            [
             0.2,
             "#de77ae"
            ],
            [
             0.3,
             "#f1b6da"
            ],
            [
             0.4,
             "#fde0ef"
            ],
            [
             0.5,
             "#f7f7f7"
            ],
            [
             0.6,
             "#e6f5d0"
            ],
            [
             0.7,
             "#b8e186"
            ],
            [
             0.8,
             "#7fbc41"
            ],
            [
             0.9,
             "#4d9221"
            ],
            [
             1,
             "#276419"
            ]
           ],
           "sequential": [
            [
             0,
             "#0d0887"
            ],
            [
             0.1111111111111111,
             "#46039f"
            ],
            [
             0.2222222222222222,
             "#7201a8"
            ],
            [
             0.3333333333333333,
             "#9c179e"
            ],
            [
             0.4444444444444444,
             "#bd3786"
            ],
            [
             0.5555555555555556,
             "#d8576b"
            ],
            [
             0.6666666666666666,
             "#ed7953"
            ],
            [
             0.7777777777777778,
             "#fb9f3a"
            ],
            [
             0.8888888888888888,
             "#fdca26"
            ],
            [
             1,
             "#f0f921"
            ]
           ],
           "sequentialminus": [
            [
             0,
             "#0d0887"
            ],
            [
             0.1111111111111111,
             "#46039f"
            ],
            [
             0.2222222222222222,
             "#7201a8"
            ],
            [
             0.3333333333333333,
             "#9c179e"
            ],
            [
             0.4444444444444444,
             "#bd3786"
            ],
            [
             0.5555555555555556,
             "#d8576b"
            ],
            [
             0.6666666666666666,
             "#ed7953"
            ],
            [
             0.7777777777777778,
             "#fb9f3a"
            ],
            [
             0.8888888888888888,
             "#fdca26"
            ],
            [
             1,
             "#f0f921"
            ]
           ]
          },
          "colorway": [
           "#636efa",
           "#EF553B",
           "#00cc96",
           "#ab63fa",
           "#FFA15A",
           "#19d3f3",
           "#FF6692",
           "#B6E880",
           "#FF97FF",
           "#FECB52"
          ],
          "font": {
           "color": "#2a3f5f"
          },
          "geo": {
           "bgcolor": "white",
           "lakecolor": "white",
           "landcolor": "#E5ECF6",
           "showlakes": true,
           "showland": true,
           "subunitcolor": "white"
          },
          "hoverlabel": {
           "align": "left"
          },
          "hovermode": "closest",
          "mapbox": {
           "style": "light"
          },
          "paper_bgcolor": "white",
          "plot_bgcolor": "#E5ECF6",
          "polar": {
           "angularaxis": {
            "gridcolor": "white",
            "linecolor": "white",
            "ticks": ""
           },
           "bgcolor": "#E5ECF6",
           "radialaxis": {
            "gridcolor": "white",
            "linecolor": "white",
            "ticks": ""
           }
          },
          "scene": {
           "xaxis": {
            "backgroundcolor": "#E5ECF6",
            "gridcolor": "white",
            "gridwidth": 2,
            "linecolor": "white",
            "showbackground": true,
            "ticks": "",
            "zerolinecolor": "white"
           },
           "yaxis": {
            "backgroundcolor": "#E5ECF6",
            "gridcolor": "white",
            "gridwidth": 2,
            "linecolor": "white",
            "showbackground": true,
            "ticks": "",
            "zerolinecolor": "white"
           },
           "zaxis": {
            "backgroundcolor": "#E5ECF6",
            "gridcolor": "white",
            "gridwidth": 2,
            "linecolor": "white",
            "showbackground": true,
            "ticks": "",
            "zerolinecolor": "white"
           }
          },
          "shapedefaults": {
           "line": {
            "color": "#2a3f5f"
           }
          },
          "ternary": {
           "aaxis": {
            "gridcolor": "white",
            "linecolor": "white",
            "ticks": ""
           },
           "baxis": {
            "gridcolor": "white",
            "linecolor": "white",
            "ticks": ""
           },
           "bgcolor": "#E5ECF6",
           "caxis": {
            "gridcolor": "white",
            "linecolor": "white",
            "ticks": ""
           }
          },
          "title": {
           "x": 0.05
          },
          "xaxis": {
           "automargin": true,
           "gridcolor": "white",
           "linecolor": "white",
           "ticks": "",
           "title": {
            "standoff": 15
           },
           "zerolinecolor": "white",
           "zerolinewidth": 2
          },
          "yaxis": {
           "automargin": true,
           "gridcolor": "white",
           "linecolor": "white",
           "ticks": "",
           "title": {
            "standoff": 15
           },
           "zerolinecolor": "white",
           "zerolinewidth": 2
          }
         }
        },
        "xaxis": {
         "anchor": "y",
         "domain": [
          0,
          0.45
         ]
        },
        "xaxis2": {
         "anchor": "y2",
         "domain": [
          0.55,
          1
         ]
        },
        "yaxis": {
         "anchor": "x",
         "domain": [
          0,
          1
         ]
        },
        "yaxis2": {
         "anchor": "x2",
         "domain": [
          0,
          1
         ]
        }
       }
      }
     },
     "metadata": {},
     "output_type": "display_data"
    }
   ],
   "source": [
    "fig = make_subplots(rows=1, cols=2, subplot_titles=('First Runner-up', 'Second Runner-up'))\n",
    "fig.append_trace(trace1,row=1,col=1)\n",
    "fig.append_trace(trace2,row=1,col=2)\n",
    "\n",
    "fig.show()"
   ]
  },
  {
   "cell_type": "markdown",
   "metadata": {},
   "source": [
    "#### Conclusions\n",
    "\n",
    "- Brazil won the most FIFA world cup titles(5) followed by Italy(4) and Argentina(3)\n",
    "- Argentina, netherlands and West Germany won the most number of First Runners-up titles (3)\n",
    "- Germany won Second Runners-up for most times(3)"
   ]
  },
  {
   "cell_type": "code",
   "execution_count": 107,
   "metadata": {},
   "outputs": [
    {
     "data": {
      "text/html": [
       "<div>\n",
       "<style scoped>\n",
       "    .dataframe tbody tr th:only-of-type {\n",
       "        vertical-align: middle;\n",
       "    }\n",
       "\n",
       "    .dataframe tbody tr th {\n",
       "        vertical-align: top;\n",
       "    }\n",
       "\n",
       "    .dataframe thead th {\n",
       "        text-align: right;\n",
       "    }\n",
       "</style>\n",
       "<table border=\"1\" class=\"dataframe\">\n",
       "  <thead>\n",
       "    <tr style=\"text-align: right;\">\n",
       "      <th></th>\n",
       "      <th>home</th>\n",
       "      <th>away</th>\n",
       "    </tr>\n",
       "    <tr>\n",
       "      <th>Year</th>\n",
       "      <th></th>\n",
       "      <th></th>\n",
       "    </tr>\n",
       "  </thead>\n",
       "  <tbody>\n",
       "    <tr>\n",
       "      <th>1930</th>\n",
       "      <td>[Uruguay, Uruguay, Argentina, Argentina, Urugu...</td>\n",
       "      <td>[Argentina, Yugoslavia, United States, Chile, ...</td>\n",
       "    </tr>\n",
       "    <tr>\n",
       "      <th>1934</th>\n",
       "      <td>[Italy, Germany, Czechoslovakia, Italy, Italy,...</td>\n",
       "      <td>[Czechoslovakia, Austria, Germany, Austria, Sp...</td>\n",
       "    </tr>\n",
       "    <tr>\n",
       "      <th>1938</th>\n",
       "      <td>[Brazil, Italy, Hungary, Italy, Brazil, Sweden...</td>\n",
       "      <td>[Sweden, Hungary, Sweden, Brazil, Czechoslovak...</td>\n",
       "    </tr>\n",
       "    <tr>\n",
       "      <th>1950</th>\n",
       "      <td>[Sweden, Uruguay, Brazil, Uruguay, Brazil, Uru...</td>\n",
       "      <td>[Spain, Brazil, Spain, Sweden, Sweden, Spain, ...</td>\n",
       "    </tr>\n",
       "    <tr>\n",
       "      <th>1954</th>\n",
       "      <td>[Germany, Austria, Hungary, Germany, Germany, ...</td>\n",
       "      <td>[Hungary, Uruguay, Uruguay, Austria, Yugoslavi...</td>\n",
       "    </tr>\n",
       "    <tr>\n",
       "      <th>1958</th>\n",
       "      <td>[Brazil, France, Sweden, Brazil, France, West ...</td>\n",
       "      <td>[Sweden, West Germany, West Germany, France, N...</td>\n",
       "    </tr>\n",
       "    <tr>\n",
       "      <th>1962</th>\n",
       "      <td>[Brazil, Chile, Brazil, Czechoslovakia, Chile,...</td>\n",
       "      <td>[Czechoslovakia, Yugoslavia, Chile, Yugoslavia...</td>\n",
       "    </tr>\n",
       "    <tr>\n",
       "      <th>1966</th>\n",
       "      <td>[England, Portugal, England, West Germany, Por...</td>\n",
       "      <td>[West Germany, Soviet Union, Portugal, Soviet ...</td>\n",
       "    </tr>\n",
       "    <tr>\n",
       "      <th>1970</th>\n",
       "      <td>[Brazil, West Germany, Italy, Brazil, Brazil, ...</td>\n",
       "      <td>[Italy, Uruguay, West Germany, Uruguay, Peru, ...</td>\n",
       "    </tr>\n",
       "    <tr>\n",
       "      <th>1974</th>\n",
       "      <td>[Netherlands, Brazil, Poland, Netherlands, Arg...</td>\n",
       "      <td>[West Germany, Poland, West Germany, Brazil, W...</td>\n",
       "    </tr>\n",
       "    <tr>\n",
       "      <th>1978</th>\n",
       "      <td>[Argentina, Brazil, Netherlands, Austria, Braz...</td>\n",
       "      <td>[Netherlands, Italy, Italy, West Germany, Pola...</td>\n",
       "    </tr>\n",
       "    <tr>\n",
       "      <th>1982</th>\n",
       "      <td>[Italy, Poland, Poland, West Germany, Italy, S...</td>\n",
       "      <td>[West Germany, France, Italy, France, Brazil, ...</td>\n",
       "    </tr>\n",
       "    <tr>\n",
       "      <th>1986</th>\n",
       "      <td>[Argentina, France, France, Argentina, Argenti...</td>\n",
       "      <td>[West Germany, Belgium, West Germany, Belgium,...</td>\n",
       "    </tr>\n",
       "    <tr>\n",
       "      <th>1990</th>\n",
       "      <td>[West Germany, Italy, West Germany, Italy, Wes...</td>\n",
       "      <td>[Argentina, England, England, Argentina, Czech...</td>\n",
       "    </tr>\n",
       "    <tr>\n",
       "      <th>1994</th>\n",
       "      <td>[Brazil, Sweden, Bulgaria, Sweden, Bulgaria, R...</td>\n",
       "      <td>[Italy, Bulgaria, Italy, Brazil, Germany, Swed...</td>\n",
       "    </tr>\n",
       "    <tr>\n",
       "      <th>1998</th>\n",
       "      <td>[Brazil, Netherlands, France, Brazil, Netherla...</td>\n",
       "      <td>[France, Croatia, Croatia, Netherlands, Argent...</td>\n",
       "    </tr>\n",
       "    <tr>\n",
       "      <th>2002</th>\n",
       "      <td>[Germany, Korea Republic, Brazil, Germany, Spa...</td>\n",
       "      <td>[Brazil, Türkiye, Türkiye, Korea Republic, Kor...</td>\n",
       "    </tr>\n",
       "    <tr>\n",
       "      <th>2006</th>\n",
       "      <td>[Italy, Germany, Portugal, Germany, England, B...</td>\n",
       "      <td>[France, Portugal, France, Italy, Portugal, Fr...</td>\n",
       "    </tr>\n",
       "    <tr>\n",
       "      <th>2010</th>\n",
       "      <td>[Netherlands, Uruguay, Germany, Uruguay, Argen...</td>\n",
       "      <td>[Spain, Germany, Spain, Netherlands, Germany, ...</td>\n",
       "    </tr>\n",
       "    <tr>\n",
       "      <th>2014</th>\n",
       "      <td>[Germany, Brazil, Netherlands, Brazil, Argenti...</td>\n",
       "      <td>[Argentina, Netherlands, Argentina, Germany, B...</td>\n",
       "    </tr>\n",
       "    <tr>\n",
       "      <th>2018</th>\n",
       "      <td>[France, Belgium, Croatia, France, Sweden, Rus...</td>\n",
       "      <td>[Croatia, England, England, Belgium, England, ...</td>\n",
       "    </tr>\n",
       "    <tr>\n",
       "      <th>2022</th>\n",
       "      <td>[Argentina, Croatia, France, Argentina, Morocc...</td>\n",
       "      <td>[France, Morocco, Morocco, Croatia, Portugal, ...</td>\n",
       "    </tr>\n",
       "  </tbody>\n",
       "</table>\n",
       "</div>"
      ],
      "text/plain": [
       "                                                   home  \\\n",
       "Year                                                      \n",
       "1930  [Uruguay, Uruguay, Argentina, Argentina, Urugu...   \n",
       "1934  [Italy, Germany, Czechoslovakia, Italy, Italy,...   \n",
       "1938  [Brazil, Italy, Hungary, Italy, Brazil, Sweden...   \n",
       "1950  [Sweden, Uruguay, Brazil, Uruguay, Brazil, Uru...   \n",
       "1954  [Germany, Austria, Hungary, Germany, Germany, ...   \n",
       "1958  [Brazil, France, Sweden, Brazil, France, West ...   \n",
       "1962  [Brazil, Chile, Brazil, Czechoslovakia, Chile,...   \n",
       "1966  [England, Portugal, England, West Germany, Por...   \n",
       "1970  [Brazil, West Germany, Italy, Brazil, Brazil, ...   \n",
       "1974  [Netherlands, Brazil, Poland, Netherlands, Arg...   \n",
       "1978  [Argentina, Brazil, Netherlands, Austria, Braz...   \n",
       "1982  [Italy, Poland, Poland, West Germany, Italy, S...   \n",
       "1986  [Argentina, France, France, Argentina, Argenti...   \n",
       "1990  [West Germany, Italy, West Germany, Italy, Wes...   \n",
       "1994  [Brazil, Sweden, Bulgaria, Sweden, Bulgaria, R...   \n",
       "1998  [Brazil, Netherlands, France, Brazil, Netherla...   \n",
       "2002  [Germany, Korea Republic, Brazil, Germany, Spa...   \n",
       "2006  [Italy, Germany, Portugal, Germany, England, B...   \n",
       "2010  [Netherlands, Uruguay, Germany, Uruguay, Argen...   \n",
       "2014  [Germany, Brazil, Netherlands, Brazil, Argenti...   \n",
       "2018  [France, Belgium, Croatia, France, Sweden, Rus...   \n",
       "2022  [Argentina, Croatia, France, Argentina, Morocc...   \n",
       "\n",
       "                                                   away  \n",
       "Year                                                     \n",
       "1930  [Argentina, Yugoslavia, United States, Chile, ...  \n",
       "1934  [Czechoslovakia, Austria, Germany, Austria, Sp...  \n",
       "1938  [Sweden, Hungary, Sweden, Brazil, Czechoslovak...  \n",
       "1950  [Spain, Brazil, Spain, Sweden, Sweden, Spain, ...  \n",
       "1954  [Hungary, Uruguay, Uruguay, Austria, Yugoslavi...  \n",
       "1958  [Sweden, West Germany, West Germany, France, N...  \n",
       "1962  [Czechoslovakia, Yugoslavia, Chile, Yugoslavia...  \n",
       "1966  [West Germany, Soviet Union, Portugal, Soviet ...  \n",
       "1970  [Italy, Uruguay, West Germany, Uruguay, Peru, ...  \n",
       "1974  [West Germany, Poland, West Germany, Brazil, W...  \n",
       "1978  [Netherlands, Italy, Italy, West Germany, Pola...  \n",
       "1982  [West Germany, France, Italy, France, Brazil, ...  \n",
       "1986  [West Germany, Belgium, West Germany, Belgium,...  \n",
       "1990  [Argentina, England, England, Argentina, Czech...  \n",
       "1994  [Italy, Bulgaria, Italy, Brazil, Germany, Swed...  \n",
       "1998  [France, Croatia, Croatia, Netherlands, Argent...  \n",
       "2002  [Brazil, Türkiye, Türkiye, Korea Republic, Kor...  \n",
       "2006  [France, Portugal, France, Italy, Portugal, Fr...  \n",
       "2010  [Spain, Germany, Spain, Netherlands, Germany, ...  \n",
       "2014  [Argentina, Netherlands, Argentina, Germany, B...  \n",
       "2018  [Croatia, England, England, Belgium, England, ...  \n",
       "2022  [France, Morocco, Morocco, Croatia, Portugal, ...  "
      ]
     },
     "execution_count": 107,
     "metadata": {},
     "output_type": "execute_result"
    }
   ],
   "source": [
    "# a year in which a perticular team participated\n",
    "data = matches.groupby('Year').agg(home=('home_team', list), away=('away_team', list))\n",
    "data"
   ]
  },
  {
   "cell_type": "code",
   "execution_count": 108,
   "metadata": {},
   "outputs": [
    {
     "data": {
      "text/html": [
       "<div>\n",
       "<style scoped>\n",
       "    .dataframe tbody tr th:only-of-type {\n",
       "        vertical-align: middle;\n",
       "    }\n",
       "\n",
       "    .dataframe tbody tr th {\n",
       "        vertical-align: top;\n",
       "    }\n",
       "\n",
       "    .dataframe thead th {\n",
       "        text-align: right;\n",
       "    }\n",
       "</style>\n",
       "<table border=\"1\" class=\"dataframe\">\n",
       "  <thead>\n",
       "    <tr style=\"text-align: right;\">\n",
       "      <th></th>\n",
       "      <th>home</th>\n",
       "      <th>away</th>\n",
       "      <th>teams</th>\n",
       "      <th>No_of_teams</th>\n",
       "    </tr>\n",
       "    <tr>\n",
       "      <th>Year</th>\n",
       "      <th></th>\n",
       "      <th></th>\n",
       "      <th></th>\n",
       "      <th></th>\n",
       "    </tr>\n",
       "  </thead>\n",
       "  <tbody>\n",
       "    <tr>\n",
       "      <th>1930</th>\n",
       "      <td>[Uruguay, Uruguay, Argentina, Argentina, Urugu...</td>\n",
       "      <td>[Argentina, Yugoslavia, United States, Chile, ...</td>\n",
       "      <td>[Romania, France, Paraguay, Bolivia, Peru, Mex...</td>\n",
       "      <td>13</td>\n",
       "    </tr>\n",
       "    <tr>\n",
       "      <th>1934</th>\n",
       "      <td>[Italy, Germany, Czechoslovakia, Italy, Italy,...</td>\n",
       "      <td>[Czechoslovakia, Austria, Germany, Austria, Sp...</td>\n",
       "      <td>[Romania, France, Italy, Czechoslovakia, Switz...</td>\n",
       "      <td>16</td>\n",
       "    </tr>\n",
       "    <tr>\n",
       "      <th>1938</th>\n",
       "      <td>[Brazil, Italy, Hungary, Italy, Brazil, Sweden...</td>\n",
       "      <td>[Sweden, Hungary, Sweden, Brazil, Czechoslovak...</td>\n",
       "      <td>[Romania, France, Italy, Czechoslovakia, Switz...</td>\n",
       "      <td>15</td>\n",
       "    </tr>\n",
       "    <tr>\n",
       "      <th>1950</th>\n",
       "      <td>[Sweden, Uruguay, Brazil, Uruguay, Brazil, Uru...</td>\n",
       "      <td>[Spain, Brazil, Spain, Sweden, Sweden, Spain, ...</td>\n",
       "      <td>[Italy, Switzerland, Sweden, Paraguay, Bolivia...</td>\n",
       "      <td>13</td>\n",
       "    </tr>\n",
       "    <tr>\n",
       "      <th>1954</th>\n",
       "      <td>[Germany, Austria, Hungary, Germany, Germany, ...</td>\n",
       "      <td>[Hungary, Uruguay, Uruguay, Austria, Yugoslavi...</td>\n",
       "      <td>[Scotland, France, Italy, Czechoslovakia, Swit...</td>\n",
       "      <td>16</td>\n",
       "    </tr>\n",
       "    <tr>\n",
       "      <th>1958</th>\n",
       "      <td>[Brazil, France, Sweden, Brazil, France, West ...</td>\n",
       "      <td>[Sweden, West Germany, West Germany, France, N...</td>\n",
       "      <td>[Scotland, France, Wales, Czechoslovakia, Swed...</td>\n",
       "      <td>16</td>\n",
       "    </tr>\n",
       "    <tr>\n",
       "      <th>1962</th>\n",
       "      <td>[Brazil, Chile, Brazil, Czechoslovakia, Chile,...</td>\n",
       "      <td>[Czechoslovakia, Yugoslavia, Chile, Yugoslavia...</td>\n",
       "      <td>[Italy, Czechoslovakia, Switzerland, Soviet Un...</td>\n",
       "      <td>16</td>\n",
       "    </tr>\n",
       "    <tr>\n",
       "      <th>1966</th>\n",
       "      <td>[England, Portugal, England, West Germany, Por...</td>\n",
       "      <td>[West Germany, Soviet Union, Portugal, Soviet ...</td>\n",
       "      <td>[France, Italy, Portugal, Switzerland, Soviet ...</td>\n",
       "      <td>16</td>\n",
       "    </tr>\n",
       "    <tr>\n",
       "      <th>1970</th>\n",
       "      <td>[Brazil, West Germany, Italy, Brazil, Brazil, ...</td>\n",
       "      <td>[Italy, Uruguay, West Germany, Uruguay, Peru, ...</td>\n",
       "      <td>[Romania, Italy, Czechoslovakia, Sweden, Belgi...</td>\n",
       "      <td>16</td>\n",
       "    </tr>\n",
       "    <tr>\n",
       "      <th>1974</th>\n",
       "      <td>[Netherlands, Brazil, Poland, Netherlands, Arg...</td>\n",
       "      <td>[West Germany, Poland, West Germany, Brazil, W...</td>\n",
       "      <td>[Scotland, Italy, Netherlands, Sweden, Poland,...</td>\n",
       "      <td>15</td>\n",
       "    </tr>\n",
       "    <tr>\n",
       "      <th>1978</th>\n",
       "      <td>[Argentina, Brazil, Netherlands, Austria, Braz...</td>\n",
       "      <td>[Netherlands, Italy, Italy, West Germany, Pola...</td>\n",
       "      <td>[Scotland, France, Italy, Netherlands, Poland,...</td>\n",
       "      <td>16</td>\n",
       "    </tr>\n",
       "    <tr>\n",
       "      <th>1982</th>\n",
       "      <td>[Italy, Poland, Poland, West Germany, Italy, S...</td>\n",
       "      <td>[West Germany, France, Italy, France, Brazil, ...</td>\n",
       "      <td>[Scotland, Peru, Northern Ireland, Soviet Unio...</td>\n",
       "      <td>24</td>\n",
       "    </tr>\n",
       "    <tr>\n",
       "      <th>1986</th>\n",
       "      <td>[Argentina, France, France, Argentina, Argenti...</td>\n",
       "      <td>[West Germany, Belgium, West Germany, Belgium,...</td>\n",
       "      <td>[Scotland, Iraq, Northern Ireland, Soviet Unio...</td>\n",
       "      <td>24</td>\n",
       "    </tr>\n",
       "    <tr>\n",
       "      <th>1990</th>\n",
       "      <td>[West Germany, Italy, West Germany, Italy, Wes...</td>\n",
       "      <td>[Argentina, England, England, Argentina, Czech...</td>\n",
       "      <td>[Romania, Scotland, Netherlands, Sweden, Sovie...</td>\n",
       "      <td>24</td>\n",
       "    </tr>\n",
       "    <tr>\n",
       "      <th>1994</th>\n",
       "      <td>[Brazil, Sweden, Bulgaria, Sweden, Bulgaria, R...</td>\n",
       "      <td>[Italy, Bulgaria, Italy, Brazil, Germany, Swed...</td>\n",
       "      <td>[Romania, Netherlands, Sweden, United States, ...</td>\n",
       "      <td>24</td>\n",
       "    </tr>\n",
       "    <tr>\n",
       "      <th>1998</th>\n",
       "      <td>[Brazil, Netherlands, France, Brazil, Netherla...</td>\n",
       "      <td>[France, Croatia, Croatia, Netherlands, Argent...</td>\n",
       "      <td>[Romania, Scotland, Netherlands, Croatia, IR I...</td>\n",
       "      <td>32</td>\n",
       "    </tr>\n",
       "    <tr>\n",
       "      <th>2002</th>\n",
       "      <td>[Germany, Korea Republic, Brazil, Germany, Spa...</td>\n",
       "      <td>[Brazil, Türkiye, Türkiye, Korea Republic, Kor...</td>\n",
       "      <td>[Sweden, Croatia, United States, China PR, Fra...</td>\n",
       "      <td>32</td>\n",
       "    </tr>\n",
       "    <tr>\n",
       "      <th>2006</th>\n",
       "      <td>[Italy, Germany, Portugal, Germany, England, B...</td>\n",
       "      <td>[France, Portugal, France, Italy, Portugal, Fr...</td>\n",
       "      <td>[Netherlands, Sweden, Côte d'Ivoire, Croatia, ...</td>\n",
       "      <td>32</td>\n",
       "    </tr>\n",
       "    <tr>\n",
       "      <th>2010</th>\n",
       "      <td>[Netherlands, Uruguay, Germany, Uruguay, Argen...</td>\n",
       "      <td>[Spain, Germany, Spain, Netherlands, Germany, ...</td>\n",
       "      <td>[Serbia, Netherlands, Côte d'Ivoire, United St...</td>\n",
       "      <td>32</td>\n",
       "    </tr>\n",
       "    <tr>\n",
       "      <th>2014</th>\n",
       "      <td>[Germany, Brazil, Netherlands, Brazil, Argenti...</td>\n",
       "      <td>[Argentina, Netherlands, Argentina, Germany, B...</td>\n",
       "      <td>[Netherlands, Côte d'Ivoire, Croatia, Bosnia a...</td>\n",
       "      <td>32</td>\n",
       "    </tr>\n",
       "    <tr>\n",
       "      <th>2018</th>\n",
       "      <td>[France, Belgium, Croatia, France, Sweden, Rus...</td>\n",
       "      <td>[Croatia, England, England, Belgium, England, ...</td>\n",
       "      <td>[Serbia, Sweden, Peru, Croatia, IR Iran, Austr...</td>\n",
       "      <td>32</td>\n",
       "    </tr>\n",
       "    <tr>\n",
       "      <th>2022</th>\n",
       "      <td>[Argentina, Croatia, France, Argentina, Morocc...</td>\n",
       "      <td>[France, Morocco, Morocco, Croatia, Portugal, ...</td>\n",
       "      <td>[Serbia, Netherlands, Qatar, Croatia, IR Iran,...</td>\n",
       "      <td>32</td>\n",
       "    </tr>\n",
       "  </tbody>\n",
       "</table>\n",
       "</div>"
      ],
      "text/plain": [
       "                                                   home  \\\n",
       "Year                                                      \n",
       "1930  [Uruguay, Uruguay, Argentina, Argentina, Urugu...   \n",
       "1934  [Italy, Germany, Czechoslovakia, Italy, Italy,...   \n",
       "1938  [Brazil, Italy, Hungary, Italy, Brazil, Sweden...   \n",
       "1950  [Sweden, Uruguay, Brazil, Uruguay, Brazil, Uru...   \n",
       "1954  [Germany, Austria, Hungary, Germany, Germany, ...   \n",
       "1958  [Brazil, France, Sweden, Brazil, France, West ...   \n",
       "1962  [Brazil, Chile, Brazil, Czechoslovakia, Chile,...   \n",
       "1966  [England, Portugal, England, West Germany, Por...   \n",
       "1970  [Brazil, West Germany, Italy, Brazil, Brazil, ...   \n",
       "1974  [Netherlands, Brazil, Poland, Netherlands, Arg...   \n",
       "1978  [Argentina, Brazil, Netherlands, Austria, Braz...   \n",
       "1982  [Italy, Poland, Poland, West Germany, Italy, S...   \n",
       "1986  [Argentina, France, France, Argentina, Argenti...   \n",
       "1990  [West Germany, Italy, West Germany, Italy, Wes...   \n",
       "1994  [Brazil, Sweden, Bulgaria, Sweden, Bulgaria, R...   \n",
       "1998  [Brazil, Netherlands, France, Brazil, Netherla...   \n",
       "2002  [Germany, Korea Republic, Brazil, Germany, Spa...   \n",
       "2006  [Italy, Germany, Portugal, Germany, England, B...   \n",
       "2010  [Netherlands, Uruguay, Germany, Uruguay, Argen...   \n",
       "2014  [Germany, Brazil, Netherlands, Brazil, Argenti...   \n",
       "2018  [France, Belgium, Croatia, France, Sweden, Rus...   \n",
       "2022  [Argentina, Croatia, France, Argentina, Morocc...   \n",
       "\n",
       "                                                   away  \\\n",
       "Year                                                      \n",
       "1930  [Argentina, Yugoslavia, United States, Chile, ...   \n",
       "1934  [Czechoslovakia, Austria, Germany, Austria, Sp...   \n",
       "1938  [Sweden, Hungary, Sweden, Brazil, Czechoslovak...   \n",
       "1950  [Spain, Brazil, Spain, Sweden, Sweden, Spain, ...   \n",
       "1954  [Hungary, Uruguay, Uruguay, Austria, Yugoslavi...   \n",
       "1958  [Sweden, West Germany, West Germany, France, N...   \n",
       "1962  [Czechoslovakia, Yugoslavia, Chile, Yugoslavia...   \n",
       "1966  [West Germany, Soviet Union, Portugal, Soviet ...   \n",
       "1970  [Italy, Uruguay, West Germany, Uruguay, Peru, ...   \n",
       "1974  [West Germany, Poland, West Germany, Brazil, W...   \n",
       "1978  [Netherlands, Italy, Italy, West Germany, Pola...   \n",
       "1982  [West Germany, France, Italy, France, Brazil, ...   \n",
       "1986  [West Germany, Belgium, West Germany, Belgium,...   \n",
       "1990  [Argentina, England, England, Argentina, Czech...   \n",
       "1994  [Italy, Bulgaria, Italy, Brazil, Germany, Swed...   \n",
       "1998  [France, Croatia, Croatia, Netherlands, Argent...   \n",
       "2002  [Brazil, Türkiye, Türkiye, Korea Republic, Kor...   \n",
       "2006  [France, Portugal, France, Italy, Portugal, Fr...   \n",
       "2010  [Spain, Germany, Spain, Netherlands, Germany, ...   \n",
       "2014  [Argentina, Netherlands, Argentina, Germany, B...   \n",
       "2018  [Croatia, England, England, Belgium, England, ...   \n",
       "2022  [France, Morocco, Morocco, Croatia, Portugal, ...   \n",
       "\n",
       "                                                  teams  No_of_teams  \n",
       "Year                                                                  \n",
       "1930  [Romania, France, Paraguay, Bolivia, Peru, Mex...           13  \n",
       "1934  [Romania, France, Italy, Czechoslovakia, Switz...           16  \n",
       "1938  [Romania, France, Italy, Czechoslovakia, Switz...           15  \n",
       "1950  [Italy, Switzerland, Sweden, Paraguay, Bolivia...           13  \n",
       "1954  [Scotland, France, Italy, Czechoslovakia, Swit...           16  \n",
       "1958  [Scotland, France, Wales, Czechoslovakia, Swed...           16  \n",
       "1962  [Italy, Czechoslovakia, Switzerland, Soviet Un...           16  \n",
       "1966  [France, Italy, Portugal, Switzerland, Soviet ...           16  \n",
       "1970  [Romania, Italy, Czechoslovakia, Sweden, Belgi...           16  \n",
       "1974  [Scotland, Italy, Netherlands, Sweden, Poland,...           15  \n",
       "1978  [Scotland, France, Italy, Netherlands, Poland,...           16  \n",
       "1982  [Scotland, Peru, Northern Ireland, Soviet Unio...           24  \n",
       "1986  [Scotland, Iraq, Northern Ireland, Soviet Unio...           24  \n",
       "1990  [Romania, Scotland, Netherlands, Sweden, Sovie...           24  \n",
       "1994  [Romania, Netherlands, Sweden, United States, ...           24  \n",
       "1998  [Romania, Scotland, Netherlands, Croatia, IR I...           32  \n",
       "2002  [Sweden, Croatia, United States, China PR, Fra...           32  \n",
       "2006  [Netherlands, Sweden, Côte d'Ivoire, Croatia, ...           32  \n",
       "2010  [Serbia, Netherlands, Côte d'Ivoire, United St...           32  \n",
       "2014  [Netherlands, Côte d'Ivoire, Croatia, Bosnia a...           32  \n",
       "2018  [Serbia, Sweden, Peru, Croatia, IR Iran, Austr...           32  \n",
       "2022  [Serbia, Netherlands, Qatar, Croatia, IR Iran,...           32  "
      ]
     },
     "execution_count": 108,
     "metadata": {},
     "output_type": "execute_result"
    }
   ],
   "source": [
    "#1) concatinating the data of two list: Home and Away\n",
    "#2) putting it in a set because set doesn't contain duplicates\n",
    "#3) Framing a list of that set\n",
    "data['teams'] = data.apply(lambda x: list(set(x['home']+x['away'])), axis=1)\n",
    "\n",
    "#4) number of teams in a specific edition of a FIFA\n",
    "data['No_of_teams'] = data['teams'].apply(len)\n",
    "\n",
    "data"
   ]
  },
  {
   "cell_type": "code",
   "execution_count": 109,
   "metadata": {},
   "outputs": [],
   "source": [
    "# for visualization, I need all the data of a single list in different rows\n",
    "data_pivot = data['teams'].explode().reset_index().pivot(index='teams', columns='Year', values='Year')"
   ]
  },
  {
   "cell_type": "code",
   "execution_count": 110,
   "metadata": {},
   "outputs": [
    {
     "data": {
      "text/html": [
       "<div>\n",
       "<style scoped>\n",
       "    .dataframe tbody tr th:only-of-type {\n",
       "        vertical-align: middle;\n",
       "    }\n",
       "\n",
       "    .dataframe tbody tr th {\n",
       "        vertical-align: top;\n",
       "    }\n",
       "\n",
       "    .dataframe thead th {\n",
       "        text-align: right;\n",
       "    }\n",
       "</style>\n",
       "<table border=\"1\" class=\"dataframe\">\n",
       "  <thead>\n",
       "    <tr style=\"text-align: right;\">\n",
       "      <th>Year</th>\n",
       "      <th>1930</th>\n",
       "      <th>1934</th>\n",
       "      <th>1938</th>\n",
       "      <th>1950</th>\n",
       "      <th>1954</th>\n",
       "      <th>1958</th>\n",
       "      <th>1962</th>\n",
       "      <th>1966</th>\n",
       "      <th>1970</th>\n",
       "      <th>1974</th>\n",
       "      <th>...</th>\n",
       "      <th>1986</th>\n",
       "      <th>1990</th>\n",
       "      <th>1994</th>\n",
       "      <th>1998</th>\n",
       "      <th>2002</th>\n",
       "      <th>2006</th>\n",
       "      <th>2010</th>\n",
       "      <th>2014</th>\n",
       "      <th>2018</th>\n",
       "      <th>2022</th>\n",
       "    </tr>\n",
       "    <tr>\n",
       "      <th>teams</th>\n",
       "      <th></th>\n",
       "      <th></th>\n",
       "      <th></th>\n",
       "      <th></th>\n",
       "      <th></th>\n",
       "      <th></th>\n",
       "      <th></th>\n",
       "      <th></th>\n",
       "      <th></th>\n",
       "      <th></th>\n",
       "      <th></th>\n",
       "      <th></th>\n",
       "      <th></th>\n",
       "      <th></th>\n",
       "      <th></th>\n",
       "      <th></th>\n",
       "      <th></th>\n",
       "      <th></th>\n",
       "      <th></th>\n",
       "      <th></th>\n",
       "      <th></th>\n",
       "    </tr>\n",
       "  </thead>\n",
       "  <tbody>\n",
       "    <tr>\n",
       "      <th>Algeria</th>\n",
       "      <td>0.0</td>\n",
       "      <td>0.0</td>\n",
       "      <td>0.0</td>\n",
       "      <td>0.0</td>\n",
       "      <td>0.0</td>\n",
       "      <td>0.0</td>\n",
       "      <td>0.0</td>\n",
       "      <td>0.0</td>\n",
       "      <td>0.0</td>\n",
       "      <td>0.0</td>\n",
       "      <td>...</td>\n",
       "      <td>1986.0</td>\n",
       "      <td>0.0</td>\n",
       "      <td>0.0</td>\n",
       "      <td>0.0</td>\n",
       "      <td>0.0</td>\n",
       "      <td>0.0</td>\n",
       "      <td>2010.0</td>\n",
       "      <td>2014.0</td>\n",
       "      <td>0.0</td>\n",
       "      <td>0.0</td>\n",
       "    </tr>\n",
       "    <tr>\n",
       "      <th>Angola</th>\n",
       "      <td>0.0</td>\n",
       "      <td>0.0</td>\n",
       "      <td>0.0</td>\n",
       "      <td>0.0</td>\n",
       "      <td>0.0</td>\n",
       "      <td>0.0</td>\n",
       "      <td>0.0</td>\n",
       "      <td>0.0</td>\n",
       "      <td>0.0</td>\n",
       "      <td>0.0</td>\n",
       "      <td>...</td>\n",
       "      <td>0.0</td>\n",
       "      <td>0.0</td>\n",
       "      <td>0.0</td>\n",
       "      <td>0.0</td>\n",
       "      <td>0.0</td>\n",
       "      <td>2006.0</td>\n",
       "      <td>0.0</td>\n",
       "      <td>0.0</td>\n",
       "      <td>0.0</td>\n",
       "      <td>0.0</td>\n",
       "    </tr>\n",
       "    <tr>\n",
       "      <th>Argentina</th>\n",
       "      <td>1930.0</td>\n",
       "      <td>1934.0</td>\n",
       "      <td>0.0</td>\n",
       "      <td>0.0</td>\n",
       "      <td>0.0</td>\n",
       "      <td>1958.0</td>\n",
       "      <td>1962.0</td>\n",
       "      <td>1966.0</td>\n",
       "      <td>0.0</td>\n",
       "      <td>1974.0</td>\n",
       "      <td>...</td>\n",
       "      <td>1986.0</td>\n",
       "      <td>1990.0</td>\n",
       "      <td>1994.0</td>\n",
       "      <td>1998.0</td>\n",
       "      <td>2002.0</td>\n",
       "      <td>2006.0</td>\n",
       "      <td>2010.0</td>\n",
       "      <td>2014.0</td>\n",
       "      <td>2018.0</td>\n",
       "      <td>2022.0</td>\n",
       "    </tr>\n",
       "    <tr>\n",
       "      <th>Australia</th>\n",
       "      <td>0.0</td>\n",
       "      <td>0.0</td>\n",
       "      <td>0.0</td>\n",
       "      <td>0.0</td>\n",
       "      <td>0.0</td>\n",
       "      <td>0.0</td>\n",
       "      <td>0.0</td>\n",
       "      <td>0.0</td>\n",
       "      <td>0.0</td>\n",
       "      <td>1974.0</td>\n",
       "      <td>...</td>\n",
       "      <td>0.0</td>\n",
       "      <td>0.0</td>\n",
       "      <td>0.0</td>\n",
       "      <td>0.0</td>\n",
       "      <td>0.0</td>\n",
       "      <td>2006.0</td>\n",
       "      <td>2010.0</td>\n",
       "      <td>2014.0</td>\n",
       "      <td>2018.0</td>\n",
       "      <td>2022.0</td>\n",
       "    </tr>\n",
       "    <tr>\n",
       "      <th>Austria</th>\n",
       "      <td>0.0</td>\n",
       "      <td>1934.0</td>\n",
       "      <td>0.0</td>\n",
       "      <td>0.0</td>\n",
       "      <td>1954.0</td>\n",
       "      <td>1958.0</td>\n",
       "      <td>0.0</td>\n",
       "      <td>0.0</td>\n",
       "      <td>0.0</td>\n",
       "      <td>0.0</td>\n",
       "      <td>...</td>\n",
       "      <td>0.0</td>\n",
       "      <td>1990.0</td>\n",
       "      <td>0.0</td>\n",
       "      <td>1998.0</td>\n",
       "      <td>0.0</td>\n",
       "      <td>0.0</td>\n",
       "      <td>0.0</td>\n",
       "      <td>0.0</td>\n",
       "      <td>0.0</td>\n",
       "      <td>0.0</td>\n",
       "    </tr>\n",
       "    <tr>\n",
       "      <th>...</th>\n",
       "      <td>...</td>\n",
       "      <td>...</td>\n",
       "      <td>...</td>\n",
       "      <td>...</td>\n",
       "      <td>...</td>\n",
       "      <td>...</td>\n",
       "      <td>...</td>\n",
       "      <td>...</td>\n",
       "      <td>...</td>\n",
       "      <td>...</td>\n",
       "      <td>...</td>\n",
       "      <td>...</td>\n",
       "      <td>...</td>\n",
       "      <td>...</td>\n",
       "      <td>...</td>\n",
       "      <td>...</td>\n",
       "      <td>...</td>\n",
       "      <td>...</td>\n",
       "      <td>...</td>\n",
       "      <td>...</td>\n",
       "      <td>...</td>\n",
       "    </tr>\n",
       "    <tr>\n",
       "      <th>Uruguay</th>\n",
       "      <td>1930.0</td>\n",
       "      <td>0.0</td>\n",
       "      <td>0.0</td>\n",
       "      <td>1950.0</td>\n",
       "      <td>1954.0</td>\n",
       "      <td>0.0</td>\n",
       "      <td>1962.0</td>\n",
       "      <td>1966.0</td>\n",
       "      <td>1970.0</td>\n",
       "      <td>1974.0</td>\n",
       "      <td>...</td>\n",
       "      <td>1986.0</td>\n",
       "      <td>1990.0</td>\n",
       "      <td>0.0</td>\n",
       "      <td>0.0</td>\n",
       "      <td>2002.0</td>\n",
       "      <td>0.0</td>\n",
       "      <td>2010.0</td>\n",
       "      <td>2014.0</td>\n",
       "      <td>2018.0</td>\n",
       "      <td>2022.0</td>\n",
       "    </tr>\n",
       "    <tr>\n",
       "      <th>Wales</th>\n",
       "      <td>0.0</td>\n",
       "      <td>0.0</td>\n",
       "      <td>0.0</td>\n",
       "      <td>0.0</td>\n",
       "      <td>0.0</td>\n",
       "      <td>1958.0</td>\n",
       "      <td>0.0</td>\n",
       "      <td>0.0</td>\n",
       "      <td>0.0</td>\n",
       "      <td>0.0</td>\n",
       "      <td>...</td>\n",
       "      <td>0.0</td>\n",
       "      <td>0.0</td>\n",
       "      <td>0.0</td>\n",
       "      <td>0.0</td>\n",
       "      <td>0.0</td>\n",
       "      <td>0.0</td>\n",
       "      <td>0.0</td>\n",
       "      <td>0.0</td>\n",
       "      <td>0.0</td>\n",
       "      <td>2022.0</td>\n",
       "    </tr>\n",
       "    <tr>\n",
       "      <th>West Germany</th>\n",
       "      <td>0.0</td>\n",
       "      <td>0.0</td>\n",
       "      <td>0.0</td>\n",
       "      <td>0.0</td>\n",
       "      <td>0.0</td>\n",
       "      <td>1958.0</td>\n",
       "      <td>1962.0</td>\n",
       "      <td>1966.0</td>\n",
       "      <td>1970.0</td>\n",
       "      <td>1974.0</td>\n",
       "      <td>...</td>\n",
       "      <td>1986.0</td>\n",
       "      <td>1990.0</td>\n",
       "      <td>0.0</td>\n",
       "      <td>0.0</td>\n",
       "      <td>0.0</td>\n",
       "      <td>0.0</td>\n",
       "      <td>0.0</td>\n",
       "      <td>0.0</td>\n",
       "      <td>0.0</td>\n",
       "      <td>0.0</td>\n",
       "    </tr>\n",
       "    <tr>\n",
       "      <th>Yugoslavia</th>\n",
       "      <td>1930.0</td>\n",
       "      <td>0.0</td>\n",
       "      <td>0.0</td>\n",
       "      <td>1950.0</td>\n",
       "      <td>1954.0</td>\n",
       "      <td>1958.0</td>\n",
       "      <td>1962.0</td>\n",
       "      <td>0.0</td>\n",
       "      <td>0.0</td>\n",
       "      <td>1974.0</td>\n",
       "      <td>...</td>\n",
       "      <td>0.0</td>\n",
       "      <td>1990.0</td>\n",
       "      <td>0.0</td>\n",
       "      <td>0.0</td>\n",
       "      <td>0.0</td>\n",
       "      <td>0.0</td>\n",
       "      <td>0.0</td>\n",
       "      <td>0.0</td>\n",
       "      <td>0.0</td>\n",
       "      <td>0.0</td>\n",
       "    </tr>\n",
       "    <tr>\n",
       "      <th>Zaire</th>\n",
       "      <td>0.0</td>\n",
       "      <td>0.0</td>\n",
       "      <td>0.0</td>\n",
       "      <td>0.0</td>\n",
       "      <td>0.0</td>\n",
       "      <td>0.0</td>\n",
       "      <td>0.0</td>\n",
       "      <td>0.0</td>\n",
       "      <td>0.0</td>\n",
       "      <td>1974.0</td>\n",
       "      <td>...</td>\n",
       "      <td>0.0</td>\n",
       "      <td>0.0</td>\n",
       "      <td>0.0</td>\n",
       "      <td>0.0</td>\n",
       "      <td>0.0</td>\n",
       "      <td>0.0</td>\n",
       "      <td>0.0</td>\n",
       "      <td>0.0</td>\n",
       "      <td>0.0</td>\n",
       "      <td>0.0</td>\n",
       "    </tr>\n",
       "  </tbody>\n",
       "</table>\n",
       "<p>85 rows × 22 columns</p>\n",
       "</div>"
      ],
      "text/plain": [
       "Year            1930    1934  1938    1950    1954    1958    1962    1966  \\\n",
       "teams                                                                        \n",
       "Algeria          0.0     0.0   0.0     0.0     0.0     0.0     0.0     0.0   \n",
       "Angola           0.0     0.0   0.0     0.0     0.0     0.0     0.0     0.0   \n",
       "Argentina     1930.0  1934.0   0.0     0.0     0.0  1958.0  1962.0  1966.0   \n",
       "Australia        0.0     0.0   0.0     0.0     0.0     0.0     0.0     0.0   \n",
       "Austria          0.0  1934.0   0.0     0.0  1954.0  1958.0     0.0     0.0   \n",
       "...              ...     ...   ...     ...     ...     ...     ...     ...   \n",
       "Uruguay       1930.0     0.0   0.0  1950.0  1954.0     0.0  1962.0  1966.0   \n",
       "Wales            0.0     0.0   0.0     0.0     0.0  1958.0     0.0     0.0   \n",
       "West Germany     0.0     0.0   0.0     0.0     0.0  1958.0  1962.0  1966.0   \n",
       "Yugoslavia    1930.0     0.0   0.0  1950.0  1954.0  1958.0  1962.0     0.0   \n",
       "Zaire            0.0     0.0   0.0     0.0     0.0     0.0     0.0     0.0   \n",
       "\n",
       "Year            1970    1974  ...    1986    1990    1994    1998    2002  \\\n",
       "teams                         ...                                           \n",
       "Algeria          0.0     0.0  ...  1986.0     0.0     0.0     0.0     0.0   \n",
       "Angola           0.0     0.0  ...     0.0     0.0     0.0     0.0     0.0   \n",
       "Argentina        0.0  1974.0  ...  1986.0  1990.0  1994.0  1998.0  2002.0   \n",
       "Australia        0.0  1974.0  ...     0.0     0.0     0.0     0.0     0.0   \n",
       "Austria          0.0     0.0  ...     0.0  1990.0     0.0  1998.0     0.0   \n",
       "...              ...     ...  ...     ...     ...     ...     ...     ...   \n",
       "Uruguay       1970.0  1974.0  ...  1986.0  1990.0     0.0     0.0  2002.0   \n",
       "Wales            0.0     0.0  ...     0.0     0.0     0.0     0.0     0.0   \n",
       "West Germany  1970.0  1974.0  ...  1986.0  1990.0     0.0     0.0     0.0   \n",
       "Yugoslavia       0.0  1974.0  ...     0.0  1990.0     0.0     0.0     0.0   \n",
       "Zaire            0.0  1974.0  ...     0.0     0.0     0.0     0.0     0.0   \n",
       "\n",
       "Year            2006    2010    2014    2018    2022  \n",
       "teams                                                 \n",
       "Algeria          0.0  2010.0  2014.0     0.0     0.0  \n",
       "Angola        2006.0     0.0     0.0     0.0     0.0  \n",
       "Argentina     2006.0  2010.0  2014.0  2018.0  2022.0  \n",
       "Australia     2006.0  2010.0  2014.0  2018.0  2022.0  \n",
       "Austria          0.0     0.0     0.0     0.0     0.0  \n",
       "...              ...     ...     ...     ...     ...  \n",
       "Uruguay          0.0  2010.0  2014.0  2018.0  2022.0  \n",
       "Wales            0.0     0.0     0.0     0.0  2022.0  \n",
       "West Germany     0.0     0.0     0.0     0.0     0.0  \n",
       "Yugoslavia       0.0     0.0     0.0     0.0     0.0  \n",
       "Zaire            0.0     0.0     0.0     0.0     0.0  \n",
       "\n",
       "[85 rows x 22 columns]"
      ]
     },
     "execution_count": 110,
     "metadata": {},
     "output_type": "execute_result"
    }
   ],
   "source": [
    "data_pivot.fillna(0,inplace=True)\n",
    "data_pivot"
   ]
  },
  {
   "cell_type": "code",
   "execution_count": 111,
   "metadata": {},
   "outputs": [],
   "source": [
    "data_pivot = data_pivot.map(lambda x: 1 if x>0 else 0)"
   ]
  },
  {
   "cell_type": "code",
   "execution_count": 112,
   "metadata": {},
   "outputs": [
    {
     "data": {
      "image/png": "[encoded data removed]",
      "text/plain": [
       "<Figure size 1200x2000 with 2 Axes>"
      ]
     },
     "metadata": {},
     "output_type": "display_data"
    }
   ],
   "source": [
    "plt.figure(figsize=(12,20))\n",
    "sns.heatmap(data_pivot, linewidths=0.5,linecolor='white')\n",
    "plt.title('Team Participation Over Years')\n",
    "plt.xlabel('Years')\n",
    "plt.ylabel('Teams')\n",
    "plt.show()"
   ]
  },
  {
   "cell_type": "markdown",
   "metadata": {},
   "source": [
    "#### Observations\n",
    "\n",
    "1) Brazil is the only country to play all the edition of FIFA worldcup\n",
    "2) Countries like Quatar, Canada, Wales are new to the tournament\n",
    "3) Cuba, Israel, Kuwait, Jamaica, Ukrain, Tango - These countries played only one edition of FIFA World-cup"
   ]
  },
  {
   "cell_type": "code",
   "execution_count": 113,
   "metadata": {},
   "outputs": [],
   "source": [
    "#Checking for world ranking of a team\n",
    "Same_rank = world_ranking[world_ranking['rank'] == world_ranking['previous_rank']]['team'].tolist()\n",
    "Decreased_rank = world_ranking[world_ranking['rank']>world_ranking['previous_rank']]['team'].tolist()\n",
    "Increased_rank = world_ranking[world_ranking['rank']<world_ranking['previous_rank']]['team'].tolist()"
   ]
  },
  {
   "cell_type": "code",
   "execution_count": 114,
   "metadata": {},
   "outputs": [
    {
     "name": "stdout",
     "output_type": "stream",
     "text": [
      "66\n",
      "68\n",
      "77\n"
     ]
    }
   ],
   "source": [
    "print(len(Same_rank))\n",
    "print(len(Decreased_rank))\n",
    "print(len(Increased_rank))"
   ]
  },
  {
   "cell_type": "code",
   "execution_count": 115,
   "metadata": {},
   "outputs": [],
   "source": [
    "max_len = max(len(Same_rank), len(Decreased_rank), len(Increased_rank))"
   ]
  },
  {
   "cell_type": "code",
   "execution_count": 116,
   "metadata": {},
   "outputs": [],
   "source": [
    "#length of each list should be equal to represent the data in dataframe\n",
    "Same_rank+=[None]*(max_len - len(Same_rank))\n",
    "Decreased_rank+=[None]*(max_len - len(Decreased_rank))\n",
    "Increased_rank+=[None]*(max_len - len(Increased_rank))"
   ]
  },
  {
   "cell_type": "code",
   "execution_count": 117,
   "metadata": {},
   "outputs": [
    {
     "data": {
      "text/html": [
       "<div>\n",
       "<style scoped>\n",
       "    .dataframe tbody tr th:only-of-type {\n",
       "        vertical-align: middle;\n",
       "    }\n",
       "\n",
       "    .dataframe tbody tr th {\n",
       "        vertical-align: top;\n",
       "    }\n",
       "\n",
       "    .dataframe thead th {\n",
       "        text-align: right;\n",
       "    }\n",
       "</style>\n",
       "<table border=\"1\" class=\"dataframe\">\n",
       "  <thead>\n",
       "    <tr style=\"text-align: right;\">\n",
       "      <th></th>\n",
       "      <th>Same Rank</th>\n",
       "      <th>Increased Rank</th>\n",
       "      <th>Decreased Rank</th>\n",
       "    </tr>\n",
       "  </thead>\n",
       "  <tbody>\n",
       "    <tr>\n",
       "      <th>0</th>\n",
       "      <td>Brazil</td>\n",
       "      <td>Italy</td>\n",
       "      <td>Spain</td>\n",
       "    </tr>\n",
       "    <tr>\n",
       "      <th>1</th>\n",
       "      <td>Belgium</td>\n",
       "      <td>Croatia</td>\n",
       "      <td>Mexico</td>\n",
       "    </tr>\n",
       "    <tr>\n",
       "      <th>2</th>\n",
       "      <td>Argentina</td>\n",
       "      <td>Switzerland</td>\n",
       "      <td>Uruguay</td>\n",
       "    </tr>\n",
       "    <tr>\n",
       "      <th>3</th>\n",
       "      <td>France</td>\n",
       "      <td>IR Iran</td>\n",
       "      <td>USA</td>\n",
       "    </tr>\n",
       "    <tr>\n",
       "      <th>4</th>\n",
       "      <td>England</td>\n",
       "      <td>Serbia</td>\n",
       "      <td>Peru</td>\n",
       "    </tr>\n",
       "    <tr>\n",
       "      <th>...</th>\n",
       "      <td>...</td>\n",
       "      <td>...</td>\n",
       "      <td>...</td>\n",
       "    </tr>\n",
       "    <tr>\n",
       "      <th>72</th>\n",
       "      <td>None</td>\n",
       "      <td>Timor-Leste</td>\n",
       "      <td>None</td>\n",
       "    </tr>\n",
       "    <tr>\n",
       "      <th>73</th>\n",
       "      <td>None</td>\n",
       "      <td>Eritrea</td>\n",
       "      <td>None</td>\n",
       "    </tr>\n",
       "    <tr>\n",
       "      <th>74</th>\n",
       "      <td>None</td>\n",
       "      <td>Aruba</td>\n",
       "      <td>None</td>\n",
       "    </tr>\n",
       "    <tr>\n",
       "      <th>75</th>\n",
       "      <td>None</td>\n",
       "      <td>Bahamas</td>\n",
       "      <td>None</td>\n",
       "    </tr>\n",
       "    <tr>\n",
       "      <th>76</th>\n",
       "      <td>None</td>\n",
       "      <td>Somalia</td>\n",
       "      <td>None</td>\n",
       "    </tr>\n",
       "  </tbody>\n",
       "</table>\n",
       "<p>77 rows × 3 columns</p>\n",
       "</div>"
      ],
      "text/plain": [
       "    Same Rank Increased Rank Decreased Rank\n",
       "0      Brazil          Italy          Spain\n",
       "1     Belgium        Croatia         Mexico\n",
       "2   Argentina    Switzerland        Uruguay\n",
       "3      France        IR Iran            USA\n",
       "4     England         Serbia           Peru\n",
       "..        ...            ...            ...\n",
       "72       None    Timor-Leste           None\n",
       "73       None        Eritrea           None\n",
       "74       None          Aruba           None\n",
       "75       None        Bahamas           None\n",
       "76       None        Somalia           None\n",
       "\n",
       "[77 rows x 3 columns]"
      ]
     },
     "execution_count": 117,
     "metadata": {},
     "output_type": "execute_result"
    }
   ],
   "source": [
    "#making the dataframe\n",
    "df = pd.DataFrame({\n",
    "    'Same Rank': Same_rank,\n",
    "    'Increased Rank': Increased_rank,\n",
    "    'Decreased Rank': Decreased_rank\n",
    "})\n",
    "df"
   ]
  },
  {
   "cell_type": "code",
   "execution_count": 118,
   "metadata": {},
   "outputs": [
    {
     "data": {
      "text/plain": [
       "Same Rank         11\n",
       "Increased Rank     0\n",
       "Decreased Rank     9\n",
       "dtype: int64"
      ]
     },
     "execution_count": 118,
     "metadata": {},
     "output_type": "execute_result"
    }
   ],
   "source": [
    "df.isnull().sum()"
   ]
  },
  {
   "cell_type": "code",
   "execution_count": 119,
   "metadata": {},
   "outputs": [
    {
     "data": {
      "text/html": [
       "<div>\n",
       "<style scoped>\n",
       "    .dataframe tbody tr th:only-of-type {\n",
       "        vertical-align: middle;\n",
       "    }\n",
       "\n",
       "    .dataframe tbody tr th {\n",
       "        vertical-align: top;\n",
       "    }\n",
       "\n",
       "    .dataframe thead th {\n",
       "        text-align: right;\n",
       "    }\n",
       "</style>\n",
       "<table border=\"1\" class=\"dataframe\">\n",
       "  <thead>\n",
       "    <tr style=\"text-align: right;\">\n",
       "      <th></th>\n",
       "      <th>Same Rank</th>\n",
       "      <th>Increased Rank</th>\n",
       "      <th>Decreased Rank</th>\n",
       "    </tr>\n",
       "  </thead>\n",
       "  <tbody>\n",
       "    <tr>\n",
       "      <th>0</th>\n",
       "      <td>Brazil</td>\n",
       "      <td>Italy</td>\n",
       "      <td>Spain</td>\n",
       "    </tr>\n",
       "    <tr>\n",
       "      <th>1</th>\n",
       "      <td>Belgium</td>\n",
       "      <td>Croatia</td>\n",
       "      <td>Mexico</td>\n",
       "    </tr>\n",
       "    <tr>\n",
       "      <th>2</th>\n",
       "      <td>Argentina</td>\n",
       "      <td>Switzerland</td>\n",
       "      <td>Uruguay</td>\n",
       "    </tr>\n",
       "    <tr>\n",
       "      <th>3</th>\n",
       "      <td>France</td>\n",
       "      <td>IR Iran</td>\n",
       "      <td>USA</td>\n",
       "    </tr>\n",
       "    <tr>\n",
       "      <th>4</th>\n",
       "      <td>England</td>\n",
       "      <td>Serbia</td>\n",
       "      <td>Peru</td>\n",
       "    </tr>\n",
       "    <tr>\n",
       "      <th>...</th>\n",
       "      <td>...</td>\n",
       "      <td>...</td>\n",
       "      <td>...</td>\n",
       "    </tr>\n",
       "    <tr>\n",
       "      <th>72</th>\n",
       "      <td></td>\n",
       "      <td>Timor-Leste</td>\n",
       "      <td></td>\n",
       "    </tr>\n",
       "    <tr>\n",
       "      <th>73</th>\n",
       "      <td></td>\n",
       "      <td>Eritrea</td>\n",
       "      <td></td>\n",
       "    </tr>\n",
       "    <tr>\n",
       "      <th>74</th>\n",
       "      <td></td>\n",
       "      <td>Aruba</td>\n",
       "      <td></td>\n",
       "    </tr>\n",
       "    <tr>\n",
       "      <th>75</th>\n",
       "      <td></td>\n",
       "      <td>Bahamas</td>\n",
       "      <td></td>\n",
       "    </tr>\n",
       "    <tr>\n",
       "      <th>76</th>\n",
       "      <td></td>\n",
       "      <td>Somalia</td>\n",
       "      <td></td>\n",
       "    </tr>\n",
       "  </tbody>\n",
       "</table>\n",
       "<p>77 rows × 3 columns</p>\n",
       "</div>"
      ],
      "text/plain": [
       "    Same Rank Increased Rank Decreased Rank\n",
       "0      Brazil          Italy          Spain\n",
       "1     Belgium        Croatia         Mexico\n",
       "2   Argentina    Switzerland        Uruguay\n",
       "3      France        IR Iran            USA\n",
       "4     England         Serbia           Peru\n",
       "..        ...            ...            ...\n",
       "72               Timor-Leste               \n",
       "73                   Eritrea               \n",
       "74                     Aruba               \n",
       "75                   Bahamas               \n",
       "76                   Somalia               \n",
       "\n",
       "[77 rows x 3 columns]"
      ]
     },
     "execution_count": 119,
     "metadata": {},
     "output_type": "execute_result"
    }
   ],
   "source": [
    "df.fillna('', inplace=True)\n",
    "df"
   ]
  },
  {
   "cell_type": "code",
   "execution_count": 120,
   "metadata": {},
   "outputs": [
    {
     "data": {
      "text/plain": [
       "['Decreased Rank']"
      ]
     },
     "execution_count": 120,
     "metadata": {},
     "output_type": "execute_result"
    }
   ],
   "source": [
    "#function to check which country belongs to which column\n",
    "def find_rank(Country):\n",
    "    res = []\n",
    "    for column in df.columns:\n",
    "        matches = Country == df[column]\n",
    "        if matches.any():\n",
    "            res.append(column)\n",
    "    return res\n",
    "\n",
    "find_rank('Qatar')"
   ]
  },
  {
   "cell_type": "markdown",
   "metadata": {},
   "source": [
    "# ADVANCED EDA"
   ]
  },
  {
   "cell_type": "code",
   "execution_count": 121,
   "metadata": {},
   "outputs": [
    {
     "data": {
      "text/html": [
       "<div>\n",
       "<style scoped>\n",
       "    .dataframe tbody tr th:only-of-type {\n",
       "        vertical-align: middle;\n",
       "    }\n",
       "\n",
       "    .dataframe tbody tr th {\n",
       "        vertical-align: top;\n",
       "    }\n",
       "\n",
       "    .dataframe thead th {\n",
       "        text-align: right;\n",
       "    }\n",
       "</style>\n",
       "<table border=\"1\" class=\"dataframe\">\n",
       "  <thead>\n",
       "    <tr style=\"text-align: right;\">\n",
       "      <th></th>\n",
       "      <th>home_team</th>\n",
       "      <th>away_team</th>\n",
       "      <th>home_score</th>\n",
       "      <th>home_xg</th>\n",
       "      <th>home_penalty</th>\n",
       "      <th>away_score</th>\n",
       "      <th>away_xg</th>\n",
       "      <th>away_penalty</th>\n",
       "      <th>home_manager</th>\n",
       "      <th>home_captain</th>\n",
       "      <th>...</th>\n",
       "      <th>home_red_card</th>\n",
       "      <th>away_red_card</th>\n",
       "      <th>home_yellow_red_card</th>\n",
       "      <th>away_yellow_red_card</th>\n",
       "      <th>home_yellow_card_long</th>\n",
       "      <th>away_yellow_card_long</th>\n",
       "      <th>home_substitute_in_long</th>\n",
       "      <th>away_substitute_in_long</th>\n",
       "      <th>a_total</th>\n",
       "      <th>h_total</th>\n",
       "    </tr>\n",
       "  </thead>\n",
       "  <tbody>\n",
       "    <tr>\n",
       "      <th>0</th>\n",
       "      <td>Argentina</td>\n",
       "      <td>France</td>\n",
       "      <td>3</td>\n",
       "      <td>3.3</td>\n",
       "      <td>4.0</td>\n",
       "      <td>3</td>\n",
       "      <td>2.2</td>\n",
       "      <td>2.0</td>\n",
       "      <td>Lionel Scaloni</td>\n",
       "      <td>Lionel Messi</td>\n",
       "      <td>...</td>\n",
       "      <td>NaN</td>\n",
       "      <td>NaN</td>\n",
       "      <td>NaN</td>\n",
       "      <td>NaN</td>\n",
       "      <td>['45+7&amp;rsquor;|2:0|Enzo Fernández', '90+8&amp;rsqu...</td>\n",
       "      <td>['55&amp;rsquor;|2:0|Adrien Rabiot', '87&amp;rsquor;|2...</td>\n",
       "      <td>['64&amp;rsquor;|2:0|Marcos Acuña|for Ángel Di Mar...</td>\n",
       "      <td>['41&amp;rsquor;|2:0|Randal Kolo Muani|for Ousmane...</td>\n",
       "      <td>5.0</td>\n",
       "      <td>7.0</td>\n",
       "    </tr>\n",
       "    <tr>\n",
       "      <th>1</th>\n",
       "      <td>Croatia</td>\n",
       "      <td>Morocco</td>\n",
       "      <td>2</td>\n",
       "      <td>0.7</td>\n",
       "      <td>0.0</td>\n",
       "      <td>1</td>\n",
       "      <td>1.2</td>\n",
       "      <td>0.0</td>\n",
       "      <td>Zlatko Dalić</td>\n",
       "      <td>Luka Modrić</td>\n",
       "      <td>...</td>\n",
       "      <td>NaN</td>\n",
       "      <td>NaN</td>\n",
       "      <td>NaN</td>\n",
       "      <td>NaN</td>\n",
       "      <td>NaN</td>\n",
       "      <td>['69&amp;rsquor;|2:1|Azzedine Ounahi', '84&amp;rsquor;...</td>\n",
       "      <td>['61&amp;rsquor;|2:1|Nikola Vlašić|for Andrej Kram...</td>\n",
       "      <td>['46&amp;rsquor;|2:1|Ilias Chair|for Abdelhamid Sa...</td>\n",
       "      <td>1.0</td>\n",
       "      <td>2.0</td>\n",
       "    </tr>\n",
       "    <tr>\n",
       "      <th>2</th>\n",
       "      <td>France</td>\n",
       "      <td>Morocco</td>\n",
       "      <td>2</td>\n",
       "      <td>2.0</td>\n",
       "      <td>0.0</td>\n",
       "      <td>0</td>\n",
       "      <td>0.9</td>\n",
       "      <td>0.0</td>\n",
       "      <td>Didier Deschamps</td>\n",
       "      <td>Hugo Lloris</td>\n",
       "      <td>...</td>\n",
       "      <td>NaN</td>\n",
       "      <td>NaN</td>\n",
       "      <td>NaN</td>\n",
       "      <td>NaN</td>\n",
       "      <td>NaN</td>\n",
       "      <td>['27&amp;rsquor;|1:0|Sofiane Boufal']</td>\n",
       "      <td>['65&amp;rsquor;|1:0|Marcus Thuram|for Olivier Gir...</td>\n",
       "      <td>['21&amp;rsquor;|1:0|Selim Amallah|for Romain Saïs...</td>\n",
       "      <td>0.0</td>\n",
       "      <td>2.0</td>\n",
       "    </tr>\n",
       "    <tr>\n",
       "      <th>3</th>\n",
       "      <td>Argentina</td>\n",
       "      <td>Croatia</td>\n",
       "      <td>3</td>\n",
       "      <td>2.3</td>\n",
       "      <td>0.0</td>\n",
       "      <td>0</td>\n",
       "      <td>0.5</td>\n",
       "      <td>0.0</td>\n",
       "      <td>Lionel Scaloni</td>\n",
       "      <td>Lionel Messi</td>\n",
       "      <td>...</td>\n",
       "      <td>NaN</td>\n",
       "      <td>NaN</td>\n",
       "      <td>NaN</td>\n",
       "      <td>NaN</td>\n",
       "      <td>['68&amp;rsquor;|2:0|Cristian Romero', '71&amp;rsquor;...</td>\n",
       "      <td>['32&amp;rsquor;|0:0|Mateo Kovačić', '32&amp;rsquor;|0...</td>\n",
       "      <td>['62&amp;rsquor;|2:0|Lisandro Martínez|for Leandro...</td>\n",
       "      <td>['46&amp;rsquor;|2:0|Mislav Oršić|for Borna Sosa',...</td>\n",
       "      <td>0.0</td>\n",
       "      <td>3.0</td>\n",
       "    </tr>\n",
       "    <tr>\n",
       "      <th>4</th>\n",
       "      <td>Morocco</td>\n",
       "      <td>Portugal</td>\n",
       "      <td>1</td>\n",
       "      <td>1.4</td>\n",
       "      <td>0.0</td>\n",
       "      <td>0</td>\n",
       "      <td>0.9</td>\n",
       "      <td>0.0</td>\n",
       "      <td>Hoalid Regragui</td>\n",
       "      <td>Romain Saïss</td>\n",
       "      <td>...</td>\n",
       "      <td>NaN</td>\n",
       "      <td>NaN</td>\n",
       "      <td>Walid Cheddira · 90+3</td>\n",
       "      <td>NaN</td>\n",
       "      <td>['70&amp;rsquor;|1:0|Achraf Dari', '90+1&amp;rsquor;|1...</td>\n",
       "      <td>['87&amp;rsquor;|1:0|Vitinha']</td>\n",
       "      <td>['57&amp;rsquor;|1:0|Achraf Dari|for Romain Saïss'...</td>\n",
       "      <td>['51&amp;rsquor;|1:0|João Cancelo|for Raphaël Guer...</td>\n",
       "      <td>0.0</td>\n",
       "      <td>1.0</td>\n",
       "    </tr>\n",
       "    <tr>\n",
       "      <th>...</th>\n",
       "      <td>...</td>\n",
       "      <td>...</td>\n",
       "      <td>...</td>\n",
       "      <td>...</td>\n",
       "      <td>...</td>\n",
       "      <td>...</td>\n",
       "      <td>...</td>\n",
       "      <td>...</td>\n",
       "      <td>...</td>\n",
       "      <td>...</td>\n",
       "      <td>...</td>\n",
       "      <td>...</td>\n",
       "      <td>...</td>\n",
       "      <td>...</td>\n",
       "      <td>...</td>\n",
       "      <td>...</td>\n",
       "      <td>...</td>\n",
       "      <td>...</td>\n",
       "      <td>...</td>\n",
       "      <td>...</td>\n",
       "      <td>...</td>\n",
       "    </tr>\n",
       "    <tr>\n",
       "      <th>959</th>\n",
       "      <td>Argentina</td>\n",
       "      <td>France</td>\n",
       "      <td>1</td>\n",
       "      <td>NaN</td>\n",
       "      <td>0.0</td>\n",
       "      <td>0</td>\n",
       "      <td>NaN</td>\n",
       "      <td>0.0</td>\n",
       "      <td>Francisco Olazar</td>\n",
       "      <td>Manuel Ferreira</td>\n",
       "      <td>...</td>\n",
       "      <td>NaN</td>\n",
       "      <td>NaN</td>\n",
       "      <td>NaN</td>\n",
       "      <td>NaN</td>\n",
       "      <td>NaN</td>\n",
       "      <td>NaN</td>\n",
       "      <td>NaN</td>\n",
       "      <td>NaN</td>\n",
       "      <td>0.0</td>\n",
       "      <td>1.0</td>\n",
       "    </tr>\n",
       "    <tr>\n",
       "      <th>960</th>\n",
       "      <td>Yugoslavia</td>\n",
       "      <td>Brazil</td>\n",
       "      <td>2</td>\n",
       "      <td>NaN</td>\n",
       "      <td>0.0</td>\n",
       "      <td>1</td>\n",
       "      <td>NaN</td>\n",
       "      <td>0.0</td>\n",
       "      <td>Bosko Simonovic</td>\n",
       "      <td>Milutin Ivković</td>\n",
       "      <td>...</td>\n",
       "      <td>NaN</td>\n",
       "      <td>NaN</td>\n",
       "      <td>NaN</td>\n",
       "      <td>NaN</td>\n",
       "      <td>NaN</td>\n",
       "      <td>NaN</td>\n",
       "      <td>NaN</td>\n",
       "      <td>NaN</td>\n",
       "      <td>1.0</td>\n",
       "      <td>2.0</td>\n",
       "    </tr>\n",
       "    <tr>\n",
       "      <th>961</th>\n",
       "      <td>Romania</td>\n",
       "      <td>Peru</td>\n",
       "      <td>3</td>\n",
       "      <td>NaN</td>\n",
       "      <td>0.0</td>\n",
       "      <td>1</td>\n",
       "      <td>NaN</td>\n",
       "      <td>0.0</td>\n",
       "      <td>Octav Luchide</td>\n",
       "      <td>Emerich Vogl</td>\n",
       "      <td>...</td>\n",
       "      <td>NaN</td>\n",
       "      <td>Plácido Galindo · 70</td>\n",
       "      <td>NaN</td>\n",
       "      <td>NaN</td>\n",
       "      <td>NaN</td>\n",
       "      <td>NaN</td>\n",
       "      <td>NaN</td>\n",
       "      <td>NaN</td>\n",
       "      <td>1.0</td>\n",
       "      <td>3.0</td>\n",
       "    </tr>\n",
       "    <tr>\n",
       "      <th>962</th>\n",
       "      <td>United States</td>\n",
       "      <td>Belgium</td>\n",
       "      <td>3</td>\n",
       "      <td>NaN</td>\n",
       "      <td>0.0</td>\n",
       "      <td>0</td>\n",
       "      <td>NaN</td>\n",
       "      <td>0.0</td>\n",
       "      <td>Bob Millar</td>\n",
       "      <td>Tom Florie</td>\n",
       "      <td>...</td>\n",
       "      <td>NaN</td>\n",
       "      <td>NaN</td>\n",
       "      <td>NaN</td>\n",
       "      <td>NaN</td>\n",
       "      <td>NaN</td>\n",
       "      <td>NaN</td>\n",
       "      <td>NaN</td>\n",
       "      <td>NaN</td>\n",
       "      <td>0.0</td>\n",
       "      <td>3.0</td>\n",
       "    </tr>\n",
       "    <tr>\n",
       "      <th>963</th>\n",
       "      <td>France</td>\n",
       "      <td>Mexico</td>\n",
       "      <td>4</td>\n",
       "      <td>NaN</td>\n",
       "      <td>0.0</td>\n",
       "      <td>1</td>\n",
       "      <td>NaN</td>\n",
       "      <td>0.0</td>\n",
       "      <td>Raoul Caudron</td>\n",
       "      <td>Alexandre Villaplane</td>\n",
       "      <td>...</td>\n",
       "      <td>NaN</td>\n",
       "      <td>NaN</td>\n",
       "      <td>NaN</td>\n",
       "      <td>NaN</td>\n",
       "      <td>NaN</td>\n",
       "      <td>NaN</td>\n",
       "      <td>NaN</td>\n",
       "      <td>NaN</td>\n",
       "      <td>1.0</td>\n",
       "      <td>4.0</td>\n",
       "    </tr>\n",
       "  </tbody>\n",
       "</table>\n",
       "<p>964 rows × 46 columns</p>\n",
       "</div>"
      ],
      "text/plain": [
       "         home_team away_team  home_score  home_xg  home_penalty  away_score  \\\n",
       "0        Argentina    France           3      3.3           4.0           3   \n",
       "1          Croatia   Morocco           2      0.7           0.0           1   \n",
       "2           France   Morocco           2      2.0           0.0           0   \n",
       "3        Argentina   Croatia           3      2.3           0.0           0   \n",
       "4          Morocco  Portugal           1      1.4           0.0           0   \n",
       "..             ...       ...         ...      ...           ...         ...   \n",
       "959      Argentina    France           1      NaN           0.0           0   \n",
       "960     Yugoslavia    Brazil           2      NaN           0.0           1   \n",
       "961        Romania      Peru           3      NaN           0.0           1   \n",
       "962  United States   Belgium           3      NaN           0.0           0   \n",
       "963         France    Mexico           4      NaN           0.0           1   \n",
       "\n",
       "     away_xg  away_penalty      home_manager          home_captain  ...  \\\n",
       "0        2.2           2.0    Lionel Scaloni          Lionel Messi  ...   \n",
       "1        1.2           0.0      Zlatko Dalić           Luka Modrić  ...   \n",
       "2        0.9           0.0  Didier Deschamps           Hugo Lloris  ...   \n",
       "3        0.5           0.0    Lionel Scaloni          Lionel Messi  ...   \n",
       "4        0.9           0.0   Hoalid Regragui          Romain Saïss  ...   \n",
       "..       ...           ...               ...                   ...  ...   \n",
       "959      NaN           0.0  Francisco Olazar       Manuel Ferreira  ...   \n",
       "960      NaN           0.0   Bosko Simonovic       Milutin Ivković  ...   \n",
       "961      NaN           0.0     Octav Luchide          Emerich Vogl  ...   \n",
       "962      NaN           0.0        Bob Millar            Tom Florie  ...   \n",
       "963      NaN           0.0     Raoul Caudron  Alexandre Villaplane  ...   \n",
       "\n",
       "    home_red_card         away_red_card   home_yellow_red_card  \\\n",
       "0             NaN                   NaN                    NaN   \n",
       "1             NaN                   NaN                    NaN   \n",
       "2             NaN                   NaN                    NaN   \n",
       "3             NaN                   NaN                    NaN   \n",
       "4             NaN                   NaN  Walid Cheddira · 90+3   \n",
       "..            ...                   ...                    ...   \n",
       "959           NaN                   NaN                    NaN   \n",
       "960           NaN                   NaN                    NaN   \n",
       "961           NaN  Plácido Galindo · 70                    NaN   \n",
       "962           NaN                   NaN                    NaN   \n",
       "963           NaN                   NaN                    NaN   \n",
       "\n",
       "    away_yellow_red_card                              home_yellow_card_long  \\\n",
       "0                    NaN  ['45+7&rsquor;|2:0|Enzo Fernández', '90+8&rsqu...   \n",
       "1                    NaN                                                NaN   \n",
       "2                    NaN                                                NaN   \n",
       "3                    NaN  ['68&rsquor;|2:0|Cristian Romero', '71&rsquor;...   \n",
       "4                    NaN  ['70&rsquor;|1:0|Achraf Dari', '90+1&rsquor;|1...   \n",
       "..                   ...                                                ...   \n",
       "959                  NaN                                                NaN   \n",
       "960                  NaN                                                NaN   \n",
       "961                  NaN                                                NaN   \n",
       "962                  NaN                                                NaN   \n",
       "963                  NaN                                                NaN   \n",
       "\n",
       "                                 away_yellow_card_long  \\\n",
       "0    ['55&rsquor;|2:0|Adrien Rabiot', '87&rsquor;|2...   \n",
       "1    ['69&rsquor;|2:1|Azzedine Ounahi', '84&rsquor;...   \n",
       "2                    ['27&rsquor;|1:0|Sofiane Boufal']   \n",
       "3    ['32&rsquor;|0:0|Mateo Kovačić', '32&rsquor;|0...   \n",
       "4                           ['87&rsquor;|1:0|Vitinha']   \n",
       "..                                                 ...   \n",
       "959                                                NaN   \n",
       "960                                                NaN   \n",
       "961                                                NaN   \n",
       "962                                                NaN   \n",
       "963                                                NaN   \n",
       "\n",
       "                               home_substitute_in_long  \\\n",
       "0    ['64&rsquor;|2:0|Marcos Acuña|for Ángel Di Mar...   \n",
       "1    ['61&rsquor;|2:1|Nikola Vlašić|for Andrej Kram...   \n",
       "2    ['65&rsquor;|1:0|Marcus Thuram|for Olivier Gir...   \n",
       "3    ['62&rsquor;|2:0|Lisandro Martínez|for Leandro...   \n",
       "4    ['57&rsquor;|1:0|Achraf Dari|for Romain Saïss'...   \n",
       "..                                                 ...   \n",
       "959                                                NaN   \n",
       "960                                                NaN   \n",
       "961                                                NaN   \n",
       "962                                                NaN   \n",
       "963                                                NaN   \n",
       "\n",
       "                               away_substitute_in_long a_total h_total  \n",
       "0    ['41&rsquor;|2:0|Randal Kolo Muani|for Ousmane...     5.0     7.0  \n",
       "1    ['46&rsquor;|2:1|Ilias Chair|for Abdelhamid Sa...     1.0     2.0  \n",
       "2    ['21&rsquor;|1:0|Selim Amallah|for Romain Saïs...     0.0     2.0  \n",
       "3    ['46&rsquor;|2:0|Mislav Oršić|for Borna Sosa',...     0.0     3.0  \n",
       "4    ['51&rsquor;|1:0|João Cancelo|for Raphaël Guer...     0.0     1.0  \n",
       "..                                                 ...     ...     ...  \n",
       "959                                                NaN     0.0     1.0  \n",
       "960                                                NaN     1.0     2.0  \n",
       "961                                                NaN     1.0     3.0  \n",
       "962                                                NaN     0.0     3.0  \n",
       "963                                                NaN     1.0     4.0  \n",
       "\n",
       "[964 rows x 46 columns]"
      ]
     },
     "execution_count": 121,
     "metadata": {},
     "output_type": "execute_result"
    }
   ],
   "source": [
    "matches"
   ]
  },
  {
   "cell_type": "code",
   "execution_count": 122,
   "metadata": {},
   "outputs": [
    {
     "data": {
      "text/html": [
       "<div>\n",
       "<style scoped>\n",
       "    .dataframe tbody tr th:only-of-type {\n",
       "        vertical-align: middle;\n",
       "    }\n",
       "\n",
       "    .dataframe tbody tr th {\n",
       "        vertical-align: top;\n",
       "    }\n",
       "\n",
       "    .dataframe thead th {\n",
       "        text-align: right;\n",
       "    }\n",
       "</style>\n",
       "<table border=\"1\" class=\"dataframe\">\n",
       "  <thead>\n",
       "    <tr style=\"text-align: right;\">\n",
       "      <th></th>\n",
       "      <th>home_team</th>\n",
       "      <th>away_team</th>\n",
       "      <th>home_score</th>\n",
       "      <th>home_xg</th>\n",
       "      <th>home_penalty</th>\n",
       "      <th>away_score</th>\n",
       "      <th>away_xg</th>\n",
       "      <th>away_penalty</th>\n",
       "      <th>home_manager</th>\n",
       "      <th>home_captain</th>\n",
       "      <th>...</th>\n",
       "      <th>home_red_card</th>\n",
       "      <th>away_red_card</th>\n",
       "      <th>home_yellow_red_card</th>\n",
       "      <th>away_yellow_red_card</th>\n",
       "      <th>home_yellow_card_long</th>\n",
       "      <th>away_yellow_card_long</th>\n",
       "      <th>home_substitute_in_long</th>\n",
       "      <th>away_substitute_in_long</th>\n",
       "      <th>a_total</th>\n",
       "      <th>h_total</th>\n",
       "    </tr>\n",
       "  </thead>\n",
       "  <tbody>\n",
       "    <tr>\n",
       "      <th>0</th>\n",
       "      <td>Argentina</td>\n",
       "      <td>France</td>\n",
       "      <td>3</td>\n",
       "      <td>3.3</td>\n",
       "      <td>4.0</td>\n",
       "      <td>3</td>\n",
       "      <td>2.2</td>\n",
       "      <td>2.0</td>\n",
       "      <td>Lionel Scaloni</td>\n",
       "      <td>Lionel Messi</td>\n",
       "      <td>...</td>\n",
       "      <td>NaN</td>\n",
       "      <td>NaN</td>\n",
       "      <td>NaN</td>\n",
       "      <td>NaN</td>\n",
       "      <td>['45+7&amp;rsquor;|2:0|Enzo Fernández', '90+8&amp;rsqu...</td>\n",
       "      <td>['55&amp;rsquor;|2:0|Adrien Rabiot', '87&amp;rsquor;|2...</td>\n",
       "      <td>['64&amp;rsquor;|2:0|Marcos Acuña|for Ángel Di Mar...</td>\n",
       "      <td>['41&amp;rsquor;|2:0|Randal Kolo Muani|for Ousmane...</td>\n",
       "      <td>5.0</td>\n",
       "      <td>7.0</td>\n",
       "    </tr>\n",
       "    <tr>\n",
       "      <th>3</th>\n",
       "      <td>Argentina</td>\n",
       "      <td>Croatia</td>\n",
       "      <td>3</td>\n",
       "      <td>2.3</td>\n",
       "      <td>0.0</td>\n",
       "      <td>0</td>\n",
       "      <td>0.5</td>\n",
       "      <td>0.0</td>\n",
       "      <td>Lionel Scaloni</td>\n",
       "      <td>Lionel Messi</td>\n",
       "      <td>...</td>\n",
       "      <td>NaN</td>\n",
       "      <td>NaN</td>\n",
       "      <td>NaN</td>\n",
       "      <td>NaN</td>\n",
       "      <td>['68&amp;rsquor;|2:0|Cristian Romero', '71&amp;rsquor;...</td>\n",
       "      <td>['32&amp;rsquor;|0:0|Mateo Kovačić', '32&amp;rsquor;|0...</td>\n",
       "      <td>['62&amp;rsquor;|2:0|Lisandro Martínez|for Leandro...</td>\n",
       "      <td>['46&amp;rsquor;|2:0|Mislav Oršić|for Borna Sosa',...</td>\n",
       "      <td>0.0</td>\n",
       "      <td>3.0</td>\n",
       "    </tr>\n",
       "    <tr>\n",
       "      <th>7</th>\n",
       "      <td>Netherlands</td>\n",
       "      <td>Argentina</td>\n",
       "      <td>2</td>\n",
       "      <td>0.6</td>\n",
       "      <td>3.0</td>\n",
       "      <td>2</td>\n",
       "      <td>1.9</td>\n",
       "      <td>4.0</td>\n",
       "      <td>Louis van Gaal</td>\n",
       "      <td>Virgil van Dijk</td>\n",
       "      <td>...</td>\n",
       "      <td>NaN</td>\n",
       "      <td>NaN</td>\n",
       "      <td>Denzel Dumfries · 120+3</td>\n",
       "      <td>NaN</td>\n",
       "      <td>['43&amp;rsquor;|0:1|Jurriën Timber', '45+2&amp;rsquor...</td>\n",
       "      <td>['31&amp;rsquor;|0:0|Walter Samuel', '43&amp;rsquor;|0...</td>\n",
       "      <td>['46&amp;rsquor;|0:1|Steven Berghuis|for Steven Be...</td>\n",
       "      <td>['66&amp;rsquor;|0:1|Leandro Paredes|for Rodrigo D...</td>\n",
       "      <td>6.0</td>\n",
       "      <td>5.0</td>\n",
       "    </tr>\n",
       "    <tr>\n",
       "      <th>128</th>\n",
       "      <td>Germany</td>\n",
       "      <td>Argentina</td>\n",
       "      <td>1</td>\n",
       "      <td>NaN</td>\n",
       "      <td>0.0</td>\n",
       "      <td>0</td>\n",
       "      <td>NaN</td>\n",
       "      <td>0.0</td>\n",
       "      <td>Joachim Löw</td>\n",
       "      <td>NaN</td>\n",
       "      <td>...</td>\n",
       "      <td>NaN</td>\n",
       "      <td>NaN</td>\n",
       "      <td>NaN</td>\n",
       "      <td>NaN</td>\n",
       "      <td>['29&amp;rsquor;|0:0|Bastian Schweinsteiger', '34&amp;...</td>\n",
       "      <td>['64&amp;rsquor;|0:0|Javier Mascherano', '65&amp;rsquo...</td>\n",
       "      <td>['32&amp;rsquor;|0:0|André Schürrle|for Christoph ...</td>\n",
       "      <td>['46&amp;rsquor;|0:0|Sergio Agüero|for Ezequiel La...</td>\n",
       "      <td>0.0</td>\n",
       "      <td>1.0</td>\n",
       "    </tr>\n",
       "    <tr>\n",
       "      <th>130</th>\n",
       "      <td>Netherlands</td>\n",
       "      <td>Argentina</td>\n",
       "      <td>0</td>\n",
       "      <td>NaN</td>\n",
       "      <td>2.0</td>\n",
       "      <td>0</td>\n",
       "      <td>NaN</td>\n",
       "      <td>4.0</td>\n",
       "      <td>Louis van Gaal</td>\n",
       "      <td>NaN</td>\n",
       "      <td>...</td>\n",
       "      <td>NaN</td>\n",
       "      <td>NaN</td>\n",
       "      <td>NaN</td>\n",
       "      <td>NaN</td>\n",
       "      <td>['45&amp;rsquor;|0:0|Bruno Martins Indi', '105&amp;rsq...</td>\n",
       "      <td>['49&amp;rsquor;|0:0|Martín Demichelis']</td>\n",
       "      <td>['46&amp;rsquor;|0:0|Daryl Janmaat|for Bruno Marti...</td>\n",
       "      <td>['81&amp;rsquor;|0:0|Rodrigo Palacio|for Enzo Pére...</td>\n",
       "      <td>4.0</td>\n",
       "      <td>2.0</td>\n",
       "    </tr>\n",
       "    <tr>\n",
       "      <th>132</th>\n",
       "      <td>Argentina</td>\n",
       "      <td>Belgium</td>\n",
       "      <td>1</td>\n",
       "      <td>NaN</td>\n",
       "      <td>0.0</td>\n",
       "      <td>0</td>\n",
       "      <td>NaN</td>\n",
       "      <td>0.0</td>\n",
       "      <td>Alejandro Sabella</td>\n",
       "      <td>NaN</td>\n",
       "      <td>...</td>\n",
       "      <td>NaN</td>\n",
       "      <td>NaN</td>\n",
       "      <td>NaN</td>\n",
       "      <td>NaN</td>\n",
       "      <td>['75&amp;rsquor;|1:0|Lucas Biglia']</td>\n",
       "      <td>['53&amp;rsquor;|1:0|Eden Hazard', '69&amp;rsquor;|1:0...</td>\n",
       "      <td>['38&amp;rsquor;|1:0|Enzo Pérez|for Ángel Di María...</td>\n",
       "      <td>['59&amp;rsquor;|1:0|Romelu Lukaku|for Divock Orig...</td>\n",
       "      <td>0.0</td>\n",
       "      <td>1.0</td>\n",
       "    </tr>\n",
       "    <tr>\n",
       "      <th>196</th>\n",
       "      <td>Argentina</td>\n",
       "      <td>Germany</td>\n",
       "      <td>0</td>\n",
       "      <td>NaN</td>\n",
       "      <td>0.0</td>\n",
       "      <td>4</td>\n",
       "      <td>NaN</td>\n",
       "      <td>0.0</td>\n",
       "      <td>Diego Maradona</td>\n",
       "      <td>NaN</td>\n",
       "      <td>...</td>\n",
       "      <td>NaN</td>\n",
       "      <td>NaN</td>\n",
       "      <td>NaN</td>\n",
       "      <td>NaN</td>\n",
       "      <td>['11&amp;rsquor;|0:1|Nicolás Otamendi', '80&amp;rsquor...</td>\n",
       "      <td>['35&amp;rsquor;|0:1|Thomas Müller']</td>\n",
       "      <td>['70&amp;rsquor;|0:2|Javier Pastore|for Nicolás Ot...</td>\n",
       "      <td>['72&amp;rsquor;|0:2|Marcell Jansen|for Jérôme Boa...</td>\n",
       "      <td>4.0</td>\n",
       "      <td>0.0</td>\n",
       "    </tr>\n",
       "    <tr>\n",
       "      <th>262</th>\n",
       "      <td>Germany</td>\n",
       "      <td>Argentina</td>\n",
       "      <td>1</td>\n",
       "      <td>NaN</td>\n",
       "      <td>4.0</td>\n",
       "      <td>1</td>\n",
       "      <td>NaN</td>\n",
       "      <td>2.0</td>\n",
       "      <td>Jürgen Klinsmann</td>\n",
       "      <td>NaN</td>\n",
       "      <td>...</td>\n",
       "      <td>NaN</td>\n",
       "      <td>NaN</td>\n",
       "      <td>NaN</td>\n",
       "      <td>NaN</td>\n",
       "      <td>['3&amp;rsquor;|0:0|Lukas Podolski', '90+4&amp;rsquor;...</td>\n",
       "      <td>['46&amp;rsquor;|0:0|Juan Pablo Sorín', '60&amp;rsquor...</td>\n",
       "      <td>['62&amp;rsquor;|0:1|David Odonkor|for Bernd Schne...</td>\n",
       "      <td>['71&amp;rsquor;|0:1|Leo Franco|for Pato Abbondanz...</td>\n",
       "      <td>3.0</td>\n",
       "      <td>5.0</td>\n",
       "    </tr>\n",
       "    <tr>\n",
       "      <th>388</th>\n",
       "      <td>Netherlands</td>\n",
       "      <td>Argentina</td>\n",
       "      <td>2</td>\n",
       "      <td>NaN</td>\n",
       "      <td>0.0</td>\n",
       "      <td>1</td>\n",
       "      <td>NaN</td>\n",
       "      <td>0.0</td>\n",
       "      <td>Guus Hiddink</td>\n",
       "      <td>NaN</td>\n",
       "      <td>...</td>\n",
       "      <td>NaN</td>\n",
       "      <td>NaN</td>\n",
       "      <td>Arthur Numan · 76</td>\n",
       "      <td>Ariel Ortega · 87</td>\n",
       "      <td>['10&amp;rsquor;|0:0|Jaap Stam', '17&amp;rsquor;|1:0|A...</td>\n",
       "      <td>['22&amp;rsquor;|1:1|José Chamot', '60&amp;rsquor;|1:1...</td>\n",
       "      <td>['64&amp;rsquor;|1:1|Marc Overmars|for Ronald de B...</td>\n",
       "      <td>['68&amp;rsquor;|1:1|Mauricio Pineda|for Matías Al...</td>\n",
       "      <td>1.0</td>\n",
       "      <td>2.0</td>\n",
       "    </tr>\n",
       "    <tr>\n",
       "      <th>500</th>\n",
       "      <td>West Germany</td>\n",
       "      <td>Argentina</td>\n",
       "      <td>1</td>\n",
       "      <td>NaN</td>\n",
       "      <td>0.0</td>\n",
       "      <td>0</td>\n",
       "      <td>NaN</td>\n",
       "      <td>0.0</td>\n",
       "      <td>Franz Beckenbauer</td>\n",
       "      <td>Lothar Matthäus</td>\n",
       "      <td>...</td>\n",
       "      <td>NaN</td>\n",
       "      <td>Pedro Monzón · 65|Gustavo Dezotti · 87</td>\n",
       "      <td>NaN</td>\n",
       "      <td>NaN</td>\n",
       "      <td>['52&amp;rsquor;|0:0|Rudi Völler']</td>\n",
       "      <td>['5&amp;rsquor;|0:0|Gustavo Dezotti', '84&amp;rsquor;|...</td>\n",
       "      <td>['73&amp;rsquor;|0:0|Stefan Reuter|for Thomas Bert...</td>\n",
       "      <td>['46&amp;rsquor;|0:0|Pedro Monzón|for Oscar Rugger...</td>\n",
       "      <td>0.0</td>\n",
       "      <td>1.0</td>\n",
       "    </tr>\n",
       "    <tr>\n",
       "      <th>503</th>\n",
       "      <td>Italy</td>\n",
       "      <td>Argentina</td>\n",
       "      <td>1</td>\n",
       "      <td>NaN</td>\n",
       "      <td>3.0</td>\n",
       "      <td>1</td>\n",
       "      <td>NaN</td>\n",
       "      <td>4.0</td>\n",
       "      <td>Azeglio Vicini</td>\n",
       "      <td>Giuseppe Bergomi</td>\n",
       "      <td>...</td>\n",
       "      <td>NaN</td>\n",
       "      <td>NaN</td>\n",
       "      <td>NaN</td>\n",
       "      <td>Ricardo Giusti · 103</td>\n",
       "      <td>['22&amp;rsquor;|1:0|Giuseppe Giannini']</td>\n",
       "      <td>['30&amp;rsquor;|1:0|Ricardo Giusti', '70&amp;rsquor;|...</td>\n",
       "      <td>['70&amp;rsquor;|1:1|Aldo Serena|for Gianluca Vial...</td>\n",
       "      <td>['46&amp;rsquor;|1:0|Pedro Troglio|for Gabriel Cal...</td>\n",
       "      <td>5.0</td>\n",
       "      <td>4.0</td>\n",
       "    </tr>\n",
       "    <tr>\n",
       "      <th>506</th>\n",
       "      <td>Yugoslavia</td>\n",
       "      <td>Argentina</td>\n",
       "      <td>0</td>\n",
       "      <td>NaN</td>\n",
       "      <td>2.0</td>\n",
       "      <td>0</td>\n",
       "      <td>NaN</td>\n",
       "      <td>3.0</td>\n",
       "      <td>Ivica Osim</td>\n",
       "      <td>Zlatko Vujović</td>\n",
       "      <td>...</td>\n",
       "      <td>Refik Šabanadžović · 31</td>\n",
       "      <td>NaN</td>\n",
       "      <td>NaN</td>\n",
       "      <td>NaN</td>\n",
       "      <td>['24&amp;rsquor;|0:0|Refik Šabanadžović']</td>\n",
       "      <td>['21&amp;rsquor;|0:0|José Serrizuela', '42&amp;rsquor;...</td>\n",
       "      <td>['61&amp;rsquor;|0:0|Dejan Savićević|for Safet Suš...</td>\n",
       "      <td>['51&amp;rsquor;|0:0|Pedro Troglio|for Julio Olart...</td>\n",
       "      <td>3.0</td>\n",
       "      <td>2.0</td>\n",
       "    </tr>\n",
       "    <tr>\n",
       "      <th>552</th>\n",
       "      <td>Argentina</td>\n",
       "      <td>West Germany</td>\n",
       "      <td>3</td>\n",
       "      <td>NaN</td>\n",
       "      <td>0.0</td>\n",
       "      <td>2</td>\n",
       "      <td>NaN</td>\n",
       "      <td>0.0</td>\n",
       "      <td>Carlos Bilardo</td>\n",
       "      <td>Diego Maradona</td>\n",
       "      <td>...</td>\n",
       "      <td>NaN</td>\n",
       "      <td>NaN</td>\n",
       "      <td>NaN</td>\n",
       "      <td>NaN</td>\n",
       "      <td>['17&amp;rsquor;|0:0|Diego Maradona', '77&amp;rsquor;|...</td>\n",
       "      <td>['21&amp;rsquor;|0:0|Lothar Matthäus', '62&amp;rsquor;...</td>\n",
       "      <td>['90&amp;rsquor;|3:2|Marcelo Trobbiani|for Jorge B...</td>\n",
       "      <td>['46&amp;rsquor;|1:0|Rudi Völler|for Klaus Allofs'...</td>\n",
       "      <td>2.0</td>\n",
       "      <td>3.0</td>\n",
       "    </tr>\n",
       "    <tr>\n",
       "      <th>555</th>\n",
       "      <td>Argentina</td>\n",
       "      <td>Belgium</td>\n",
       "      <td>2</td>\n",
       "      <td>NaN</td>\n",
       "      <td>0.0</td>\n",
       "      <td>0</td>\n",
       "      <td>NaN</td>\n",
       "      <td>0.0</td>\n",
       "      <td>Carlos Bilardo</td>\n",
       "      <td>Diego Maradona</td>\n",
       "      <td>...</td>\n",
       "      <td>NaN</td>\n",
       "      <td>NaN</td>\n",
       "      <td>NaN</td>\n",
       "      <td>NaN</td>\n",
       "      <td>['33&amp;rsquor;|0:0|Jorge Valdano']</td>\n",
       "      <td>['27&amp;rsquor;|0:0|Daniel Veyt']</td>\n",
       "      <td>['85&amp;rsquor;|2:0|Ricardo Bochini|for Jorge Bur...</td>\n",
       "      <td>['54&amp;rsquor;|1:0|Philippe Desmet|for Michel Re...</td>\n",
       "      <td>0.0</td>\n",
       "      <td>2.0</td>\n",
       "    </tr>\n",
       "    <tr>\n",
       "      <th>556</th>\n",
       "      <td>Argentina</td>\n",
       "      <td>England</td>\n",
       "      <td>2</td>\n",
       "      <td>NaN</td>\n",
       "      <td>0.0</td>\n",
       "      <td>1</td>\n",
       "      <td>NaN</td>\n",
       "      <td>0.0</td>\n",
       "      <td>Carlos Bilardo</td>\n",
       "      <td>Diego Maradona</td>\n",
       "      <td>...</td>\n",
       "      <td>NaN</td>\n",
       "      <td>NaN</td>\n",
       "      <td>NaN</td>\n",
       "      <td>NaN</td>\n",
       "      <td>['60&amp;rsquor;|2:0|Sergio Batista']</td>\n",
       "      <td>['9&amp;rsquor;|0:0|Terry Fenwick']</td>\n",
       "      <td>['75&amp;rsquor;|2:0|Carlos Daniel Tapia']</td>\n",
       "      <td>['69&amp;rsquor;|2:0|Chris Waddle|for Peter Reid',...</td>\n",
       "      <td>1.0</td>\n",
       "      <td>2.0</td>\n",
       "    </tr>\n",
       "    <tr>\n",
       "      <th>656</th>\n",
       "      <td>Argentina</td>\n",
       "      <td>Netherlands</td>\n",
       "      <td>3</td>\n",
       "      <td>NaN</td>\n",
       "      <td>0.0</td>\n",
       "      <td>1</td>\n",
       "      <td>NaN</td>\n",
       "      <td>0.0</td>\n",
       "      <td>Cesar Luis Menotti</td>\n",
       "      <td>Daniel Passarella</td>\n",
       "      <td>...</td>\n",
       "      <td>NaN</td>\n",
       "      <td>NaN</td>\n",
       "      <td>NaN</td>\n",
       "      <td>NaN</td>\n",
       "      <td>['40&amp;rsquor;|1:0|Osvaldo Ardiles', '93&amp;rsquor;...</td>\n",
       "      <td>['15&amp;rsquor;|0:0|Ruud Krol', '94&amp;rsquor;|1:1|W...</td>\n",
       "      <td>['65&amp;rsquor;|1:0|Omar Larrosa|for Osvaldo Ardi...</td>\n",
       "      <td>['59&amp;rsquor;|1:0|Dick Nanninga|for Johnny Rep'...</td>\n",
       "      <td>1.0</td>\n",
       "      <td>3.0</td>\n",
       "    </tr>\n",
       "    <tr>\n",
       "      <th>769</th>\n",
       "      <td>England</td>\n",
       "      <td>Argentina</td>\n",
       "      <td>1</td>\n",
       "      <td>NaN</td>\n",
       "      <td>0.0</td>\n",
       "      <td>0</td>\n",
       "      <td>NaN</td>\n",
       "      <td>0.0</td>\n",
       "      <td>Alf Ramsey</td>\n",
       "      <td>Bobby Moore</td>\n",
       "      <td>...</td>\n",
       "      <td>NaN</td>\n",
       "      <td>Antonio Rattín · 35</td>\n",
       "      <td>NaN</td>\n",
       "      <td>NaN</td>\n",
       "      <td>NaN</td>\n",
       "      <td>['1&amp;rsquor;|0:0|Antonio Rattín', '1&amp;rsquor;|0:...</td>\n",
       "      <td>NaN</td>\n",
       "      <td>NaN</td>\n",
       "      <td>0.0</td>\n",
       "      <td>1.0</td>\n",
       "    </tr>\n",
       "    <tr>\n",
       "      <th>946</th>\n",
       "      <td>Uruguay</td>\n",
       "      <td>Argentina</td>\n",
       "      <td>4</td>\n",
       "      <td>NaN</td>\n",
       "      <td>0.0</td>\n",
       "      <td>2</td>\n",
       "      <td>NaN</td>\n",
       "      <td>0.0</td>\n",
       "      <td>Alberto Suppici</td>\n",
       "      <td>José Nasazzi</td>\n",
       "      <td>...</td>\n",
       "      <td>NaN</td>\n",
       "      <td>NaN</td>\n",
       "      <td>NaN</td>\n",
       "      <td>NaN</td>\n",
       "      <td>NaN</td>\n",
       "      <td>NaN</td>\n",
       "      <td>NaN</td>\n",
       "      <td>NaN</td>\n",
       "      <td>2.0</td>\n",
       "      <td>4.0</td>\n",
       "    </tr>\n",
       "    <tr>\n",
       "      <th>948</th>\n",
       "      <td>Argentina</td>\n",
       "      <td>United States</td>\n",
       "      <td>6</td>\n",
       "      <td>NaN</td>\n",
       "      <td>0.0</td>\n",
       "      <td>1</td>\n",
       "      <td>NaN</td>\n",
       "      <td>0.0</td>\n",
       "      <td>Francisco Olazar</td>\n",
       "      <td>Manuel Ferreira</td>\n",
       "      <td>...</td>\n",
       "      <td>NaN</td>\n",
       "      <td>NaN</td>\n",
       "      <td>NaN</td>\n",
       "      <td>NaN</td>\n",
       "      <td>NaN</td>\n",
       "      <td>NaN</td>\n",
       "      <td>NaN</td>\n",
       "      <td>NaN</td>\n",
       "      <td>1.0</td>\n",
       "      <td>6.0</td>\n",
       "    </tr>\n",
       "  </tbody>\n",
       "</table>\n",
       "<p>19 rows × 46 columns</p>\n",
       "</div>"
      ],
      "text/plain": [
       "        home_team      away_team  home_score  home_xg  home_penalty  \\\n",
       "0       Argentina         France           3      3.3           4.0   \n",
       "3       Argentina        Croatia           3      2.3           0.0   \n",
       "7     Netherlands      Argentina           2      0.6           3.0   \n",
       "128       Germany      Argentina           1      NaN           0.0   \n",
       "130   Netherlands      Argentina           0      NaN           2.0   \n",
       "132     Argentina        Belgium           1      NaN           0.0   \n",
       "196     Argentina        Germany           0      NaN           0.0   \n",
       "262       Germany      Argentina           1      NaN           4.0   \n",
       "388   Netherlands      Argentina           2      NaN           0.0   \n",
       "500  West Germany      Argentina           1      NaN           0.0   \n",
       "503         Italy      Argentina           1      NaN           3.0   \n",
       "506    Yugoslavia      Argentina           0      NaN           2.0   \n",
       "552     Argentina   West Germany           3      NaN           0.0   \n",
       "555     Argentina        Belgium           2      NaN           0.0   \n",
       "556     Argentina        England           2      NaN           0.0   \n",
       "656     Argentina    Netherlands           3      NaN           0.0   \n",
       "769       England      Argentina           1      NaN           0.0   \n",
       "946       Uruguay      Argentina           4      NaN           0.0   \n",
       "948     Argentina  United States           6      NaN           0.0   \n",
       "\n",
       "     away_score  away_xg  away_penalty        home_manager       home_captain  \\\n",
       "0             3      2.2           2.0      Lionel Scaloni       Lionel Messi   \n",
       "3             0      0.5           0.0      Lionel Scaloni       Lionel Messi   \n",
       "7             2      1.9           4.0      Louis van Gaal    Virgil van Dijk   \n",
       "128           0      NaN           0.0         Joachim Löw                NaN   \n",
       "130           0      NaN           4.0      Louis van Gaal                NaN   \n",
       "132           0      NaN           0.0   Alejandro Sabella                NaN   \n",
       "196           4      NaN           0.0      Diego Maradona                NaN   \n",
       "262           1      NaN           2.0    Jürgen Klinsmann                NaN   \n",
       "388           1      NaN           0.0        Guus Hiddink                NaN   \n",
       "500           0      NaN           0.0   Franz Beckenbauer    Lothar Matthäus   \n",
       "503           1      NaN           4.0      Azeglio Vicini   Giuseppe Bergomi   \n",
       "506           0      NaN           3.0          Ivica Osim     Zlatko Vujović   \n",
       "552           2      NaN           0.0      Carlos Bilardo     Diego Maradona   \n",
       "555           0      NaN           0.0      Carlos Bilardo     Diego Maradona   \n",
       "556           1      NaN           0.0      Carlos Bilardo     Diego Maradona   \n",
       "656           1      NaN           0.0  Cesar Luis Menotti  Daniel Passarella   \n",
       "769           0      NaN           0.0          Alf Ramsey        Bobby Moore   \n",
       "946           2      NaN           0.0     Alberto Suppici       José Nasazzi   \n",
       "948           1      NaN           0.0    Francisco Olazar    Manuel Ferreira   \n",
       "\n",
       "     ...            home_red_card                           away_red_card  \\\n",
       "0    ...                      NaN                                     NaN   \n",
       "3    ...                      NaN                                     NaN   \n",
       "7    ...                      NaN                                     NaN   \n",
       "128  ...                      NaN                                     NaN   \n",
       "130  ...                      NaN                                     NaN   \n",
       "132  ...                      NaN                                     NaN   \n",
       "196  ...                      NaN                                     NaN   \n",
       "262  ...                      NaN                                     NaN   \n",
       "388  ...                      NaN                                     NaN   \n",
       "500  ...                      NaN  Pedro Monzón · 65|Gustavo Dezotti · 87   \n",
       "503  ...                      NaN                                     NaN   \n",
       "506  ...  Refik Šabanadžović · 31                                     NaN   \n",
       "552  ...                      NaN                                     NaN   \n",
       "555  ...                      NaN                                     NaN   \n",
       "556  ...                      NaN                                     NaN   \n",
       "656  ...                      NaN                                     NaN   \n",
       "769  ...                      NaN                     Antonio Rattín · 35   \n",
       "946  ...                      NaN                                     NaN   \n",
       "948  ...                      NaN                                     NaN   \n",
       "\n",
       "        home_yellow_red_card  away_yellow_red_card  \\\n",
       "0                        NaN                   NaN   \n",
       "3                        NaN                   NaN   \n",
       "7    Denzel Dumfries · 120+3                   NaN   \n",
       "128                      NaN                   NaN   \n",
       "130                      NaN                   NaN   \n",
       "132                      NaN                   NaN   \n",
       "196                      NaN                   NaN   \n",
       "262                      NaN                   NaN   \n",
       "388        Arthur Numan · 76     Ariel Ortega · 87   \n",
       "500                      NaN                   NaN   \n",
       "503                      NaN  Ricardo Giusti · 103   \n",
       "506                      NaN                   NaN   \n",
       "552                      NaN                   NaN   \n",
       "555                      NaN                   NaN   \n",
       "556                      NaN                   NaN   \n",
       "656                      NaN                   NaN   \n",
       "769                      NaN                   NaN   \n",
       "946                      NaN                   NaN   \n",
       "948                      NaN                   NaN   \n",
       "\n",
       "                                 home_yellow_card_long  \\\n",
       "0    ['45+7&rsquor;|2:0|Enzo Fernández', '90+8&rsqu...   \n",
       "3    ['68&rsquor;|2:0|Cristian Romero', '71&rsquor;...   \n",
       "7    ['43&rsquor;|0:1|Jurriën Timber', '45+2&rsquor...   \n",
       "128  ['29&rsquor;|0:0|Bastian Schweinsteiger', '34&...   \n",
       "130  ['45&rsquor;|0:0|Bruno Martins Indi', '105&rsq...   \n",
       "132                    ['75&rsquor;|1:0|Lucas Biglia']   \n",
       "196  ['11&rsquor;|0:1|Nicolás Otamendi', '80&rsquor...   \n",
       "262  ['3&rsquor;|0:0|Lukas Podolski', '90+4&rsquor;...   \n",
       "388  ['10&rsquor;|0:0|Jaap Stam', '17&rsquor;|1:0|A...   \n",
       "500                     ['52&rsquor;|0:0|Rudi Völler']   \n",
       "503               ['22&rsquor;|1:0|Giuseppe Giannini']   \n",
       "506              ['24&rsquor;|0:0|Refik Šabanadžović']   \n",
       "552  ['17&rsquor;|0:0|Diego Maradona', '77&rsquor;|...   \n",
       "555                   ['33&rsquor;|0:0|Jorge Valdano']   \n",
       "556                  ['60&rsquor;|2:0|Sergio Batista']   \n",
       "656  ['40&rsquor;|1:0|Osvaldo Ardiles', '93&rsquor;...   \n",
       "769                                                NaN   \n",
       "946                                                NaN   \n",
       "948                                                NaN   \n",
       "\n",
       "                                 away_yellow_card_long  \\\n",
       "0    ['55&rsquor;|2:0|Adrien Rabiot', '87&rsquor;|2...   \n",
       "3    ['32&rsquor;|0:0|Mateo Kovačić', '32&rsquor;|0...   \n",
       "7    ['31&rsquor;|0:0|Walter Samuel', '43&rsquor;|0...   \n",
       "128  ['64&rsquor;|0:0|Javier Mascherano', '65&rsquo...   \n",
       "130               ['49&rsquor;|0:0|Martín Demichelis']   \n",
       "132  ['53&rsquor;|1:0|Eden Hazard', '69&rsquor;|1:0...   \n",
       "196                   ['35&rsquor;|0:1|Thomas Müller']   \n",
       "262  ['46&rsquor;|0:0|Juan Pablo Sorín', '60&rsquor...   \n",
       "388  ['22&rsquor;|1:1|José Chamot', '60&rsquor;|1:1...   \n",
       "500  ['5&rsquor;|0:0|Gustavo Dezotti', '84&rsquor;|...   \n",
       "503  ['30&rsquor;|1:0|Ricardo Giusti', '70&rsquor;|...   \n",
       "506  ['21&rsquor;|0:0|José Serrizuela', '42&rsquor;...   \n",
       "552  ['21&rsquor;|0:0|Lothar Matthäus', '62&rsquor;...   \n",
       "555                     ['27&rsquor;|0:0|Daniel Veyt']   \n",
       "556                    ['9&rsquor;|0:0|Terry Fenwick']   \n",
       "656  ['15&rsquor;|0:0|Ruud Krol', '94&rsquor;|1:1|W...   \n",
       "769  ['1&rsquor;|0:0|Antonio Rattín', '1&rsquor;|0:...   \n",
       "946                                                NaN   \n",
       "948                                                NaN   \n",
       "\n",
       "                               home_substitute_in_long  \\\n",
       "0    ['64&rsquor;|2:0|Marcos Acuña|for Ángel Di Mar...   \n",
       "3    ['62&rsquor;|2:0|Lisandro Martínez|for Leandro...   \n",
       "7    ['46&rsquor;|0:1|Steven Berghuis|for Steven Be...   \n",
       "128  ['32&rsquor;|0:0|André Schürrle|for Christoph ...   \n",
       "130  ['46&rsquor;|0:0|Daryl Janmaat|for Bruno Marti...   \n",
       "132  ['38&rsquor;|1:0|Enzo Pérez|for Ángel Di María...   \n",
       "196  ['70&rsquor;|0:2|Javier Pastore|for Nicolás Ot...   \n",
       "262  ['62&rsquor;|0:1|David Odonkor|for Bernd Schne...   \n",
       "388  ['64&rsquor;|1:1|Marc Overmars|for Ronald de B...   \n",
       "500  ['73&rsquor;|0:0|Stefan Reuter|for Thomas Bert...   \n",
       "503  ['70&rsquor;|1:1|Aldo Serena|for Gianluca Vial...   \n",
       "506  ['61&rsquor;|0:0|Dejan Savićević|for Safet Suš...   \n",
       "552  ['90&rsquor;|3:2|Marcelo Trobbiani|for Jorge B...   \n",
       "555  ['85&rsquor;|2:0|Ricardo Bochini|for Jorge Bur...   \n",
       "556             ['75&rsquor;|2:0|Carlos Daniel Tapia']   \n",
       "656  ['65&rsquor;|1:0|Omar Larrosa|for Osvaldo Ardi...   \n",
       "769                                                NaN   \n",
       "946                                                NaN   \n",
       "948                                                NaN   \n",
       "\n",
       "                               away_substitute_in_long a_total h_total  \n",
       "0    ['41&rsquor;|2:0|Randal Kolo Muani|for Ousmane...     5.0     7.0  \n",
       "3    ['46&rsquor;|2:0|Mislav Oršić|for Borna Sosa',...     0.0     3.0  \n",
       "7    ['66&rsquor;|0:1|Leandro Paredes|for Rodrigo D...     6.0     5.0  \n",
       "128  ['46&rsquor;|0:0|Sergio Agüero|for Ezequiel La...     0.0     1.0  \n",
       "130  ['81&rsquor;|0:0|Rodrigo Palacio|for Enzo Pére...     4.0     2.0  \n",
       "132  ['59&rsquor;|1:0|Romelu Lukaku|for Divock Orig...     0.0     1.0  \n",
       "196  ['72&rsquor;|0:2|Marcell Jansen|for Jérôme Boa...     4.0     0.0  \n",
       "262  ['71&rsquor;|0:1|Leo Franco|for Pato Abbondanz...     3.0     5.0  \n",
       "388  ['68&rsquor;|1:1|Mauricio Pineda|for Matías Al...     1.0     2.0  \n",
       "500  ['46&rsquor;|0:0|Pedro Monzón|for Oscar Rugger...     0.0     1.0  \n",
       "503  ['46&rsquor;|1:0|Pedro Troglio|for Gabriel Cal...     5.0     4.0  \n",
       "506  ['51&rsquor;|0:0|Pedro Troglio|for Julio Olart...     3.0     2.0  \n",
       "552  ['46&rsquor;|1:0|Rudi Völler|for Klaus Allofs'...     2.0     3.0  \n",
       "555  ['54&rsquor;|1:0|Philippe Desmet|for Michel Re...     0.0     2.0  \n",
       "556  ['69&rsquor;|2:0|Chris Waddle|for Peter Reid',...     1.0     2.0  \n",
       "656  ['59&rsquor;|1:0|Dick Nanninga|for Johnny Rep'...     1.0     3.0  \n",
       "769                                                NaN     0.0     1.0  \n",
       "946                                                NaN     2.0     4.0  \n",
       "948                                                NaN     1.0     6.0  \n",
       "\n",
       "[19 rows x 46 columns]"
      ]
     },
     "execution_count": 122,
     "metadata": {},
     "output_type": "execute_result"
    }
   ],
   "source": [
    "#probability of a team winning KNOCKOUT matches(Final, Semi-final, Quarter-final)\n",
    "country = 'Argentina' \n",
    "data = matches[((matches['home_team']==country) | (matches['away_team']==country))&\n",
    "        ((matches['Round']=='Final') | (matches['Round']=='Semi-finals') | (matches['Round']=='Quarter-finals'))]\n",
    "data"
   ]
  },
  {
   "cell_type": "code",
   "execution_count": 123,
   "metadata": {},
   "outputs": [
    {
     "data": {
      "text/plain": [
       "array(['Final', 'Third-place match', 'Semi-finals', 'Quarter-finals',\n",
       "       'Round of 16', 'Group stage', 'Second group stage',\n",
       "       'First group stage', 'Second round', 'First round',\n",
       "       'Group stage play-off', 'Final stage'], dtype=object)"
      ]
     },
     "execution_count": 123,
     "metadata": {},
     "output_type": "execute_result"
    }
   ],
   "source": [
    "matches['Round'].unique()"
   ]
  },
  {
   "cell_type": "code",
   "execution_count": 124,
   "metadata": {},
   "outputs": [
    {
     "data": {
      "text/html": [
       "<div>\n",
       "<style scoped>\n",
       "    .dataframe tbody tr th:only-of-type {\n",
       "        vertical-align: middle;\n",
       "    }\n",
       "\n",
       "    .dataframe tbody tr th {\n",
       "        vertical-align: top;\n",
       "    }\n",
       "\n",
       "    .dataframe thead th {\n",
       "        text-align: right;\n",
       "    }\n",
       "</style>\n",
       "<table border=\"1\" class=\"dataframe\">\n",
       "  <thead>\n",
       "    <tr style=\"text-align: right;\">\n",
       "      <th></th>\n",
       "      <th>home_team</th>\n",
       "      <th>away_team</th>\n",
       "      <th>home_score</th>\n",
       "      <th>home_xg</th>\n",
       "      <th>home_penalty</th>\n",
       "      <th>away_score</th>\n",
       "      <th>away_xg</th>\n",
       "      <th>away_penalty</th>\n",
       "      <th>home_manager</th>\n",
       "      <th>home_captain</th>\n",
       "      <th>...</th>\n",
       "      <th>home_red_card</th>\n",
       "      <th>away_red_card</th>\n",
       "      <th>home_yellow_red_card</th>\n",
       "      <th>away_yellow_red_card</th>\n",
       "      <th>home_yellow_card_long</th>\n",
       "      <th>away_yellow_card_long</th>\n",
       "      <th>home_substitute_in_long</th>\n",
       "      <th>away_substitute_in_long</th>\n",
       "      <th>a_total</th>\n",
       "      <th>h_total</th>\n",
       "    </tr>\n",
       "  </thead>\n",
       "  <tbody>\n",
       "    <tr>\n",
       "      <th>0</th>\n",
       "      <td>Argentina</td>\n",
       "      <td>France</td>\n",
       "      <td>3</td>\n",
       "      <td>3.3</td>\n",
       "      <td>4.0</td>\n",
       "      <td>3</td>\n",
       "      <td>2.2</td>\n",
       "      <td>2.0</td>\n",
       "      <td>Lionel Scaloni</td>\n",
       "      <td>Lionel Messi</td>\n",
       "      <td>...</td>\n",
       "      <td>NaN</td>\n",
       "      <td>NaN</td>\n",
       "      <td>NaN</td>\n",
       "      <td>NaN</td>\n",
       "      <td>['45+7&amp;rsquor;|2:0|Enzo Fernández', '90+8&amp;rsqu...</td>\n",
       "      <td>['55&amp;rsquor;|2:0|Adrien Rabiot', '87&amp;rsquor;|2...</td>\n",
       "      <td>['64&amp;rsquor;|2:0|Marcos Acuña|for Ángel Di Mar...</td>\n",
       "      <td>['41&amp;rsquor;|2:0|Randal Kolo Muani|for Ousmane...</td>\n",
       "      <td>5.0</td>\n",
       "      <td>7.0</td>\n",
       "    </tr>\n",
       "    <tr>\n",
       "      <th>3</th>\n",
       "      <td>Argentina</td>\n",
       "      <td>Croatia</td>\n",
       "      <td>3</td>\n",
       "      <td>2.3</td>\n",
       "      <td>0.0</td>\n",
       "      <td>0</td>\n",
       "      <td>0.5</td>\n",
       "      <td>0.0</td>\n",
       "      <td>Lionel Scaloni</td>\n",
       "      <td>Lionel Messi</td>\n",
       "      <td>...</td>\n",
       "      <td>NaN</td>\n",
       "      <td>NaN</td>\n",
       "      <td>NaN</td>\n",
       "      <td>NaN</td>\n",
       "      <td>['68&amp;rsquor;|2:0|Cristian Romero', '71&amp;rsquor;...</td>\n",
       "      <td>['32&amp;rsquor;|0:0|Mateo Kovačić', '32&amp;rsquor;|0...</td>\n",
       "      <td>['62&amp;rsquor;|2:0|Lisandro Martínez|for Leandro...</td>\n",
       "      <td>['46&amp;rsquor;|2:0|Mislav Oršić|for Borna Sosa',...</td>\n",
       "      <td>0.0</td>\n",
       "      <td>3.0</td>\n",
       "    </tr>\n",
       "    <tr>\n",
       "      <th>7</th>\n",
       "      <td>Netherlands</td>\n",
       "      <td>Argentina</td>\n",
       "      <td>2</td>\n",
       "      <td>0.6</td>\n",
       "      <td>3.0</td>\n",
       "      <td>2</td>\n",
       "      <td>1.9</td>\n",
       "      <td>4.0</td>\n",
       "      <td>Louis van Gaal</td>\n",
       "      <td>Virgil van Dijk</td>\n",
       "      <td>...</td>\n",
       "      <td>NaN</td>\n",
       "      <td>NaN</td>\n",
       "      <td>Denzel Dumfries · 120+3</td>\n",
       "      <td>NaN</td>\n",
       "      <td>['43&amp;rsquor;|0:1|Jurriën Timber', '45+2&amp;rsquor...</td>\n",
       "      <td>['31&amp;rsquor;|0:0|Walter Samuel', '43&amp;rsquor;|0...</td>\n",
       "      <td>['46&amp;rsquor;|0:1|Steven Berghuis|for Steven Be...</td>\n",
       "      <td>['66&amp;rsquor;|0:1|Leandro Paredes|for Rodrigo D...</td>\n",
       "      <td>6.0</td>\n",
       "      <td>5.0</td>\n",
       "    </tr>\n",
       "    <tr>\n",
       "      <th>128</th>\n",
       "      <td>Germany</td>\n",
       "      <td>Argentina</td>\n",
       "      <td>1</td>\n",
       "      <td>NaN</td>\n",
       "      <td>0.0</td>\n",
       "      <td>0</td>\n",
       "      <td>NaN</td>\n",
       "      <td>0.0</td>\n",
       "      <td>Joachim Löw</td>\n",
       "      <td>NaN</td>\n",
       "      <td>...</td>\n",
       "      <td>NaN</td>\n",
       "      <td>NaN</td>\n",
       "      <td>NaN</td>\n",
       "      <td>NaN</td>\n",
       "      <td>['29&amp;rsquor;|0:0|Bastian Schweinsteiger', '34&amp;...</td>\n",
       "      <td>['64&amp;rsquor;|0:0|Javier Mascherano', '65&amp;rsquo...</td>\n",
       "      <td>['32&amp;rsquor;|0:0|André Schürrle|for Christoph ...</td>\n",
       "      <td>['46&amp;rsquor;|0:0|Sergio Agüero|for Ezequiel La...</td>\n",
       "      <td>0.0</td>\n",
       "      <td>1.0</td>\n",
       "    </tr>\n",
       "    <tr>\n",
       "      <th>130</th>\n",
       "      <td>Netherlands</td>\n",
       "      <td>Argentina</td>\n",
       "      <td>0</td>\n",
       "      <td>NaN</td>\n",
       "      <td>2.0</td>\n",
       "      <td>0</td>\n",
       "      <td>NaN</td>\n",
       "      <td>4.0</td>\n",
       "      <td>Louis van Gaal</td>\n",
       "      <td>NaN</td>\n",
       "      <td>...</td>\n",
       "      <td>NaN</td>\n",
       "      <td>NaN</td>\n",
       "      <td>NaN</td>\n",
       "      <td>NaN</td>\n",
       "      <td>['45&amp;rsquor;|0:0|Bruno Martins Indi', '105&amp;rsq...</td>\n",
       "      <td>['49&amp;rsquor;|0:0|Martín Demichelis']</td>\n",
       "      <td>['46&amp;rsquor;|0:0|Daryl Janmaat|for Bruno Marti...</td>\n",
       "      <td>['81&amp;rsquor;|0:0|Rodrigo Palacio|for Enzo Pére...</td>\n",
       "      <td>4.0</td>\n",
       "      <td>2.0</td>\n",
       "    </tr>\n",
       "    <tr>\n",
       "      <th>132</th>\n",
       "      <td>Argentina</td>\n",
       "      <td>Belgium</td>\n",
       "      <td>1</td>\n",
       "      <td>NaN</td>\n",
       "      <td>0.0</td>\n",
       "      <td>0</td>\n",
       "      <td>NaN</td>\n",
       "      <td>0.0</td>\n",
       "      <td>Alejandro Sabella</td>\n",
       "      <td>NaN</td>\n",
       "      <td>...</td>\n",
       "      <td>NaN</td>\n",
       "      <td>NaN</td>\n",
       "      <td>NaN</td>\n",
       "      <td>NaN</td>\n",
       "      <td>['75&amp;rsquor;|1:0|Lucas Biglia']</td>\n",
       "      <td>['53&amp;rsquor;|1:0|Eden Hazard', '69&amp;rsquor;|1:0...</td>\n",
       "      <td>['38&amp;rsquor;|1:0|Enzo Pérez|for Ángel Di María...</td>\n",
       "      <td>['59&amp;rsquor;|1:0|Romelu Lukaku|for Divock Orig...</td>\n",
       "      <td>0.0</td>\n",
       "      <td>1.0</td>\n",
       "    </tr>\n",
       "    <tr>\n",
       "      <th>196</th>\n",
       "      <td>Argentina</td>\n",
       "      <td>Germany</td>\n",
       "      <td>0</td>\n",
       "      <td>NaN</td>\n",
       "      <td>0.0</td>\n",
       "      <td>4</td>\n",
       "      <td>NaN</td>\n",
       "      <td>0.0</td>\n",
       "      <td>Diego Maradona</td>\n",
       "      <td>NaN</td>\n",
       "      <td>...</td>\n",
       "      <td>NaN</td>\n",
       "      <td>NaN</td>\n",
       "      <td>NaN</td>\n",
       "      <td>NaN</td>\n",
       "      <td>['11&amp;rsquor;|0:1|Nicolás Otamendi', '80&amp;rsquor...</td>\n",
       "      <td>['35&amp;rsquor;|0:1|Thomas Müller']</td>\n",
       "      <td>['70&amp;rsquor;|0:2|Javier Pastore|for Nicolás Ot...</td>\n",
       "      <td>['72&amp;rsquor;|0:2|Marcell Jansen|for Jérôme Boa...</td>\n",
       "      <td>4.0</td>\n",
       "      <td>0.0</td>\n",
       "    </tr>\n",
       "    <tr>\n",
       "      <th>262</th>\n",
       "      <td>Germany</td>\n",
       "      <td>Argentina</td>\n",
       "      <td>1</td>\n",
       "      <td>NaN</td>\n",
       "      <td>4.0</td>\n",
       "      <td>1</td>\n",
       "      <td>NaN</td>\n",
       "      <td>2.0</td>\n",
       "      <td>Jürgen Klinsmann</td>\n",
       "      <td>NaN</td>\n",
       "      <td>...</td>\n",
       "      <td>NaN</td>\n",
       "      <td>NaN</td>\n",
       "      <td>NaN</td>\n",
       "      <td>NaN</td>\n",
       "      <td>['3&amp;rsquor;|0:0|Lukas Podolski', '90+4&amp;rsquor;...</td>\n",
       "      <td>['46&amp;rsquor;|0:0|Juan Pablo Sorín', '60&amp;rsquor...</td>\n",
       "      <td>['62&amp;rsquor;|0:1|David Odonkor|for Bernd Schne...</td>\n",
       "      <td>['71&amp;rsquor;|0:1|Leo Franco|for Pato Abbondanz...</td>\n",
       "      <td>3.0</td>\n",
       "      <td>5.0</td>\n",
       "    </tr>\n",
       "    <tr>\n",
       "      <th>388</th>\n",
       "      <td>Netherlands</td>\n",
       "      <td>Argentina</td>\n",
       "      <td>2</td>\n",
       "      <td>NaN</td>\n",
       "      <td>0.0</td>\n",
       "      <td>1</td>\n",
       "      <td>NaN</td>\n",
       "      <td>0.0</td>\n",
       "      <td>Guus Hiddink</td>\n",
       "      <td>NaN</td>\n",
       "      <td>...</td>\n",
       "      <td>NaN</td>\n",
       "      <td>NaN</td>\n",
       "      <td>Arthur Numan · 76</td>\n",
       "      <td>Ariel Ortega · 87</td>\n",
       "      <td>['10&amp;rsquor;|0:0|Jaap Stam', '17&amp;rsquor;|1:0|A...</td>\n",
       "      <td>['22&amp;rsquor;|1:1|José Chamot', '60&amp;rsquor;|1:1...</td>\n",
       "      <td>['64&amp;rsquor;|1:1|Marc Overmars|for Ronald de B...</td>\n",
       "      <td>['68&amp;rsquor;|1:1|Mauricio Pineda|for Matías Al...</td>\n",
       "      <td>1.0</td>\n",
       "      <td>2.0</td>\n",
       "    </tr>\n",
       "    <tr>\n",
       "      <th>500</th>\n",
       "      <td>West Germany</td>\n",
       "      <td>Argentina</td>\n",
       "      <td>1</td>\n",
       "      <td>NaN</td>\n",
       "      <td>0.0</td>\n",
       "      <td>0</td>\n",
       "      <td>NaN</td>\n",
       "      <td>0.0</td>\n",
       "      <td>Franz Beckenbauer</td>\n",
       "      <td>Lothar Matthäus</td>\n",
       "      <td>...</td>\n",
       "      <td>NaN</td>\n",
       "      <td>Pedro Monzón · 65|Gustavo Dezotti · 87</td>\n",
       "      <td>NaN</td>\n",
       "      <td>NaN</td>\n",
       "      <td>['52&amp;rsquor;|0:0|Rudi Völler']</td>\n",
       "      <td>['5&amp;rsquor;|0:0|Gustavo Dezotti', '84&amp;rsquor;|...</td>\n",
       "      <td>['73&amp;rsquor;|0:0|Stefan Reuter|for Thomas Bert...</td>\n",
       "      <td>['46&amp;rsquor;|0:0|Pedro Monzón|for Oscar Rugger...</td>\n",
       "      <td>0.0</td>\n",
       "      <td>1.0</td>\n",
       "    </tr>\n",
       "    <tr>\n",
       "      <th>503</th>\n",
       "      <td>Italy</td>\n",
       "      <td>Argentina</td>\n",
       "      <td>1</td>\n",
       "      <td>NaN</td>\n",
       "      <td>3.0</td>\n",
       "      <td>1</td>\n",
       "      <td>NaN</td>\n",
       "      <td>4.0</td>\n",
       "      <td>Azeglio Vicini</td>\n",
       "      <td>Giuseppe Bergomi</td>\n",
       "      <td>...</td>\n",
       "      <td>NaN</td>\n",
       "      <td>NaN</td>\n",
       "      <td>NaN</td>\n",
       "      <td>Ricardo Giusti · 103</td>\n",
       "      <td>['22&amp;rsquor;|1:0|Giuseppe Giannini']</td>\n",
       "      <td>['30&amp;rsquor;|1:0|Ricardo Giusti', '70&amp;rsquor;|...</td>\n",
       "      <td>['70&amp;rsquor;|1:1|Aldo Serena|for Gianluca Vial...</td>\n",
       "      <td>['46&amp;rsquor;|1:0|Pedro Troglio|for Gabriel Cal...</td>\n",
       "      <td>5.0</td>\n",
       "      <td>4.0</td>\n",
       "    </tr>\n",
       "    <tr>\n",
       "      <th>506</th>\n",
       "      <td>Yugoslavia</td>\n",
       "      <td>Argentina</td>\n",
       "      <td>0</td>\n",
       "      <td>NaN</td>\n",
       "      <td>2.0</td>\n",
       "      <td>0</td>\n",
       "      <td>NaN</td>\n",
       "      <td>3.0</td>\n",
       "      <td>Ivica Osim</td>\n",
       "      <td>Zlatko Vujović</td>\n",
       "      <td>...</td>\n",
       "      <td>Refik Šabanadžović · 31</td>\n",
       "      <td>NaN</td>\n",
       "      <td>NaN</td>\n",
       "      <td>NaN</td>\n",
       "      <td>['24&amp;rsquor;|0:0|Refik Šabanadžović']</td>\n",
       "      <td>['21&amp;rsquor;|0:0|José Serrizuela', '42&amp;rsquor;...</td>\n",
       "      <td>['61&amp;rsquor;|0:0|Dejan Savićević|for Safet Suš...</td>\n",
       "      <td>['51&amp;rsquor;|0:0|Pedro Troglio|for Julio Olart...</td>\n",
       "      <td>3.0</td>\n",
       "      <td>2.0</td>\n",
       "    </tr>\n",
       "    <tr>\n",
       "      <th>552</th>\n",
       "      <td>Argentina</td>\n",
       "      <td>West Germany</td>\n",
       "      <td>3</td>\n",
       "      <td>NaN</td>\n",
       "      <td>0.0</td>\n",
       "      <td>2</td>\n",
       "      <td>NaN</td>\n",
       "      <td>0.0</td>\n",
       "      <td>Carlos Bilardo</td>\n",
       "      <td>Diego Maradona</td>\n",
       "      <td>...</td>\n",
       "      <td>NaN</td>\n",
       "      <td>NaN</td>\n",
       "      <td>NaN</td>\n",
       "      <td>NaN</td>\n",
       "      <td>['17&amp;rsquor;|0:0|Diego Maradona', '77&amp;rsquor;|...</td>\n",
       "      <td>['21&amp;rsquor;|0:0|Lothar Matthäus', '62&amp;rsquor;...</td>\n",
       "      <td>['90&amp;rsquor;|3:2|Marcelo Trobbiani|for Jorge B...</td>\n",
       "      <td>['46&amp;rsquor;|1:0|Rudi Völler|for Klaus Allofs'...</td>\n",
       "      <td>2.0</td>\n",
       "      <td>3.0</td>\n",
       "    </tr>\n",
       "    <tr>\n",
       "      <th>555</th>\n",
       "      <td>Argentina</td>\n",
       "      <td>Belgium</td>\n",
       "      <td>2</td>\n",
       "      <td>NaN</td>\n",
       "      <td>0.0</td>\n",
       "      <td>0</td>\n",
       "      <td>NaN</td>\n",
       "      <td>0.0</td>\n",
       "      <td>Carlos Bilardo</td>\n",
       "      <td>Diego Maradona</td>\n",
       "      <td>...</td>\n",
       "      <td>NaN</td>\n",
       "      <td>NaN</td>\n",
       "      <td>NaN</td>\n",
       "      <td>NaN</td>\n",
       "      <td>['33&amp;rsquor;|0:0|Jorge Valdano']</td>\n",
       "      <td>['27&amp;rsquor;|0:0|Daniel Veyt']</td>\n",
       "      <td>['85&amp;rsquor;|2:0|Ricardo Bochini|for Jorge Bur...</td>\n",
       "      <td>['54&amp;rsquor;|1:0|Philippe Desmet|for Michel Re...</td>\n",
       "      <td>0.0</td>\n",
       "      <td>2.0</td>\n",
       "    </tr>\n",
       "    <tr>\n",
       "      <th>556</th>\n",
       "      <td>Argentina</td>\n",
       "      <td>England</td>\n",
       "      <td>2</td>\n",
       "      <td>NaN</td>\n",
       "      <td>0.0</td>\n",
       "      <td>1</td>\n",
       "      <td>NaN</td>\n",
       "      <td>0.0</td>\n",
       "      <td>Carlos Bilardo</td>\n",
       "      <td>Diego Maradona</td>\n",
       "      <td>...</td>\n",
       "      <td>NaN</td>\n",
       "      <td>NaN</td>\n",
       "      <td>NaN</td>\n",
       "      <td>NaN</td>\n",
       "      <td>['60&amp;rsquor;|2:0|Sergio Batista']</td>\n",
       "      <td>['9&amp;rsquor;|0:0|Terry Fenwick']</td>\n",
       "      <td>['75&amp;rsquor;|2:0|Carlos Daniel Tapia']</td>\n",
       "      <td>['69&amp;rsquor;|2:0|Chris Waddle|for Peter Reid',...</td>\n",
       "      <td>1.0</td>\n",
       "      <td>2.0</td>\n",
       "    </tr>\n",
       "    <tr>\n",
       "      <th>656</th>\n",
       "      <td>Argentina</td>\n",
       "      <td>Netherlands</td>\n",
       "      <td>3</td>\n",
       "      <td>NaN</td>\n",
       "      <td>0.0</td>\n",
       "      <td>1</td>\n",
       "      <td>NaN</td>\n",
       "      <td>0.0</td>\n",
       "      <td>Cesar Luis Menotti</td>\n",
       "      <td>Daniel Passarella</td>\n",
       "      <td>...</td>\n",
       "      <td>NaN</td>\n",
       "      <td>NaN</td>\n",
       "      <td>NaN</td>\n",
       "      <td>NaN</td>\n",
       "      <td>['40&amp;rsquor;|1:0|Osvaldo Ardiles', '93&amp;rsquor;...</td>\n",
       "      <td>['15&amp;rsquor;|0:0|Ruud Krol', '94&amp;rsquor;|1:1|W...</td>\n",
       "      <td>['65&amp;rsquor;|1:0|Omar Larrosa|for Osvaldo Ardi...</td>\n",
       "      <td>['59&amp;rsquor;|1:0|Dick Nanninga|for Johnny Rep'...</td>\n",
       "      <td>1.0</td>\n",
       "      <td>3.0</td>\n",
       "    </tr>\n",
       "    <tr>\n",
       "      <th>769</th>\n",
       "      <td>England</td>\n",
       "      <td>Argentina</td>\n",
       "      <td>1</td>\n",
       "      <td>NaN</td>\n",
       "      <td>0.0</td>\n",
       "      <td>0</td>\n",
       "      <td>NaN</td>\n",
       "      <td>0.0</td>\n",
       "      <td>Alf Ramsey</td>\n",
       "      <td>Bobby Moore</td>\n",
       "      <td>...</td>\n",
       "      <td>NaN</td>\n",
       "      <td>Antonio Rattín · 35</td>\n",
       "      <td>NaN</td>\n",
       "      <td>NaN</td>\n",
       "      <td>NaN</td>\n",
       "      <td>['1&amp;rsquor;|0:0|Antonio Rattín', '1&amp;rsquor;|0:...</td>\n",
       "      <td>NaN</td>\n",
       "      <td>NaN</td>\n",
       "      <td>0.0</td>\n",
       "      <td>1.0</td>\n",
       "    </tr>\n",
       "    <tr>\n",
       "      <th>946</th>\n",
       "      <td>Uruguay</td>\n",
       "      <td>Argentina</td>\n",
       "      <td>4</td>\n",
       "      <td>NaN</td>\n",
       "      <td>0.0</td>\n",
       "      <td>2</td>\n",
       "      <td>NaN</td>\n",
       "      <td>0.0</td>\n",
       "      <td>Alberto Suppici</td>\n",
       "      <td>José Nasazzi</td>\n",
       "      <td>...</td>\n",
       "      <td>NaN</td>\n",
       "      <td>NaN</td>\n",
       "      <td>NaN</td>\n",
       "      <td>NaN</td>\n",
       "      <td>NaN</td>\n",
       "      <td>NaN</td>\n",
       "      <td>NaN</td>\n",
       "      <td>NaN</td>\n",
       "      <td>2.0</td>\n",
       "      <td>4.0</td>\n",
       "    </tr>\n",
       "    <tr>\n",
       "      <th>948</th>\n",
       "      <td>Argentina</td>\n",
       "      <td>United States</td>\n",
       "      <td>6</td>\n",
       "      <td>NaN</td>\n",
       "      <td>0.0</td>\n",
       "      <td>1</td>\n",
       "      <td>NaN</td>\n",
       "      <td>0.0</td>\n",
       "      <td>Francisco Olazar</td>\n",
       "      <td>Manuel Ferreira</td>\n",
       "      <td>...</td>\n",
       "      <td>NaN</td>\n",
       "      <td>NaN</td>\n",
       "      <td>NaN</td>\n",
       "      <td>NaN</td>\n",
       "      <td>NaN</td>\n",
       "      <td>NaN</td>\n",
       "      <td>NaN</td>\n",
       "      <td>NaN</td>\n",
       "      <td>1.0</td>\n",
       "      <td>6.0</td>\n",
       "    </tr>\n",
       "  </tbody>\n",
       "</table>\n",
       "<p>19 rows × 46 columns</p>\n",
       "</div>"
      ],
      "text/plain": [
       "        home_team      away_team  home_score  home_xg  home_penalty  \\\n",
       "0       Argentina         France           3      3.3           4.0   \n",
       "3       Argentina        Croatia           3      2.3           0.0   \n",
       "7     Netherlands      Argentina           2      0.6           3.0   \n",
       "128       Germany      Argentina           1      NaN           0.0   \n",
       "130   Netherlands      Argentina           0      NaN           2.0   \n",
       "132     Argentina        Belgium           1      NaN           0.0   \n",
       "196     Argentina        Germany           0      NaN           0.0   \n",
       "262       Germany      Argentina           1      NaN           4.0   \n",
       "388   Netherlands      Argentina           2      NaN           0.0   \n",
       "500  West Germany      Argentina           1      NaN           0.0   \n",
       "503         Italy      Argentina           1      NaN           3.0   \n",
       "506    Yugoslavia      Argentina           0      NaN           2.0   \n",
       "552     Argentina   West Germany           3      NaN           0.0   \n",
       "555     Argentina        Belgium           2      NaN           0.0   \n",
       "556     Argentina        England           2      NaN           0.0   \n",
       "656     Argentina    Netherlands           3      NaN           0.0   \n",
       "769       England      Argentina           1      NaN           0.0   \n",
       "946       Uruguay      Argentina           4      NaN           0.0   \n",
       "948     Argentina  United States           6      NaN           0.0   \n",
       "\n",
       "     away_score  away_xg  away_penalty        home_manager       home_captain  \\\n",
       "0             3      2.2           2.0      Lionel Scaloni       Lionel Messi   \n",
       "3             0      0.5           0.0      Lionel Scaloni       Lionel Messi   \n",
       "7             2      1.9           4.0      Louis van Gaal    Virgil van Dijk   \n",
       "128           0      NaN           0.0         Joachim Löw                NaN   \n",
       "130           0      NaN           4.0      Louis van Gaal                NaN   \n",
       "132           0      NaN           0.0   Alejandro Sabella                NaN   \n",
       "196           4      NaN           0.0      Diego Maradona                NaN   \n",
       "262           1      NaN           2.0    Jürgen Klinsmann                NaN   \n",
       "388           1      NaN           0.0        Guus Hiddink                NaN   \n",
       "500           0      NaN           0.0   Franz Beckenbauer    Lothar Matthäus   \n",
       "503           1      NaN           4.0      Azeglio Vicini   Giuseppe Bergomi   \n",
       "506           0      NaN           3.0          Ivica Osim     Zlatko Vujović   \n",
       "552           2      NaN           0.0      Carlos Bilardo     Diego Maradona   \n",
       "555           0      NaN           0.0      Carlos Bilardo     Diego Maradona   \n",
       "556           1      NaN           0.0      Carlos Bilardo     Diego Maradona   \n",
       "656           1      NaN           0.0  Cesar Luis Menotti  Daniel Passarella   \n",
       "769           0      NaN           0.0          Alf Ramsey        Bobby Moore   \n",
       "946           2      NaN           0.0     Alberto Suppici       José Nasazzi   \n",
       "948           1      NaN           0.0    Francisco Olazar    Manuel Ferreira   \n",
       "\n",
       "     ...            home_red_card                           away_red_card  \\\n",
       "0    ...                      NaN                                     NaN   \n",
       "3    ...                      NaN                                     NaN   \n",
       "7    ...                      NaN                                     NaN   \n",
       "128  ...                      NaN                                     NaN   \n",
       "130  ...                      NaN                                     NaN   \n",
       "132  ...                      NaN                                     NaN   \n",
       "196  ...                      NaN                                     NaN   \n",
       "262  ...                      NaN                                     NaN   \n",
       "388  ...                      NaN                                     NaN   \n",
       "500  ...                      NaN  Pedro Monzón · 65|Gustavo Dezotti · 87   \n",
       "503  ...                      NaN                                     NaN   \n",
       "506  ...  Refik Šabanadžović · 31                                     NaN   \n",
       "552  ...                      NaN                                     NaN   \n",
       "555  ...                      NaN                                     NaN   \n",
       "556  ...                      NaN                                     NaN   \n",
       "656  ...                      NaN                                     NaN   \n",
       "769  ...                      NaN                     Antonio Rattín · 35   \n",
       "946  ...                      NaN                                     NaN   \n",
       "948  ...                      NaN                                     NaN   \n",
       "\n",
       "        home_yellow_red_card  away_yellow_red_card  \\\n",
       "0                        NaN                   NaN   \n",
       "3                        NaN                   NaN   \n",
       "7    Denzel Dumfries · 120+3                   NaN   \n",
       "128                      NaN                   NaN   \n",
       "130                      NaN                   NaN   \n",
       "132                      NaN                   NaN   \n",
       "196                      NaN                   NaN   \n",
       "262                      NaN                   NaN   \n",
       "388        Arthur Numan · 76     Ariel Ortega · 87   \n",
       "500                      NaN                   NaN   \n",
       "503                      NaN  Ricardo Giusti · 103   \n",
       "506                      NaN                   NaN   \n",
       "552                      NaN                   NaN   \n",
       "555                      NaN                   NaN   \n",
       "556                      NaN                   NaN   \n",
       "656                      NaN                   NaN   \n",
       "769                      NaN                   NaN   \n",
       "946                      NaN                   NaN   \n",
       "948                      NaN                   NaN   \n",
       "\n",
       "                                 home_yellow_card_long  \\\n",
       "0    ['45+7&rsquor;|2:0|Enzo Fernández', '90+8&rsqu...   \n",
       "3    ['68&rsquor;|2:0|Cristian Romero', '71&rsquor;...   \n",
       "7    ['43&rsquor;|0:1|Jurriën Timber', '45+2&rsquor...   \n",
       "128  ['29&rsquor;|0:0|Bastian Schweinsteiger', '34&...   \n",
       "130  ['45&rsquor;|0:0|Bruno Martins Indi', '105&rsq...   \n",
       "132                    ['75&rsquor;|1:0|Lucas Biglia']   \n",
       "196  ['11&rsquor;|0:1|Nicolás Otamendi', '80&rsquor...   \n",
       "262  ['3&rsquor;|0:0|Lukas Podolski', '90+4&rsquor;...   \n",
       "388  ['10&rsquor;|0:0|Jaap Stam', '17&rsquor;|1:0|A...   \n",
       "500                     ['52&rsquor;|0:0|Rudi Völler']   \n",
       "503               ['22&rsquor;|1:0|Giuseppe Giannini']   \n",
       "506              ['24&rsquor;|0:0|Refik Šabanadžović']   \n",
       "552  ['17&rsquor;|0:0|Diego Maradona', '77&rsquor;|...   \n",
       "555                   ['33&rsquor;|0:0|Jorge Valdano']   \n",
       "556                  ['60&rsquor;|2:0|Sergio Batista']   \n",
       "656  ['40&rsquor;|1:0|Osvaldo Ardiles', '93&rsquor;...   \n",
       "769                                                NaN   \n",
       "946                                                NaN   \n",
       "948                                                NaN   \n",
       "\n",
       "                                 away_yellow_card_long  \\\n",
       "0    ['55&rsquor;|2:0|Adrien Rabiot', '87&rsquor;|2...   \n",
       "3    ['32&rsquor;|0:0|Mateo Kovačić', '32&rsquor;|0...   \n",
       "7    ['31&rsquor;|0:0|Walter Samuel', '43&rsquor;|0...   \n",
       "128  ['64&rsquor;|0:0|Javier Mascherano', '65&rsquo...   \n",
       "130               ['49&rsquor;|0:0|Martín Demichelis']   \n",
       "132  ['53&rsquor;|1:0|Eden Hazard', '69&rsquor;|1:0...   \n",
       "196                   ['35&rsquor;|0:1|Thomas Müller']   \n",
       "262  ['46&rsquor;|0:0|Juan Pablo Sorín', '60&rsquor...   \n",
       "388  ['22&rsquor;|1:1|José Chamot', '60&rsquor;|1:1...   \n",
       "500  ['5&rsquor;|0:0|Gustavo Dezotti', '84&rsquor;|...   \n",
       "503  ['30&rsquor;|1:0|Ricardo Giusti', '70&rsquor;|...   \n",
       "506  ['21&rsquor;|0:0|José Serrizuela', '42&rsquor;...   \n",
       "552  ['21&rsquor;|0:0|Lothar Matthäus', '62&rsquor;...   \n",
       "555                     ['27&rsquor;|0:0|Daniel Veyt']   \n",
       "556                    ['9&rsquor;|0:0|Terry Fenwick']   \n",
       "656  ['15&rsquor;|0:0|Ruud Krol', '94&rsquor;|1:1|W...   \n",
       "769  ['1&rsquor;|0:0|Antonio Rattín', '1&rsquor;|0:...   \n",
       "946                                                NaN   \n",
       "948                                                NaN   \n",
       "\n",
       "                               home_substitute_in_long  \\\n",
       "0    ['64&rsquor;|2:0|Marcos Acuña|for Ángel Di Mar...   \n",
       "3    ['62&rsquor;|2:0|Lisandro Martínez|for Leandro...   \n",
       "7    ['46&rsquor;|0:1|Steven Berghuis|for Steven Be...   \n",
       "128  ['32&rsquor;|0:0|André Schürrle|for Christoph ...   \n",
       "130  ['46&rsquor;|0:0|Daryl Janmaat|for Bruno Marti...   \n",
       "132  ['38&rsquor;|1:0|Enzo Pérez|for Ángel Di María...   \n",
       "196  ['70&rsquor;|0:2|Javier Pastore|for Nicolás Ot...   \n",
       "262  ['62&rsquor;|0:1|David Odonkor|for Bernd Schne...   \n",
       "388  ['64&rsquor;|1:1|Marc Overmars|for Ronald de B...   \n",
       "500  ['73&rsquor;|0:0|Stefan Reuter|for Thomas Bert...   \n",
       "503  ['70&rsquor;|1:1|Aldo Serena|for Gianluca Vial...   \n",
       "506  ['61&rsquor;|0:0|Dejan Savićević|for Safet Suš...   \n",
       "552  ['90&rsquor;|3:2|Marcelo Trobbiani|for Jorge B...   \n",
       "555  ['85&rsquor;|2:0|Ricardo Bochini|for Jorge Bur...   \n",
       "556             ['75&rsquor;|2:0|Carlos Daniel Tapia']   \n",
       "656  ['65&rsquor;|1:0|Omar Larrosa|for Osvaldo Ardi...   \n",
       "769                                                NaN   \n",
       "946                                                NaN   \n",
       "948                                                NaN   \n",
       "\n",
       "                               away_substitute_in_long a_total h_total  \n",
       "0    ['41&rsquor;|2:0|Randal Kolo Muani|for Ousmane...     5.0     7.0  \n",
       "3    ['46&rsquor;|2:0|Mislav Oršić|for Borna Sosa',...     0.0     3.0  \n",
       "7    ['66&rsquor;|0:1|Leandro Paredes|for Rodrigo D...     6.0     5.0  \n",
       "128  ['46&rsquor;|0:0|Sergio Agüero|for Ezequiel La...     0.0     1.0  \n",
       "130  ['81&rsquor;|0:0|Rodrigo Palacio|for Enzo Pére...     4.0     2.0  \n",
       "132  ['59&rsquor;|1:0|Romelu Lukaku|for Divock Orig...     0.0     1.0  \n",
       "196  ['72&rsquor;|0:2|Marcell Jansen|for Jérôme Boa...     4.0     0.0  \n",
       "262  ['71&rsquor;|0:1|Leo Franco|for Pato Abbondanz...     3.0     5.0  \n",
       "388  ['68&rsquor;|1:1|Mauricio Pineda|for Matías Al...     1.0     2.0  \n",
       "500  ['46&rsquor;|0:0|Pedro Monzón|for Oscar Rugger...     0.0     1.0  \n",
       "503  ['46&rsquor;|1:0|Pedro Troglio|for Gabriel Cal...     5.0     4.0  \n",
       "506  ['51&rsquor;|0:0|Pedro Troglio|for Julio Olart...     3.0     2.0  \n",
       "552  ['46&rsquor;|1:0|Rudi Völler|for Klaus Allofs'...     2.0     3.0  \n",
       "555  ['54&rsquor;|1:0|Philippe Desmet|for Michel Re...     0.0     2.0  \n",
       "556  ['69&rsquor;|2:0|Chris Waddle|for Peter Reid',...     1.0     2.0  \n",
       "656  ['59&rsquor;|1:0|Dick Nanninga|for Johnny Rep'...     1.0     3.0  \n",
       "769                                                NaN     0.0     1.0  \n",
       "946                                                NaN     2.0     4.0  \n",
       "948                                                NaN     1.0     6.0  \n",
       "\n",
       "[19 rows x 46 columns]"
      ]
     },
     "execution_count": 124,
     "metadata": {},
     "output_type": "execute_result"
    }
   ],
   "source": [
    "data"
   ]
  },
  {
   "cell_type": "code",
   "execution_count": 125,
   "metadata": {},
   "outputs": [
    {
     "data": {
      "text/html": [
       "<div>\n",
       "<style scoped>\n",
       "    .dataframe tbody tr th:only-of-type {\n",
       "        vertical-align: middle;\n",
       "    }\n",
       "\n",
       "    .dataframe tbody tr th {\n",
       "        vertical-align: top;\n",
       "    }\n",
       "\n",
       "    .dataframe thead th {\n",
       "        text-align: right;\n",
       "    }\n",
       "</style>\n",
       "<table border=\"1\" class=\"dataframe\">\n",
       "  <thead>\n",
       "    <tr style=\"text-align: right;\">\n",
       "      <th></th>\n",
       "      <th>Round</th>\n",
       "      <th>Total Matches</th>\n",
       "    </tr>\n",
       "  </thead>\n",
       "  <tbody>\n",
       "    <tr>\n",
       "      <th>0</th>\n",
       "      <td>Quarter-finals</td>\n",
       "      <td>8</td>\n",
       "    </tr>\n",
       "    <tr>\n",
       "      <th>1</th>\n",
       "      <td>Final</td>\n",
       "      <td>6</td>\n",
       "    </tr>\n",
       "    <tr>\n",
       "      <th>2</th>\n",
       "      <td>Semi-finals</td>\n",
       "      <td>5</td>\n",
       "    </tr>\n",
       "  </tbody>\n",
       "</table>\n",
       "</div>"
      ],
      "text/plain": [
       "            Round  Total Matches\n",
       "0  Quarter-finals              8\n",
       "1           Final              6\n",
       "2     Semi-finals              5"
      ]
     },
     "execution_count": 125,
     "metadata": {},
     "output_type": "execute_result"
    }
   ],
   "source": [
    "df1 = data['Round'].value_counts().reset_index()\n",
    "df1.columns=['Round', 'Total Matches']\n",
    "df1"
   ]
  },
  {
   "cell_type": "code",
   "execution_count": 126,
   "metadata": {},
   "outputs": [],
   "source": [
    "#Function to determine the winner of each game\n",
    "def get_winner(row):\n",
    "    if(row['a_total']> row['h_total']):\n",
    "        return row['away_team']\n",
    "    else:\n",
    "        return row['home_team']"
   ]
  },
  {
   "cell_type": "code",
   "execution_count": 127,
   "metadata": {},
   "outputs": [
    {
     "name": "stderr",
     "output_type": "stream",
     "text": [
      "C:\\Users\\rajan\\AppData\\Local\\Temp\\ipykernel_16192\\3918663080.py:1: SettingWithCopyWarning:\n",
      "\n",
      "\n",
      "A value is trying to be set on a copy of a slice from a DataFrame.\n",
      "Try using .loc[row_indexer,col_indexer] = value instead\n",
      "\n",
      "See the caveats in the documentation: https://pandas.pydata.org/pandas-docs/stable/user_guide/indexing.html#returning-a-view-versus-a-copy\n",
      "\n"
     ]
    }
   ],
   "source": [
    "data['Winner'] = data.apply(get_winner, axis=1)"
   ]
  },
  {
   "cell_type": "code",
   "execution_count": 128,
   "metadata": {},
   "outputs": [],
   "source": [
    "df2 = data[data['Winner']==country]['Round'].value_counts().reset_index()\n",
    "df2.columns = ['Round', 'Matches Won']"
   ]
  },
  {
   "cell_type": "code",
   "execution_count": 129,
   "metadata": {},
   "outputs": [
    {
     "data": {
      "text/html": [
       "<div>\n",
       "<style scoped>\n",
       "    .dataframe tbody tr th:only-of-type {\n",
       "        vertical-align: middle;\n",
       "    }\n",
       "\n",
       "    .dataframe tbody tr th {\n",
       "        vertical-align: top;\n",
       "    }\n",
       "\n",
       "    .dataframe thead th {\n",
       "        text-align: right;\n",
       "    }\n",
       "</style>\n",
       "<table border=\"1\" class=\"dataframe\">\n",
       "  <thead>\n",
       "    <tr style=\"text-align: right;\">\n",
       "      <th></th>\n",
       "      <th>Round</th>\n",
       "      <th>Total Matches</th>\n",
       "      <th>Matches Won</th>\n",
       "    </tr>\n",
       "  </thead>\n",
       "  <tbody>\n",
       "    <tr>\n",
       "      <th>0</th>\n",
       "      <td>Quarter-finals</td>\n",
       "      <td>8</td>\n",
       "      <td>4</td>\n",
       "    </tr>\n",
       "    <tr>\n",
       "      <th>1</th>\n",
       "      <td>Final</td>\n",
       "      <td>6</td>\n",
       "      <td>3</td>\n",
       "    </tr>\n",
       "    <tr>\n",
       "      <th>2</th>\n",
       "      <td>Semi-finals</td>\n",
       "      <td>5</td>\n",
       "      <td>5</td>\n",
       "    </tr>\n",
       "  </tbody>\n",
       "</table>\n",
       "</div>"
      ],
      "text/plain": [
       "            Round  Total Matches  Matches Won\n",
       "0  Quarter-finals              8            4\n",
       "1           Final              6            3\n",
       "2     Semi-finals              5            5"
      ]
     },
     "execution_count": 129,
     "metadata": {},
     "output_type": "execute_result"
    }
   ],
   "source": [
    "res = pd.merge(df1,df2,on='Round', how='inner')\n",
    "res"
   ]
  },
  {
   "cell_type": "markdown",
   "metadata": {},
   "source": [
    "##### Here, there is a redundancy in the data, as for team Argentina, the number of Semi-Final played is 5 but the number of Final is 6 which is not possible. So, the probability can be wrong because of the data."
   ]
  },
  {
   "cell_type": "code",
   "execution_count": 130,
   "metadata": {},
   "outputs": [
    {
     "data": {
      "text/html": [
       "<div>\n",
       "<style scoped>\n",
       "    .dataframe tbody tr th:only-of-type {\n",
       "        vertical-align: middle;\n",
       "    }\n",
       "\n",
       "    .dataframe tbody tr th {\n",
       "        vertical-align: top;\n",
       "    }\n",
       "\n",
       "    .dataframe thead th {\n",
       "        text-align: right;\n",
       "    }\n",
       "</style>\n",
       "<table border=\"1\" class=\"dataframe\">\n",
       "  <thead>\n",
       "    <tr style=\"text-align: right;\">\n",
       "      <th></th>\n",
       "      <th>Round</th>\n",
       "      <th>Total Matches</th>\n",
       "      <th>Matches Won</th>\n",
       "      <th>Percentage</th>\n",
       "    </tr>\n",
       "  </thead>\n",
       "  <tbody>\n",
       "    <tr>\n",
       "      <th>0</th>\n",
       "      <td>Quarter-finals</td>\n",
       "      <td>8</td>\n",
       "      <td>4</td>\n",
       "      <td>50.0</td>\n",
       "    </tr>\n",
       "    <tr>\n",
       "      <th>1</th>\n",
       "      <td>Final</td>\n",
       "      <td>6</td>\n",
       "      <td>3</td>\n",
       "      <td>50.0</td>\n",
       "    </tr>\n",
       "    <tr>\n",
       "      <th>2</th>\n",
       "      <td>Semi-finals</td>\n",
       "      <td>5</td>\n",
       "      <td>5</td>\n",
       "      <td>100.0</td>\n",
       "    </tr>\n",
       "  </tbody>\n",
       "</table>\n",
       "</div>"
      ],
      "text/plain": [
       "            Round  Total Matches  Matches Won  Percentage\n",
       "0  Quarter-finals              8            4        50.0\n",
       "1           Final              6            3        50.0\n",
       "2     Semi-finals              5            5       100.0"
      ]
     },
     "execution_count": 130,
     "metadata": {},
     "output_type": "execute_result"
    }
   ],
   "source": [
    "res['Percentage'] = (res['Matches Won'] / res['Total Matches'])*100\n",
    "res"
   ]
  },
  {
   "cell_type": "code",
   "execution_count": 131,
   "metadata": {},
   "outputs": [],
   "source": [
    "def calculate_performance(country):\n",
    "    #filtering matches based on the specified country and rounds\n",
    "    data = matches[((matches['home_team'] == country) | (matches['away_team'] == country)) &\n",
    "                   ((matches['Round'] == 'Final') | (matches['Round'] == 'Semi-finals') | (matches['Round'] == 'Quarter-finals'))]\n",
    "\n",
    "    #creating a DataFrame with the count of matches per round\n",
    "    df1 = pd.DataFrame(data['Round'].value_counts().reset_index())\n",
    "    df1.columns = ['Round', 'Total Matches']\n",
    "\n",
    "    # Function to determine the winner of each match\n",
    "    def get_winner(row):\n",
    "        if row['h_total'] > row['a_total']:\n",
    "            return row['home_team']\n",
    "        else:\n",
    "            return row['away_team']\n",
    "\n",
    "    #using the function to determine the winner for each match\n",
    "    data['Winner'] = data.apply(get_winner, axis=1)\n",
    "\n",
    "    #creating a DataFrame with the count of matches won by the specified country per round\n",
    "    df2 = pd.DataFrame(data[data['Winner'] == country]['Round'].value_counts().reset_index())\n",
    "    df2.columns = ['Round', 'Matches Won']\n",
    "\n",
    "    #merge the two DataFrames on the 'Round' column\n",
    "    result = pd.merge(df1, df2, on='Round', how='inner')\n",
    "\n",
    "    #the percentage of matches won\n",
    "    result['Percentage'] = (result['Matches Won'] / result['Total Matches']) * 100\n",
    "\n",
    "    return result"
   ]
  },
  {
   "cell_type": "code",
   "execution_count": 132,
   "metadata": {},
   "outputs": [
    {
     "name": "stderr",
     "output_type": "stream",
     "text": [
      "C:\\Users\\rajan\\AppData\\Local\\Temp\\ipykernel_16192\\153469898.py:18: SettingWithCopyWarning:\n",
      "\n",
      "\n",
      "A value is trying to be set on a copy of a slice from a DataFrame.\n",
      "Try using .loc[row_indexer,col_indexer] = value instead\n",
      "\n",
      "See the caveats in the documentation: https://pandas.pydata.org/pandas-docs/stable/user_guide/indexing.html#returning-a-view-versus-a-copy\n",
      "\n"
     ]
    },
    {
     "data": {
      "text/html": [
       "<div>\n",
       "<style scoped>\n",
       "    .dataframe tbody tr th:only-of-type {\n",
       "        vertical-align: middle;\n",
       "    }\n",
       "\n",
       "    .dataframe tbody tr th {\n",
       "        vertical-align: top;\n",
       "    }\n",
       "\n",
       "    .dataframe thead th {\n",
       "        text-align: right;\n",
       "    }\n",
       "</style>\n",
       "<table border=\"1\" class=\"dataframe\">\n",
       "  <thead>\n",
       "    <tr style=\"text-align: right;\">\n",
       "      <th></th>\n",
       "      <th>Round</th>\n",
       "      <th>Total Matches</th>\n",
       "      <th>Matches Won</th>\n",
       "      <th>Percentage</th>\n",
       "    </tr>\n",
       "  </thead>\n",
       "  <tbody>\n",
       "    <tr>\n",
       "      <th>0</th>\n",
       "      <td>Quarter-finals</td>\n",
       "      <td>5</td>\n",
       "      <td>3</td>\n",
       "      <td>60.000000</td>\n",
       "    </tr>\n",
       "    <tr>\n",
       "      <th>1</th>\n",
       "      <td>Semi-finals</td>\n",
       "      <td>3</td>\n",
       "      <td>1</td>\n",
       "      <td>33.333333</td>\n",
       "    </tr>\n",
       "  </tbody>\n",
       "</table>\n",
       "</div>"
      ],
      "text/plain": [
       "            Round  Total Matches  Matches Won  Percentage\n",
       "0  Quarter-finals              5            3   60.000000\n",
       "1     Semi-finals              3            1   33.333333"
      ]
     },
     "execution_count": 132,
     "metadata": {},
     "output_type": "execute_result"
    }
   ],
   "source": [
    "calculate_performance('Sweden')"
   ]
  },
  {
   "cell_type": "markdown",
   "metadata": {},
   "source": [
    "#### Conclusions\n",
    "\n",
    "1) Italy: Teams facing Italy in knockout rounds can expect a challenging match. Italy has a 75% probability of winning in the quarter-finals, an 86% probability of advancing from the semi-finals, and a 67% probability of securing victory in the finals.\n",
    "\n",
    "2) Spain - if it clears QF its wins title.\n",
    "\n",
    "3) France - they have good record in QF comparatively not that good record in Semi and Finals.\n",
    "\n",
    "4) Sweden never reaches a final.\n",
    "\n",
    "5) If Argentina reaches semi final , it will surely win it."
   ]
  },
  {
   "cell_type": "code",
   "execution_count": 133,
   "metadata": {},
   "outputs": [
    {
     "data": {
      "text/plain": [
       "0                 Ángel Di María · 36|Lionel Messi · 108\n",
       "1                   Joško Gvardiol · 7|Mislav Oršić · 42\n",
       "2              Theo Hernández · 5|Randal Kolo Muani · 79\n",
       "3                Julián Álvarez · 39|Julián Álvarez · 69\n",
       "4                                 Youssef En-Nesyri · 42\n",
       "                             ...                        \n",
       "959                                      Luis Monti · 81\n",
       "960               Aleksandar Tirnanić · 21|Ivan Bek · 30\n",
       "961    Adalbert Deșu · 1|Constantin Stanciu · 79|Nico...\n",
       "962    Bart McGhee · 23|Tom Florie · 45|Bert Patenaud...\n",
       "963    Lucien Laurent · 19|Marcel Langiller · 40|Andr...\n",
       "Name: home_goal, Length: 964, dtype: object"
      ]
     },
     "execution_count": 133,
     "metadata": {},
     "output_type": "execute_result"
    }
   ],
   "source": [
    "# playing strategy of a team in knockout vs non-knockout matches\n",
    "matches['home_goal']"
   ]
  },
  {
   "cell_type": "code",
   "execution_count": 134,
   "metadata": {},
   "outputs": [],
   "source": [
    "#the pattern of the string using ChatGPT\n",
    "pattern = r'\\b(\\d+)\\b'"
   ]
  },
  {
   "cell_type": "code",
   "execution_count": 135,
   "metadata": {},
   "outputs": [],
   "source": [
    "#function to extract the time from each row of Home team\n",
    "def get_time_home(row):\n",
    "    if pd.notna(row['home_goal']):\n",
    "        goal_str = str(row['home_goal'])\n",
    "        times=[]\n",
    "        matches = re.findall(pattern,goal_str)\n",
    "        times.extend(matches)\n",
    "        return ', '.join(times)\n",
    "    else:\n",
    "        return ''"
   ]
  },
  {
   "cell_type": "code",
   "execution_count": 136,
   "metadata": {},
   "outputs": [],
   "source": [
    "#function to extract the time from each row of Away team\n",
    "def get_time_away(row):\n",
    "    if pd.notna(row['away_goal']):\n",
    "        goal_str = str(row['away_goal'])\n",
    "        times=[]\n",
    "        matches = re.findall(pattern,goal_str)\n",
    "        times.extend(matches)\n",
    "        return ', '.join(times)\n",
    "    else:\n",
    "        return ''"
   ]
  },
  {
   "cell_type": "code",
   "execution_count": 137,
   "metadata": {},
   "outputs": [
    {
     "data": {
      "text/html": [
       "<div>\n",
       "<style scoped>\n",
       "    .dataframe tbody tr th:only-of-type {\n",
       "        vertical-align: middle;\n",
       "    }\n",
       "\n",
       "    .dataframe tbody tr th {\n",
       "        vertical-align: top;\n",
       "    }\n",
       "\n",
       "    .dataframe thead th {\n",
       "        text-align: right;\n",
       "    }\n",
       "</style>\n",
       "<table border=\"1\" class=\"dataframe\">\n",
       "  <thead>\n",
       "    <tr style=\"text-align: right;\">\n",
       "      <th></th>\n",
       "      <th>home_team</th>\n",
       "      <th>away_team</th>\n",
       "      <th>home_score</th>\n",
       "      <th>home_xg</th>\n",
       "      <th>home_penalty</th>\n",
       "      <th>away_score</th>\n",
       "      <th>away_xg</th>\n",
       "      <th>away_penalty</th>\n",
       "      <th>home_manager</th>\n",
       "      <th>home_captain</th>\n",
       "      <th>...</th>\n",
       "      <th>home_yellow_red_card</th>\n",
       "      <th>away_yellow_red_card</th>\n",
       "      <th>home_yellow_card_long</th>\n",
       "      <th>away_yellow_card_long</th>\n",
       "      <th>home_substitute_in_long</th>\n",
       "      <th>away_substitute_in_long</th>\n",
       "      <th>a_total</th>\n",
       "      <th>h_total</th>\n",
       "      <th>Home_Goals</th>\n",
       "      <th>Away_Goals</th>\n",
       "    </tr>\n",
       "  </thead>\n",
       "  <tbody>\n",
       "    <tr>\n",
       "      <th>0</th>\n",
       "      <td>Argentina</td>\n",
       "      <td>France</td>\n",
       "      <td>3</td>\n",
       "      <td>3.3</td>\n",
       "      <td>4.0</td>\n",
       "      <td>3</td>\n",
       "      <td>2.2</td>\n",
       "      <td>2.0</td>\n",
       "      <td>Lionel Scaloni</td>\n",
       "      <td>Lionel Messi</td>\n",
       "      <td>...</td>\n",
       "      <td>NaN</td>\n",
       "      <td>NaN</td>\n",
       "      <td>['45+7&amp;rsquor;|2:0|Enzo Fernández', '90+8&amp;rsqu...</td>\n",
       "      <td>['55&amp;rsquor;|2:0|Adrien Rabiot', '87&amp;rsquor;|2...</td>\n",
       "      <td>['64&amp;rsquor;|2:0|Marcos Acuña|for Ángel Di Mar...</td>\n",
       "      <td>['41&amp;rsquor;|2:0|Randal Kolo Muani|for Ousmane...</td>\n",
       "      <td>5.0</td>\n",
       "      <td>7.0</td>\n",
       "      <td>36, 108</td>\n",
       "      <td>81</td>\n",
       "    </tr>\n",
       "    <tr>\n",
       "      <th>1</th>\n",
       "      <td>Croatia</td>\n",
       "      <td>Morocco</td>\n",
       "      <td>2</td>\n",
       "      <td>0.7</td>\n",
       "      <td>0.0</td>\n",
       "      <td>1</td>\n",
       "      <td>1.2</td>\n",
       "      <td>0.0</td>\n",
       "      <td>Zlatko Dalić</td>\n",
       "      <td>Luka Modrić</td>\n",
       "      <td>...</td>\n",
       "      <td>NaN</td>\n",
       "      <td>NaN</td>\n",
       "      <td>NaN</td>\n",
       "      <td>['69&amp;rsquor;|2:1|Azzedine Ounahi', '84&amp;rsquor;...</td>\n",
       "      <td>['61&amp;rsquor;|2:1|Nikola Vlašić|for Andrej Kram...</td>\n",
       "      <td>['46&amp;rsquor;|2:1|Ilias Chair|for Abdelhamid Sa...</td>\n",
       "      <td>1.0</td>\n",
       "      <td>2.0</td>\n",
       "      <td>7, 42</td>\n",
       "      <td>9</td>\n",
       "    </tr>\n",
       "    <tr>\n",
       "      <th>2</th>\n",
       "      <td>France</td>\n",
       "      <td>Morocco</td>\n",
       "      <td>2</td>\n",
       "      <td>2.0</td>\n",
       "      <td>0.0</td>\n",
       "      <td>0</td>\n",
       "      <td>0.9</td>\n",
       "      <td>0.0</td>\n",
       "      <td>Didier Deschamps</td>\n",
       "      <td>Hugo Lloris</td>\n",
       "      <td>...</td>\n",
       "      <td>NaN</td>\n",
       "      <td>NaN</td>\n",
       "      <td>NaN</td>\n",
       "      <td>['27&amp;rsquor;|1:0|Sofiane Boufal']</td>\n",
       "      <td>['65&amp;rsquor;|1:0|Marcus Thuram|for Olivier Gir...</td>\n",
       "      <td>['21&amp;rsquor;|1:0|Selim Amallah|for Romain Saïs...</td>\n",
       "      <td>0.0</td>\n",
       "      <td>2.0</td>\n",
       "      <td>5, 79</td>\n",
       "      <td></td>\n",
       "    </tr>\n",
       "    <tr>\n",
       "      <th>3</th>\n",
       "      <td>Argentina</td>\n",
       "      <td>Croatia</td>\n",
       "      <td>3</td>\n",
       "      <td>2.3</td>\n",
       "      <td>0.0</td>\n",
       "      <td>0</td>\n",
       "      <td>0.5</td>\n",
       "      <td>0.0</td>\n",
       "      <td>Lionel Scaloni</td>\n",
       "      <td>Lionel Messi</td>\n",
       "      <td>...</td>\n",
       "      <td>NaN</td>\n",
       "      <td>NaN</td>\n",
       "      <td>['68&amp;rsquor;|2:0|Cristian Romero', '71&amp;rsquor;...</td>\n",
       "      <td>['32&amp;rsquor;|0:0|Mateo Kovačić', '32&amp;rsquor;|0...</td>\n",
       "      <td>['62&amp;rsquor;|2:0|Lisandro Martínez|for Leandro...</td>\n",
       "      <td>['46&amp;rsquor;|2:0|Mislav Oršić|for Borna Sosa',...</td>\n",
       "      <td>0.0</td>\n",
       "      <td>3.0</td>\n",
       "      <td>39, 69</td>\n",
       "      <td></td>\n",
       "    </tr>\n",
       "    <tr>\n",
       "      <th>4</th>\n",
       "      <td>Morocco</td>\n",
       "      <td>Portugal</td>\n",
       "      <td>1</td>\n",
       "      <td>1.4</td>\n",
       "      <td>0.0</td>\n",
       "      <td>0</td>\n",
       "      <td>0.9</td>\n",
       "      <td>0.0</td>\n",
       "      <td>Hoalid Regragui</td>\n",
       "      <td>Romain Saïss</td>\n",
       "      <td>...</td>\n",
       "      <td>Walid Cheddira · 90+3</td>\n",
       "      <td>NaN</td>\n",
       "      <td>['70&amp;rsquor;|1:0|Achraf Dari', '90+1&amp;rsquor;|1...</td>\n",
       "      <td>['87&amp;rsquor;|1:0|Vitinha']</td>\n",
       "      <td>['57&amp;rsquor;|1:0|Achraf Dari|for Romain Saïss'...</td>\n",
       "      <td>['51&amp;rsquor;|1:0|João Cancelo|for Raphaël Guer...</td>\n",
       "      <td>0.0</td>\n",
       "      <td>1.0</td>\n",
       "      <td>42</td>\n",
       "      <td></td>\n",
       "    </tr>\n",
       "    <tr>\n",
       "      <th>...</th>\n",
       "      <td>...</td>\n",
       "      <td>...</td>\n",
       "      <td>...</td>\n",
       "      <td>...</td>\n",
       "      <td>...</td>\n",
       "      <td>...</td>\n",
       "      <td>...</td>\n",
       "      <td>...</td>\n",
       "      <td>...</td>\n",
       "      <td>...</td>\n",
       "      <td>...</td>\n",
       "      <td>...</td>\n",
       "      <td>...</td>\n",
       "      <td>...</td>\n",
       "      <td>...</td>\n",
       "      <td>...</td>\n",
       "      <td>...</td>\n",
       "      <td>...</td>\n",
       "      <td>...</td>\n",
       "      <td>...</td>\n",
       "      <td>...</td>\n",
       "    </tr>\n",
       "    <tr>\n",
       "      <th>959</th>\n",
       "      <td>Argentina</td>\n",
       "      <td>France</td>\n",
       "      <td>1</td>\n",
       "      <td>NaN</td>\n",
       "      <td>0.0</td>\n",
       "      <td>0</td>\n",
       "      <td>NaN</td>\n",
       "      <td>0.0</td>\n",
       "      <td>Francisco Olazar</td>\n",
       "      <td>Manuel Ferreira</td>\n",
       "      <td>...</td>\n",
       "      <td>NaN</td>\n",
       "      <td>NaN</td>\n",
       "      <td>NaN</td>\n",
       "      <td>NaN</td>\n",
       "      <td>NaN</td>\n",
       "      <td>NaN</td>\n",
       "      <td>0.0</td>\n",
       "      <td>1.0</td>\n",
       "      <td>81</td>\n",
       "      <td></td>\n",
       "    </tr>\n",
       "    <tr>\n",
       "      <th>960</th>\n",
       "      <td>Yugoslavia</td>\n",
       "      <td>Brazil</td>\n",
       "      <td>2</td>\n",
       "      <td>NaN</td>\n",
       "      <td>0.0</td>\n",
       "      <td>1</td>\n",
       "      <td>NaN</td>\n",
       "      <td>0.0</td>\n",
       "      <td>Bosko Simonovic</td>\n",
       "      <td>Milutin Ivković</td>\n",
       "      <td>...</td>\n",
       "      <td>NaN</td>\n",
       "      <td>NaN</td>\n",
       "      <td>NaN</td>\n",
       "      <td>NaN</td>\n",
       "      <td>NaN</td>\n",
       "      <td>NaN</td>\n",
       "      <td>1.0</td>\n",
       "      <td>2.0</td>\n",
       "      <td>21, 30</td>\n",
       "      <td>62</td>\n",
       "    </tr>\n",
       "    <tr>\n",
       "      <th>961</th>\n",
       "      <td>Romania</td>\n",
       "      <td>Peru</td>\n",
       "      <td>3</td>\n",
       "      <td>NaN</td>\n",
       "      <td>0.0</td>\n",
       "      <td>1</td>\n",
       "      <td>NaN</td>\n",
       "      <td>0.0</td>\n",
       "      <td>Octav Luchide</td>\n",
       "      <td>Emerich Vogl</td>\n",
       "      <td>...</td>\n",
       "      <td>NaN</td>\n",
       "      <td>NaN</td>\n",
       "      <td>NaN</td>\n",
       "      <td>NaN</td>\n",
       "      <td>NaN</td>\n",
       "      <td>NaN</td>\n",
       "      <td>1.0</td>\n",
       "      <td>3.0</td>\n",
       "      <td>1, 79, 89</td>\n",
       "      <td>75</td>\n",
       "    </tr>\n",
       "    <tr>\n",
       "      <th>962</th>\n",
       "      <td>United States</td>\n",
       "      <td>Belgium</td>\n",
       "      <td>3</td>\n",
       "      <td>NaN</td>\n",
       "      <td>0.0</td>\n",
       "      <td>0</td>\n",
       "      <td>NaN</td>\n",
       "      <td>0.0</td>\n",
       "      <td>Bob Millar</td>\n",
       "      <td>Tom Florie</td>\n",
       "      <td>...</td>\n",
       "      <td>NaN</td>\n",
       "      <td>NaN</td>\n",
       "      <td>NaN</td>\n",
       "      <td>NaN</td>\n",
       "      <td>NaN</td>\n",
       "      <td>NaN</td>\n",
       "      <td>0.0</td>\n",
       "      <td>3.0</td>\n",
       "      <td>23, 45, 69</td>\n",
       "      <td></td>\n",
       "    </tr>\n",
       "    <tr>\n",
       "      <th>963</th>\n",
       "      <td>France</td>\n",
       "      <td>Mexico</td>\n",
       "      <td>4</td>\n",
       "      <td>NaN</td>\n",
       "      <td>0.0</td>\n",
       "      <td>1</td>\n",
       "      <td>NaN</td>\n",
       "      <td>0.0</td>\n",
       "      <td>Raoul Caudron</td>\n",
       "      <td>Alexandre Villaplane</td>\n",
       "      <td>...</td>\n",
       "      <td>NaN</td>\n",
       "      <td>NaN</td>\n",
       "      <td>NaN</td>\n",
       "      <td>NaN</td>\n",
       "      <td>NaN</td>\n",
       "      <td>NaN</td>\n",
       "      <td>1.0</td>\n",
       "      <td>4.0</td>\n",
       "      <td>19, 40, 43, 87</td>\n",
       "      <td>70</td>\n",
       "    </tr>\n",
       "  </tbody>\n",
       "</table>\n",
       "<p>964 rows × 48 columns</p>\n",
       "</div>"
      ],
      "text/plain": [
       "         home_team away_team  home_score  home_xg  home_penalty  away_score  \\\n",
       "0        Argentina    France           3      3.3           4.0           3   \n",
       "1          Croatia   Morocco           2      0.7           0.0           1   \n",
       "2           France   Morocco           2      2.0           0.0           0   \n",
       "3        Argentina   Croatia           3      2.3           0.0           0   \n",
       "4          Morocco  Portugal           1      1.4           0.0           0   \n",
       "..             ...       ...         ...      ...           ...         ...   \n",
       "959      Argentina    France           1      NaN           0.0           0   \n",
       "960     Yugoslavia    Brazil           2      NaN           0.0           1   \n",
       "961        Romania      Peru           3      NaN           0.0           1   \n",
       "962  United States   Belgium           3      NaN           0.0           0   \n",
       "963         France    Mexico           4      NaN           0.0           1   \n",
       "\n",
       "     away_xg  away_penalty      home_manager          home_captain  ...  \\\n",
       "0        2.2           2.0    Lionel Scaloni          Lionel Messi  ...   \n",
       "1        1.2           0.0      Zlatko Dalić           Luka Modrić  ...   \n",
       "2        0.9           0.0  Didier Deschamps           Hugo Lloris  ...   \n",
       "3        0.5           0.0    Lionel Scaloni          Lionel Messi  ...   \n",
       "4        0.9           0.0   Hoalid Regragui          Romain Saïss  ...   \n",
       "..       ...           ...               ...                   ...  ...   \n",
       "959      NaN           0.0  Francisco Olazar       Manuel Ferreira  ...   \n",
       "960      NaN           0.0   Bosko Simonovic       Milutin Ivković  ...   \n",
       "961      NaN           0.0     Octav Luchide          Emerich Vogl  ...   \n",
       "962      NaN           0.0        Bob Millar            Tom Florie  ...   \n",
       "963      NaN           0.0     Raoul Caudron  Alexandre Villaplane  ...   \n",
       "\n",
       "      home_yellow_red_card away_yellow_red_card  \\\n",
       "0                      NaN                  NaN   \n",
       "1                      NaN                  NaN   \n",
       "2                      NaN                  NaN   \n",
       "3                      NaN                  NaN   \n",
       "4    Walid Cheddira · 90+3                  NaN   \n",
       "..                     ...                  ...   \n",
       "959                    NaN                  NaN   \n",
       "960                    NaN                  NaN   \n",
       "961                    NaN                  NaN   \n",
       "962                    NaN                  NaN   \n",
       "963                    NaN                  NaN   \n",
       "\n",
       "                                 home_yellow_card_long  \\\n",
       "0    ['45+7&rsquor;|2:0|Enzo Fernández', '90+8&rsqu...   \n",
       "1                                                  NaN   \n",
       "2                                                  NaN   \n",
       "3    ['68&rsquor;|2:0|Cristian Romero', '71&rsquor;...   \n",
       "4    ['70&rsquor;|1:0|Achraf Dari', '90+1&rsquor;|1...   \n",
       "..                                                 ...   \n",
       "959                                                NaN   \n",
       "960                                                NaN   \n",
       "961                                                NaN   \n",
       "962                                                NaN   \n",
       "963                                                NaN   \n",
       "\n",
       "                                 away_yellow_card_long  \\\n",
       "0    ['55&rsquor;|2:0|Adrien Rabiot', '87&rsquor;|2...   \n",
       "1    ['69&rsquor;|2:1|Azzedine Ounahi', '84&rsquor;...   \n",
       "2                    ['27&rsquor;|1:0|Sofiane Boufal']   \n",
       "3    ['32&rsquor;|0:0|Mateo Kovačić', '32&rsquor;|0...   \n",
       "4                           ['87&rsquor;|1:0|Vitinha']   \n",
       "..                                                 ...   \n",
       "959                                                NaN   \n",
       "960                                                NaN   \n",
       "961                                                NaN   \n",
       "962                                                NaN   \n",
       "963                                                NaN   \n",
       "\n",
       "                               home_substitute_in_long  \\\n",
       "0    ['64&rsquor;|2:0|Marcos Acuña|for Ángel Di Mar...   \n",
       "1    ['61&rsquor;|2:1|Nikola Vlašić|for Andrej Kram...   \n",
       "2    ['65&rsquor;|1:0|Marcus Thuram|for Olivier Gir...   \n",
       "3    ['62&rsquor;|2:0|Lisandro Martínez|for Leandro...   \n",
       "4    ['57&rsquor;|1:0|Achraf Dari|for Romain Saïss'...   \n",
       "..                                                 ...   \n",
       "959                                                NaN   \n",
       "960                                                NaN   \n",
       "961                                                NaN   \n",
       "962                                                NaN   \n",
       "963                                                NaN   \n",
       "\n",
       "                               away_substitute_in_long a_total h_total  \\\n",
       "0    ['41&rsquor;|2:0|Randal Kolo Muani|for Ousmane...     5.0     7.0   \n",
       "1    ['46&rsquor;|2:1|Ilias Chair|for Abdelhamid Sa...     1.0     2.0   \n",
       "2    ['21&rsquor;|1:0|Selim Amallah|for Romain Saïs...     0.0     2.0   \n",
       "3    ['46&rsquor;|2:0|Mislav Oršić|for Borna Sosa',...     0.0     3.0   \n",
       "4    ['51&rsquor;|1:0|João Cancelo|for Raphaël Guer...     0.0     1.0   \n",
       "..                                                 ...     ...     ...   \n",
       "959                                                NaN     0.0     1.0   \n",
       "960                                                NaN     1.0     2.0   \n",
       "961                                                NaN     1.0     3.0   \n",
       "962                                                NaN     0.0     3.0   \n",
       "963                                                NaN     1.0     4.0   \n",
       "\n",
       "         Home_Goals Away_Goals  \n",
       "0           36, 108         81  \n",
       "1             7, 42          9  \n",
       "2             5, 79             \n",
       "3            39, 69             \n",
       "4                42             \n",
       "..              ...        ...  \n",
       "959              81             \n",
       "960          21, 30         62  \n",
       "961       1, 79, 89         75  \n",
       "962      23, 45, 69             \n",
       "963  19, 40, 43, 87         70  \n",
       "\n",
       "[964 rows x 48 columns]"
      ]
     },
     "execution_count": 137,
     "metadata": {},
     "output_type": "execute_result"
    }
   ],
   "source": [
    "matches['Home_Goals'] = matches.apply(get_time_home, axis=1)\n",
    "matches['Away_Goals'] = matches.apply(get_time_away, axis=1)\n",
    "matches"
   ]
  },
  {
   "cell_type": "code",
   "execution_count": 138,
   "metadata": {},
   "outputs": [
    {
     "data": {
      "text/html": [
       "<div>\n",
       "<style scoped>\n",
       "    .dataframe tbody tr th:only-of-type {\n",
       "        vertical-align: middle;\n",
       "    }\n",
       "\n",
       "    .dataframe tbody tr th {\n",
       "        vertical-align: top;\n",
       "    }\n",
       "\n",
       "    .dataframe thead th {\n",
       "        text-align: right;\n",
       "    }\n",
       "</style>\n",
       "<table border=\"1\" class=\"dataframe\">\n",
       "  <thead>\n",
       "    <tr style=\"text-align: right;\">\n",
       "      <th></th>\n",
       "      <th>home_team</th>\n",
       "      <th>away_team</th>\n",
       "      <th>home_score</th>\n",
       "      <th>home_xg</th>\n",
       "      <th>home_penalty</th>\n",
       "      <th>away_score</th>\n",
       "      <th>away_xg</th>\n",
       "      <th>away_penalty</th>\n",
       "      <th>home_manager</th>\n",
       "      <th>home_captain</th>\n",
       "      <th>...</th>\n",
       "      <th>away_yellow_red_card</th>\n",
       "      <th>home_yellow_card_long</th>\n",
       "      <th>away_yellow_card_long</th>\n",
       "      <th>home_substitute_in_long</th>\n",
       "      <th>away_substitute_in_long</th>\n",
       "      <th>a_total</th>\n",
       "      <th>h_total</th>\n",
       "      <th>Home_Goals</th>\n",
       "      <th>Away_Goals</th>\n",
       "      <th>Knockout</th>\n",
       "    </tr>\n",
       "  </thead>\n",
       "  <tbody>\n",
       "    <tr>\n",
       "      <th>0</th>\n",
       "      <td>Argentina</td>\n",
       "      <td>France</td>\n",
       "      <td>3</td>\n",
       "      <td>3.3</td>\n",
       "      <td>4.0</td>\n",
       "      <td>3</td>\n",
       "      <td>2.2</td>\n",
       "      <td>2.0</td>\n",
       "      <td>Lionel Scaloni</td>\n",
       "      <td>Lionel Messi</td>\n",
       "      <td>...</td>\n",
       "      <td>NaN</td>\n",
       "      <td>['45+7&amp;rsquor;|2:0|Enzo Fernández', '90+8&amp;rsqu...</td>\n",
       "      <td>['55&amp;rsquor;|2:0|Adrien Rabiot', '87&amp;rsquor;|2...</td>\n",
       "      <td>['64&amp;rsquor;|2:0|Marcos Acuña|for Ángel Di Mar...</td>\n",
       "      <td>['41&amp;rsquor;|2:0|Randal Kolo Muani|for Ousmane...</td>\n",
       "      <td>5.0</td>\n",
       "      <td>7.0</td>\n",
       "      <td>36, 108</td>\n",
       "      <td>81</td>\n",
       "      <td>Knockout</td>\n",
       "    </tr>\n",
       "    <tr>\n",
       "      <th>1</th>\n",
       "      <td>Croatia</td>\n",
       "      <td>Morocco</td>\n",
       "      <td>2</td>\n",
       "      <td>0.7</td>\n",
       "      <td>0.0</td>\n",
       "      <td>1</td>\n",
       "      <td>1.2</td>\n",
       "      <td>0.0</td>\n",
       "      <td>Zlatko Dalić</td>\n",
       "      <td>Luka Modrić</td>\n",
       "      <td>...</td>\n",
       "      <td>NaN</td>\n",
       "      <td>NaN</td>\n",
       "      <td>['69&amp;rsquor;|2:1|Azzedine Ounahi', '84&amp;rsquor;...</td>\n",
       "      <td>['61&amp;rsquor;|2:1|Nikola Vlašić|for Andrej Kram...</td>\n",
       "      <td>['46&amp;rsquor;|2:1|Ilias Chair|for Abdelhamid Sa...</td>\n",
       "      <td>1.0</td>\n",
       "      <td>2.0</td>\n",
       "      <td>7, 42</td>\n",
       "      <td>9</td>\n",
       "      <td>Non-Knockout</td>\n",
       "    </tr>\n",
       "    <tr>\n",
       "      <th>2</th>\n",
       "      <td>France</td>\n",
       "      <td>Morocco</td>\n",
       "      <td>2</td>\n",
       "      <td>2.0</td>\n",
       "      <td>0.0</td>\n",
       "      <td>0</td>\n",
       "      <td>0.9</td>\n",
       "      <td>0.0</td>\n",
       "      <td>Didier Deschamps</td>\n",
       "      <td>Hugo Lloris</td>\n",
       "      <td>...</td>\n",
       "      <td>NaN</td>\n",
       "      <td>NaN</td>\n",
       "      <td>['27&amp;rsquor;|1:0|Sofiane Boufal']</td>\n",
       "      <td>['65&amp;rsquor;|1:0|Marcus Thuram|for Olivier Gir...</td>\n",
       "      <td>['21&amp;rsquor;|1:0|Selim Amallah|for Romain Saïs...</td>\n",
       "      <td>0.0</td>\n",
       "      <td>2.0</td>\n",
       "      <td>5, 79</td>\n",
       "      <td></td>\n",
       "      <td>Knockout</td>\n",
       "    </tr>\n",
       "    <tr>\n",
       "      <th>3</th>\n",
       "      <td>Argentina</td>\n",
       "      <td>Croatia</td>\n",
       "      <td>3</td>\n",
       "      <td>2.3</td>\n",
       "      <td>0.0</td>\n",
       "      <td>0</td>\n",
       "      <td>0.5</td>\n",
       "      <td>0.0</td>\n",
       "      <td>Lionel Scaloni</td>\n",
       "      <td>Lionel Messi</td>\n",
       "      <td>...</td>\n",
       "      <td>NaN</td>\n",
       "      <td>['68&amp;rsquor;|2:0|Cristian Romero', '71&amp;rsquor;...</td>\n",
       "      <td>['32&amp;rsquor;|0:0|Mateo Kovačić', '32&amp;rsquor;|0...</td>\n",
       "      <td>['62&amp;rsquor;|2:0|Lisandro Martínez|for Leandro...</td>\n",
       "      <td>['46&amp;rsquor;|2:0|Mislav Oršić|for Borna Sosa',...</td>\n",
       "      <td>0.0</td>\n",
       "      <td>3.0</td>\n",
       "      <td>39, 69</td>\n",
       "      <td></td>\n",
       "      <td>Knockout</td>\n",
       "    </tr>\n",
       "    <tr>\n",
       "      <th>4</th>\n",
       "      <td>Morocco</td>\n",
       "      <td>Portugal</td>\n",
       "      <td>1</td>\n",
       "      <td>1.4</td>\n",
       "      <td>0.0</td>\n",
       "      <td>0</td>\n",
       "      <td>0.9</td>\n",
       "      <td>0.0</td>\n",
       "      <td>Hoalid Regragui</td>\n",
       "      <td>Romain Saïss</td>\n",
       "      <td>...</td>\n",
       "      <td>NaN</td>\n",
       "      <td>['70&amp;rsquor;|1:0|Achraf Dari', '90+1&amp;rsquor;|1...</td>\n",
       "      <td>['87&amp;rsquor;|1:0|Vitinha']</td>\n",
       "      <td>['57&amp;rsquor;|1:0|Achraf Dari|for Romain Saïss'...</td>\n",
       "      <td>['51&amp;rsquor;|1:0|João Cancelo|for Raphaël Guer...</td>\n",
       "      <td>0.0</td>\n",
       "      <td>1.0</td>\n",
       "      <td>42</td>\n",
       "      <td></td>\n",
       "      <td>Knockout</td>\n",
       "    </tr>\n",
       "    <tr>\n",
       "      <th>...</th>\n",
       "      <td>...</td>\n",
       "      <td>...</td>\n",
       "      <td>...</td>\n",
       "      <td>...</td>\n",
       "      <td>...</td>\n",
       "      <td>...</td>\n",
       "      <td>...</td>\n",
       "      <td>...</td>\n",
       "      <td>...</td>\n",
       "      <td>...</td>\n",
       "      <td>...</td>\n",
       "      <td>...</td>\n",
       "      <td>...</td>\n",
       "      <td>...</td>\n",
       "      <td>...</td>\n",
       "      <td>...</td>\n",
       "      <td>...</td>\n",
       "      <td>...</td>\n",
       "      <td>...</td>\n",
       "      <td>...</td>\n",
       "      <td>...</td>\n",
       "    </tr>\n",
       "    <tr>\n",
       "      <th>959</th>\n",
       "      <td>Argentina</td>\n",
       "      <td>France</td>\n",
       "      <td>1</td>\n",
       "      <td>NaN</td>\n",
       "      <td>0.0</td>\n",
       "      <td>0</td>\n",
       "      <td>NaN</td>\n",
       "      <td>0.0</td>\n",
       "      <td>Francisco Olazar</td>\n",
       "      <td>Manuel Ferreira</td>\n",
       "      <td>...</td>\n",
       "      <td>NaN</td>\n",
       "      <td>NaN</td>\n",
       "      <td>NaN</td>\n",
       "      <td>NaN</td>\n",
       "      <td>NaN</td>\n",
       "      <td>0.0</td>\n",
       "      <td>1.0</td>\n",
       "      <td>81</td>\n",
       "      <td></td>\n",
       "      <td>Non-Knockout</td>\n",
       "    </tr>\n",
       "    <tr>\n",
       "      <th>960</th>\n",
       "      <td>Yugoslavia</td>\n",
       "      <td>Brazil</td>\n",
       "      <td>2</td>\n",
       "      <td>NaN</td>\n",
       "      <td>0.0</td>\n",
       "      <td>1</td>\n",
       "      <td>NaN</td>\n",
       "      <td>0.0</td>\n",
       "      <td>Bosko Simonovic</td>\n",
       "      <td>Milutin Ivković</td>\n",
       "      <td>...</td>\n",
       "      <td>NaN</td>\n",
       "      <td>NaN</td>\n",
       "      <td>NaN</td>\n",
       "      <td>NaN</td>\n",
       "      <td>NaN</td>\n",
       "      <td>1.0</td>\n",
       "      <td>2.0</td>\n",
       "      <td>21, 30</td>\n",
       "      <td>62</td>\n",
       "      <td>Non-Knockout</td>\n",
       "    </tr>\n",
       "    <tr>\n",
       "      <th>961</th>\n",
       "      <td>Romania</td>\n",
       "      <td>Peru</td>\n",
       "      <td>3</td>\n",
       "      <td>NaN</td>\n",
       "      <td>0.0</td>\n",
       "      <td>1</td>\n",
       "      <td>NaN</td>\n",
       "      <td>0.0</td>\n",
       "      <td>Octav Luchide</td>\n",
       "      <td>Emerich Vogl</td>\n",
       "      <td>...</td>\n",
       "      <td>NaN</td>\n",
       "      <td>NaN</td>\n",
       "      <td>NaN</td>\n",
       "      <td>NaN</td>\n",
       "      <td>NaN</td>\n",
       "      <td>1.0</td>\n",
       "      <td>3.0</td>\n",
       "      <td>1, 79, 89</td>\n",
       "      <td>75</td>\n",
       "      <td>Non-Knockout</td>\n",
       "    </tr>\n",
       "    <tr>\n",
       "      <th>962</th>\n",
       "      <td>United States</td>\n",
       "      <td>Belgium</td>\n",
       "      <td>3</td>\n",
       "      <td>NaN</td>\n",
       "      <td>0.0</td>\n",
       "      <td>0</td>\n",
       "      <td>NaN</td>\n",
       "      <td>0.0</td>\n",
       "      <td>Bob Millar</td>\n",
       "      <td>Tom Florie</td>\n",
       "      <td>...</td>\n",
       "      <td>NaN</td>\n",
       "      <td>NaN</td>\n",
       "      <td>NaN</td>\n",
       "      <td>NaN</td>\n",
       "      <td>NaN</td>\n",
       "      <td>0.0</td>\n",
       "      <td>3.0</td>\n",
       "      <td>23, 45, 69</td>\n",
       "      <td></td>\n",
       "      <td>Non-Knockout</td>\n",
       "    </tr>\n",
       "    <tr>\n",
       "      <th>963</th>\n",
       "      <td>France</td>\n",
       "      <td>Mexico</td>\n",
       "      <td>4</td>\n",
       "      <td>NaN</td>\n",
       "      <td>0.0</td>\n",
       "      <td>1</td>\n",
       "      <td>NaN</td>\n",
       "      <td>0.0</td>\n",
       "      <td>Raoul Caudron</td>\n",
       "      <td>Alexandre Villaplane</td>\n",
       "      <td>...</td>\n",
       "      <td>NaN</td>\n",
       "      <td>NaN</td>\n",
       "      <td>NaN</td>\n",
       "      <td>NaN</td>\n",
       "      <td>NaN</td>\n",
       "      <td>1.0</td>\n",
       "      <td>4.0</td>\n",
       "      <td>19, 40, 43, 87</td>\n",
       "      <td>70</td>\n",
       "      <td>Non-Knockout</td>\n",
       "    </tr>\n",
       "  </tbody>\n",
       "</table>\n",
       "<p>964 rows × 49 columns</p>\n",
       "</div>"
      ],
      "text/plain": [
       "         home_team away_team  home_score  home_xg  home_penalty  away_score  \\\n",
       "0        Argentina    France           3      3.3           4.0           3   \n",
       "1          Croatia   Morocco           2      0.7           0.0           1   \n",
       "2           France   Morocco           2      2.0           0.0           0   \n",
       "3        Argentina   Croatia           3      2.3           0.0           0   \n",
       "4          Morocco  Portugal           1      1.4           0.0           0   \n",
       "..             ...       ...         ...      ...           ...         ...   \n",
       "959      Argentina    France           1      NaN           0.0           0   \n",
       "960     Yugoslavia    Brazil           2      NaN           0.0           1   \n",
       "961        Romania      Peru           3      NaN           0.0           1   \n",
       "962  United States   Belgium           3      NaN           0.0           0   \n",
       "963         France    Mexico           4      NaN           0.0           1   \n",
       "\n",
       "     away_xg  away_penalty      home_manager          home_captain  ...  \\\n",
       "0        2.2           2.0    Lionel Scaloni          Lionel Messi  ...   \n",
       "1        1.2           0.0      Zlatko Dalić           Luka Modrić  ...   \n",
       "2        0.9           0.0  Didier Deschamps           Hugo Lloris  ...   \n",
       "3        0.5           0.0    Lionel Scaloni          Lionel Messi  ...   \n",
       "4        0.9           0.0   Hoalid Regragui          Romain Saïss  ...   \n",
       "..       ...           ...               ...                   ...  ...   \n",
       "959      NaN           0.0  Francisco Olazar       Manuel Ferreira  ...   \n",
       "960      NaN           0.0   Bosko Simonovic       Milutin Ivković  ...   \n",
       "961      NaN           0.0     Octav Luchide          Emerich Vogl  ...   \n",
       "962      NaN           0.0        Bob Millar            Tom Florie  ...   \n",
       "963      NaN           0.0     Raoul Caudron  Alexandre Villaplane  ...   \n",
       "\n",
       "    away_yellow_red_card                              home_yellow_card_long  \\\n",
       "0                    NaN  ['45+7&rsquor;|2:0|Enzo Fernández', '90+8&rsqu...   \n",
       "1                    NaN                                                NaN   \n",
       "2                    NaN                                                NaN   \n",
       "3                    NaN  ['68&rsquor;|2:0|Cristian Romero', '71&rsquor;...   \n",
       "4                    NaN  ['70&rsquor;|1:0|Achraf Dari', '90+1&rsquor;|1...   \n",
       "..                   ...                                                ...   \n",
       "959                  NaN                                                NaN   \n",
       "960                  NaN                                                NaN   \n",
       "961                  NaN                                                NaN   \n",
       "962                  NaN                                                NaN   \n",
       "963                  NaN                                                NaN   \n",
       "\n",
       "                                 away_yellow_card_long  \\\n",
       "0    ['55&rsquor;|2:0|Adrien Rabiot', '87&rsquor;|2...   \n",
       "1    ['69&rsquor;|2:1|Azzedine Ounahi', '84&rsquor;...   \n",
       "2                    ['27&rsquor;|1:0|Sofiane Boufal']   \n",
       "3    ['32&rsquor;|0:0|Mateo Kovačić', '32&rsquor;|0...   \n",
       "4                           ['87&rsquor;|1:0|Vitinha']   \n",
       "..                                                 ...   \n",
       "959                                                NaN   \n",
       "960                                                NaN   \n",
       "961                                                NaN   \n",
       "962                                                NaN   \n",
       "963                                                NaN   \n",
       "\n",
       "                               home_substitute_in_long  \\\n",
       "0    ['64&rsquor;|2:0|Marcos Acuña|for Ángel Di Mar...   \n",
       "1    ['61&rsquor;|2:1|Nikola Vlašić|for Andrej Kram...   \n",
       "2    ['65&rsquor;|1:0|Marcus Thuram|for Olivier Gir...   \n",
       "3    ['62&rsquor;|2:0|Lisandro Martínez|for Leandro...   \n",
       "4    ['57&rsquor;|1:0|Achraf Dari|for Romain Saïss'...   \n",
       "..                                                 ...   \n",
       "959                                                NaN   \n",
       "960                                                NaN   \n",
       "961                                                NaN   \n",
       "962                                                NaN   \n",
       "963                                                NaN   \n",
       "\n",
       "                               away_substitute_in_long a_total h_total  \\\n",
       "0    ['41&rsquor;|2:0|Randal Kolo Muani|for Ousmane...     5.0     7.0   \n",
       "1    ['46&rsquor;|2:1|Ilias Chair|for Abdelhamid Sa...     1.0     2.0   \n",
       "2    ['21&rsquor;|1:0|Selim Amallah|for Romain Saïs...     0.0     2.0   \n",
       "3    ['46&rsquor;|2:0|Mislav Oršić|for Borna Sosa',...     0.0     3.0   \n",
       "4    ['51&rsquor;|1:0|João Cancelo|for Raphaël Guer...     0.0     1.0   \n",
       "..                                                 ...     ...     ...   \n",
       "959                                                NaN     0.0     1.0   \n",
       "960                                                NaN     1.0     2.0   \n",
       "961                                                NaN     1.0     3.0   \n",
       "962                                                NaN     0.0     3.0   \n",
       "963                                                NaN     1.0     4.0   \n",
       "\n",
       "         Home_Goals Away_Goals      Knockout  \n",
       "0           36, 108         81      Knockout  \n",
       "1             7, 42          9  Non-Knockout  \n",
       "2             5, 79                 Knockout  \n",
       "3            39, 69                 Knockout  \n",
       "4                42                 Knockout  \n",
       "..              ...        ...           ...  \n",
       "959              81             Non-Knockout  \n",
       "960          21, 30         62  Non-Knockout  \n",
       "961       1, 79, 89         75  Non-Knockout  \n",
       "962      23, 45, 69             Non-Knockout  \n",
       "963  19, 40, 43, 87         70  Non-Knockout  \n",
       "\n",
       "[964 rows x 49 columns]"
      ]
     },
     "execution_count": 138,
     "metadata": {},
     "output_type": "execute_result"
    }
   ],
   "source": [
    "#checking whether the match is knockout or not\n",
    "knockout_round = ['Final', 'Semi-finals', 'Quarter-finals']\n",
    "\n",
    "matches['Knockout'] = matches['Round'].apply(lambda x : 'Knockout' if x in knockout_round else 'Non-Knockout')\n",
    "matches"
   ]
  },
  {
   "cell_type": "code",
   "execution_count": 139,
   "metadata": {},
   "outputs": [],
   "source": [
    "#for Argentina\n",
    "home_k = matches[(matches['home_team'] == country) & (matches['Knockout'] == 'Knockout')]\n",
    "away_k = matches[(matches['away_team'] == country) & (matches['Knockout'] == 'Knockout')]\n",
    "\n",
    "home_nk = matches[(matches['home_team'] == country) & (matches['Knockout'] == 'Non-Knockout')]\n",
    "away_nk = matches[(matches['away_team'] == country) & (matches['Knockout'] == 'Non-Knockout')]"
   ]
  },
  {
   "cell_type": "code",
   "execution_count": 140,
   "metadata": {},
   "outputs": [
    {
     "name": "stdout",
     "output_type": "stream",
     "text": [
      "    index Home_Goals\n",
      "0       0         36\n",
      "1       0        108\n",
      "2       3         39\n",
      "3       3         69\n",
      "4     132          8\n",
      "5     196           \n",
      "6     552         23\n",
      "7     552         56\n",
      "8     552         84\n",
      "9     555         51\n",
      "10    555         63\n",
      "11    556         51\n",
      "12    556         55\n",
      "13    656         38\n",
      "14    656        105\n",
      "15    656        115\n",
      "16    948         20\n",
      "17    948         56\n",
      "18    948         69\n",
      "19    948         80\n",
      "20    948         85\n",
      "21    948         87\n",
      "====================\n",
      "    index Away_Goals\n",
      "0       7         35\n",
      "1     128           \n",
      "2     130           \n",
      "3     262         49\n",
      "4     388         17\n",
      "5     500           \n",
      "6     503         67\n",
      "7     506           \n",
      "8     769           \n",
      "9     946         20\n",
      "10    946         37\n"
     ]
    }
   ],
   "source": [
    "a = home_k['Home_Goals'].str.split(', ').explode().reset_index()\n",
    "b = away_k['Away_Goals'].str.split(', ').explode().reset_index()\n",
    "print(a)\n",
    "print('====================')\n",
    "print(b)"
   ]
  },
  {
   "cell_type": "markdown",
   "metadata": {},
   "source": [
    "#### For Knockout matches of Argentina"
   ]
  },
  {
   "cell_type": "code",
   "execution_count": 141,
   "metadata": {},
   "outputs": [
    {
     "data": {
      "text/html": [
       "<div>\n",
       "<style scoped>\n",
       "    .dataframe tbody tr th:only-of-type {\n",
       "        vertical-align: middle;\n",
       "    }\n",
       "\n",
       "    .dataframe tbody tr th {\n",
       "        vertical-align: top;\n",
       "    }\n",
       "\n",
       "    .dataframe thead th {\n",
       "        text-align: right;\n",
       "    }\n",
       "</style>\n",
       "<table border=\"1\" class=\"dataframe\">\n",
       "  <thead>\n",
       "    <tr style=\"text-align: right;\">\n",
       "      <th></th>\n",
       "      <th>index</th>\n",
       "      <th>Home_Goals</th>\n",
       "      <th>Away_Goals</th>\n",
       "    </tr>\n",
       "  </thead>\n",
       "  <tbody>\n",
       "    <tr>\n",
       "      <th>0</th>\n",
       "      <td>0</td>\n",
       "      <td>36</td>\n",
       "      <td>NaN</td>\n",
       "    </tr>\n",
       "    <tr>\n",
       "      <th>1</th>\n",
       "      <td>0</td>\n",
       "      <td>108</td>\n",
       "      <td>NaN</td>\n",
       "    </tr>\n",
       "    <tr>\n",
       "      <th>2</th>\n",
       "      <td>3</td>\n",
       "      <td>39</td>\n",
       "      <td>NaN</td>\n",
       "    </tr>\n",
       "    <tr>\n",
       "      <th>3</th>\n",
       "      <td>3</td>\n",
       "      <td>69</td>\n",
       "      <td>NaN</td>\n",
       "    </tr>\n",
       "    <tr>\n",
       "      <th>4</th>\n",
       "      <td>132</td>\n",
       "      <td>8</td>\n",
       "      <td>NaN</td>\n",
       "    </tr>\n",
       "    <tr>\n",
       "      <th>5</th>\n",
       "      <td>196</td>\n",
       "      <td></td>\n",
       "      <td>NaN</td>\n",
       "    </tr>\n",
       "    <tr>\n",
       "      <th>6</th>\n",
       "      <td>552</td>\n",
       "      <td>23</td>\n",
       "      <td>NaN</td>\n",
       "    </tr>\n",
       "    <tr>\n",
       "      <th>7</th>\n",
       "      <td>552</td>\n",
       "      <td>56</td>\n",
       "      <td>NaN</td>\n",
       "    </tr>\n",
       "    <tr>\n",
       "      <th>8</th>\n",
       "      <td>552</td>\n",
       "      <td>84</td>\n",
       "      <td>NaN</td>\n",
       "    </tr>\n",
       "    <tr>\n",
       "      <th>9</th>\n",
       "      <td>555</td>\n",
       "      <td>51</td>\n",
       "      <td>NaN</td>\n",
       "    </tr>\n",
       "    <tr>\n",
       "      <th>10</th>\n",
       "      <td>555</td>\n",
       "      <td>63</td>\n",
       "      <td>NaN</td>\n",
       "    </tr>\n",
       "    <tr>\n",
       "      <th>11</th>\n",
       "      <td>556</td>\n",
       "      <td>51</td>\n",
       "      <td>NaN</td>\n",
       "    </tr>\n",
       "    <tr>\n",
       "      <th>12</th>\n",
       "      <td>556</td>\n",
       "      <td>55</td>\n",
       "      <td>NaN</td>\n",
       "    </tr>\n",
       "    <tr>\n",
       "      <th>13</th>\n",
       "      <td>656</td>\n",
       "      <td>38</td>\n",
       "      <td>NaN</td>\n",
       "    </tr>\n",
       "    <tr>\n",
       "      <th>14</th>\n",
       "      <td>656</td>\n",
       "      <td>105</td>\n",
       "      <td>NaN</td>\n",
       "    </tr>\n",
       "    <tr>\n",
       "      <th>15</th>\n",
       "      <td>656</td>\n",
       "      <td>115</td>\n",
       "      <td>NaN</td>\n",
       "    </tr>\n",
       "    <tr>\n",
       "      <th>16</th>\n",
       "      <td>948</td>\n",
       "      <td>20</td>\n",
       "      <td>NaN</td>\n",
       "    </tr>\n",
       "    <tr>\n",
       "      <th>17</th>\n",
       "      <td>948</td>\n",
       "      <td>56</td>\n",
       "      <td>NaN</td>\n",
       "    </tr>\n",
       "    <tr>\n",
       "      <th>18</th>\n",
       "      <td>948</td>\n",
       "      <td>69</td>\n",
       "      <td>NaN</td>\n",
       "    </tr>\n",
       "    <tr>\n",
       "      <th>19</th>\n",
       "      <td>948</td>\n",
       "      <td>80</td>\n",
       "      <td>NaN</td>\n",
       "    </tr>\n",
       "    <tr>\n",
       "      <th>20</th>\n",
       "      <td>948</td>\n",
       "      <td>85</td>\n",
       "      <td>NaN</td>\n",
       "    </tr>\n",
       "    <tr>\n",
       "      <th>21</th>\n",
       "      <td>948</td>\n",
       "      <td>87</td>\n",
       "      <td>NaN</td>\n",
       "    </tr>\n",
       "    <tr>\n",
       "      <th>22</th>\n",
       "      <td>7</td>\n",
       "      <td>NaN</td>\n",
       "      <td>35</td>\n",
       "    </tr>\n",
       "    <tr>\n",
       "      <th>23</th>\n",
       "      <td>128</td>\n",
       "      <td>NaN</td>\n",
       "      <td></td>\n",
       "    </tr>\n",
       "    <tr>\n",
       "      <th>24</th>\n",
       "      <td>130</td>\n",
       "      <td>NaN</td>\n",
       "      <td></td>\n",
       "    </tr>\n",
       "    <tr>\n",
       "      <th>25</th>\n",
       "      <td>262</td>\n",
       "      <td>NaN</td>\n",
       "      <td>49</td>\n",
       "    </tr>\n",
       "    <tr>\n",
       "      <th>26</th>\n",
       "      <td>388</td>\n",
       "      <td>NaN</td>\n",
       "      <td>17</td>\n",
       "    </tr>\n",
       "    <tr>\n",
       "      <th>27</th>\n",
       "      <td>500</td>\n",
       "      <td>NaN</td>\n",
       "      <td></td>\n",
       "    </tr>\n",
       "    <tr>\n",
       "      <th>28</th>\n",
       "      <td>503</td>\n",
       "      <td>NaN</td>\n",
       "      <td>67</td>\n",
       "    </tr>\n",
       "    <tr>\n",
       "      <th>29</th>\n",
       "      <td>506</td>\n",
       "      <td>NaN</td>\n",
       "      <td></td>\n",
       "    </tr>\n",
       "    <tr>\n",
       "      <th>30</th>\n",
       "      <td>769</td>\n",
       "      <td>NaN</td>\n",
       "      <td></td>\n",
       "    </tr>\n",
       "    <tr>\n",
       "      <th>31</th>\n",
       "      <td>946</td>\n",
       "      <td>NaN</td>\n",
       "      <td>20</td>\n",
       "    </tr>\n",
       "    <tr>\n",
       "      <th>32</th>\n",
       "      <td>946</td>\n",
       "      <td>NaN</td>\n",
       "      <td>37</td>\n",
       "    </tr>\n",
       "  </tbody>\n",
       "</table>\n",
       "</div>"
      ],
      "text/plain": [
       "    index Home_Goals Away_Goals\n",
       "0       0         36        NaN\n",
       "1       0        108        NaN\n",
       "2       3         39        NaN\n",
       "3       3         69        NaN\n",
       "4     132          8        NaN\n",
       "5     196                   NaN\n",
       "6     552         23        NaN\n",
       "7     552         56        NaN\n",
       "8     552         84        NaN\n",
       "9     555         51        NaN\n",
       "10    555         63        NaN\n",
       "11    556         51        NaN\n",
       "12    556         55        NaN\n",
       "13    656         38        NaN\n",
       "14    656        105        NaN\n",
       "15    656        115        NaN\n",
       "16    948         20        NaN\n",
       "17    948         56        NaN\n",
       "18    948         69        NaN\n",
       "19    948         80        NaN\n",
       "20    948         85        NaN\n",
       "21    948         87        NaN\n",
       "22      7        NaN         35\n",
       "23    128        NaN           \n",
       "24    130        NaN           \n",
       "25    262        NaN         49\n",
       "26    388        NaN         17\n",
       "27    500        NaN           \n",
       "28    503        NaN         67\n",
       "29    506        NaN           \n",
       "30    769        NaN           \n",
       "31    946        NaN         20\n",
       "32    946        NaN         37"
      ]
     },
     "execution_count": 141,
     "metadata": {},
     "output_type": "execute_result"
    }
   ],
   "source": [
    "df3 = pd.concat([a,b],axis=0, ignore_index=True)\n",
    "df3"
   ]
  },
  {
   "cell_type": "code",
   "execution_count": 142,
   "metadata": {},
   "outputs": [
    {
     "data": {
      "text/html": [
       "<div>\n",
       "<style scoped>\n",
       "    .dataframe tbody tr th:only-of-type {\n",
       "        vertical-align: middle;\n",
       "    }\n",
       "\n",
       "    .dataframe tbody tr th {\n",
       "        vertical-align: top;\n",
       "    }\n",
       "\n",
       "    .dataframe thead th {\n",
       "        text-align: right;\n",
       "    }\n",
       "</style>\n",
       "<table border=\"1\" class=\"dataframe\">\n",
       "  <thead>\n",
       "    <tr style=\"text-align: right;\">\n",
       "      <th></th>\n",
       "      <th>index</th>\n",
       "      <th>Home_Goals</th>\n",
       "      <th>Away_Goals</th>\n",
       "    </tr>\n",
       "  </thead>\n",
       "  <tbody>\n",
       "    <tr>\n",
       "      <th>0</th>\n",
       "      <td>0</td>\n",
       "      <td>36</td>\n",
       "      <td>0</td>\n",
       "    </tr>\n",
       "    <tr>\n",
       "      <th>1</th>\n",
       "      <td>0</td>\n",
       "      <td>108</td>\n",
       "      <td>0</td>\n",
       "    </tr>\n",
       "    <tr>\n",
       "      <th>2</th>\n",
       "      <td>3</td>\n",
       "      <td>39</td>\n",
       "      <td>0</td>\n",
       "    </tr>\n",
       "    <tr>\n",
       "      <th>3</th>\n",
       "      <td>3</td>\n",
       "      <td>69</td>\n",
       "      <td>0</td>\n",
       "    </tr>\n",
       "    <tr>\n",
       "      <th>4</th>\n",
       "      <td>132</td>\n",
       "      <td>8</td>\n",
       "      <td>0</td>\n",
       "    </tr>\n",
       "    <tr>\n",
       "      <th>5</th>\n",
       "      <td>196</td>\n",
       "      <td>0</td>\n",
       "      <td>0</td>\n",
       "    </tr>\n",
       "    <tr>\n",
       "      <th>6</th>\n",
       "      <td>552</td>\n",
       "      <td>23</td>\n",
       "      <td>0</td>\n",
       "    </tr>\n",
       "    <tr>\n",
       "      <th>7</th>\n",
       "      <td>552</td>\n",
       "      <td>56</td>\n",
       "      <td>0</td>\n",
       "    </tr>\n",
       "    <tr>\n",
       "      <th>8</th>\n",
       "      <td>552</td>\n",
       "      <td>84</td>\n",
       "      <td>0</td>\n",
       "    </tr>\n",
       "    <tr>\n",
       "      <th>9</th>\n",
       "      <td>555</td>\n",
       "      <td>51</td>\n",
       "      <td>0</td>\n",
       "    </tr>\n",
       "    <tr>\n",
       "      <th>10</th>\n",
       "      <td>555</td>\n",
       "      <td>63</td>\n",
       "      <td>0</td>\n",
       "    </tr>\n",
       "    <tr>\n",
       "      <th>11</th>\n",
       "      <td>556</td>\n",
       "      <td>51</td>\n",
       "      <td>0</td>\n",
       "    </tr>\n",
       "    <tr>\n",
       "      <th>12</th>\n",
       "      <td>556</td>\n",
       "      <td>55</td>\n",
       "      <td>0</td>\n",
       "    </tr>\n",
       "    <tr>\n",
       "      <th>13</th>\n",
       "      <td>656</td>\n",
       "      <td>38</td>\n",
       "      <td>0</td>\n",
       "    </tr>\n",
       "    <tr>\n",
       "      <th>14</th>\n",
       "      <td>656</td>\n",
       "      <td>105</td>\n",
       "      <td>0</td>\n",
       "    </tr>\n",
       "    <tr>\n",
       "      <th>15</th>\n",
       "      <td>656</td>\n",
       "      <td>115</td>\n",
       "      <td>0</td>\n",
       "    </tr>\n",
       "    <tr>\n",
       "      <th>16</th>\n",
       "      <td>948</td>\n",
       "      <td>20</td>\n",
       "      <td>0</td>\n",
       "    </tr>\n",
       "    <tr>\n",
       "      <th>17</th>\n",
       "      <td>948</td>\n",
       "      <td>56</td>\n",
       "      <td>0</td>\n",
       "    </tr>\n",
       "    <tr>\n",
       "      <th>18</th>\n",
       "      <td>948</td>\n",
       "      <td>69</td>\n",
       "      <td>0</td>\n",
       "    </tr>\n",
       "    <tr>\n",
       "      <th>19</th>\n",
       "      <td>948</td>\n",
       "      <td>80</td>\n",
       "      <td>0</td>\n",
       "    </tr>\n",
       "    <tr>\n",
       "      <th>20</th>\n",
       "      <td>948</td>\n",
       "      <td>85</td>\n",
       "      <td>0</td>\n",
       "    </tr>\n",
       "    <tr>\n",
       "      <th>21</th>\n",
       "      <td>948</td>\n",
       "      <td>87</td>\n",
       "      <td>0</td>\n",
       "    </tr>\n",
       "    <tr>\n",
       "      <th>22</th>\n",
       "      <td>7</td>\n",
       "      <td>0</td>\n",
       "      <td>35</td>\n",
       "    </tr>\n",
       "    <tr>\n",
       "      <th>23</th>\n",
       "      <td>128</td>\n",
       "      <td>0</td>\n",
       "      <td>0</td>\n",
       "    </tr>\n",
       "    <tr>\n",
       "      <th>24</th>\n",
       "      <td>130</td>\n",
       "      <td>0</td>\n",
       "      <td>0</td>\n",
       "    </tr>\n",
       "    <tr>\n",
       "      <th>25</th>\n",
       "      <td>262</td>\n",
       "      <td>0</td>\n",
       "      <td>49</td>\n",
       "    </tr>\n",
       "    <tr>\n",
       "      <th>26</th>\n",
       "      <td>388</td>\n",
       "      <td>0</td>\n",
       "      <td>17</td>\n",
       "    </tr>\n",
       "    <tr>\n",
       "      <th>27</th>\n",
       "      <td>500</td>\n",
       "      <td>0</td>\n",
       "      <td>0</td>\n",
       "    </tr>\n",
       "    <tr>\n",
       "      <th>28</th>\n",
       "      <td>503</td>\n",
       "      <td>0</td>\n",
       "      <td>67</td>\n",
       "    </tr>\n",
       "    <tr>\n",
       "      <th>29</th>\n",
       "      <td>506</td>\n",
       "      <td>0</td>\n",
       "      <td>0</td>\n",
       "    </tr>\n",
       "    <tr>\n",
       "      <th>30</th>\n",
       "      <td>769</td>\n",
       "      <td>0</td>\n",
       "      <td>0</td>\n",
       "    </tr>\n",
       "    <tr>\n",
       "      <th>31</th>\n",
       "      <td>946</td>\n",
       "      <td>0</td>\n",
       "      <td>20</td>\n",
       "    </tr>\n",
       "    <tr>\n",
       "      <th>32</th>\n",
       "      <td>946</td>\n",
       "      <td>0</td>\n",
       "      <td>37</td>\n",
       "    </tr>\n",
       "  </tbody>\n",
       "</table>\n",
       "</div>"
      ],
      "text/plain": [
       "    index Home_Goals Away_Goals\n",
       "0       0         36          0\n",
       "1       0        108          0\n",
       "2       3         39          0\n",
       "3       3         69          0\n",
       "4     132          8          0\n",
       "5     196          0          0\n",
       "6     552         23          0\n",
       "7     552         56          0\n",
       "8     552         84          0\n",
       "9     555         51          0\n",
       "10    555         63          0\n",
       "11    556         51          0\n",
       "12    556         55          0\n",
       "13    656         38          0\n",
       "14    656        105          0\n",
       "15    656        115          0\n",
       "16    948         20          0\n",
       "17    948         56          0\n",
       "18    948         69          0\n",
       "19    948         80          0\n",
       "20    948         85          0\n",
       "21    948         87          0\n",
       "22      7          0         35\n",
       "23    128          0          0\n",
       "24    130          0          0\n",
       "25    262          0         49\n",
       "26    388          0         17\n",
       "27    500          0          0\n",
       "28    503          0         67\n",
       "29    506          0          0\n",
       "30    769          0          0\n",
       "31    946          0         20\n",
       "32    946          0         37"
      ]
     },
     "execution_count": 142,
     "metadata": {},
     "output_type": "execute_result"
    }
   ],
   "source": [
    "#replacing empty values with 0\n",
    "df3.replace(r'^\\s*$', 0, regex=True, inplace=True)\n",
    "df3.fillna(0,inplace=True)\n",
    "df3"
   ]
  },
  {
   "cell_type": "code",
   "execution_count": 143,
   "metadata": {},
   "outputs": [
    {
     "name": "stdout",
     "output_type": "stream",
     "text": [
      "<class 'pandas.core.frame.DataFrame'>\n",
      "RangeIndex: 33 entries, 0 to 32\n",
      "Data columns (total 3 columns):\n",
      " #   Column      Non-Null Count  Dtype \n",
      "---  ------      --------------  ----- \n",
      " 0   index       33 non-null     int64 \n",
      " 1   Home_Goals  33 non-null     object\n",
      " 2   Away_Goals  33 non-null     object\n",
      "dtypes: int64(1), object(2)\n",
      "memory usage: 920.0+ bytes\n"
     ]
    }
   ],
   "source": [
    "df3.info()"
   ]
  },
  {
   "cell_type": "code",
   "execution_count": 144,
   "metadata": {},
   "outputs": [
    {
     "name": "stdout",
     "output_type": "stream",
     "text": [
      "<class 'pandas.core.frame.DataFrame'>\n",
      "RangeIndex: 33 entries, 0 to 32\n",
      "Data columns (total 3 columns):\n",
      " #   Column      Non-Null Count  Dtype\n",
      "---  ------      --------------  -----\n",
      " 0   index       33 non-null     int64\n",
      " 1   Home_Goals  33 non-null     int32\n",
      " 2   Away_Goals  33 non-null     int32\n",
      "dtypes: int32(2), int64(1)\n",
      "memory usage: 656.0 bytes\n"
     ]
    },
    {
     "data": {
      "text/html": [
       "<div>\n",
       "<style scoped>\n",
       "    .dataframe tbody tr th:only-of-type {\n",
       "        vertical-align: middle;\n",
       "    }\n",
       "\n",
       "    .dataframe tbody tr th {\n",
       "        vertical-align: top;\n",
       "    }\n",
       "\n",
       "    .dataframe thead th {\n",
       "        text-align: right;\n",
       "    }\n",
       "</style>\n",
       "<table border=\"1\" class=\"dataframe\">\n",
       "  <thead>\n",
       "    <tr style=\"text-align: right;\">\n",
       "      <th></th>\n",
       "      <th>index</th>\n",
       "      <th>Home_Goals</th>\n",
       "      <th>Away_Goals</th>\n",
       "      <th>Time</th>\n",
       "    </tr>\n",
       "  </thead>\n",
       "  <tbody>\n",
       "    <tr>\n",
       "      <th>0</th>\n",
       "      <td>0</td>\n",
       "      <td>36</td>\n",
       "      <td>0</td>\n",
       "      <td>36</td>\n",
       "    </tr>\n",
       "    <tr>\n",
       "      <th>1</th>\n",
       "      <td>0</td>\n",
       "      <td>108</td>\n",
       "      <td>0</td>\n",
       "      <td>108</td>\n",
       "    </tr>\n",
       "    <tr>\n",
       "      <th>2</th>\n",
       "      <td>3</td>\n",
       "      <td>39</td>\n",
       "      <td>0</td>\n",
       "      <td>39</td>\n",
       "    </tr>\n",
       "    <tr>\n",
       "      <th>3</th>\n",
       "      <td>3</td>\n",
       "      <td>69</td>\n",
       "      <td>0</td>\n",
       "      <td>69</td>\n",
       "    </tr>\n",
       "    <tr>\n",
       "      <th>4</th>\n",
       "      <td>132</td>\n",
       "      <td>8</td>\n",
       "      <td>0</td>\n",
       "      <td>8</td>\n",
       "    </tr>\n",
       "    <tr>\n",
       "      <th>6</th>\n",
       "      <td>552</td>\n",
       "      <td>23</td>\n",
       "      <td>0</td>\n",
       "      <td>23</td>\n",
       "    </tr>\n",
       "    <tr>\n",
       "      <th>7</th>\n",
       "      <td>552</td>\n",
       "      <td>56</td>\n",
       "      <td>0</td>\n",
       "      <td>56</td>\n",
       "    </tr>\n",
       "    <tr>\n",
       "      <th>8</th>\n",
       "      <td>552</td>\n",
       "      <td>84</td>\n",
       "      <td>0</td>\n",
       "      <td>84</td>\n",
       "    </tr>\n",
       "    <tr>\n",
       "      <th>9</th>\n",
       "      <td>555</td>\n",
       "      <td>51</td>\n",
       "      <td>0</td>\n",
       "      <td>51</td>\n",
       "    </tr>\n",
       "    <tr>\n",
       "      <th>10</th>\n",
       "      <td>555</td>\n",
       "      <td>63</td>\n",
       "      <td>0</td>\n",
       "      <td>63</td>\n",
       "    </tr>\n",
       "    <tr>\n",
       "      <th>11</th>\n",
       "      <td>556</td>\n",
       "      <td>51</td>\n",
       "      <td>0</td>\n",
       "      <td>51</td>\n",
       "    </tr>\n",
       "    <tr>\n",
       "      <th>12</th>\n",
       "      <td>556</td>\n",
       "      <td>55</td>\n",
       "      <td>0</td>\n",
       "      <td>55</td>\n",
       "    </tr>\n",
       "    <tr>\n",
       "      <th>13</th>\n",
       "      <td>656</td>\n",
       "      <td>38</td>\n",
       "      <td>0</td>\n",
       "      <td>38</td>\n",
       "    </tr>\n",
       "    <tr>\n",
       "      <th>14</th>\n",
       "      <td>656</td>\n",
       "      <td>105</td>\n",
       "      <td>0</td>\n",
       "      <td>105</td>\n",
       "    </tr>\n",
       "    <tr>\n",
       "      <th>15</th>\n",
       "      <td>656</td>\n",
       "      <td>115</td>\n",
       "      <td>0</td>\n",
       "      <td>115</td>\n",
       "    </tr>\n",
       "    <tr>\n",
       "      <th>16</th>\n",
       "      <td>948</td>\n",
       "      <td>20</td>\n",
       "      <td>0</td>\n",
       "      <td>20</td>\n",
       "    </tr>\n",
       "    <tr>\n",
       "      <th>17</th>\n",
       "      <td>948</td>\n",
       "      <td>56</td>\n",
       "      <td>0</td>\n",
       "      <td>56</td>\n",
       "    </tr>\n",
       "    <tr>\n",
       "      <th>18</th>\n",
       "      <td>948</td>\n",
       "      <td>69</td>\n",
       "      <td>0</td>\n",
       "      <td>69</td>\n",
       "    </tr>\n",
       "    <tr>\n",
       "      <th>19</th>\n",
       "      <td>948</td>\n",
       "      <td>80</td>\n",
       "      <td>0</td>\n",
       "      <td>80</td>\n",
       "    </tr>\n",
       "    <tr>\n",
       "      <th>20</th>\n",
       "      <td>948</td>\n",
       "      <td>85</td>\n",
       "      <td>0</td>\n",
       "      <td>85</td>\n",
       "    </tr>\n",
       "    <tr>\n",
       "      <th>21</th>\n",
       "      <td>948</td>\n",
       "      <td>87</td>\n",
       "      <td>0</td>\n",
       "      <td>87</td>\n",
       "    </tr>\n",
       "    <tr>\n",
       "      <th>22</th>\n",
       "      <td>7</td>\n",
       "      <td>0</td>\n",
       "      <td>35</td>\n",
       "      <td>35</td>\n",
       "    </tr>\n",
       "    <tr>\n",
       "      <th>25</th>\n",
       "      <td>262</td>\n",
       "      <td>0</td>\n",
       "      <td>49</td>\n",
       "      <td>49</td>\n",
       "    </tr>\n",
       "    <tr>\n",
       "      <th>26</th>\n",
       "      <td>388</td>\n",
       "      <td>0</td>\n",
       "      <td>17</td>\n",
       "      <td>17</td>\n",
       "    </tr>\n",
       "    <tr>\n",
       "      <th>28</th>\n",
       "      <td>503</td>\n",
       "      <td>0</td>\n",
       "      <td>67</td>\n",
       "      <td>67</td>\n",
       "    </tr>\n",
       "    <tr>\n",
       "      <th>31</th>\n",
       "      <td>946</td>\n",
       "      <td>0</td>\n",
       "      <td>20</td>\n",
       "      <td>20</td>\n",
       "    </tr>\n",
       "    <tr>\n",
       "      <th>32</th>\n",
       "      <td>946</td>\n",
       "      <td>0</td>\n",
       "      <td>37</td>\n",
       "      <td>37</td>\n",
       "    </tr>\n",
       "  </tbody>\n",
       "</table>\n",
       "</div>"
      ],
      "text/plain": [
       "    index  Home_Goals  Away_Goals  Time\n",
       "0       0          36           0    36\n",
       "1       0         108           0   108\n",
       "2       3          39           0    39\n",
       "3       3          69           0    69\n",
       "4     132           8           0     8\n",
       "6     552          23           0    23\n",
       "7     552          56           0    56\n",
       "8     552          84           0    84\n",
       "9     555          51           0    51\n",
       "10    555          63           0    63\n",
       "11    556          51           0    51\n",
       "12    556          55           0    55\n",
       "13    656          38           0    38\n",
       "14    656         105           0   105\n",
       "15    656         115           0   115\n",
       "16    948          20           0    20\n",
       "17    948          56           0    56\n",
       "18    948          69           0    69\n",
       "19    948          80           0    80\n",
       "20    948          85           0    85\n",
       "21    948          87           0    87\n",
       "22      7           0          35    35\n",
       "25    262           0          49    49\n",
       "26    388           0          17    17\n",
       "28    503           0          67    67\n",
       "31    946           0          20    20\n",
       "32    946           0          37    37"
      ]
     },
     "execution_count": 144,
     "metadata": {},
     "output_type": "execute_result"
    }
   ],
   "source": [
    "#here, team argentina in some matches, might be home team otherwise away team. So, I added two columns to just focus on time\n",
    "#firstly converting the datatype of Goals column\n",
    "df3['Home_Goals'] = df3['Home_Goals'].astype(int)\n",
    "df3['Away_Goals'] = df3['Away_Goals'].astype(int)\n",
    "df3.info()\n",
    "df3['Time'] = df3['Away_Goals'] + df3['Home_Goals']\n",
    "df3 = df3[df3['Time']!=0]\n",
    "df3"
   ]
  },
  {
   "cell_type": "code",
   "execution_count": 145,
   "metadata": {},
   "outputs": [
    {
     "name": "stderr",
     "output_type": "stream",
     "text": [
      "C:\\Users\\rajan\\AppData\\Local\\Temp\\ipykernel_16192\\3862772633.py:9: SettingWithCopyWarning:\n",
      "\n",
      "\n",
      "A value is trying to be set on a copy of a slice from a DataFrame.\n",
      "Try using .loc[row_indexer,col_indexer] = value instead\n",
      "\n",
      "See the caveats in the documentation: https://pandas.pydata.org/pandas-docs/stable/user_guide/indexing.html#returning-a-view-versus-a-copy\n",
      "\n"
     ]
    },
    {
     "data": {
      "text/plain": [
       "Time of Goal\n",
       "Second Half    51.851852\n",
       "First Half     37.037037\n",
       "Extra Time     11.111111\n",
       "Name: count, dtype: float64"
      ]
     },
     "execution_count": 145,
     "metadata": {},
     "output_type": "execute_result"
    }
   ],
   "source": [
    "def determine_performance(row):\n",
    "    if(row['Time']<=45):\n",
    "        return 'First Half'\n",
    "    elif(row['Time']>45 and row['Time']<=90):\n",
    "        return 'Second Half'\n",
    "    else:\n",
    "        return 'Extra Time'\n",
    "    \n",
    "df3['Time of Goal'] = df3.apply(determine_performance, axis=1)\n",
    "df3['Time of Goal'].value_counts()/len(df3)*100"
   ]
  },
  {
   "cell_type": "markdown",
   "metadata": {},
   "source": [
    "#### For Non-Knockout matches of Argentina"
   ]
  },
  {
   "cell_type": "code",
   "execution_count": 146,
   "metadata": {},
   "outputs": [
    {
     "data": {
      "text/html": [
       "<div>\n",
       "<style scoped>\n",
       "    .dataframe tbody tr th:only-of-type {\n",
       "        vertical-align: middle;\n",
       "    }\n",
       "\n",
       "    .dataframe tbody tr th {\n",
       "        vertical-align: top;\n",
       "    }\n",
       "\n",
       "    .dataframe thead th {\n",
       "        text-align: right;\n",
       "    }\n",
       "</style>\n",
       "<table border=\"1\" class=\"dataframe\">\n",
       "  <thead>\n",
       "    <tr style=\"text-align: right;\">\n",
       "      <th></th>\n",
       "      <th>index</th>\n",
       "      <th>Home_Goals</th>\n",
       "      <th>Away_Goals</th>\n",
       "    </tr>\n",
       "  </thead>\n",
       "  <tbody>\n",
       "    <tr>\n",
       "      <th>0</th>\n",
       "      <td>15</td>\n",
       "      <td>35</td>\n",
       "      <td>NaN</td>\n",
       "    </tr>\n",
       "    <tr>\n",
       "      <th>1</th>\n",
       "      <td>15</td>\n",
       "      <td>57</td>\n",
       "      <td>NaN</td>\n",
       "    </tr>\n",
       "    <tr>\n",
       "      <th>2</th>\n",
       "      <td>43</td>\n",
       "      <td>64</td>\n",
       "      <td>NaN</td>\n",
       "    </tr>\n",
       "    <tr>\n",
       "      <th>3</th>\n",
       "      <td>43</td>\n",
       "      <td>87</td>\n",
       "      <td>NaN</td>\n",
       "    </tr>\n",
       "    <tr>\n",
       "      <th>4</th>\n",
       "      <td>56</td>\n",
       "      <td></td>\n",
       "      <td>NaN</td>\n",
       "    </tr>\n",
       "    <tr>\n",
       "      <th>...</th>\n",
       "      <td>...</td>\n",
       "      <td>...</td>\n",
       "      <td>...</td>\n",
       "    </tr>\n",
       "    <tr>\n",
       "      <th>153</th>\n",
       "      <td>862</td>\n",
       "      <td>NaN</td>\n",
       "      <td>79</td>\n",
       "    </tr>\n",
       "    <tr>\n",
       "      <th>154</th>\n",
       "      <td>949</td>\n",
       "      <td>NaN</td>\n",
       "      <td>15</td>\n",
       "    </tr>\n",
       "    <tr>\n",
       "      <th>155</th>\n",
       "      <td>954</td>\n",
       "      <td>NaN</td>\n",
       "      <td>65</td>\n",
       "    </tr>\n",
       "    <tr>\n",
       "      <th>156</th>\n",
       "      <td>954</td>\n",
       "      <td>NaN</td>\n",
       "      <td>75</td>\n",
       "    </tr>\n",
       "    <tr>\n",
       "      <th>157</th>\n",
       "      <td>959</td>\n",
       "      <td>NaN</td>\n",
       "      <td></td>\n",
       "    </tr>\n",
       "  </tbody>\n",
       "</table>\n",
       "<p>158 rows × 3 columns</p>\n",
       "</div>"
      ],
      "text/plain": [
       "     index Home_Goals Away_Goals\n",
       "0       15         35        NaN\n",
       "1       15         57        NaN\n",
       "2       43         64        NaN\n",
       "3       43         87        NaN\n",
       "4       56                   NaN\n",
       "..     ...        ...        ...\n",
       "153    862        NaN         79\n",
       "154    949        NaN         15\n",
       "155    954        NaN         65\n",
       "156    954        NaN         75\n",
       "157    959        NaN           \n",
       "\n",
       "[158 rows x 3 columns]"
      ]
     },
     "execution_count": 146,
     "metadata": {},
     "output_type": "execute_result"
    }
   ],
   "source": [
    "c = home_nk['Home_Goals'].str.split(', ').explode().reset_index()\n",
    "d = home_nk['Away_Goals'].str.split(', ').explode().reset_index()\n",
    "\n",
    "df4 = pd.concat([c,d], axis=0, ignore_index=True)\n",
    "df4"
   ]
  },
  {
   "cell_type": "code",
   "execution_count": 147,
   "metadata": {},
   "outputs": [
    {
     "data": {
      "text/html": [
       "<div>\n",
       "<style scoped>\n",
       "    .dataframe tbody tr th:only-of-type {\n",
       "        vertical-align: middle;\n",
       "    }\n",
       "\n",
       "    .dataframe tbody tr th {\n",
       "        vertical-align: top;\n",
       "    }\n",
       "\n",
       "    .dataframe thead th {\n",
       "        text-align: right;\n",
       "    }\n",
       "</style>\n",
       "<table border=\"1\" class=\"dataframe\">\n",
       "  <thead>\n",
       "    <tr style=\"text-align: right;\">\n",
       "      <th></th>\n",
       "      <th>index</th>\n",
       "      <th>Home_Goals</th>\n",
       "      <th>Away_Goals</th>\n",
       "      <th>Time</th>\n",
       "    </tr>\n",
       "  </thead>\n",
       "  <tbody>\n",
       "    <tr>\n",
       "      <th>0</th>\n",
       "      <td>15</td>\n",
       "      <td>35</td>\n",
       "      <td>0</td>\n",
       "      <td>35</td>\n",
       "    </tr>\n",
       "    <tr>\n",
       "      <th>1</th>\n",
       "      <td>15</td>\n",
       "      <td>57</td>\n",
       "      <td>0</td>\n",
       "      <td>57</td>\n",
       "    </tr>\n",
       "    <tr>\n",
       "      <th>2</th>\n",
       "      <td>43</td>\n",
       "      <td>64</td>\n",
       "      <td>0</td>\n",
       "      <td>64</td>\n",
       "    </tr>\n",
       "    <tr>\n",
       "      <th>3</th>\n",
       "      <td>43</td>\n",
       "      <td>87</td>\n",
       "      <td>0</td>\n",
       "      <td>87</td>\n",
       "    </tr>\n",
       "    <tr>\n",
       "      <th>6</th>\n",
       "      <td>121</td>\n",
       "      <td>19</td>\n",
       "      <td>0</td>\n",
       "      <td>19</td>\n",
       "    </tr>\n",
       "    <tr>\n",
       "      <th>...</th>\n",
       "      <td>...</td>\n",
       "      <td>...</td>\n",
       "      <td>...</td>\n",
       "      <td>...</td>\n",
       "    </tr>\n",
       "    <tr>\n",
       "      <th>152</th>\n",
       "      <td>862</td>\n",
       "      <td>0</td>\n",
       "      <td>40</td>\n",
       "      <td>40</td>\n",
       "    </tr>\n",
       "    <tr>\n",
       "      <th>153</th>\n",
       "      <td>862</td>\n",
       "      <td>0</td>\n",
       "      <td>79</td>\n",
       "      <td>79</td>\n",
       "    </tr>\n",
       "    <tr>\n",
       "      <th>154</th>\n",
       "      <td>949</td>\n",
       "      <td>0</td>\n",
       "      <td>15</td>\n",
       "      <td>15</td>\n",
       "    </tr>\n",
       "    <tr>\n",
       "      <th>155</th>\n",
       "      <td>954</td>\n",
       "      <td>0</td>\n",
       "      <td>65</td>\n",
       "      <td>65</td>\n",
       "    </tr>\n",
       "    <tr>\n",
       "      <th>156</th>\n",
       "      <td>954</td>\n",
       "      <td>0</td>\n",
       "      <td>75</td>\n",
       "      <td>75</td>\n",
       "    </tr>\n",
       "  </tbody>\n",
       "</table>\n",
       "<p>128 rows × 4 columns</p>\n",
       "</div>"
      ],
      "text/plain": [
       "     index  Home_Goals  Away_Goals  Time\n",
       "0       15          35           0    35\n",
       "1       15          57           0    57\n",
       "2       43          64           0    64\n",
       "3       43          87           0    87\n",
       "6      121          19           0    19\n",
       "..     ...         ...         ...   ...\n",
       "152    862           0          40    40\n",
       "153    862           0          79    79\n",
       "154    949           0          15    15\n",
       "155    954           0          65    65\n",
       "156    954           0          75    75\n",
       "\n",
       "[128 rows x 4 columns]"
      ]
     },
     "execution_count": 147,
     "metadata": {},
     "output_type": "execute_result"
    }
   ],
   "source": [
    "df4.replace(r'^\\s*$', 0, regex=True, inplace=True)\n",
    "df4.fillna(0,inplace=True)\n",
    "df4['Home_Goals'] = df4['Home_Goals'].astype(int)\n",
    "df4['Away_Goals'] = df4['Away_Goals'].astype(int)\n",
    "\n",
    "df4['Time'] = df4['Home_Goals'] + df4['Away_Goals']\n",
    "df4 = df4[df4['Time']!=0]\n",
    "df4"
   ]
  },
  {
   "cell_type": "code",
   "execution_count": 148,
   "metadata": {},
   "outputs": [
    {
     "name": "stderr",
     "output_type": "stream",
     "text": [
      "C:\\Users\\rajan\\AppData\\Local\\Temp\\ipykernel_16192\\334790152.py:1: SettingWithCopyWarning:\n",
      "\n",
      "\n",
      "A value is trying to be set on a copy of a slice from a DataFrame.\n",
      "Try using .loc[row_indexer,col_indexer] = value instead\n",
      "\n",
      "See the caveats in the documentation: https://pandas.pydata.org/pandas-docs/stable/user_guide/indexing.html#returning-a-view-versus-a-copy\n",
      "\n"
     ]
    },
    {
     "data": {
      "text/plain": [
       "Time of Goal\n",
       "Second Half    53.12500\n",
       "First Half     46.09375\n",
       "Extra Time      0.78125\n",
       "Name: count, dtype: float64"
      ]
     },
     "execution_count": 148,
     "metadata": {},
     "output_type": "execute_result"
    }
   ],
   "source": [
    "df4['Time of Goal'] = df4.apply(determine_performance,axis=1)\n",
    "df4['Time of Goal'].value_counts()/len(df4)*100"
   ]
  },
  {
   "cell_type": "markdown",
   "metadata": {},
   "source": [
    "#### Conclusions\n",
    "\n",
    "1) Generally teams play more agressive in 2nd half as compared to first half be it knockout or non- knockout tournaments.\n",
    "\n",
    "2) In knockout Tournaments , Mexico only scored in First half, either they are defending in second half and maintaining the lead.\n",
    "\n",
    "3) In knockout Tournaments countries Romaniya , Pero play with same agression in both the halves of the game.\n",
    "\n",
    "4) Spain have very different strategy they place with almost equal agression in non knockout matches , however in knowckout matches they follow different plan , on first half they are into passive state (not scoring much) , however in second half they retaliate very voilently. Infact goals scored by them in first half and extra time are equal in number.\n",
    "\n",
    "5) Canada never reached a knowckout stage , and even in non knockout stages they never scored a goal in second half. This can be their scope of improvement area , as they not scoring in the second half may be the reason they never made it to knockouts."
   ]
  },
  {
   "cell_type": "code",
   "execution_count": 149,
   "metadata": {},
   "outputs": [
    {
     "data": {
      "text/plain": [
       "\"['64&rsquor;|2:0|Marcos Acuña|for Ángel Di María', '91&rsquor;|2:2|Gonzalo Montiel|for Nahuel Molina', '102&rsquor;|2:2|Leandro Paredes|for Rodrigo De Paul', '103&rsquor;|2:2|Lautaro Martínez|for Julián Álvarez', '116&rsquor;|3:2|Germán Pezzella|for Alexis Mac Allister', '120+1&rsquor;|3:3|Paulo Dybala|for Nicolás Tagliafico']\""
      ]
     },
     "execution_count": 149,
     "metadata": {},
     "output_type": "execute_result"
    }
   ],
   "source": [
    "#Substitution for a team turned out fruitful or not\n",
    "matches['home_substitute_in_long'][0]"
   ]
  },
  {
   "cell_type": "code",
   "execution_count": 150,
   "metadata": {},
   "outputs": [],
   "source": [
    "#function to parse a substitute column\n",
    "def parse_substitution_data(row):\n",
    "    if pd.isna(row):\n",
    "        return []\n",
    "    else:\n",
    "        pattern = r\"(\\d+)&rsquor;\\|(.+?)\\|for (.+?)(?=\\||$)\"\n",
    "        all_data = re.findall(pattern, row)\n",
    "        return [{'minute': int(data[0]), 'player-in': data[1], 'player-out': data[2]} for data in all_data]"
   ]
  },
  {
   "cell_type": "code",
   "execution_count": 151,
   "metadata": {},
   "outputs": [
    {
     "data": {
      "text/plain": [
       "[{'minute': 64,\n",
       "  'player-in': '2:0|Marcos Acuña',\n",
       "  'player-out': \"Ángel Di María', '91&rsquor;\"},\n",
       " {'minute': 102,\n",
       "  'player-in': '2:2|Leandro Paredes',\n",
       "  'player-out': \"Rodrigo De Paul', '103&rsquor;\"},\n",
       " {'minute': 116,\n",
       "  'player-in': '3:2|Germán Pezzella',\n",
       "  'player-out': \"Alexis Mac Allister', '120+1&rsquor;\"}]"
      ]
     },
     "execution_count": 151,
     "metadata": {},
     "output_type": "execute_result"
    }
   ],
   "source": [
    "matches['home_substitute_in_long'].apply(parse_substitution_data)[0]"
   ]
  },
  {
   "cell_type": "code",
   "execution_count": 158,
   "metadata": {},
   "outputs": [],
   "source": [
    "#check whether the substitute player scored a goal or improved score?\n",
    "def parse_goals(row):\n",
    "    if pd.isna(row):\n",
    "        return []\n",
    "    \n",
    "    goal_list = row.split('|')\n",
    "    parsed_goals = []\n",
    "    for goal in goal_list:\n",
    "        parts = goal.split('·') #its not a dot, its a middle dot or interpunct (alt+0183)\n",
    "        if(len(parts)==2):\n",
    "            try:\n",
    "                mins = int(parts[1].strip())\n",
    "                scorer = parts[0].strip()\n",
    "                parsed_goals.append({'minute':mins, 'scorer': scorer})\n",
    "            except ValueError:\n",
    "                pass\n",
    "    return parsed_goals"
   ]
  },
  {
   "cell_type": "code",
   "execution_count": 159,
   "metadata": {},
   "outputs": [
    {
     "data": {
      "text/plain": [
       "[{'minute': 36, 'scorer': 'Ángel Di María'},\n",
       " {'minute': 108, 'scorer': 'Lionel Messi'}]"
      ]
     },
     "execution_count": 159,
     "metadata": {},
     "output_type": "execute_result"
    }
   ],
   "source": [
    "matches['home_goal'].apply(parse_goals)[0]"
   ]
  },
  {
   "cell_type": "code",
   "execution_count": null,
   "metadata": {},
   "outputs": [],
   "source": []
  },
  {
   "cell_type": "code",
   "execution_count": null,
   "metadata": {},
   "outputs": [],
   "source": []
  },
  {
   "cell_type": "code",
   "execution_count": null,
   "metadata": {},
   "outputs": [],
   "source": []
  },
  {
   "cell_type": "code",
   "execution_count": null,
   "metadata": {},
   "outputs": [],
   "source": []
  },
  {
   "cell_type": "code",
   "execution_count": null,
   "metadata": {},
   "outputs": [],
   "source": []
  },
  {
   "cell_type": "code",
   "execution_count": null,
   "metadata": {},
   "outputs": [],
   "source": []
  },
  {
   "cell_type": "code",
   "execution_count": null,
   "metadata": {},
   "outputs": [],
   "source": []
  },
  {
   "cell_type": "code",
   "execution_count": null,
   "metadata": {},
   "outputs": [],
   "source": []
  }
 ],
 "metadata": {
  "kernelspec": {
   "display_name": "venv",
   "language": "python",
   "name": "python3"
  },
  "language_info": {
   "codemirror_mode": {
    "name": "ipython",
    "version": 3
   },
   "file_extension": ".py",
   "mimetype": "text/x-python",
   "name": "python",
   "nbconvert_exporter": "python",
   "pygments_lexer": "ipython3",
   "version": "3.9.13"
  }
 },
 "nbformat": 4,
 "nbformat_minor": 2
}
