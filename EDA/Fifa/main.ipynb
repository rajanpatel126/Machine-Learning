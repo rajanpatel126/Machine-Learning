{
 "cells": [
  {
   "cell_type": "code",
   "execution_count": 1,
   "metadata": {},
   "outputs": [],
   "source": [
    "import numpy as np\n",
    "import pandas as pd\n",
    "import matplotlib.pyplot as plt\n",
    "import seaborn as sn\n",
    "import plotly.express as px"
   ]
  },
  {
   "cell_type": "code",
   "execution_count": 2,
   "metadata": {},
   "outputs": [],
   "source": [
    "world_ranking = pd.read_excel('fifa_ranking_2022-10-06.xlsx')\n",
    "world_cups = pd.read_excel('world_cup.xlsx')\n",
    "matches = pd.read_excel('matches_1930_2022.xlsx')"
   ]
  },
  {
   "cell_type": "code",
   "execution_count": 3,
   "metadata": {},
   "outputs": [
    {
     "data": {
      "text/html": [
       "<div>\n",
       "<style scoped>\n",
       "    .dataframe tbody tr th:only-of-type {\n",
       "        vertical-align: middle;\n",
       "    }\n",
       "\n",
       "    .dataframe tbody tr th {\n",
       "        vertical-align: top;\n",
       "    }\n",
       "\n",
       "    .dataframe thead th {\n",
       "        text-align: right;\n",
       "    }\n",
       "</style>\n",
       "<table border=\"1\" class=\"dataframe\">\n",
       "  <thead>\n",
       "    <tr style=\"text-align: right;\">\n",
       "      <th></th>\n",
       "      <th>team</th>\n",
       "      <th>team_code</th>\n",
       "      <th>association</th>\n",
       "      <th>rank</th>\n",
       "      <th>previous_rank</th>\n",
       "      <th>points</th>\n",
       "      <th>previous_points</th>\n",
       "    </tr>\n",
       "  </thead>\n",
       "  <tbody>\n",
       "    <tr>\n",
       "      <th>0</th>\n",
       "      <td>Brazil</td>\n",
       "      <td>BRA</td>\n",
       "      <td>CONMEBOL</td>\n",
       "      <td>1</td>\n",
       "      <td>1</td>\n",
       "      <td>1841.30</td>\n",
       "      <td>1837.56</td>\n",
       "    </tr>\n",
       "    <tr>\n",
       "      <th>1</th>\n",
       "      <td>Belgium</td>\n",
       "      <td>BEL</td>\n",
       "      <td>UEFA</td>\n",
       "      <td>2</td>\n",
       "      <td>2</td>\n",
       "      <td>1816.71</td>\n",
       "      <td>1821.92</td>\n",
       "    </tr>\n",
       "    <tr>\n",
       "      <th>2</th>\n",
       "      <td>Argentina</td>\n",
       "      <td>ARG</td>\n",
       "      <td>CONMEBOL</td>\n",
       "      <td>3</td>\n",
       "      <td>3</td>\n",
       "      <td>1773.88</td>\n",
       "      <td>1770.65</td>\n",
       "    </tr>\n",
       "    <tr>\n",
       "      <th>3</th>\n",
       "      <td>France</td>\n",
       "      <td>FRA</td>\n",
       "      <td>UEFA</td>\n",
       "      <td>4</td>\n",
       "      <td>4</td>\n",
       "      <td>1759.78</td>\n",
       "      <td>1764.85</td>\n",
       "    </tr>\n",
       "    <tr>\n",
       "      <th>4</th>\n",
       "      <td>England</td>\n",
       "      <td>ENG</td>\n",
       "      <td>UEFA</td>\n",
       "      <td>5</td>\n",
       "      <td>5</td>\n",
       "      <td>1728.47</td>\n",
       "      <td>1737.46</td>\n",
       "    </tr>\n",
       "  </tbody>\n",
       "</table>\n",
       "</div>"
      ],
      "text/plain": [
       "        team team_code association  rank  previous_rank   points  \\\n",
       "0     Brazil       BRA    CONMEBOL     1              1  1841.30   \n",
       "1    Belgium       BEL        UEFA     2              2  1816.71   \n",
       "2  Argentina       ARG    CONMEBOL     3              3  1773.88   \n",
       "3     France       FRA        UEFA     4              4  1759.78   \n",
       "4    England       ENG        UEFA     5              5  1728.47   \n",
       "\n",
       "   previous_points  \n",
       "0          1837.56  \n",
       "1          1821.92  \n",
       "2          1770.65  \n",
       "3          1764.85  \n",
       "4          1737.46  "
      ]
     },
     "execution_count": 3,
     "metadata": {},
     "output_type": "execute_result"
    }
   ],
   "source": [
    "world_ranking.head()"
   ]
  },
  {
   "cell_type": "code",
   "execution_count": 4,
   "metadata": {},
   "outputs": [
    {
     "data": {
      "text/html": [
       "<div>\n",
       "<style scoped>\n",
       "    .dataframe tbody tr th:only-of-type {\n",
       "        vertical-align: middle;\n",
       "    }\n",
       "\n",
       "    .dataframe tbody tr th {\n",
       "        vertical-align: top;\n",
       "    }\n",
       "\n",
       "    .dataframe thead th {\n",
       "        text-align: right;\n",
       "    }\n",
       "</style>\n",
       "<table border=\"1\" class=\"dataframe\">\n",
       "  <thead>\n",
       "    <tr style=\"text-align: right;\">\n",
       "      <th></th>\n",
       "      <th>Year</th>\n",
       "      <th>Host</th>\n",
       "      <th>Teams</th>\n",
       "      <th>Champion</th>\n",
       "      <th>Runner-Up</th>\n",
       "      <th>TopScorrer</th>\n",
       "      <th>Attendance</th>\n",
       "      <th>AttendanceAvg</th>\n",
       "      <th>Matches</th>\n",
       "    </tr>\n",
       "  </thead>\n",
       "  <tbody>\n",
       "    <tr>\n",
       "      <th>0</th>\n",
       "      <td>2022</td>\n",
       "      <td>Qatar</td>\n",
       "      <td>32</td>\n",
       "      <td>Argentina</td>\n",
       "      <td>France</td>\n",
       "      <td>Kylian Mbappé - 8</td>\n",
       "      <td>3404252</td>\n",
       "      <td>53191</td>\n",
       "      <td>64</td>\n",
       "    </tr>\n",
       "    <tr>\n",
       "      <th>1</th>\n",
       "      <td>2018</td>\n",
       "      <td>Russia</td>\n",
       "      <td>32</td>\n",
       "      <td>France</td>\n",
       "      <td>Croatia</td>\n",
       "      <td>Harry Kane - 6</td>\n",
       "      <td>3031768</td>\n",
       "      <td>47371</td>\n",
       "      <td>64</td>\n",
       "    </tr>\n",
       "    <tr>\n",
       "      <th>2</th>\n",
       "      <td>2014</td>\n",
       "      <td>Brazil</td>\n",
       "      <td>32</td>\n",
       "      <td>Germany</td>\n",
       "      <td>Argentina</td>\n",
       "      <td>James Rodríguez - 6</td>\n",
       "      <td>3429873</td>\n",
       "      <td>53592</td>\n",
       "      <td>64</td>\n",
       "    </tr>\n",
       "    <tr>\n",
       "      <th>3</th>\n",
       "      <td>2010</td>\n",
       "      <td>South Africa</td>\n",
       "      <td>32</td>\n",
       "      <td>Spain</td>\n",
       "      <td>Netherlands</td>\n",
       "      <td>Wesley Sneijder, Thomas Müller... - 5</td>\n",
       "      <td>3178856</td>\n",
       "      <td>49670</td>\n",
       "      <td>64</td>\n",
       "    </tr>\n",
       "    <tr>\n",
       "      <th>4</th>\n",
       "      <td>2006</td>\n",
       "      <td>Germany</td>\n",
       "      <td>32</td>\n",
       "      <td>Italy</td>\n",
       "      <td>France</td>\n",
       "      <td>Miroslav Klose - 5</td>\n",
       "      <td>3352605</td>\n",
       "      <td>52384</td>\n",
       "      <td>64</td>\n",
       "    </tr>\n",
       "  </tbody>\n",
       "</table>\n",
       "</div>"
      ],
      "text/plain": [
       "   Year          Host  Teams   Champion    Runner-Up  \\\n",
       "0  2022         Qatar     32  Argentina       France   \n",
       "1  2018        Russia     32     France      Croatia   \n",
       "2  2014        Brazil     32    Germany    Argentina   \n",
       "3  2010  South Africa     32      Spain  Netherlands   \n",
       "4  2006       Germany     32      Italy       France   \n",
       "\n",
       "                              TopScorrer  Attendance  AttendanceAvg  Matches  \n",
       "0                      Kylian Mbappé - 8     3404252          53191       64  \n",
       "1                         Harry Kane - 6     3031768          47371       64  \n",
       "2                    James Rodríguez - 6     3429873          53592       64  \n",
       "3  Wesley Sneijder, Thomas Müller... - 5     3178856          49670       64  \n",
       "4                     Miroslav Klose - 5     3352605          52384       64  "
      ]
     },
     "execution_count": 4,
     "metadata": {},
     "output_type": "execute_result"
    }
   ],
   "source": [
    "world_cups.head()"
   ]
  },
  {
   "cell_type": "code",
   "execution_count": 5,
   "metadata": {},
   "outputs": [
    {
     "data": {
      "text/html": [
       "<div>\n",
       "<style scoped>\n",
       "    .dataframe tbody tr th:only-of-type {\n",
       "        vertical-align: middle;\n",
       "    }\n",
       "\n",
       "    .dataframe tbody tr th {\n",
       "        vertical-align: top;\n",
       "    }\n",
       "\n",
       "    .dataframe thead th {\n",
       "        text-align: right;\n",
       "    }\n",
       "</style>\n",
       "<table border=\"1\" class=\"dataframe\">\n",
       "  <thead>\n",
       "    <tr style=\"text-align: right;\">\n",
       "      <th></th>\n",
       "      <th>home_team</th>\n",
       "      <th>away_team</th>\n",
       "      <th>home_score</th>\n",
       "      <th>home_xg</th>\n",
       "      <th>home_penalty</th>\n",
       "      <th>away_score</th>\n",
       "      <th>away_xg</th>\n",
       "      <th>away_penalty</th>\n",
       "      <th>home_manager</th>\n",
       "      <th>home_captain</th>\n",
       "      <th>...</th>\n",
       "      <th>home_penalty_shootout_miss_long</th>\n",
       "      <th>away_penalty_shootout_miss_long</th>\n",
       "      <th>home_red_card</th>\n",
       "      <th>away_red_card</th>\n",
       "      <th>home_yellow_red_card</th>\n",
       "      <th>away_yellow_red_card</th>\n",
       "      <th>home_yellow_card_long</th>\n",
       "      <th>away_yellow_card_long</th>\n",
       "      <th>home_substitute_in_long</th>\n",
       "      <th>away_substitute_in_long</th>\n",
       "    </tr>\n",
       "  </thead>\n",
       "  <tbody>\n",
       "    <tr>\n",
       "      <th>0</th>\n",
       "      <td>Argentina</td>\n",
       "      <td>France</td>\n",
       "      <td>3</td>\n",
       "      <td>3.3</td>\n",
       "      <td>4.0</td>\n",
       "      <td>3</td>\n",
       "      <td>2.2</td>\n",
       "      <td>2.0</td>\n",
       "      <td>Lionel Scaloni</td>\n",
       "      <td>Lionel Messi</td>\n",
       "      <td>...</td>\n",
       "      <td>NaN</td>\n",
       "      <td>['3|1:1|Kingsley Coman', '5|2:1|Aurélien Tchou...</td>\n",
       "      <td>NaN</td>\n",
       "      <td>NaN</td>\n",
       "      <td>NaN</td>\n",
       "      <td>NaN</td>\n",
       "      <td>['45+7&amp;rsquor;|2:0|Enzo Fernández', '90+8&amp;rsqu...</td>\n",
       "      <td>['55&amp;rsquor;|2:0|Adrien Rabiot', '87&amp;rsquor;|2...</td>\n",
       "      <td>['64&amp;rsquor;|2:0|Marcos Acuña|for Ángel Di Mar...</td>\n",
       "      <td>['41&amp;rsquor;|2:0|Randal Kolo Muani|for Ousmane...</td>\n",
       "    </tr>\n",
       "    <tr>\n",
       "      <th>1</th>\n",
       "      <td>Croatia</td>\n",
       "      <td>Morocco</td>\n",
       "      <td>2</td>\n",
       "      <td>0.7</td>\n",
       "      <td>NaN</td>\n",
       "      <td>1</td>\n",
       "      <td>1.2</td>\n",
       "      <td>NaN</td>\n",
       "      <td>Zlatko Dalić</td>\n",
       "      <td>Luka Modrić</td>\n",
       "      <td>...</td>\n",
       "      <td>NaN</td>\n",
       "      <td>NaN</td>\n",
       "      <td>NaN</td>\n",
       "      <td>NaN</td>\n",
       "      <td>NaN</td>\n",
       "      <td>NaN</td>\n",
       "      <td>NaN</td>\n",
       "      <td>['69&amp;rsquor;|2:1|Azzedine Ounahi', '84&amp;rsquor;...</td>\n",
       "      <td>['61&amp;rsquor;|2:1|Nikola Vlašić|for Andrej Kram...</td>\n",
       "      <td>['46&amp;rsquor;|2:1|Ilias Chair|for Abdelhamid Sa...</td>\n",
       "    </tr>\n",
       "    <tr>\n",
       "      <th>2</th>\n",
       "      <td>France</td>\n",
       "      <td>Morocco</td>\n",
       "      <td>2</td>\n",
       "      <td>2.0</td>\n",
       "      <td>NaN</td>\n",
       "      <td>0</td>\n",
       "      <td>0.9</td>\n",
       "      <td>NaN</td>\n",
       "      <td>Didier Deschamps</td>\n",
       "      <td>Hugo Lloris</td>\n",
       "      <td>...</td>\n",
       "      <td>NaN</td>\n",
       "      <td>NaN</td>\n",
       "      <td>NaN</td>\n",
       "      <td>NaN</td>\n",
       "      <td>NaN</td>\n",
       "      <td>NaN</td>\n",
       "      <td>NaN</td>\n",
       "      <td>['27&amp;rsquor;|1:0|Sofiane Boufal']</td>\n",
       "      <td>['65&amp;rsquor;|1:0|Marcus Thuram|for Olivier Gir...</td>\n",
       "      <td>['21&amp;rsquor;|1:0|Selim Amallah|for Romain Saïs...</td>\n",
       "    </tr>\n",
       "    <tr>\n",
       "      <th>3</th>\n",
       "      <td>Argentina</td>\n",
       "      <td>Croatia</td>\n",
       "      <td>3</td>\n",
       "      <td>2.3</td>\n",
       "      <td>NaN</td>\n",
       "      <td>0</td>\n",
       "      <td>0.5</td>\n",
       "      <td>NaN</td>\n",
       "      <td>Lionel Scaloni</td>\n",
       "      <td>Lionel Messi</td>\n",
       "      <td>...</td>\n",
       "      <td>NaN</td>\n",
       "      <td>NaN</td>\n",
       "      <td>NaN</td>\n",
       "      <td>NaN</td>\n",
       "      <td>NaN</td>\n",
       "      <td>NaN</td>\n",
       "      <td>['68&amp;rsquor;|2:0|Cristian Romero', '71&amp;rsquor;...</td>\n",
       "      <td>['32&amp;rsquor;|0:0|Mateo Kovačić', '32&amp;rsquor;|0...</td>\n",
       "      <td>['62&amp;rsquor;|2:0|Lisandro Martínez|for Leandro...</td>\n",
       "      <td>['46&amp;rsquor;|2:0|Mislav Oršić|for Borna Sosa',...</td>\n",
       "    </tr>\n",
       "    <tr>\n",
       "      <th>4</th>\n",
       "      <td>Morocco</td>\n",
       "      <td>Portugal</td>\n",
       "      <td>1</td>\n",
       "      <td>1.4</td>\n",
       "      <td>NaN</td>\n",
       "      <td>0</td>\n",
       "      <td>0.9</td>\n",
       "      <td>NaN</td>\n",
       "      <td>Hoalid Regragui</td>\n",
       "      <td>Romain Saïss</td>\n",
       "      <td>...</td>\n",
       "      <td>NaN</td>\n",
       "      <td>NaN</td>\n",
       "      <td>NaN</td>\n",
       "      <td>NaN</td>\n",
       "      <td>Walid Cheddira · 90+3</td>\n",
       "      <td>NaN</td>\n",
       "      <td>['70&amp;rsquor;|1:0|Achraf Dari', '90+1&amp;rsquor;|1...</td>\n",
       "      <td>['87&amp;rsquor;|1:0|Vitinha']</td>\n",
       "      <td>['57&amp;rsquor;|1:0|Achraf Dari|for Romain Saïss'...</td>\n",
       "      <td>['51&amp;rsquor;|1:0|João Cancelo|for Raphaël Guer...</td>\n",
       "    </tr>\n",
       "  </tbody>\n",
       "</table>\n",
       "<p>5 rows × 44 columns</p>\n",
       "</div>"
      ],
      "text/plain": [
       "   home_team away_team  home_score  home_xg  home_penalty  away_score  \\\n",
       "0  Argentina    France           3      3.3           4.0           3   \n",
       "1    Croatia   Morocco           2      0.7           NaN           1   \n",
       "2     France   Morocco           2      2.0           NaN           0   \n",
       "3  Argentina   Croatia           3      2.3           NaN           0   \n",
       "4    Morocco  Portugal           1      1.4           NaN           0   \n",
       "\n",
       "   away_xg  away_penalty      home_manager  home_captain  ...  \\\n",
       "0      2.2           2.0    Lionel Scaloni  Lionel Messi  ...   \n",
       "1      1.2           NaN      Zlatko Dalić   Luka Modrić  ...   \n",
       "2      0.9           NaN  Didier Deschamps   Hugo Lloris  ...   \n",
       "3      0.5           NaN    Lionel Scaloni  Lionel Messi  ...   \n",
       "4      0.9           NaN   Hoalid Regragui  Romain Saïss  ...   \n",
       "\n",
       "  home_penalty_shootout_miss_long  \\\n",
       "0                             NaN   \n",
       "1                             NaN   \n",
       "2                             NaN   \n",
       "3                             NaN   \n",
       "4                             NaN   \n",
       "\n",
       "                     away_penalty_shootout_miss_long  home_red_card  \\\n",
       "0  ['3|1:1|Kingsley Coman', '5|2:1|Aurélien Tchou...            NaN   \n",
       "1                                                NaN            NaN   \n",
       "2                                                NaN            NaN   \n",
       "3                                                NaN            NaN   \n",
       "4                                                NaN            NaN   \n",
       "\n",
       "  away_red_card   home_yellow_red_card away_yellow_red_card  \\\n",
       "0           NaN                    NaN                  NaN   \n",
       "1           NaN                    NaN                  NaN   \n",
       "2           NaN                    NaN                  NaN   \n",
       "3           NaN                    NaN                  NaN   \n",
       "4           NaN  Walid Cheddira · 90+3                  NaN   \n",
       "\n",
       "                               home_yellow_card_long  \\\n",
       "0  ['45+7&rsquor;|2:0|Enzo Fernández', '90+8&rsqu...   \n",
       "1                                                NaN   \n",
       "2                                                NaN   \n",
       "3  ['68&rsquor;|2:0|Cristian Romero', '71&rsquor;...   \n",
       "4  ['70&rsquor;|1:0|Achraf Dari', '90+1&rsquor;|1...   \n",
       "\n",
       "                               away_yellow_card_long  \\\n",
       "0  ['55&rsquor;|2:0|Adrien Rabiot', '87&rsquor;|2...   \n",
       "1  ['69&rsquor;|2:1|Azzedine Ounahi', '84&rsquor;...   \n",
       "2                  ['27&rsquor;|1:0|Sofiane Boufal']   \n",
       "3  ['32&rsquor;|0:0|Mateo Kovačić', '32&rsquor;|0...   \n",
       "4                         ['87&rsquor;|1:0|Vitinha']   \n",
       "\n",
       "                             home_substitute_in_long  \\\n",
       "0  ['64&rsquor;|2:0|Marcos Acuña|for Ángel Di Mar...   \n",
       "1  ['61&rsquor;|2:1|Nikola Vlašić|for Andrej Kram...   \n",
       "2  ['65&rsquor;|1:0|Marcus Thuram|for Olivier Gir...   \n",
       "3  ['62&rsquor;|2:0|Lisandro Martínez|for Leandro...   \n",
       "4  ['57&rsquor;|1:0|Achraf Dari|for Romain Saïss'...   \n",
       "\n",
       "                             away_substitute_in_long  \n",
       "0  ['41&rsquor;|2:0|Randal Kolo Muani|for Ousmane...  \n",
       "1  ['46&rsquor;|2:1|Ilias Chair|for Abdelhamid Sa...  \n",
       "2  ['21&rsquor;|1:0|Selim Amallah|for Romain Saïs...  \n",
       "3  ['46&rsquor;|2:0|Mislav Oršić|for Borna Sosa',...  \n",
       "4  ['51&rsquor;|1:0|João Cancelo|for Raphaël Guer...  \n",
       "\n",
       "[5 rows x 44 columns]"
      ]
     },
     "execution_count": 5,
     "metadata": {},
     "output_type": "execute_result"
    }
   ],
   "source": [
    "matches.head()"
   ]
  },
  {
   "cell_type": "code",
   "execution_count": 6,
   "metadata": {},
   "outputs": [
    {
     "name": "stdout",
     "output_type": "stream",
     "text": [
      "<class 'pandas.core.frame.DataFrame'>\n",
      "RangeIndex: 964 entries, 0 to 963\n",
      "Data columns (total 44 columns):\n",
      " #   Column                           Non-Null Count  Dtype         \n",
      "---  ------                           --------------  -----         \n",
      " 0   home_team                        964 non-null    object        \n",
      " 1   away_team                        964 non-null    object        \n",
      " 2   home_score                       964 non-null    int64         \n",
      " 3   home_xg                          128 non-null    float64       \n",
      " 4   home_penalty                     35 non-null     float64       \n",
      " 5   away_score                       964 non-null    int64         \n",
      " 6   away_xg                          128 non-null    float64       \n",
      " 7   away_penalty                     35 non-null     float64       \n",
      " 8   home_manager                     964 non-null    object        \n",
      " 9   home_captain                     644 non-null    object        \n",
      " 10  away_manager                     964 non-null    object        \n",
      " 11  away_captain                     644 non-null    object        \n",
      " 12  Attendance                       964 non-null    int64         \n",
      " 13  Venue                            964 non-null    object        \n",
      " 14  Officials                        709 non-null    object        \n",
      " 15  Round                            964 non-null    object        \n",
      " 16  Date                             964 non-null    datetime64[ns]\n",
      " 17  Score                            964 non-null    object        \n",
      " 18  Referee                          709 non-null    object        \n",
      " 19  Notes                            73 non-null     object        \n",
      " 20  Host                             964 non-null    object        \n",
      " 21  Year                             964 non-null    int64         \n",
      " 22  home_goal                        718 non-null    object        \n",
      " 23  away_goal                        571 non-null    object        \n",
      " 24  home_goal_long                   718 non-null    object        \n",
      " 25  away_goal_long                   571 non-null    object        \n",
      " 26  home_own_goal                    39 non-null     object        \n",
      " 27  away_own_goal                    17 non-null     object        \n",
      " 28  home_penalty_goal                116 non-null    object        \n",
      " 29  away_penalty_goal                84 non-null     object        \n",
      " 30  home_penalty_miss_long           6 non-null      object        \n",
      " 31  away_penalty_miss_long           9 non-null      object        \n",
      " 32  home_penalty_shootout_goal_long  34 non-null     object        \n",
      " 33  away_penalty_shootout_goal_long  34 non-null     object        \n",
      " 34  home_penalty_shootout_miss_long  24 non-null     object        \n",
      " 35  away_penalty_shootout_miss_long  30 non-null     object        \n",
      " 36  home_red_card                    51 non-null     object        \n",
      " 37  away_red_card                    54 non-null     object        \n",
      " 38  home_yellow_red_card             23 non-null     object        \n",
      " 39  away_yellow_red_card             31 non-null     object        \n",
      " 40  home_yellow_card_long            621 non-null    object        \n",
      " 41  away_yellow_card_long            627 non-null    object        \n",
      " 42  home_substitute_in_long          740 non-null    object        \n",
      " 43  away_substitute_in_long          747 non-null    object        \n",
      "dtypes: datetime64[ns](1), float64(4), int64(4), object(35)\n",
      "memory usage: 331.5+ KB\n"
     ]
    }
   ],
   "source": [
    "matches.info()"
   ]
  },
  {
   "cell_type": "code",
   "execution_count": 7,
   "metadata": {},
   "outputs": [
    {
     "data": {
      "text/plain": [
       "\"['7&rsquor;|1:0|Joško Gvardiol|Assist:|Ivan Perišić', '42&rsquor;|2:1|Mislav Oršić|Assist:|Marko Livaja']\""
      ]
     },
     "execution_count": 7,
     "metadata": {},
     "output_type": "execute_result"
    }
   ],
   "source": [
    "matches['home_goal_long'][1]"
   ]
  },
  {
   "cell_type": "code",
   "execution_count": 8,
   "metadata": {},
   "outputs": [
    {
     "name": "stdout",
     "output_type": "stream",
     "text": [
      "(22, 9)\n",
      "(211, 7)\n",
      "(964, 44)\n"
     ]
    }
   ],
   "source": [
    "data = [world_cups, world_ranking, matches]\n",
    "for d in data:\n",
    "    print(d.shape)"
   ]
  },
  {
   "cell_type": "code",
   "execution_count": 9,
   "metadata": {},
   "outputs": [
    {
     "name": "stdout",
     "output_type": "stream",
     "text": [
      "Year             0\n",
      "Host             0\n",
      "Teams            0\n",
      "Champion         0\n",
      "Runner-Up        0\n",
      "TopScorrer       0\n",
      "Attendance       0\n",
      "AttendanceAvg    0\n",
      "Matches          0\n",
      "dtype: int64\n",
      "=============================================\n",
      "team               0\n",
      "team_code          0\n",
      "association        0\n",
      "rank               0\n",
      "previous_rank      0\n",
      "points             0\n",
      "previous_points    0\n",
      "dtype: int64\n",
      "=============================================\n",
      "home_team                            0\n",
      "away_team                            0\n",
      "home_score                           0\n",
      "home_xg                            836\n",
      "home_penalty                       929\n",
      "away_score                           0\n",
      "away_xg                            836\n",
      "away_penalty                       929\n",
      "home_manager                         0\n",
      "home_captain                       320\n",
      "away_manager                         0\n",
      "away_captain                       320\n",
      "Attendance                           0\n",
      "Venue                                0\n",
      "Officials                          255\n",
      "Round                                0\n",
      "Date                                 0\n",
      "Score                                0\n",
      "Referee                            255\n",
      "Notes                              891\n",
      "Host                                 0\n",
      "Year                                 0\n",
      "home_goal                          246\n",
      "away_goal                          393\n",
      "home_goal_long                     246\n",
      "away_goal_long                     393\n",
      "home_own_goal                      925\n",
      "away_own_goal                      947\n",
      "home_penalty_goal                  848\n",
      "away_penalty_goal                  880\n",
      "home_penalty_miss_long             958\n",
      "away_penalty_miss_long             955\n",
      "home_penalty_shootout_goal_long    930\n",
      "away_penalty_shootout_goal_long    930\n",
      "home_penalty_shootout_miss_long    940\n",
      "away_penalty_shootout_miss_long    934\n",
      "home_red_card                      913\n",
      "away_red_card                      910\n",
      "home_yellow_red_card               941\n",
      "away_yellow_red_card               933\n",
      "home_yellow_card_long              343\n",
      "away_yellow_card_long              337\n",
      "home_substitute_in_long            224\n",
      "away_substitute_in_long            217\n",
      "dtype: int64\n",
      "=============================================\n"
     ]
    }
   ],
   "source": [
    "#checking for null values\n",
    "for n in data:\n",
    "    print(n.isnull().sum())\n",
    "    print('=============================================')"
   ]
  },
  {
   "cell_type": "code",
   "execution_count": 10,
   "metadata": {},
   "outputs": [
    {
     "name": "stdout",
     "output_type": "stream",
     "text": [
      "0\n",
      "0\n",
      "0\n"
     ]
    }
   ],
   "source": [
    "#checking for duplicates\n",
    "for d in data:\n",
    "    print(d.duplicated().sum())"
   ]
  },
  {
   "cell_type": "code",
   "execution_count": 13,
   "metadata": {},
   "outputs": [
    {
     "data": {
      "text/plain": [
       "array(['Argentina', 'Croatia', 'France', 'Morocco', 'England',\n",
       "       'Netherlands', 'Portugal', 'Japan', 'Brazil', 'Korea Republic',\n",
       "       'Ghana', 'Cameroon', 'Serbia', 'Canada', 'Costa Rica', 'Australia',\n",
       "       'Tunisia', 'Saudi Arabia', 'Poland', 'Ecuador', 'IR Iran', 'Wales',\n",
       "       'Belgium', 'Spain', 'Qatar', 'Switzerland', 'Uruguay', 'Germany',\n",
       "       'Denmark', 'Mexico', 'Senegal', 'United States', 'Sweden',\n",
       "       'Russia', 'Colombia', 'Panama', 'Iceland', 'Nigeria', 'Peru',\n",
       "       'Egypt', 'Algeria', 'Bosnia and Herzegovina', 'Honduras', 'Italy',\n",
       "       'Greece', \"Côte d'Ivoire\", 'Chile', 'Paraguay', 'Korea DPR',\n",
       "       'Slovakia', 'Slovenia', 'South Africa', 'New Zealand', 'Ukraine',\n",
       "       'Togo', 'Czech Republic', 'Serbia and Montenegro', 'Angola',\n",
       "       'Trinidad and Tobago', 'Türkiye', 'China PR',\n",
       "       'Republic of Ireland', 'Romania', 'Scotland', 'FR Yugoslavia',\n",
       "       'Jamaica', 'Bulgaria', 'Bolivia', 'Norway', 'West Germany',\n",
       "       'Yugoslavia', 'Czechoslovakia', 'Austria', 'United Arab Emirates',\n",
       "       'Soviet Union', 'Northern Ireland', 'Iraq', 'Hungary',\n",
       "       'Germany DR', 'Zaire', 'Haiti', 'Cuba'], dtype=object)"
      ]
     },
     "execution_count": 13,
     "metadata": {},
     "output_type": "execute_result"
    }
   ],
   "source": [
    "matches['home_team'].unique()"
   ]
  },
  {
   "cell_type": "code",
   "execution_count": 18,
   "metadata": {},
   "outputs": [],
   "source": [
    "matches['home_team'] = matches['home_team'].apply(lambda x: x.replace('Germany DR', 'West Germany'))\n",
    "matches['away_team'] = matches['away_team'].apply(lambda x: x.replace('Germany DR', 'West Germany'))"
   ]
  },
  {
   "cell_type": "markdown",
   "metadata": {},
   "source": [
    "## EDA "
   ]
  },
  {
   "cell_type": "markdown",
   "metadata": {},
   "source": [
    "### Basic EDA: Calculating the stats of the data"
   ]
  },
  {
   "cell_type": "code",
   "execution_count": 21,
   "metadata": {},
   "outputs": [
    {
     "name": "stdout",
     "output_type": "stream",
     "text": [
      "Total number of matches:  964\n"
     ]
    }
   ],
   "source": [
    "#total number of matches played till now\n",
    "print('Total number of matches: ',len(matches))"
   ]
  },
  {
   "cell_type": "code",
   "execution_count": 24,
   "metadata": {},
   "outputs": [
    {
     "name": "stdout",
     "output_type": "stream",
     "text": [
      "Total goals scored:  2720\n"
     ]
    }
   ],
   "source": [
    "# Total goals scored: summition of home goals + away goals (except penulty shoot out)\n",
    "print('Total goals scored: ', sum(matches['home_score'] + matches['away_score']))"
   ]
  },
  {
   "cell_type": "code",
   "execution_count": 27,
   "metadata": {},
   "outputs": [
    {
     "name": "stdout",
     "output_type": "stream",
     "text": [
      "Average goals in a match:  2.82\n"
     ]
    }
   ],
   "source": [
    "#Average goals scored in a match\n",
    "print('Average goals in a match: ', format(sum(matches['home_score'] + matches['away_score'])/len(matches), '0.2f'))"
   ]
  },
  {
   "cell_type": "code",
   "execution_count": 28,
   "metadata": {},
   "outputs": [
    {
     "name": "stdout",
     "output_type": "stream",
     "text": [
      "Average attendance in a match:  45693\n"
     ]
    }
   ],
   "source": [
    "#Average attendance in a match\n",
    "print('Average attendance in a match: ', int(sum(matches['Attendance'])/len(matches)))"
   ]
  },
  {
   "cell_type": "code",
   "execution_count": null,
   "metadata": {},
   "outputs": [],
   "source": [
    "#26:14"
   ]
  },
  {
   "cell_type": "code",
   "execution_count": null,
   "metadata": {},
   "outputs": [],
   "source": []
  },
  {
   "cell_type": "code",
   "execution_count": null,
   "metadata": {},
   "outputs": [],
   "source": []
  },
  {
   "cell_type": "code",
   "execution_count": null,
   "metadata": {},
   "outputs": [],
   "source": []
  }
 ],
 "metadata": {
  "kernelspec": {
   "display_name": "venv",
   "language": "python",
   "name": "python3"
  },
  "language_info": {
   "codemirror_mode": {
    "name": "ipython",
    "version": 3
   },
   "file_extension": ".py",
   "mimetype": "text/x-python",
   "name": "python",
   "nbconvert_exporter": "python",
   "pygments_lexer": "ipython3",
   "version": "3.9.13"
  }
 },
 "nbformat": 4,
 "nbformat_minor": 2
}
